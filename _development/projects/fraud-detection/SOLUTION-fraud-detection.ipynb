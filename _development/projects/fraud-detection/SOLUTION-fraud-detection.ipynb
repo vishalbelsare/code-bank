{
 "cells": [
  {
   "cell_type": "markdown",
   "id": "3786aa90-9f93-4599-afaf-18448a1d8f97",
   "metadata": {},
   "source": [
    "# **Fraud Detection & Model Evaluation** (SOLUTION)"
   ]
  },
  {
   "cell_type": "markdown",
   "id": "b654ab8f-fe62-4958-8e2e-32fd78c4dc1e",
   "metadata": {},
   "source": [
    "Source:  [https://github.com/d-insight/code-bank.git](https://github.com/dsfm-org/code-bank.git)  \n",
    "License: [MIT License](https://opensource.org/licenses/MIT). See open source [license](LICENSE) in the Code Bank repository. "
   ]
  },
  {
   "cell_type": "markdown",
   "id": "e97f4091-526e-41d8-8b12-f8390b1e725e",
   "metadata": {},
   "source": [
    "-------------"
   ]
  },
  {
   "cell_type": "markdown",
   "id": "3cd8b414-3529-4033-ba2f-51671680508d",
   "metadata": {},
   "source": [
    "## Overview"
   ]
  },
  {
   "cell_type": "markdown",
   "id": "5fc31fbd-e6d3-412a-8149-807a48581028",
   "metadata": {},
   "source": [
    "In this project, we will explore different model evaluation metrics in the context of fraud detection.\n",
    "\n",
    "Data source: [Kaggle](https://www.kaggle.com/c/ieee-fraud-detection/overview)."
   ]
  },
  {
   "cell_type": "markdown",
   "id": "f00f5838-4faa-49cd-86f1-c672f2b6812c",
   "metadata": {},
   "source": [
    "| Feature name     | Variable Type | Description \n",
    "|------------------|---------------|--------------------------------------------------------\n",
    "|isFraud           | Categorical   | Target variable, where 1 = fraud and 0 = no fraud\n",
    "|TransactionAMT    | Continuous    | Transaction payment amount in USD\n",
    "|ProductCD         | Categorical   | Product code, the product for each transaction\n",
    "|card1 - card6     | Continuous    | Payment card information, such as card type, card category, issue bank, country, etc.\n",
    "|dist              | Continuous    | Distance\n",
    "|C1 - C14            | Continuous    | Counting, such as how many addresses are found to be associated with the payment card, etc. The actual meaning is masked.\n",
    "|D1 - D15            | Continous     | Timedelta, such as days between previous transaction, etc."
   ]
  },
  {
   "cell_type": "markdown",
   "id": "a44df71f-b89d-46af-a540-11364b0c6d85",
   "metadata": {},
   "source": [
    "-------------"
   ]
  },
  {
   "cell_type": "markdown",
   "id": "7b0b27aa-7848-44e2-87de-4455b2edcbc5",
   "metadata": {
    "tags": []
   },
   "source": [
    "## **Part 0**: Setup"
   ]
  },
  {
   "cell_type": "markdown",
   "id": "b648dd6d-097a-4017-9d7c-e61f3e040cc4",
   "metadata": {},
   "source": [
    "### Import Packages"
   ]
  },
  {
   "cell_type": "code",
   "execution_count": 7,
   "id": "46b412e7-be48-4e89-a750-0f28f88ab5ba",
   "metadata": {},
   "outputs": [],
   "source": [
    "# Import packages\n",
    "import lightgbm\n",
    "import pandas as pd\n",
    "import numpy as np\n",
    "from sklearn.metrics import accuracy_score, confusion_matrix, f1_score\n",
    "import matplotlib.pyplot as plt\n",
    "plt.rcParams['figure.figsize'] = [8, 6]\n",
    "import seaborn as sn\n",
    "\n",
    "import warnings\n",
    "warnings.filterwarnings(\"ignore\", category=RuntimeWarning)"
   ]
  },
  {
   "cell_type": "code",
   "execution_count": 8,
   "id": "f805b7cc-8397-46dd-9732-a6cfb53d8826",
   "metadata": {},
   "outputs": [],
   "source": [
    "# Constants\n",
    "TRAIN_PATH = 'data/train.csv'\n",
    "TEST_PATH  = 'data/test.csv'\n",
    "THRESHOLDS = [i/100 for i in range(0, 101)]\n",
    "SEED       = 1234"
   ]
  },
  {
   "cell_type": "markdown",
   "id": "d277bed5-10cc-4e0a-8804-e06b9d22a5f2",
   "metadata": {
    "tags": []
   },
   "source": [
    "## **Part 1**: Exploratory data analysis"
   ]
  },
  {
   "cell_type": "code",
   "execution_count": 9,
   "id": "e2d41ea7-7749-45aa-ac2f-24d7661a39eb",
   "metadata": {},
   "outputs": [
    {
     "data": {
      "text/plain": [
       "(52819, 44)"
      ]
     },
     "execution_count": 9,
     "metadata": {},
     "output_type": "execute_result"
    }
   ],
   "source": [
    "# Load data\n",
    "train_df = pd.read_csv(TRAIN_PATH)\n",
    "test_df = pd.read_csv(TEST_PATH)\n",
    "\n",
    "train_df.shape"
   ]
  },
  {
   "cell_type": "code",
   "execution_count": 10,
   "id": "0438f9dc-248b-4579-82e7-ccdc4aa1ba5a",
   "metadata": {},
   "outputs": [
    {
     "data": {
      "text/plain": [
       "0    0.908764\n",
       "1    0.091236\n",
       "Name: isFraud, dtype: float64"
      ]
     },
     "execution_count": 10,
     "metadata": {},
     "output_type": "execute_result"
    }
   ],
   "source": [
    "# Target distribution in training data\n",
    "train_df['isFraud'].value_counts() / len(train_df)"
   ]
  },
  {
   "cell_type": "code",
   "execution_count": 11,
   "id": "8d7350f2-18e3-473a-8c9d-af6ac4dd14a6",
   "metadata": {},
   "outputs": [],
   "source": [
    "# Split into training and testing data\n",
    "feature_names = [col for col in train_df.columns if col not in ['isFraud', 'addr1', 'addr2', 'P_emaildomain', 'R_emaildomain']]\n",
    "\n",
    "X_train, y_train = train_df[feature_names], train_df['isFraud']\n",
    "X_test, y_test = test_df[feature_names], test_df['isFraud']"
   ]
  },
  {
   "cell_type": "markdown",
   "id": "f2d7a490-40dd-4ccc-bcdd-b7f8e1b33890",
   "metadata": {
    "tags": []
   },
   "source": [
    "## **Part 2**: Fit model"
   ]
  },
  {
   "cell_type": "code",
   "execution_count": 12,
   "id": "74fbe9d9-a20d-4eaa-8bbb-deaa4b23e3c2",
   "metadata": {},
   "outputs": [
    {
     "name": "stdout",
     "output_type": "stream",
     "text": [
      "The first 10 predictions ...\n"
     ]
    },
    {
     "data": {
      "text/plain": [
       "array([4.59566580e-05, 2.77617490e-02, 3.31270299e-02, 4.22088904e-02,\n",
       "       7.13580204e-05, 6.17153414e-03, 8.26357659e-04, 1.14475902e-04,\n",
       "       5.50227271e-02, 1.15546798e-04])"
      ]
     },
     "execution_count": 12,
     "metadata": {},
     "output_type": "execute_result"
    }
   ],
   "source": [
    "# Train model\n",
    "model = lightgbm.LGBMClassifier(random_state=SEED)\n",
    "model.fit(X_train, y_train)\n",
    "    \n",
    "# Evaluate model\n",
    "y_test_pred = model.predict_proba(X_test)[:, 1]\n",
    "\n",
    "print('The first 10 predictions ...')\n",
    "y_test_pred[:10]"
   ]
  },
  {
   "cell_type": "markdown",
   "id": "16aad147-3613-4579-a5cb-d60d801f783e",
   "metadata": {
    "tags": []
   },
   "source": [
    "## **Part 3**: Compare evaluation metrics"
   ]
  },
  {
   "cell_type": "markdown",
   "id": "434ea3bb-6ec2-4e28-8b85-2e19ce351f0d",
   "metadata": {},
   "source": [
    "### __a)__: Accuracy\n",
    "\n",
    "$\\frac{TP + TN}{TP + FP + TN + FN}$\n",
    "\n",
    "Proportion of binary predictions that are correct, for a given threshold."
   ]
  },
  {
   "cell_type": "code",
   "execution_count": 13,
   "id": "e53b89b9-3486-4b5f-a095-234e50182a4b",
   "metadata": {},
   "outputs": [
    {
     "name": "stdout",
     "output_type": "stream",
     "text": [
      "Maximum accuracy of 95.0% at threshold 0.5\n"
     ]
    }
   ],
   "source": [
    "scores = []\n",
    "for t in THRESHOLDS: \n",
    "    y_test_pred_binary = [int(i >= t) for i in y_test_pred]\n",
    "    scores.append(accuracy_score(y_test, y_test_pred_binary))\n",
    "    \n",
    "max_t = THRESHOLDS[np.argmax(scores)]\n",
    "y_test_pred_binary = [int(i >= max_t) for i in y_test_pred]\n",
    "print('Maximum accuracy of {}% at threshold {}'.format(round(max(scores), 2)*100, max_t))\n"
   ]
  },
  {
   "cell_type": "code",
   "execution_count": 14,
   "id": "a3eaf904-1863-48e7-a3bf-71b60be0a931",
   "metadata": {},
   "outputs": [
    {
     "data": {
      "image/png": "[encoded data removed]",
      "text/plain": [
       "<Figure size 576x432 with 1 Axes>"
      ]
     },
     "metadata": {
      "needs_background": "light"
     },
     "output_type": "display_data"
    }
   ],
   "source": [
    "# Plot scores\n",
    "plt.plot(THRESHOLDS, scores)\n",
    "plt.vlines(max_t, ymin=0, ymax=1, color='r')\n",
    "plt.xlabel('Thresholds')\n",
    "plt.ylabel('Accuracy')\n",
    "plt.show()"
   ]
  },
  {
   "cell_type": "markdown",
   "id": "5e5e8dcc-7653-4b67-ab1b-889f990d0d19",
   "metadata": {},
   "source": [
    "---"
   ]
  },
  {
   "cell_type": "markdown",
   "id": "66e6543e-ddbf-4b31-92e8-09154074defa",
   "metadata": {},
   "source": [
    "<img src=\"images/accuracy.png\" width=\"800\" height=\"800\" align=\"center\"/>\n"
   ]
  },
  {
   "cell_type": "markdown",
   "id": "819ecc67-cca6-4f33-942f-8e02fc35f082",
   "metadata": {},
   "source": [
    "### __b)__: Confusion matrix"
   ]
  },
  {
   "cell_type": "code",
   "execution_count": 15,
   "id": "14e1d752-57b6-4ad2-a257-a16612eb7044",
   "metadata": {},
   "outputs": [
    {
     "data": {
      "image/png": "[encoded data removed]",
      "text/plain": [
       "<Figure size 576x432 with 2 Axes>"
      ]
     },
     "metadata": {
      "needs_background": "light"
     },
     "output_type": "display_data"
    }
   ],
   "source": [
    "# Plot the confusion matrix \n",
    "sn.heatmap(confusion_matrix(y_test, y_test_pred_binary), annot=True, fmt='.0f')\n",
    "plt.xlabel('Predicted')\n",
    "plt.ylabel('Actual')\n",
    "plt.show()"
   ]
  },
  {
   "cell_type": "raw",
   "id": "84a51370-067c-425d-a11f-6ed170edca93",
   "metadata": {},
   "source": [
    "Matrix elements:\n",
    "\n",
    "    [TN, FP]\n",
    "    [FN, TP]"
   ]
  },
  {
   "cell_type": "markdown",
   "id": "ca15ac80-4bde-43ae-a50b-488169842d2f",
   "metadata": {},
   "source": [
    "### __c)__: True positive rate (recall, sensitivity)\n",
    "\n",
    "$\\frac{TP}{TP+FN}$\n",
    "\n",
    "\"Collect them all!\" – High recall might give you some bad items, but it'll also return most of the good items.\n",
    "\n",
    "How many fraudulent transactions do we “recall” out of all actual fraudulent transactions, for a given threshold."
   ]
  },
  {
   "cell_type": "code",
   "execution_count": 16,
   "id": "79d3b511-9ffa-4924-b672-d259f2409428",
   "metadata": {},
   "outputs": [
    {
     "name": "stdout",
     "output_type": "stream",
     "text": [
      "Maximum TPR of 100.0% at threshold 0.0\n"
     ]
    }
   ],
   "source": [
    "scores = []\n",
    "for t in THRESHOLDS: \n",
    "    y_test_pred_binary = [int(i >= t) for i in y_test_pred]\n",
    "    tn, fp, fn, tp = confusion_matrix(y_test, y_test_pred_binary).ravel()\n",
    "    true_positive_rate = tp / (tp + fn)\n",
    "    scores.append(true_positive_rate)\n",
    "    \n",
    "max_t = THRESHOLDS[np.argmax(scores)]\n",
    "y_test_pred_binary = [int(i >= max_t) for i in y_test_pred]\n",
    "print('Maximum TPR of {}% at threshold {}'.format(round(max(scores), 4)*100, max_t))"
   ]
  },
  {
   "cell_type": "code",
   "execution_count": 17,
   "id": "2cf6de54-1b61-4b19-b5ec-67b9e63b7354",
   "metadata": {},
   "outputs": [
    {
     "data": {
      "image/png": "[encoded data removed]",
      "text/plain": [
       "<Figure size 576x432 with 1 Axes>"
      ]
     },
     "metadata": {
      "needs_background": "light"
     },
     "output_type": "display_data"
    }
   ],
   "source": [
    "# Plot scores\n",
    "plt.plot(THRESHOLDS, scores)\n",
    "plt.vlines(max_t, ymin=0, ymax=1, color='r')\n",
    "plt.xlabel('Thresholds')\n",
    "plt.ylabel('TPR')\n",
    "plt.show()"
   ]
  },
  {
   "cell_type": "markdown",
   "id": "7f6fb8aa-5a4b-41c3-bbe2-6f8583bfd39c",
   "metadata": {},
   "source": [
    "---"
   ]
  },
  {
   "cell_type": "markdown",
   "id": "ea6db8d6-e128-48c1-b7fa-256caed02147",
   "metadata": {},
   "source": [
    "<img src=\"images/tpr.png\" width=\"800\" height=\"800\" align=\"center\"/>\n"
   ]
  },
  {
   "cell_type": "markdown",
   "id": "9aa5c6bc-2358-4fdf-924f-6de01ed8cc5c",
   "metadata": {},
   "source": [
    "### __d)__: False positive rate (Type I error)\n",
    "\n",
    "$\\frac{FP}{FP+TN}$\n",
    "\n",
    "\"False alarm!\" \n",
    "\n",
    "The fraction of false alarms raised by the model, for a given threshold."
   ]
  },
  {
   "cell_type": "code",
   "execution_count": 18,
   "id": "b5403249-22ae-44e2-9aeb-a24d96fc5d79",
   "metadata": {},
   "outputs": [
    {
     "name": "stdout",
     "output_type": "stream",
     "text": [
      "Minimum FPR of 0.0% at threshold 0.97\n"
     ]
    }
   ],
   "source": [
    "scores = []\n",
    "for t in THRESHOLDS: \n",
    "    y_test_pred_binary = [int(i >= t) for i in y_test_pred]\n",
    "    tn, fp, fn, tp = confusion_matrix(y_test, y_test_pred_binary).ravel()\n",
    "    false_positive_rate = fp / (fp + tn)\n",
    "    scores.append(false_positive_rate)\n",
    "    \n",
    "min_t = THRESHOLDS[np.argmin(scores)]\n",
    "y_test_pred_binary = [int(i >= min_t) for i in y_test_pred]\n",
    "print('Minimum FPR of {}% at threshold {}'.format(round(min(scores), 4)*100, min_t))\n"
   ]
  },
  {
   "cell_type": "code",
   "execution_count": 19,
   "id": "ac5ebc55-173d-4982-bd9b-0c95ce9e1b62",
   "metadata": {},
   "outputs": [
    {
     "data": {
      "image/png": "[encoded data removed]",
      "text/plain": [
       "<Figure size 576x432 with 1 Axes>"
      ]
     },
     "metadata": {
      "needs_background": "light"
     },
     "output_type": "display_data"
    }
   ],
   "source": [
    "# Plot scores\n",
    "plt.plot(THRESHOLDS, scores)\n",
    "plt.vlines(min_t, ymin=0, ymax=1, color='r')\n",
    "plt.xlabel('Thresholds')\n",
    "plt.ylabel('FPR')\n",
    "plt.show()"
   ]
  },
  {
   "cell_type": "markdown",
   "id": "53556f86-26ef-4e29-b9eb-4eb8b13eb723",
   "metadata": {},
   "source": [
    "---"
   ]
  },
  {
   "cell_type": "markdown",
   "id": "323d1f3b-01a4-49bb-af75-b03bd1003f97",
   "metadata": {},
   "source": [
    "<img src=\"images/fpr.png\" width=\"800\" height=\"800\" align=\"center\"/>\n"
   ]
  },
  {
   "cell_type": "markdown",
   "id": "aaaee113-9e76-4ea8-b15c-f4e2bef1561f",
   "metadata": {},
   "source": [
    "### __e)__: False negative rate (Type II error)\n",
    "\n",
    "$\\frac{FN}{FN+TP}$\n",
    "\n",
    "\"Dammit, we missed it!\"\n",
    "\n",
    "The fraction of fraudulent transactions ",
    "missed by the model, for a given threshold."
   ]
  },
  {
   "cell_type": "code",
   "execution_count": 20,
   "id": "72176740-a2da-4a67-883e-dbe0831f35f6",
   "metadata": {},
   "outputs": [
    {
     "name": "stdout",
     "output_type": "stream",
     "text": [
      "Minimum FNR of 0.0% at threshold 0.0\n"
     ]
    }
   ],
   "source": [
    "scores = []\n",
    "for t in THRESHOLDS: \n",
    "    y_test_pred_binary = [int(i >= t) for i in y_test_pred]\n",
    "    tn, fp, fn, tp = confusion_matrix(y_test, y_test_pred_binary).ravel()\n",
    "    false_negative_rate = fn / (fn + tp)\n",
    "    scores.append(false_negative_rate)\n",
    "    \n",
    "min_t = THRESHOLDS[np.argmin(scores)]\n",
    "y_test_pred_binary = [int(i >= min_t) for i in y_test_pred]\n",
    "print('Minimum FNR of {}% at threshold {}'.format(round(min(scores), 4)*100, min_t))\n"
   ]
  },
  {
   "cell_type": "code",
   "execution_count": 21,
   "id": "c3d19b02-5b57-48c7-82ce-99e6b18ddc2a",
   "metadata": {},
   "outputs": [
    {
     "data": {
      "image/png": "[encoded data removed]",
      "text/plain": [
       "<Figure size 576x432 with 1 Axes>"
      ]
     },
     "metadata": {
      "needs_background": "light"
     },
     "output_type": "display_data"
    }
   ],
   "source": [
    "# Plot scores\n",
    "plt.plot(THRESHOLDS, scores)\n",
    "plt.vlines(min_t, ymin=0, ymax=1, color='r')\n",
    "plt.xlabel('Thresholds')\n",
    "plt.ylabel('FNR')\n",
    "plt.show()"
   ]
  },
  {
   "cell_type": "markdown",
   "id": "e4165315-9460-4989-a1c6-1a7dfae13c1a",
   "metadata": {},
   "source": [
    "---"
   ]
  },
  {
   "cell_type": "markdown",
   "id": "ee7fa505-d95c-48aa-ade2-31ac29d25915",
   "metadata": {},
   "source": [
    "<img src=\"images/fnr.png\" width=\"800\" height=\"800\" align=\"center\"/>\n"
   ]
  },
  {
   "cell_type": "markdown",
   "id": "0bbbdbd1-1e72-4d22-b29d-a42f69d20070",
   "metadata": {},
   "source": [
    "### __f)__: Positive predictive value (precision)\n",
    "\n",
    "$\\frac{TP}{TP+FP}$\n",
    "\n",
    "\"Don't waste my time!\"\n",
    "\n",
    "High precision might leave some good ideas out, but what it returns is of high quality (i.e. very precise)."
   ]
  },
  {
   "cell_type": "code",
   "execution_count": 22,
   "id": "0fd4d361-4e0f-489d-b0e7-f258b19d48e5",
   "metadata": {},
   "outputs": [
    {
     "name": "stdout",
     "output_type": "stream",
     "text": [
      "Maximum PPV of 100.0% at threshold 1.0\n"
     ]
    }
   ],
   "source": [
    "scores = []\n",
    "for t in THRESHOLDS: \n",
    "    y_test_pred_binary = [int(i >= t) for i in y_test_pred]\n",
    "    tn, fp, fn, tp = confusion_matrix(y_test, y_test_pred_binary).ravel()\n",
    "    ppv = tp / (tp + fp)\n",
    "    scores.append(ppv)\n",
    "    \n",
    "max_t = THRESHOLDS[np.argmax(scores)]\n",
    "y_test_pred_binary = [int(i >= max_t) for i in y_test_pred]\n",
    "print('Maximum PPV of {}% at threshold {}'.format(round(max(scores), 4)*100, max_t))"
   ]
  },
  {
   "cell_type": "code",
   "execution_count": 23,
   "id": "c64928ab-3f09-4fe0-8bc9-bc4b7977fb5f",
   "metadata": {},
   "outputs": [
    {
     "data": {
      "image/png": "[encoded data removed]",
      "text/plain": [
       "<Figure size 576x432 with 1 Axes>"
      ]
     },
     "metadata": {
      "needs_background": "light"
     },
     "output_type": "display_data"
    }
   ],
   "source": [
    "# Plot scores\n",
    "plt.plot(THRESHOLDS, scores)\n",
    "plt.vlines(max_t, ymin=0, ymax=1, color='r')\n",
    "plt.xlabel('Thresholds')\n",
    "plt.ylabel('PPV')\n",
    "plt.show()"
   ]
  },
  {
   "cell_type": "markdown",
   "id": "5826b285-d0dd-456e-b90b-5f761a51c4c3",
   "metadata": {},
   "source": [
    "### __g)__: F1 score\n",
    "\n",
    "\"Let's just have one metric.\"\n",
    "\n",
    "A balance between precision (accuracy over cases predicted to be positive) and recall (actual positive cases that correctly get a positive prediction), for a given threshold."
   ]
  },
  {
   "cell_type": "code",
   "execution_count": 24,
   "id": "dd5d50b9-d2b8-4eb4-8490-bf60948455b2",
   "metadata": {},
   "outputs": [
    {
     "name": "stdout",
     "output_type": "stream",
     "text": [
      "Maximum F1 of 72.04% at threshold 0.3\n"
     ]
    }
   ],
   "source": [
    "scores = []\n",
    "for t in THRESHOLDS: \n",
    "    y_test_pred_binary = [int(i >= t) for i in y_test_pred]\n",
    "    f1 = f1_score(y_test, y_test_pred_binary)\n",
    "    scores.append(f1)\n",
    "    \n",
    "max_t = THRESHOLDS[np.argmax(scores)]\n",
    "y_test_pred_binary = [int(i >= max_t) for i in y_test_pred]\n",
    "print('Maximum F1 of {}% at threshold {}'.format(round(max(scores), 4)*100, max_t))"
   ]
  },
  {
   "cell_type": "code",
   "execution_count": 25,
   "id": "183eab7c-1ddd-444f-83e2-ab112525f131",
   "metadata": {},
   "outputs": [
    {
     "data": {
      "image/png": "[encoded data removed]",
      "text/plain": [
       "<Figure size 576x432 with 1 Axes>"
      ]
     },
     "metadata": {
      "needs_background": "light"
     },
     "output_type": "display_data"
    }
   ],
   "source": [
    "# Plot scores\n",
    "plt.plot(THRESHOLDS, scores)\n",
    "plt.vlines(max_t, ymin=0, ymax=1, color='r')\n",
    "plt.xlabel('Thresholds')\n",
    "plt.ylabel('F1 score')\n",
    "plt.show()"
   ]
  },
  {
   "cell_type": "markdown",
   "id": "21f0e7ea-1378-4641-a68a-f00a15190eeb",
   "metadata": {},
   "source": [
    "---"
   ]
  },
  {
   "cell_type": "markdown",
   "id": "34a7e694-0073-407c-86af-8c45bcc5d0d7",
   "metadata": {},
   "source": [
    "<img src=\"images/f1.png\" width=\"800\" height=\"800\" align=\"center\"/>\n"
   ]
  },
  {
   "cell_type": "markdown",
   "id": "53c95d47-bf63-4834-a3ff-e471effefe5f",
   "metadata": {},
   "source": [
    "## Bonus materials\n",
    "\n",
    "- Google's Cassie Kozyrkov on precision and recall [on Youtube](https://www.youtube.com/watch?v=O4joFUqvz40)"
   ]
  }
 ],
 "metadata": {
  "kernelspec": {
   "display_name": "EPFL",
   "language": "python",
   "name": "epfl"
  },
  "language_info": {
   "codemirror_mode": {
    "name": "ipython",
    "version": 3
   },
   "file_extension": ".py",
   "mimetype": "text/x-python",
   "name": "python",
   "nbconvert_exporter": "python",
   "pygments_lexer": "ipython3",
   "version": "3.8.10"
  }
 },
 "nbformat": 4,
 "nbformat_minor": 5
}
