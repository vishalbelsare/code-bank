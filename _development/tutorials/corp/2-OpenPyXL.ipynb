{
 "cells": [
  {
   "cell_type": "markdown",
   "metadata": {},
   "source": [
    "# OpenPyXL Library Basics"
   ]
  },
  {
   "cell_type": "markdown",
   "metadata": {},
   "source": [
    "Source:  [https://github.com/d-insight/code-bank.git](https://github.com/d-insight/code-bank.git)  \n",
    "License: [MIT License](https://opensource.org/licenses/MIT). See open source [license](LICENSE) in the Code Bank repository. "
   ]
  },
  {
   "cell_type": "markdown",
   "metadata": {},
   "source": [
    "A Python library to read/write Excel 2010 xlsx/xlsm files. For more documentation, see: https://openpyxl.readthedocs.io/en/stable/"
   ]
  },
  {
   "cell_type": "markdown",
   "metadata": {},
   "source": [
    "-------------"
   ]
  },
  {
   "cell_type": "markdown",
   "metadata": {},
   "source": [
    "## Install"
   ]
  },
  {
   "cell_type": "code",
   "execution_count": 1,
   "metadata": {},
   "outputs": [],
   "source": [
    "#!python -m pip install openpyxl"
   ]
  },
  {
   "cell_type": "code",
   "execution_count": 2,
   "metadata": {},
   "outputs": [],
   "source": [
    "from openpyxl import load_workbook\n",
    "from openpyxl import Workbook"
   ]
  },
  {
   "cell_type": "markdown",
   "metadata": {},
   "source": [
    "## Files"
   ]
  },
  {
   "cell_type": "code",
   "execution_count": 4,
   "metadata": {},
   "outputs": [],
   "source": [
    "path = \"data/\"\n",
    "file = path + \"SalesSampleData.xlsx\""
   ]
  },
  {
   "cell_type": "markdown",
   "metadata": {},
   "source": [
    "## Getting Sheets from a Workbook"
   ]
  },
  {
   "cell_type": "code",
   "execution_count": 7,
   "metadata": {},
   "outputs": [],
   "source": [
    "workbook = load_workbook(filename=file)\n",
    "sheet = workbook.active"
   ]
  },
  {
   "cell_type": "code",
   "execution_count": 8,
   "metadata": {},
   "outputs": [
    {
     "name": "stdout",
     "output_type": "stream",
     "text": [
      "Worksheet names: ['Sheet 1 - OfficeSupplies', 'Sheet 2 - Empty']\n",
      "Active worksheet: <Worksheet \"Sheet 1 - OfficeSupplies\">\n",
      "The title of the Active Worksheet is: Sheet 1 - OfficeSupplies\n"
     ]
    }
   ],
   "source": [
    "print(f'Worksheet names: {workbook.sheetnames}')\n",
    "print(f'Active worksheet: {sheet}')\n",
    "print(f'The title of the Active Worksheet is: {sheet.title}')"
   ]
  },
  {
   "cell_type": "markdown",
   "metadata": {},
   "source": [
    "## Reading Cell Data"
   ]
  },
  {
   "cell_type": "code",
   "execution_count": 12,
   "metadata": {},
   "outputs": [
    {
     "name": "stdout",
     "output_type": "stream",
     "text": [
      "East\n"
     ]
    }
   ],
   "source": [
    "cell = sheet['B3']\n",
    "print(cell.value)"
   ]
  },
  {
   "cell_type": "code",
   "execution_count": 13,
   "metadata": {},
   "outputs": [
    {
     "data": {
      "text/plain": [
       "'2/9/19'"
      ]
     },
     "execution_count": 13,
     "metadata": {},
     "output_type": "execute_result"
    }
   ],
   "source": [
    "sheet[\"A5\"].value"
   ]
  },
  {
   "cell_type": "markdown",
   "metadata": {},
   "source": [
    "## Iterating Over Rows and Columns"
   ]
  },
  {
   "cell_type": "code",
   "execution_count": 14,
   "metadata": {},
   "outputs": [
    {
     "name": "stdout",
     "output_type": "stream",
     "text": [
      "SalesOrders\n",
      "OrderDate\n",
      "1/6/19\n",
      "1/23/19\n",
      "2/9/19\n",
      "2/26/19\n",
      "3/15/19\n",
      "4/1/19\n",
      "4/18/19\n",
      "5/5/19\n"
     ]
    }
   ],
   "source": [
    "for cell in sheet['A']:\n",
    "    print(cell.value)\n",
    "    if cell.row == 10:\n",
    "        break"
   ]
  },
  {
   "cell_type": "code",
   "execution_count": 15,
   "metadata": {},
   "outputs": [
    {
     "name": "stdout",
     "output_type": "stream",
     "text": [
      "('SalesOrders', None, None)\n",
      "('OrderDate', 'Region', 'Rep')\n",
      "('1/6/19', 'East', 'Jones')\n",
      "('1/23/19', 'Central', 'Kivell')\n",
      "('2/9/19', 'Central', 'Jardine')\n"
     ]
    }
   ],
   "source": [
    "# Alternative\n",
    "for value in sheet.iter_rows(\n",
    "        min_row=1, max_row=5,\n",
    "        min_col=1, max_col=3,\n",
    "        values_only=True,\n",
    "    ):\n",
    "    print(value)"
   ]
  },
  {
   "cell_type": "markdown",
   "metadata": {},
   "source": [
    "## Writing Excel Spreadsheets"
   ]
  },
  {
   "cell_type": "code",
   "execution_count": 19,
   "metadata": {},
   "outputs": [],
   "source": [
    "# Initiate a New Workbook\n",
    "workbook = Workbook()"
   ]
  },
  {
   "cell_type": "code",
   "execution_count": 20,
   "metadata": {},
   "outputs": [],
   "source": [
    "# Select the sheet to write on (the active one)\n",
    "sheet = workbook.active"
   ]
  },
  {
   "cell_type": "code",
   "execution_count": 23,
   "metadata": {},
   "outputs": [],
   "source": [
    "    sheet['A1'] = 'Hello'\n",
    "    sheet['A2'] = 'from'\n",
    "    sheet['A3'] = 'Me'"
   ]
  },
  {
   "cell_type": "code",
   "execution_count": 25,
   "metadata": {},
   "outputs": [],
   "source": [
    "# Save the workbook\n",
    "workbook.save(path + \"new_workbook.xlsx\")"
   ]
  },
  {
   "cell_type": "markdown",
   "metadata": {},
   "source": [
    "## Adding and Removing Sheets"
   ]
  },
  {
   "cell_type": "code",
   "execution_count": 26,
   "metadata": {},
   "outputs": [
    {
     "name": "stdout",
     "output_type": "stream",
     "text": [
      "['Sheet', 'Sheet1']\n"
     ]
    }
   ],
   "source": [
    "workbook.create_sheet()\n",
    "print(workbook.sheetnames)"
   ]
  },
  {
   "cell_type": "code",
   "execution_count": 27,
   "metadata": {},
   "outputs": [
    {
     "name": "stdout",
     "output_type": "stream",
     "text": [
      "['Sheet', 'Second sheet', 'Sheet1']\n"
     ]
    }
   ],
   "source": [
    "workbook.create_sheet(index=1, title='Second sheet')\n",
    "print(workbook.sheetnames)"
   ]
  },
  {
   "cell_type": "code",
   "execution_count": 28,
   "metadata": {},
   "outputs": [],
   "source": [
    "workbook.save(path + \"new_workbook.xlsx\")"
   ]
  },
  {
   "cell_type": "markdown",
   "metadata": {},
   "source": [
    "Let's delete some sheets"
   ]
  },
  {
   "cell_type": "code",
   "execution_count": 29,
   "metadata": {},
   "outputs": [
    {
     "name": "stdout",
     "output_type": "stream",
     "text": [
      "['Sheet', 'Second sheet', 'Sheet1']\n"
     ]
    }
   ],
   "source": [
    "print(workbook.sheetnames)"
   ]
  },
  {
   "cell_type": "code",
   "execution_count": 30,
   "metadata": {},
   "outputs": [
    {
     "name": "stdout",
     "output_type": "stream",
     "text": [
      "['Sheet', 'Sheet1']\n"
     ]
    }
   ],
   "source": [
    "del workbook['Second sheet']\n",
    "print(workbook.sheetnames)"
   ]
  },
  {
   "cell_type": "code",
   "execution_count": 32,
   "metadata": {},
   "outputs": [],
   "source": [
    "workbook.save(path + \"new_workbook.xlsx\")"
   ]
  },
  {
   "cell_type": "markdown",
   "metadata": {},
   "source": [
    "## Adding and Deleting Rows and Columns"
   ]
  },
  {
   "cell_type": "code",
   "execution_count": 33,
   "metadata": {},
   "outputs": [],
   "source": [
    "# insert a column before A (on the active sheet)\n",
    "sheet.insert_cols(idx=1)\n",
    "# insert 2 rows starting on the second row\n",
    "sheet.insert_rows(idx=2, amount=2)"
   ]
  },
  {
   "cell_type": "code",
   "execution_count": 34,
   "metadata": {},
   "outputs": [],
   "source": [
    "workbook.save(path + \"new_workbook.xlsx\")"
   ]
  },
  {
   "cell_type": "code",
   "execution_count": 35,
   "metadata": {},
   "outputs": [],
   "source": [
    "# Delete column A\n",
    "sheet.delete_cols(idx=1)\n",
    "# delete 2 rows starting on the second row\n",
    "sheet.delete_rows(idx=2, amount=2)"
   ]
  },
  {
   "cell_type": "code",
   "execution_count": 36,
   "metadata": {},
   "outputs": [],
   "source": [
    "workbook.save(path + \"new_workbook.xlsx\")"
   ]
  },
  {
   "cell_type": "markdown",
   "metadata": {},
   "source": [
    "_________________________________________________________________________________________________________"
   ]
  },
  {
   "cell_type": "markdown",
   "metadata": {},
   "source": [
    "### Functions"
   ]
  },
  {
   "cell_type": "code",
   "execution_count": null,
   "metadata": {},
   "outputs": [],
   "source": [
    "def open_workbook(path):\n",
    "    workbook = load_workbook(filename=path)\n",
    "    print(f'Worksheet names: {workbook.sheetnames}')\n",
    "    sheet = workbook.active\n",
    "    print(sheet)\n",
    "    print(f'The title of the Active Worksheet is: {sheet.title}')\n",
    "\n",
    "def get_cell_info(path):\n",
    "    workbook = load_workbook(filename=path)\n",
    "    sheet = workbook.active\n",
    "    print(sheet)\n",
    "    print(f'The title of the Worksheet is: {sheet.title}')\n",
    "    print(f'The value of {sheet[\"A5\"].value=}')\n",
    "    print(f'The value of {sheet[\"C6\"].value=}')\n",
    "    cell = sheet['B3']\n",
    "    print(f'{cell.value=}')\n",
    "\n",
    "def iterating_range(path):\n",
    "    workbook = load_workbook(filename=path)\n",
    "    sheet = workbook.active\n",
    "    for cell in sheet['A']:\n",
    "        print(cell)\n",
    "        if cell.row == 10:\n",
    "            break\n",
    "\n",
    "def iterating_over_values(path):\n",
    "    workbook = load_workbook(filename=path)\n",
    "    sheet = workbook.active\n",
    "    for value in sheet.iter_rows(\n",
    "            min_row=1, max_row=5,\n",
    "            min_col=1, max_col=3,\n",
    "            values_only=True,\n",
    "        ):\n",
    "        print(value)\n",
    "\n",
    "def create_workbook(path):\n",
    "    workbook = Workbook()\n",
    "    sheet = workbook.active\n",
    "    sheet['A1'] = 'Hello'\n",
    "    sheet['A2'] = 'from'\n",
    "    sheet['A3'] = 'OpenPyXL'\n",
    "    workbook.save(path)\n",
    "\n",
    "def create_worksheets(path):\n",
    "    workbook = Workbook()\n",
    "    print(workbook.sheetnames)\n",
    "    # Add a new worksheet\n",
    "    workbook.create_sheet()\n",
    "    print(workbook.sheetnames)\n",
    "    # Insert a worksheet\n",
    "    workbook.create_sheet(index=1,\n",
    "                          title='Second sheet')\n",
    "    print(workbook.sheetnames)\n",
    "    workbook.save(path)\n",
    "\n",
    "def remove_worksheets(path):\n",
    "    workbook = Workbook()\n",
    "    workbook.create_sheet()\n",
    "    # Insert a worksheet\n",
    "    workbook.create_sheet(index=1,\n",
    "                          title='Second sheet')\n",
    "    print(workbook.sheetnames)\n",
    "    del workbook['Second sheet']            # workbook.remove(sheet1)\n",
    "    print(workbook.sheetnames)\n",
    "    workbook.save(path)\n",
    "\n",
    "def inserting_cols_rows(path):\n",
    "    workbook = Workbook()\n",
    "    sheet = workbook.active\n",
    "    sheet['A1'] = 'Hello'\n",
    "    sheet['A2'] = 'from'\n",
    "    sheet['A3'] = 'OpenPyXL'\n",
    "    # insert a column before A\n",
    "    sheet.insert_cols(idx=1)\n",
    "    # insert 2 rows starting on the second row\n",
    "    sheet.insert_rows(idx=2, amount=2)\n",
    "    workbook.save(path)\n",
    "\n",
    "def deleting_cols_rows(path):\n",
    "    workbook = Workbook()\n",
    "    sheet = workbook.active\n",
    "    sheet['A1'] = 'Hello'\n",
    "    sheet['B1'] = 'from'\n",
    "    sheet['C1'] = 'OpenPyXL'\n",
    "    sheet['A2'] = 'row 2'\n",
    "    sheet['A3'] = 'row 3'\n",
    "    sheet['A4'] = 'row 4'\n",
    "    # Delete column A\n",
    "    sheet.delete_cols(idx=1)\n",
    "    # delete 2 rows starting on the second row\n",
    "    sheet.delete_rows(idx=2, amount=2)\n",
    "    workbook.save(path)"
   ]
  }
 ],
 "metadata": {
  "kernelspec": {
   "display_name": "Python 3 (ipykernel)",
   "language": "python",
   "name": "python3"
  },
  "language_info": {
   "codemirror_mode": {
    "name": "ipython",
    "version": 3
   },
   "file_extension": ".py",
   "mimetype": "text/x-python",
   "name": "python",
   "nbconvert_exporter": "python",
   "pygments_lexer": "ipython3",
   "version": "3.8.5"
  }
 },
 "nbformat": 4,
 "nbformat_minor": 4
}
