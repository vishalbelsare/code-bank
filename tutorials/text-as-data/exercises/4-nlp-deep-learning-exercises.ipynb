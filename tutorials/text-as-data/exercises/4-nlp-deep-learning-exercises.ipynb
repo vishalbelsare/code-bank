{
 "cells": [
  {
   "cell_type": "markdown",
   "metadata": {},
   "source": [
    "# DSFM text-as-data workshop\n",
    "\n",
    "## 4. NLP Deep learning: sentiment analysis\n",
    "\n",
    "Creator: [Data Science for Managers - EPFL Program](https://www.dsfm.ch)\n",
    "\n",
    "Source: [https://github.com/dsfm-org/code-bank.git](https://github.com/dsfm-org/code-bank.git)\n",
    "\n",
    "License: [MIT License](https://opensource.org/licenses/MIT). See open source [license](LICENSE) in the Code Bank repository."
   ]
  },
  {
   "cell_type": "markdown",
   "metadata": {},
   "source": [
    "### Overview\n",
    "\n",
    "In this notebook we will try to classify positive and negative reviews. We will starts with a simple approach (TF-IDF + Naive Bayes) to create a baseline and then we will improve the model using neural networks."
   ]
  },
  {
   "cell_type": "markdown",
   "metadata": {},
   "source": [
    "## Part 1: TF-IDF and Naive Bayes\n"
   ]
  },
  {
   "cell_type": "markdown",
   "metadata": {},
   "source": [
    "Q1: Load the `yelp_review.csv` dataset and store it under `df`"
   ]
  },
  {
   "cell_type": "code",
   "execution_count": null,
   "metadata": {},
   "outputs": [],
   "source": [
    "import pandas as pd\n",
    "\n",
    "import numpy as np\n",
    "# Fix random seed for reproducibility\n",
    "np.random.seed(42)\n",
    "\n",
    "df = pd.read_csv(\"./data/yelp_review.csv\")\n",
    "df.shape"
   ]
  },
  {
   "cell_type": "markdown",
   "metadata": {},
   "source": [
    "Q2: Let's start by simplifing a bit the problem by transforming the `stars` column into a boolean feature composed of positive and negative sentiments.\n",
    "\n",
    "By looking at the `median` and `mean` value of the `stars` columns, pick a good threshold and generate the `target` column. All reviews with a stars rating above such threshold will be targeted as `1` and the rest will be set as `0`."
   ]
  },
  {
   "cell_type": "code",
   "execution_count": null,
   "metadata": {},
   "outputs": [],
   "source": [
    "print(\"Stars median: \", # YOUR CODE HERE #)\n",
    "print(\"Stars mean: \", # YOUR CODE HERE #)"
   ]
  },
  {
   "cell_type": "code",
   "execution_count": null,
   "metadata": {},
   "outputs": [],
   "source": [
    "df['target'] = # YOUR CODE HERE #\n",
    "df.head(2)"
   ]
  },
  {
   "cell_type": "markdown",
   "metadata": {},
   "source": [
    "Q3: Look at the target distribution. Is that even distributed? What's the baseline we will need to beat?"
   ]
  },
  {
   "cell_type": "code",
   "execution_count": null,
   "metadata": {},
   "outputs": [],
   "source": [
    "# YOUR CODE HERE #"
   ]
  },
  {
   "cell_type": "markdown",
   "metadata": {},
   "source": [
    "Q4: Split the DataFrame into a `train_df` (80%) and `test_df` (20%). You can use scikit-learn `train_test_split`."
   ]
  },
  {
   "cell_type": "code",
   "execution_count": null,
   "metadata": {},
   "outputs": [],
   "source": [
    "from sklearn.model_selection import train_test_split\n",
    "train_df, test_df = # YOUR CODE HERE #\n",
    "\n",
    "print(\"train_df.shape: \", train_df.shape)\n",
    "print(\"test_df.shape: \", test_df.shape)"
   ]
  },
  {
   "cell_type": "markdown",
   "metadata": {},
   "source": [
    "Q5: Fit a `TfidfVectorizer` from scikit-learn with `max_features=500` on `train_df['text']` and store it under `X_train`"
   ]
  },
  {
   "cell_type": "code",
   "execution_count": null,
   "metadata": {},
   "outputs": [],
   "source": [
    "from sklearn.feature_extraction.text import TfidfVectorizer\n",
    "\n",
    "tfidf_vectorizer = # YOUR CODE HERE #\n",
    "\n",
    "X_train = # YOUR CODE HERE #"
   ]
  },
  {
   "cell_type": "markdown",
   "metadata": {},
   "source": [
    "Q6: Fit the `test_df` and store it under `X_test`"
   ]
  },
  {
   "cell_type": "code",
   "execution_count": null,
   "metadata": {},
   "outputs": [],
   "source": [
    "X_test = # YOUR CODE HERE #"
   ]
  },
  {
   "cell_type": "markdown",
   "metadata": {},
   "source": [
    "Q7: Get `y_train` and `y_test` target as numpy array"
   ]
  },
  {
   "cell_type": "code",
   "execution_count": null,
   "metadata": {},
   "outputs": [],
   "source": [
    "y_train = # YOUR CODE HERE #\n",
    "y_test = # YOUR CODE HERE #"
   ]
  },
  {
   "cell_type": "markdown",
   "metadata": {},
   "source": [
    "Q8: Apply Naive Bayes and predict the `y_predicted` values using [GaussianNB](https://scikit-learn.org/stable/modules/generated/sklearn.naive_bayes.GaussianNB.html)"
   ]
  },
  {
   "cell_type": "code",
   "execution_count": null,
   "metadata": {},
   "outputs": [],
   "source": [
    "from sklearn.naive_bayes import GaussianNB\n",
    "import numpy as np\n",
    "\n",
    "gnb = # YOUR CODE HERE #\n",
    "\n",
    "y_predicted = # YOUR CODE HERE #"
   ]
  },
  {
   "cell_type": "markdown",
   "metadata": {},
   "source": [
    "Q9: Display the accuracy as well as the roc_auc_score"
   ]
  },
  {
   "cell_type": "code",
   "execution_count": null,
   "metadata": {},
   "outputs": [],
   "source": [
    "from sklearn.metrics import accuracy_score\n",
    "\n",
    "print(f\"Accuracy score: # YOUR CODE HERE #\")\n",
    "\n",
    "from sklearn.metrics import roc_auc_score\n",
    "\n",
    "print(f\"Roc-auc score: # YOUR CODE HERE #\")"
   ]
  },
  {
   "cell_type": "markdown",
   "metadata": {},
   "source": [
    "## Part 2: Neural Networks"
   ]
  },
  {
   "cell_type": "markdown",
   "metadata": {},
   "source": [
    "For the next section, we will use [Tensorflow Keras](https://www.tensorflow.org/guide/keras/sequential_model), a well known Framework for Deep Learning. Training neural networks, however, if is computationally very expensive and therefore a GPU processor is usually required. Google provides a free and easy way to get access to a GPU...\n",
    "\n",
    "[Colab](https://colab.research.google.com/) is a tool from Google that allows you to share and use a special (Google) type of Jupyter Notebooks on the cloud. It also allows you to use a computer with GPUs for free. You do not need a Google Account to __see__ the following notebook, but you will need a Google account (such as a Gmail account) if you want to actually execute the following code."
   ]
  },
  {
   "cell_type": "markdown",
   "metadata": {},
   "source": [
    "__Click here to now continue this example on Google Colab...__ [4-nlp-deep-learning](https://colab.research.google.com/drive/1XMNrfIx0Ttm2DkdlWi668TGMZvNNt9gv#scrollTo=n-GJZv_xcnrj)"
   ]
  }
 ],
 "metadata": {
  "kernelspec": {
   "display_name": "Python 3",
   "language": "python",
   "name": "python3"
  },
  "language_info": {
   "codemirror_mode": {
    "name": "ipython",
    "version": 3
   },
   "file_extension": ".py",
   "mimetype": "text/x-python",
   "name": "python",
   "nbconvert_exporter": "python",
   "pygments_lexer": "ipython3",
   "version": "3.7.2"
  }
 },
 "nbformat": 4,
 "nbformat_minor": 4
}
