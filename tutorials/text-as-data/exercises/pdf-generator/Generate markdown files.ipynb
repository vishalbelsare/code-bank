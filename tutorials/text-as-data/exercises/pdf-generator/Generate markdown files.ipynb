{
 "cells": [
  {
   "cell_type": "markdown",
   "metadata": {},
   "source": [
    "Load the dataset ..."
   ]
  },
  {
   "cell_type": "code",
   "execution_count": 1,
   "metadata": {},
   "outputs": [
    {
     "data": {
      "text/html": [
       "<div>\n",
       "<style scoped>\n",
       "    .dataframe tbody tr th:only-of-type {\n",
       "        vertical-align: middle;\n",
       "    }\n",
       "\n",
       "    .dataframe tbody tr th {\n",
       "        vertical-align: top;\n",
       "    }\n",
       "\n",
       "    .dataframe thead th {\n",
       "        text-align: right;\n",
       "    }\n",
       "</style>\n",
       "<table border=\"1\" class=\"dataframe\">\n",
       "  <thead>\n",
       "    <tr style=\"text-align: right;\">\n",
       "      <th></th>\n",
       "      <th>stars</th>\n",
       "      <th>text</th>\n",
       "      <th>date</th>\n",
       "      <th>review_id</th>\n",
       "      <th>user_id</th>\n",
       "      <th>business_id</th>\n",
       "      <th>categories</th>\n",
       "      <th>name</th>\n",
       "      <th>address</th>\n",
       "      <th>city</th>\n",
       "      <th>state</th>\n",
       "      <th>latitude</th>\n",
       "      <th>longitude</th>\n",
       "      <th>stars_business</th>\n",
       "    </tr>\n",
       "  </thead>\n",
       "  <tbody>\n",
       "    <tr>\n",
       "      <th>0</th>\n",
       "      <td>4.0</td>\n",
       "      <td>We eat here all the time.\\nAnd i mean...ALL TH...</td>\n",
       "      <td>2012-02-08 04:05:38</td>\n",
       "      <td>A2F1GoiczPguOPD4dmovXQ</td>\n",
       "      <td>r2cnmA-dbfUWuIBa-XCTWA</td>\n",
       "      <td>NKYirjjTpzezUi4Rhj64bA</td>\n",
       "      <td>Vietnamese, Thai, Chinese, Restaurants</td>\n",
       "      <td>Pho 88 North York</td>\n",
       "      <td>5197 Yonge Street</td>\n",
       "      <td>Toronto</td>\n",
       "      <td>ON</td>\n",
       "      <td>43.770547</td>\n",
       "      <td>-79.412868</td>\n",
       "      <td>3.0</td>\n",
       "    </tr>\n",
       "    <tr>\n",
       "      <th>1</th>\n",
       "      <td>5.0</td>\n",
       "      <td>Been here a lot of times. The food is always f...</td>\n",
       "      <td>2016-04-21 16:11:26</td>\n",
       "      <td>gZPqotg0LJsHhUkgdEMsiQ</td>\n",
       "      <td>UM0G7byxZQwsHZBlNWEcuQ</td>\n",
       "      <td>NKYirjjTpzezUi4Rhj64bA</td>\n",
       "      <td>Vietnamese, Thai, Chinese, Restaurants</td>\n",
       "      <td>Pho 88 North York</td>\n",
       "      <td>5197 Yonge Street</td>\n",
       "      <td>Toronto</td>\n",
       "      <td>ON</td>\n",
       "      <td>43.770547</td>\n",
       "      <td>-79.412868</td>\n",
       "      <td>3.0</td>\n",
       "    </tr>\n",
       "  </tbody>\n",
       "</table>\n",
       "</div>"
      ],
      "text/plain": [
       "   stars                                               text  \\\n",
       "0    4.0  We eat here all the time.\\nAnd i mean...ALL TH...   \n",
       "1    5.0  Been here a lot of times. The food is always f...   \n",
       "\n",
       "                  date               review_id                 user_id  \\\n",
       "0  2012-02-08 04:05:38  A2F1GoiczPguOPD4dmovXQ  r2cnmA-dbfUWuIBa-XCTWA   \n",
       "1  2016-04-21 16:11:26  gZPqotg0LJsHhUkgdEMsiQ  UM0G7byxZQwsHZBlNWEcuQ   \n",
       "\n",
       "              business_id                              categories  \\\n",
       "0  NKYirjjTpzezUi4Rhj64bA  Vietnamese, Thai, Chinese, Restaurants   \n",
       "1  NKYirjjTpzezUi4Rhj64bA  Vietnamese, Thai, Chinese, Restaurants   \n",
       "\n",
       "                name            address     city state   latitude  longitude  \\\n",
       "0  Pho 88 North York  5197 Yonge Street  Toronto    ON  43.770547 -79.412868   \n",
       "1  Pho 88 North York  5197 Yonge Street  Toronto    ON  43.770547 -79.412868   \n",
       "\n",
       "   stars_business  \n",
       "0             3.0  \n",
       "1             3.0  "
      ]
     },
     "execution_count": 1,
     "metadata": {},
     "output_type": "execute_result"
    }
   ],
   "source": [
    "import pandas as pd\n",
    "\n",
    "# TODO. Merge it.\n",
    "review_df = pd.read_csv(\"../data/yelp_review.csv\").sample(10000)\n",
    "business_df = pd.read_csv(\"../data/yelp_business.csv\")\n",
    "df = review_df.merge(business_df, on='business_id', suffixes=('', '_business'))\n",
    "\n",
    "df.head(2)"
   ]
  },
  {
   "cell_type": "markdown",
   "metadata": {},
   "source": [
    "Define the settings"
   ]
  },
  {
   "cell_type": "code",
   "execution_count": 2,
   "metadata": {},
   "outputs": [],
   "source": [
    "NUM_PDF = 100\n",
    "\n",
    "FOLDER_NAME = \"pdf_reviews\"\n",
    "FOLDER_FILEPATH = f\"../data/{FOLDER_NAME}/\"\n",
    "\n",
    "# create directory if it does not exists\n",
    "from pathlib import Path\n",
    "Path(FOLDER_FILEPATH).mkdir(parents=True, exist_ok=True)\n",
    "\n",
    "FILENAME = \"review_{}.md\""
   ]
  },
  {
   "cell_type": "markdown",
   "metadata": {},
   "source": [
    "Define the file structure"
   ]
  },
  {
   "cell_type": "code",
   "execution_count": 3,
   "metadata": {},
   "outputs": [],
   "source": [
    "file_structure = \"\"\"\n",
    "---\n",
    "title: {name}\n",
    "geometry: margin=2cm\n",
    "output: pdf_document\n",
    "fontsize: 12pt\n",
    "---\n",
    "\n",
    "_{address}_, _{state}_\n",
    "\n",
    "*({latitude}, {longitude})*\n",
    "\n",
    "- date: {date}\n",
    "- stars:: {stars}\n",
    "-  categories: {categories}\n",
    "\n",
    "Review:\n",
    "\n",
    "{text}\n",
    "\n",
    "\"\"\""
   ]
  },
  {
   "cell_type": "markdown",
   "metadata": {},
   "source": [
    "Generate the markdown files ..."
   ]
  },
  {
   "cell_type": "code",
   "execution_count": 4,
   "metadata": {},
   "outputs": [],
   "source": [
    "for i in range(NUM_PDF):\n",
    "    review = df.iloc[i]\n",
    "    content = file_structure.format(name=review['name'], \n",
    "                                    address=review.address, \n",
    "                                    state=review.state, \n",
    "                                    latitude=review.latitude, \n",
    "                                    longitude=review.longitude, \n",
    "                                    date=review.date, \n",
    "                                    stars=review.stars, \n",
    "                                    categories=review.categories, \n",
    "                                    text=review.text)\n",
    "    doc_filepath = FOLDER_FILEPATH + FILENAME.format(i)\n",
    "    \n",
    "    with open(doc_filepath, 'w') as f:\n",
    "        f.write(content)"
   ]
  },
  {
   "cell_type": "markdown",
   "metadata": {},
   "source": [
    "Convert markdown files to pdfs "
   ]
  },
  {
   "cell_type": "code",
   "execution_count": 5,
   "metadata": {},
   "outputs": [],
   "source": [
    "!./to_pdf.sh"
   ]
  },
  {
   "cell_type": "markdown",
   "metadata": {},
   "source": [
    "Load text from the first review"
   ]
  },
  {
   "cell_type": "code",
   "execution_count": 6,
   "metadata": {},
   "outputs": [],
   "source": [
    "from pdfminer.high_level import extract_text"
   ]
  },
  {
   "cell_type": "code",
   "execution_count": 7,
   "metadata": {},
   "outputs": [
    {
     "data": {
      "text/plain": [
       "'Pho 88 North York\\n\\n5197 Yonge Street, ON\\n\\n(43.770547, -79.4128682)\\n\\n• date: 2012-02-08 04:05:38\\n• stars:: 4.0\\n• categories: Vietnamese, Thai, Chinese, Restaurants\\n\\nReview:\\n\\nWe eat here all the time. And i mean. . . ALL THE TIME.\\n\\nIs it because I love their menu? No, not really, it’s because my boyfriend is hooked on pho this\\nwinter and can’t stop taking us out for a cheap, hearty dish that’s around the corner and, let’s be\\nhonest here, probably one of the better Pho places in Willowdale that hasn’t totally pissed us oﬀ\\nwith bad service (sorry Vietnamese Delight, my boyfriend will always stink eye you forever).\\n\\nThat being said, the rare beef pho with fresh noodle never dissapoints (i hate the vermicelli/thin\\nrice noodle, I grew up with pho with thick fresh rice noodles). The cuts of beef are perfect and\\nhave no freezer burn (cough, Pho Hung) and the broth at the willowdale location is deﬁnitely alot\\nbetter than the one on Spadina.\\n\\nCheap, consistent quality, decent service - this place will continue to get our service for a long time.\\n\\n1\\n\\n\\x0c'"
      ]
     },
     "execution_count": 7,
     "metadata": {},
     "output_type": "execute_result"
    }
   ],
   "source": [
    "review_0 = extract_text(FOLDER_FILEPATH + \"review_0.pdf\")\n",
    "review_0"
   ]
  }
 ],
 "metadata": {
  "kernelspec": {
   "display_name": "Python 3",
   "language": "python",
   "name": "python3"
  },
  "language_info": {
   "codemirror_mode": {
    "name": "ipython",
    "version": 3
   },
   "file_extension": ".py",
   "mimetype": "text/x-python",
   "name": "python",
   "nbconvert_exporter": "python",
   "pygments_lexer": "ipython3",
   "version": "3.7.7"
  }
 },
 "nbformat": 4,
 "nbformat_minor": 4
}
