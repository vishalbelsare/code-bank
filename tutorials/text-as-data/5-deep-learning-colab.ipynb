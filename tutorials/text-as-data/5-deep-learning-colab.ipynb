{
 "cells": [
  {
   "cell_type": "markdown",
   "metadata": {},
   "source": [
    "# **Tutorial on Text as Data**: Deep Learning"
   ]
  },
  {
   "cell_type": "markdown",
   "metadata": {},
   "source": [
    "Source:  [https://github.com/d-insight/code-bank.git](https://github.com/d-insight/code-bank.git)  \n",
    "License: [MIT License](https://opensource.org/licenses/MIT). See open source [license](LICENSE) in the Code Bank repository. "
   ]
  },
  {
   "cell_type": "markdown",
   "metadata": {},
   "source": [
    "---"
   ]
  },
  {
   "cell_type": "markdown",
   "metadata": {},
   "source": [
    "For the next section, we will use [Tensorflow Keras](https://www.tensorflow.org/guide/keras/sequential_model), a well known Framework for Deep Learning. Training neural networks, however, if is computationally very expensive and therefore a GPU processor is usually required. You will therefore want to upload this notebook to a virtual macine with access to GPUs. Google provides \"Colba\" - a free and easy way to get access to a GPU... \n",
    "\n",
    "[Colab](https://colab.research.google.com/) is a tool from Google that allows you to share and use a special (Google) type of Jupyter Notebooks on the cloud. It also allows you to use a computer with GPUs for free. You do not need a Google Account to __see__ a notebook, but you will need a Google account (such as a Gmail account) if you want to actually execute code.\n",
    "\n",
    "To continue with this tutorial, upload the next notebook to Google Colab and continue with it there...\n",
    "\n",
    "**Activate GPU:**\n",
    "\n",
    "The default hardware of Google Colab is CPU. So once you have uploaded this notebook and are ready with CoLab, you need to activate GPU. You can enable GPU by clicking on: \"Runtime\" > \"Change runtime type\" > \"Hardware accelerator\" and then select \"gpu\"."
   ]
  },
  {
   "cell_type": "markdown",
   "metadata": {},
   "source": [
    "---"
   ]
  },
  {
   "cell_type": "markdown",
   "metadata": {
    "id": "RGuBO6AR6MoN"
   },
   "source": [
    "## Part 1: Simple Bayes (TFIDF + Bayes)\n",
    "\n"
   ]
  },
  {
   "cell_type": "code",
   "execution_count": null,
   "metadata": {
    "colab": {
     "base_uri": "https://localhost:8080/",
     "height": 127
    },
    "id": "n-GJZv_xcnrj",
    "outputId": "9ed00a99-125e-4c32-cda7-533322ec1ba8"
   },
   "outputs": [
    {
     "name": "stdout",
     "output_type": "stream",
     "text": [
      "Shape: (150000, 3)\n"
     ]
    },
    {
     "data": {
      "text/html": [
       "<div>\n",
       "<style scoped>\n",
       "    .dataframe tbody tr th:only-of-type {\n",
       "        vertical-align: middle;\n",
       "    }\n",
       "\n",
       "    .dataframe tbody tr th {\n",
       "        vertical-align: top;\n",
       "    }\n",
       "\n",
       "    .dataframe thead th {\n",
       "        text-align: right;\n",
       "    }\n",
       "</style>\n",
       "<table border=\"1\" class=\"dataframe\">\n",
       "  <thead>\n",
       "    <tr style=\"text-align: right;\">\n",
       "      <th></th>\n",
       "      <th>stars</th>\n",
       "      <th>text</th>\n",
       "      <th>business_id</th>\n",
       "    </tr>\n",
       "  </thead>\n",
       "  <tbody>\n",
       "    <tr>\n",
       "      <th>0</th>\n",
       "      <td>2.0</td>\n",
       "      <td>Be prepared to be greeted by a bland cashier w...</td>\n",
       "      <td>iWGO0_z8Rdwd3ZViapwRhg</td>\n",
       "    </tr>\n",
       "    <tr>\n",
       "      <th>1</th>\n",
       "      <td>5.0</td>\n",
       "      <td>The service department saved us today. The rem...</td>\n",
       "      <td>QuYAh94UZzHuy9McaeovKg</td>\n",
       "    </tr>\n",
       "  </tbody>\n",
       "</table>\n",
       "</div>"
      ],
      "text/plain": [
       "   stars  ...             business_id\n",
       "0    2.0  ...  iWGO0_z8Rdwd3ZViapwRhg\n",
       "1    5.0  ...  QuYAh94UZzHuy9McaeovKg\n",
       "\n",
       "[2 rows x 3 columns]"
      ]
     },
     "execution_count": 5,
     "metadata": {
      "tags": []
     },
     "output_type": "execute_result"
    }
   ],
   "source": [
    "import pandas as pd\n",
    "\n",
    "df = pd.read_csv(\"https://github.com/dsfm-epfl/data/raw/master/text-as-data/yelp_review.csv\")\n",
    "\n",
    "print(f\"Shape: {df.shape}\")\n",
    "\n",
    "df.head(2)"
   ]
  },
  {
   "cell_type": "markdown",
   "metadata": {
    "id": "Hb16c3pw6Zvq"
   },
   "source": [
    "Generate the target and split the DataFrame into a `train_df` (80%) and `test_df` (20%)."
   ]
  },
  {
   "cell_type": "code",
   "execution_count": null,
   "metadata": {
    "id": "2LskBFzKh05W"
   },
   "outputs": [],
   "source": [
    "df['target'] = (df['stars'] > 4) * 1\n",
    "\n",
    "from sklearn.model_selection import train_test_split\n",
    "train_df, test_df = train_test_split(df, test_size=0.2, random_state=42)"
   ]
  },
  {
   "cell_type": "markdown",
   "metadata": {
    "id": "Hm_dV5OX6eC7"
   },
   "source": [
    "Fit a ` TfidfVectorizer` and prepare `X_train`, `X_test`, `Y_train` and `y_test` "
   ]
  },
  {
   "cell_type": "code",
   "execution_count": null,
   "metadata": {
    "id": "dS0CNMmR4wa-"
   },
   "outputs": [],
   "source": [
    "from sklearn.feature_extraction.text import TfidfVectorizer\n",
    "\n",
    "tfidf_vectorizer = TfidfVectorizer(max_features=500)\n",
    "\n",
    "X_train = tfidf_vectorizer.fit_transform(train_df['text']).toarray()\n",
    "X_test = tfidf_vectorizer.transform(test_df['text']).toarray()\n",
    "\n",
    "y_train = train_df['target'].to_numpy()\n",
    "y_test = test_df['target'].to_numpy()"
   ]
  },
  {
   "cell_type": "markdown",
   "metadata": {
    "id": "Him5l6vt6wO8"
   },
   "source": [
    "Train a Bayes model and print accuracy. Our next goal will be to beat such baseline (already good\n",
    ")."
   ]
  },
  {
   "cell_type": "code",
   "execution_count": null,
   "metadata": {
    "colab": {
     "base_uri": "https://localhost:8080/",
     "height": 34
    },
    "id": "CU2aLL7c4_4A",
    "outputId": "aedf2005-ec86-4083-df22-918701ffbd9c"
   },
   "outputs": [
    {
     "name": "stdout",
     "output_type": "stream",
     "text": [
      "0.7687333333333334\n"
     ]
    }
   ],
   "source": [
    "from sklearn.naive_bayes import GaussianNB\n",
    "import numpy as np\n",
    "\n",
    "gnb = GaussianNB()\n",
    "y_predicted = gnb.fit(X_train, y_train).predict(X_test)\n",
    "\n",
    "from sklearn.metrics import accuracy_score\n",
    "print(accuracy_score(y_test, y_predicted))"
   ]
  },
  {
   "cell_type": "markdown",
   "metadata": {
    "id": "Tv-P30wniIBE"
   },
   "source": [
    "### Part 2: Neural Networks\n",
    "\n",
    "For this task we will use [Tensorflow Keras](https://www.tensorflow.org/guide/keras/sequential_model), a very well known Framework for Deep Learning.\n"
   ]
  },
  {
   "cell_type": "code",
   "execution_count": null,
   "metadata": {
    "id": "b3zXUQy0em90"
   },
   "outputs": [],
   "source": [
    "import tensorflow as tf\n",
    "\n",
    "from tensorflow.keras import layers\n",
    "from tensorflow.keras import losses\n",
    "from tensorflow.keras import preprocessing\n",
    "from tensorflow.keras.preprocessing.text import Tokenizer"
   ]
  },
  {
   "cell_type": "markdown",
   "metadata": {
    "id": "WMWmeF41gt3g"
   },
   "source": [
    "Q1: Our first task consist in creating (again) the `X_train` and `X_test` features. This time, instead of using `TfidfVectorizer` we make use [Tokenizer](https://www.tensorflow.org/api_docs/python/tf/keras/preprocessing/text/Tokenizer) directly from Keras.\n",
    "\n",
    "`texts_to_sequences` both tokenize the text and map every token to a number using a dictionary.\n"
   ]
  },
  {
   "cell_type": "code",
   "execution_count": null,
   "metadata": {
    "colab": {
     "base_uri": "https://localhost:8080/",
     "height": 34
    },
    "id": "BysMWyDuerPv",
    "outputId": "31617a91-2040-4afb-f1bf-4440791560f7"
   },
   "outputs": [
    {
     "name": "stdout",
     "output_type": "stream",
     "text": [
      "Vocab size: 95282\n"
     ]
    }
   ],
   "source": [
    "sentences_train = train_df['text']\n",
    "sentences_test = test_df['text']\n",
    "\n",
    "tokenizer = Tokenizer(num_words=5000)\n",
    "tokenizer.fit_on_texts(sentences_train)\n",
    "\n",
    "X_train = tokenizer.texts_to_sequences(sentences_train)\n",
    "X_test = tokenizer.texts_to_sequences(sentences_test)\n",
    "\n",
    "y_train = train_df['target'].to_numpy()\n",
    "y_test = test_df['target'].to_numpy()\n",
    "\n",
    "vocab_size = len(tokenizer.word_index) + 1  # Adding 1 because of reserved 0 index\n",
    "print(f\"Vocab size: {vocab_size}\")"
   ]
  },
  {
   "cell_type": "markdown",
   "metadata": {
    "id": "uMSkz67ahV8J"
   },
   "source": [
    "Q2: Display the first two values of `X_train`. What does they look like? What's the problem we are facing now?"
   ]
  },
  {
   "cell_type": "code",
   "execution_count": null,
   "metadata": {
    "colab": {
     "base_uri": "https://localhost:8080/",
     "height": 54
    },
    "id": "5qQQs4cnhndh",
    "outputId": "80f7ca74-5aee-4734-eef6-7f03f7c06148"
   },
   "outputs": [
    {
     "name": "stdout",
     "output_type": "stream",
     "text": [
      "[[104, 42, 20, 1, 1682, 7, 4, 316, 2, 3, 74, 729, 151, 13, 15, 6, 47, 7, 1, 85, 297, 1256, 11, 177, 3, 23, 1, 516, 2682, 997, 17, 25, 73, 44, 516, 18, 87, 22, 2372, 175, 40, 42, 6, 225, 14, 23, 4, 321, 478, 2, 144, 6, 262, 59, 31, 51], [3, 863, 3584, 1588, 75, 3, 142, 4, 320, 544, 7, 1, 297, 1207, 510, 700, 3, 21, 650, 24, 186, 29, 249, 60, 15, 1588, 2, 204, 5, 160, 8, 4, 106, 1, 40, 6, 525, 2, 1, 28, 6, 34, 784, 3, 59, 99, 246, 15, 102, 109, 3, 6, 278, 336, 2, 52, 22, 1819, 15, 102, 11, 12, 260, 358]]\n"
     ]
    }
   ],
   "source": [
    "print(X_train[:2])"
   ]
  },
  {
   "cell_type": "markdown",
   "metadata": {
    "id": "cJvY3Ag9iMuv"
   },
   "source": [
    "**Answer**\n",
    "\n",
    "Unlike the TF-IDF matrix, every row of the `X_train` has a different size. We will need to pad every sequences with zeroes so that they have all the same size."
   ]
  },
  {
   "cell_type": "markdown",
   "metadata": {
    "id": "9dIfO9TIiXgY"
   },
   "source": [
    "Q3: Pad every sequence using a maxlen of 100 and look at the shape of `X_train`"
   ]
  },
  {
   "cell_type": "code",
   "execution_count": null,
   "metadata": {
    "colab": {
     "base_uri": "https://localhost:8080/",
     "height": 34
    },
    "id": "DXKxTJdwe5vJ",
    "outputId": "82f755cb-7d2f-4199-c4a3-6ab2b84f1ff6"
   },
   "outputs": [
    {
     "name": "stdout",
     "output_type": "stream",
     "text": [
      "(120000, 100)\n"
     ]
    }
   ],
   "source": [
    "from tensorflow.keras.preprocessing.sequence import pad_sequences\n",
    "\n",
    "maxlen = 100\n",
    "\n",
    "X_train = pad_sequences(X_train, padding='post', maxlen=maxlen)\n",
    "X_test = pad_sequences(X_test, padding='post', maxlen=maxlen)\n",
    "\n",
    "print(X_train.shape)"
   ]
  },
  {
   "cell_type": "markdown",
   "metadata": {
    "id": "Xy_4HixdirrJ"
   },
   "source": [
    "Q4: We will now define a Neural Network model, we train it and look at the accuracy, did we improved from the baseline?"
   ]
  },
  {
   "cell_type": "code",
   "execution_count": null,
   "metadata": {
    "colab": {
     "base_uri": "https://localhost:8080/",
     "height": 326
    },
    "id": "346C9KpQe6bD",
    "outputId": "9412d022-4227-44d4-d184-f87c4f90ab55"
   },
   "outputs": [
    {
     "name": "stdout",
     "output_type": "stream",
     "text": [
      "Model: \"sequential\"\n",
      "_________________________________________________________________\n",
      "Layer (type)                 Output Shape              Param #   \n",
      "=================================================================\n",
      "embedding (Embedding)        (None, 100, 150)          14292300  \n",
      "_________________________________________________________________\n",
      "dropout (Dropout)            (None, 100, 150)          0         \n",
      "_________________________________________________________________\n",
      "global_average_pooling1d (Gl (None, 150)               0         \n",
      "_________________________________________________________________\n",
      "dropout_1 (Dropout)          (None, 150)               0         \n",
      "_________________________________________________________________\n",
      "dense (Dense)                (None, 1)                 151       \n",
      "=================================================================\n",
      "Total params: 14,292,451\n",
      "Trainable params: 14,292,451\n",
      "Non-trainable params: 0\n",
      "_________________________________________________________________\n"
     ]
    }
   ],
   "source": [
    "import tensorflow\n",
    "\n",
    "vocab_size = len(tokenizer.word_index) + 1\n",
    "\n",
    "model = tensorflow.keras.Sequential([\n",
    "  layers.Embedding(input_dim=vocab_size, output_dim=150, input_length=maxlen),\n",
    "  layers.Dropout(0.2),\n",
    "  layers.GlobalAveragePooling1D(),\n",
    "  layers.Dropout(0.2),\n",
    "  layers.Dense(1)])\n",
    "\n",
    "model.summary()"
   ]
  },
  {
   "cell_type": "code",
   "execution_count": null,
   "metadata": {
    "id": "BCpSQnOhevkN"
   },
   "outputs": [],
   "source": [
    "model.compile(\n",
    "    loss=losses.BinaryCrossentropy(from_logits=True),\n",
    "    optimizer='adam', \n",
    "    metrics=tf.metrics.BinaryAccuracy(threshold=0.0)\n",
    ")"
   ]
  },
  {
   "cell_type": "code",
   "execution_count": null,
   "metadata": {
    "id": "hsgh4JqtBrme"
   },
   "outputs": [],
   "source": [
    "# fit = start training"
   ]
  },
  {
   "cell_type": "code",
   "execution_count": null,
   "metadata": {
    "colab": {
     "base_uri": "https://localhost:8080/",
     "height": 71
    },
    "id": "KpDjo0ndfFSd",
    "outputId": "94649829-037c-4127-b4a7-2ec7f42b53b0"
   },
   "outputs": [
    {
     "name": "stdout",
     "output_type": "stream",
     "text": [
      "Epoch 1/5\n",
      "318/469 [===================>..........] - ETA: 23s - loss: 0.5681 - binary_accuracy: 0.7159"
     ]
    }
   ],
   "source": [
    "history = model.fit(X_train, y_train,\n",
    "                    epochs=5,\n",
    "                    verbose=True,\n",
    "                    validation_data=(X_test, y_test),\n",
    "                    batch_size=256)\n",
    "\n",
    "loss, accuracy = model.evaluate(X_train, y_train, verbose=True)\n",
    "\n",
    "print(\"Training Accuracy: {:.4f}\".format(accuracy))\n",
    "loss, accuracy = model.evaluate(X_test, y_test, verbose=True)\n",
    "\n",
    "print(\"Testing Accuracy:  {:.4f}\".format(accuracy))"
   ]
  },
  {
   "cell_type": "code",
   "execution_count": null,
   "metadata": {
    "colab": {
     "base_uri": "https://localhost:8080/",
     "height": 337
    },
    "id": "TkDniG6ufUpc",
    "outputId": "c684a055-aa82-4d6d-bdce-88c02e7a686b"
   },
   "outputs": [
    {
     "data": {
      "image/png": "[encoded data removed]",
      "text/plain": [
       "<Figure size 864x360 with 2 Axes>"
      ]
     },
     "metadata": {
      "tags": []
     },
     "output_type": "display_data"
    }
   ],
   "source": [
    "import matplotlib.pyplot as plt\n",
    "plt.style.use('ggplot')\n",
    "\n",
    "def plot_history(history):\n",
    "    acc = history.history['binary_accuracy']\n",
    "    val_acc = history.history['val_binary_accuracy']\n",
    "    loss = history.history['loss']\n",
    "    val_loss = history.history['val_loss']\n",
    "    x = range(1, len(acc) + 1)\n",
    "\n",
    "    plt.figure(figsize=(12, 5))\n",
    "    plt.subplot(1, 2, 1)\n",
    "    plt.plot(x, acc, 'b', label='Training acc')\n",
    "    plt.plot(x, val_acc, 'r', label='Validation acc')\n",
    "    plt.title('Training and validation accuracy')\n",
    "    plt.legend()\n",
    "    plt.subplot(1, 2, 2)\n",
    "    plt.plot(x, loss, 'b', label='Training loss')\n",
    "    plt.plot(x, val_loss, 'r', label='Validation loss')\n",
    "    plt.title('Training and validation loss')\n",
    "    plt.legend()\n",
    "\n",
    "plot_history(history)"
   ]
  }
 ],
 "metadata": {
  "accelerator": "GPU",
  "colab": {
   "collapsed_sections": [],
   "name": "SOLUTION-4-nlp-deep-learning",
   "provenance": []
  },
  "kernelspec": {
   "display_name": "Python 3 (ipykernel)",
   "language": "python",
   "name": "python3"
  },
  "language_info": {
   "codemirror_mode": {
    "name": "ipython",
    "version": 3
   },
   "file_extension": ".py",
   "mimetype": "text/x-python",
   "name": "python",
   "nbconvert_exporter": "python",
   "pygments_lexer": "ipython3",
   "version": "3.8.5"
  }
 },
 "nbformat": 4,
 "nbformat_minor": 4
}
