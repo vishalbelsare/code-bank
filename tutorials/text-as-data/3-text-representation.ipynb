{
 "cells": [
  {
   "cell_type": "markdown",
   "metadata": {},
   "source": [
    "# **Tutorial on Text as Data**: Text Representation"
   ]
  },
  {
   "cell_type": "markdown",
   "metadata": {},
   "source": [
    "Source:  [https://github.com/d-insight/code-bank.git](https://github.com/d-insight/code-bank.git)  \n",
    "License: [MIT License](https://opensource.org/licenses/MIT). See open source [license](LICENSE) in the Code Bank repository. "
   ]
  },
  {
   "cell_type": "markdown",
   "metadata": {},
   "source": [
    "---"
   ]
  },
  {
   "cell_type": "markdown",
   "metadata": {},
   "source": [
    "## Overview\n",
    "\n",
    "There are different ways to represent text data. In this notebook, we will dig deeper into the subject and look at different approaches to transform the text into its respective numerical representation.\n",
    "\n"
   ]
  },
  {
   "cell_type": "markdown",
   "metadata": {},
   "source": [
    "## Part 1: Text representation with TF-IDF\n",
    "\n",
    "In the previous notebook, we used a very simple solution to represent text data: by counting the most common words. One of the drawbacks of this approach is that all terms receive the same weights.\n",
    "\n",
    "A better strategy is to weight words according to their occurrence in the document. The underline idea is that words that appear in every document probably do not bring any particular meaning to the topic.\n",
    "\n",
    "To do that we normalize the term frequency of the world by the inverse of the document frequency. This might sound complicated at first. In this section, we will break down the TF-IDF algorithm step by step on a simple example.\n",
    "\n",
    "\n",
    "> ☝️scikit-learn provides a function to easily compute TF-IDF weights. At the end of our custom solution, we will compare the two solutions to make sure they return the same value."
   ]
  },
  {
   "cell_type": "markdown",
   "metadata": {},
   "source": [
    "![images/tf-idf-image](./images/tf-idf.png)"
   ]
  },
  {
   "cell_type": "markdown",
   "metadata": {},
   "source": [
    "Assume we are given the following reviews and we want to compute the TF-IDF weights."
   ]
  },
  {
   "cell_type": "code",
   "execution_count": 1,
   "metadata": {},
   "outputs": [],
   "source": [
    "review_0 = \"the pizza was very very good quality\"\n",
    "review_1 = \"the pasta was very superior quality\"\n",
    "review_2 = \"the gnocchi weren't that good\""
   ]
  },
  {
   "cell_type": "markdown",
   "metadata": {},
   "source": [
    "Q1: First, using `scikit-learn`, compute the count term-vector matrix and save it into a DataFrame `df_count`."
   ]
  },
  {
   "cell_type": "code",
   "execution_count": 2,
   "metadata": {},
   "outputs": [
    {
     "data": {
      "text/html": [
       "<div>\n",
       "<style scoped>\n",
       "    .dataframe tbody tr th:only-of-type {\n",
       "        vertical-align: middle;\n",
       "    }\n",
       "\n",
       "    .dataframe tbody tr th {\n",
       "        vertical-align: top;\n",
       "    }\n",
       "\n",
       "    .dataframe thead th {\n",
       "        text-align: right;\n",
       "    }\n",
       "</style>\n",
       "<table border=\"1\" class=\"dataframe\">\n",
       "  <thead>\n",
       "    <tr style=\"text-align: right;\">\n",
       "      <th></th>\n",
       "      <th>gnocchi</th>\n",
       "      <th>good</th>\n",
       "      <th>pasta</th>\n",
       "      <th>pizza</th>\n",
       "      <th>quality</th>\n",
       "      <th>superior</th>\n",
       "      <th>that</th>\n",
       "      <th>the</th>\n",
       "      <th>very</th>\n",
       "      <th>was</th>\n",
       "      <th>weren't</th>\n",
       "    </tr>\n",
       "  </thead>\n",
       "  <tbody>\n",
       "    <tr>\n",
       "      <th>0</th>\n",
       "      <td>0</td>\n",
       "      <td>1</td>\n",
       "      <td>0</td>\n",
       "      <td>1</td>\n",
       "      <td>1</td>\n",
       "      <td>0</td>\n",
       "      <td>0</td>\n",
       "      <td>1</td>\n",
       "      <td>2</td>\n",
       "      <td>1</td>\n",
       "      <td>0</td>\n",
       "    </tr>\n",
       "    <tr>\n",
       "      <th>1</th>\n",
       "      <td>0</td>\n",
       "      <td>0</td>\n",
       "      <td>1</td>\n",
       "      <td>0</td>\n",
       "      <td>1</td>\n",
       "      <td>1</td>\n",
       "      <td>0</td>\n",
       "      <td>1</td>\n",
       "      <td>1</td>\n",
       "      <td>1</td>\n",
       "      <td>0</td>\n",
       "    </tr>\n",
       "    <tr>\n",
       "      <th>2</th>\n",
       "      <td>1</td>\n",
       "      <td>1</td>\n",
       "      <td>0</td>\n",
       "      <td>0</td>\n",
       "      <td>0</td>\n",
       "      <td>0</td>\n",
       "      <td>1</td>\n",
       "      <td>1</td>\n",
       "      <td>0</td>\n",
       "      <td>0</td>\n",
       "      <td>1</td>\n",
       "    </tr>\n",
       "  </tbody>\n",
       "</table>\n",
       "</div>"
      ],
      "text/plain": [
       "   gnocchi  good  pasta  pizza  quality  superior  that  the  very  was  \\\n",
       "0        0     1      0      1        1         0     0    1     2    1   \n",
       "1        0     0      1      0        1         1     0    1     1    1   \n",
       "2        1     1      0      0        0         0     1    1     0    0   \n",
       "\n",
       "   weren't  \n",
       "0        0  \n",
       "1        0  \n",
       "2        1  "
      ]
     },
     "execution_count": 2,
     "metadata": {},
     "output_type": "execute_result"
    }
   ],
   "source": [
    "import pandas as pd\n",
    "from sklearn.feature_extraction.text import CountVectorizer\n",
    "\n",
    "cv = CountVectorizer(token_pattern=\"\\S+\")\n",
    "\n",
    "reviews = [review_0, review_1, review_2]\n",
    "\n",
    "count_cv = cv.fit_transform(reviews).toarray()\n",
    "\n",
    "df_count = pd.DataFrame(count_cv, columns=cv.get_feature_names())\n",
    "df_count"
   ]
  },
  {
   "cell_type": "markdown",
   "metadata": {},
   "source": [
    "Q2: Now, we need to compute the `idf` part. For each term, count the total number of documents that contain such a term (`document_freq`). In the literature, this is known as \"document frequency\"."
   ]
  },
  {
   "cell_type": "code",
   "execution_count": 3,
   "metadata": {},
   "outputs": [
    {
     "data": {
      "text/plain": [
       "gnocchi     1\n",
       "good        2\n",
       "pasta       1\n",
       "pizza       1\n",
       "quality     2\n",
       "superior    1\n",
       "that        1\n",
       "the         3\n",
       "very        2\n",
       "was         2\n",
       "weren't     1\n",
       "dtype: int64"
      ]
     },
     "execution_count": 3,
     "metadata": {},
     "output_type": "execute_result"
    }
   ],
   "source": [
    "document_freq = (df_count != 0).sum()\n",
    "document_freq"
   ]
  },
  {
   "cell_type": "markdown",
   "metadata": {},
   "source": [
    "Q3: Compute the `idf` part:\n",
    "\n",
    "\\begin{align}\n",
    "idf(word_i) = ln(\\frac{n+1}{document\\_freq(word_i) + 1}) + 1\n",
    "\\end{align}\n",
    "\n",
    "Example\n",
    "\n",
    "\\begin{align}\n",
    "idf(very) = ln(\\frac{3+1}{2 + 1}) + 1 = ln(4/3) + 1 \\approx 1.29\n",
    "\\end{align}"
   ]
  },
  {
   "cell_type": "code",
   "execution_count": 4,
   "metadata": {},
   "outputs": [
    {
     "data": {
      "text/plain": [
       "gnocchi     1.693147\n",
       "good        1.287682\n",
       "pasta       1.693147\n",
       "pizza       1.693147\n",
       "quality     1.287682\n",
       "superior    1.693147\n",
       "that        1.693147\n",
       "the         1.000000\n",
       "very        1.287682\n",
       "was         1.287682\n",
       "weren't     1.693147\n",
       "dtype: float64"
      ]
     },
     "execution_count": 4,
     "metadata": {},
     "output_type": "execute_result"
    }
   ],
   "source": [
    "import numpy as np\n",
    "n = df_count.shape[0]\n",
    "idf = np.log((n + 1) / (document_freq + 1)) + 1\n",
    "idf"
   ]
  },
  {
   "cell_type": "markdown",
   "metadata": {},
   "source": [
    "Q4: Finnally, compute the TF-IDF (`tfidf`) weights"
   ]
  },
  {
   "cell_type": "code",
   "execution_count": 5,
   "metadata": {},
   "outputs": [
    {
     "data": {
      "text/html": [
       "<div>\n",
       "<style scoped>\n",
       "    .dataframe tbody tr th:only-of-type {\n",
       "        vertical-align: middle;\n",
       "    }\n",
       "\n",
       "    .dataframe tbody tr th {\n",
       "        vertical-align: top;\n",
       "    }\n",
       "\n",
       "    .dataframe thead th {\n",
       "        text-align: right;\n",
       "    }\n",
       "</style>\n",
       "<table border=\"1\" class=\"dataframe\">\n",
       "  <thead>\n",
       "    <tr style=\"text-align: right;\">\n",
       "      <th></th>\n",
       "      <th>gnocchi</th>\n",
       "      <th>good</th>\n",
       "      <th>pasta</th>\n",
       "      <th>pizza</th>\n",
       "      <th>quality</th>\n",
       "      <th>superior</th>\n",
       "      <th>that</th>\n",
       "      <th>the</th>\n",
       "      <th>very</th>\n",
       "      <th>was</th>\n",
       "      <th>weren't</th>\n",
       "    </tr>\n",
       "  </thead>\n",
       "  <tbody>\n",
       "    <tr>\n",
       "      <th>0</th>\n",
       "      <td>0.000000</td>\n",
       "      <td>1.287682</td>\n",
       "      <td>0.000000</td>\n",
       "      <td>1.693147</td>\n",
       "      <td>1.287682</td>\n",
       "      <td>0.000000</td>\n",
       "      <td>0.000000</td>\n",
       "      <td>1.0</td>\n",
       "      <td>2.575364</td>\n",
       "      <td>1.287682</td>\n",
       "      <td>0.000000</td>\n",
       "    </tr>\n",
       "    <tr>\n",
       "      <th>1</th>\n",
       "      <td>0.000000</td>\n",
       "      <td>0.000000</td>\n",
       "      <td>1.693147</td>\n",
       "      <td>0.000000</td>\n",
       "      <td>1.287682</td>\n",
       "      <td>1.693147</td>\n",
       "      <td>0.000000</td>\n",
       "      <td>1.0</td>\n",
       "      <td>1.287682</td>\n",
       "      <td>1.287682</td>\n",
       "      <td>0.000000</td>\n",
       "    </tr>\n",
       "    <tr>\n",
       "      <th>2</th>\n",
       "      <td>1.693147</td>\n",
       "      <td>1.287682</td>\n",
       "      <td>0.000000</td>\n",
       "      <td>0.000000</td>\n",
       "      <td>0.000000</td>\n",
       "      <td>0.000000</td>\n",
       "      <td>1.693147</td>\n",
       "      <td>1.0</td>\n",
       "      <td>0.000000</td>\n",
       "      <td>0.000000</td>\n",
       "      <td>1.693147</td>\n",
       "    </tr>\n",
       "  </tbody>\n",
       "</table>\n",
       "</div>"
      ],
      "text/plain": [
       "    gnocchi      good     pasta     pizza   quality  superior      that  the  \\\n",
       "0  0.000000  1.287682  0.000000  1.693147  1.287682  0.000000  0.000000  1.0   \n",
       "1  0.000000  0.000000  1.693147  0.000000  1.287682  1.693147  0.000000  1.0   \n",
       "2  1.693147  1.287682  0.000000  0.000000  0.000000  0.000000  1.693147  1.0   \n",
       "\n",
       "       very       was   weren't  \n",
       "0  2.575364  1.287682  0.000000  \n",
       "1  1.287682  1.287682  0.000000  \n",
       "2  0.000000  0.000000  1.693147  "
      ]
     },
     "execution_count": 5,
     "metadata": {},
     "output_type": "execute_result"
    }
   ],
   "source": [
    "tfidf = df_count * idf\n",
    "tfidf"
   ]
  },
  {
   "cell_type": "markdown",
   "metadata": {},
   "source": [
    "Q5: Now we can compare our solution with scikit-learn and see if they are the same.\n",
    "\n",
    "> ☝️Note that by default scikit-learn normalize the output. To avoid that, we need to pass `norm=None`."
   ]
  },
  {
   "cell_type": "code",
   "execution_count": 6,
   "metadata": {},
   "outputs": [
    {
     "data": {
      "text/html": [
       "<div>\n",
       "<style scoped>\n",
       "    .dataframe tbody tr th:only-of-type {\n",
       "        vertical-align: middle;\n",
       "    }\n",
       "\n",
       "    .dataframe tbody tr th {\n",
       "        vertical-align: top;\n",
       "    }\n",
       "\n",
       "    .dataframe thead th {\n",
       "        text-align: right;\n",
       "    }\n",
       "</style>\n",
       "<table border=\"1\" class=\"dataframe\">\n",
       "  <thead>\n",
       "    <tr style=\"text-align: right;\">\n",
       "      <th></th>\n",
       "      <th>gnocchi</th>\n",
       "      <th>good</th>\n",
       "      <th>pasta</th>\n",
       "      <th>pizza</th>\n",
       "      <th>quality</th>\n",
       "      <th>superior</th>\n",
       "      <th>that</th>\n",
       "      <th>the</th>\n",
       "      <th>very</th>\n",
       "      <th>was</th>\n",
       "      <th>weren't</th>\n",
       "    </tr>\n",
       "  </thead>\n",
       "  <tbody>\n",
       "    <tr>\n",
       "      <th>0</th>\n",
       "      <td>0.000000</td>\n",
       "      <td>1.287682</td>\n",
       "      <td>0.000000</td>\n",
       "      <td>1.693147</td>\n",
       "      <td>1.287682</td>\n",
       "      <td>0.000000</td>\n",
       "      <td>0.000000</td>\n",
       "      <td>1.0</td>\n",
       "      <td>2.575364</td>\n",
       "      <td>1.287682</td>\n",
       "      <td>0.000000</td>\n",
       "    </tr>\n",
       "    <tr>\n",
       "      <th>1</th>\n",
       "      <td>0.000000</td>\n",
       "      <td>0.000000</td>\n",
       "      <td>1.693147</td>\n",
       "      <td>0.000000</td>\n",
       "      <td>1.287682</td>\n",
       "      <td>1.693147</td>\n",
       "      <td>0.000000</td>\n",
       "      <td>1.0</td>\n",
       "      <td>1.287682</td>\n",
       "      <td>1.287682</td>\n",
       "      <td>0.000000</td>\n",
       "    </tr>\n",
       "    <tr>\n",
       "      <th>2</th>\n",
       "      <td>1.693147</td>\n",
       "      <td>1.287682</td>\n",
       "      <td>0.000000</td>\n",
       "      <td>0.000000</td>\n",
       "      <td>0.000000</td>\n",
       "      <td>0.000000</td>\n",
       "      <td>1.693147</td>\n",
       "      <td>1.0</td>\n",
       "      <td>0.000000</td>\n",
       "      <td>0.000000</td>\n",
       "      <td>1.693147</td>\n",
       "    </tr>\n",
       "  </tbody>\n",
       "</table>\n",
       "</div>"
      ],
      "text/plain": [
       "    gnocchi      good     pasta     pizza   quality  superior      that  the  \\\n",
       "0  0.000000  1.287682  0.000000  1.693147  1.287682  0.000000  0.000000  1.0   \n",
       "1  0.000000  0.000000  1.693147  0.000000  1.287682  1.693147  0.000000  1.0   \n",
       "2  1.693147  1.287682  0.000000  0.000000  0.000000  0.000000  1.693147  1.0   \n",
       "\n",
       "       very       was   weren't  \n",
       "0  2.575364  1.287682  0.000000  \n",
       "1  1.287682  1.287682  0.000000  \n",
       "2  0.000000  0.000000  1.693147  "
      ]
     },
     "execution_count": 6,
     "metadata": {},
     "output_type": "execute_result"
    }
   ],
   "source": [
    "from sklearn.feature_extraction.text import TfidfVectorizer\n",
    "\n",
    "reviews = [review_0, review_1, review_2]\n",
    "\n",
    "vectorizer = TfidfVectorizer(token_pattern=\"\\S+\", min_df=1, norm=None)\n",
    "\n",
    "m = vectorizer.fit_transform(reviews).toarray()\n",
    "\n",
    "tfidf_sklearn = pd.DataFrame(m, columns=vectorizer.get_feature_names())\n",
    "tfidf_sklearn"
   ]
  },
  {
   "cell_type": "code",
   "execution_count": 7,
   "metadata": {},
   "outputs": [
    {
     "data": {
      "text/html": [
       "<div>\n",
       "<style scoped>\n",
       "    .dataframe tbody tr th:only-of-type {\n",
       "        vertical-align: middle;\n",
       "    }\n",
       "\n",
       "    .dataframe tbody tr th {\n",
       "        vertical-align: top;\n",
       "    }\n",
       "\n",
       "    .dataframe thead th {\n",
       "        text-align: right;\n",
       "    }\n",
       "</style>\n",
       "<table border=\"1\" class=\"dataframe\">\n",
       "  <thead>\n",
       "    <tr style=\"text-align: right;\">\n",
       "      <th></th>\n",
       "      <th>gnocchi</th>\n",
       "      <th>good</th>\n",
       "      <th>pasta</th>\n",
       "      <th>pizza</th>\n",
       "      <th>quality</th>\n",
       "      <th>superior</th>\n",
       "      <th>that</th>\n",
       "      <th>the</th>\n",
       "      <th>very</th>\n",
       "      <th>was</th>\n",
       "      <th>weren't</th>\n",
       "    </tr>\n",
       "  </thead>\n",
       "  <tbody>\n",
       "    <tr>\n",
       "      <th>0</th>\n",
       "      <td>True</td>\n",
       "      <td>True</td>\n",
       "      <td>True</td>\n",
       "      <td>True</td>\n",
       "      <td>True</td>\n",
       "      <td>True</td>\n",
       "      <td>True</td>\n",
       "      <td>True</td>\n",
       "      <td>True</td>\n",
       "      <td>True</td>\n",
       "      <td>True</td>\n",
       "    </tr>\n",
       "    <tr>\n",
       "      <th>1</th>\n",
       "      <td>True</td>\n",
       "      <td>True</td>\n",
       "      <td>True</td>\n",
       "      <td>True</td>\n",
       "      <td>True</td>\n",
       "      <td>True</td>\n",
       "      <td>True</td>\n",
       "      <td>True</td>\n",
       "      <td>True</td>\n",
       "      <td>True</td>\n",
       "      <td>True</td>\n",
       "    </tr>\n",
       "    <tr>\n",
       "      <th>2</th>\n",
       "      <td>True</td>\n",
       "      <td>True</td>\n",
       "      <td>True</td>\n",
       "      <td>True</td>\n",
       "      <td>True</td>\n",
       "      <td>True</td>\n",
       "      <td>True</td>\n",
       "      <td>True</td>\n",
       "      <td>True</td>\n",
       "      <td>True</td>\n",
       "      <td>True</td>\n",
       "    </tr>\n",
       "  </tbody>\n",
       "</table>\n",
       "</div>"
      ],
      "text/plain": [
       "   gnocchi  good  pasta  pizza  quality  superior  that   the  very   was  \\\n",
       "0     True  True   True   True     True      True  True  True  True  True   \n",
       "1     True  True   True   True     True      True  True  True  True  True   \n",
       "2     True  True   True   True     True      True  True  True  True  True   \n",
       "\n",
       "   weren't  \n",
       "0     True  \n",
       "1     True  \n",
       "2     True  "
      ]
     },
     "execution_count": 7,
     "metadata": {},
     "output_type": "execute_result"
    }
   ],
   "source": [
    "tfidf_sklearn == tfidf"
   ]
  },
  {
   "cell_type": "markdown",
   "metadata": {},
   "source": [
    "Q6: Explain why the outputs of `CountVectorizer` and `TfidfVectorizer` are sparse matrix. What's the main advantage of using sparse representation? "
   ]
  },
  {
   "cell_type": "markdown",
   "metadata": {},
   "source": [
    "**Answer**\n",
    "\n",
    "Recall that the rows of the matrix represents the document (in this case reviews) whereas the columns are terms (i.e tokens/words). Clearly, not all documents contain all words of the vocabulary, and therefore most of the values are zero. Instead of returning the full matrix composed of many zeros, we return a special data structure (i.e a sparse matrix) containing only non-zero values plus the information regarding the position in the matrix. This way we can save a lot of memory.      "
   ]
  },
  {
   "cell_type": "markdown",
   "metadata": {},
   "source": [
    "Q7 (**homework**): Go back to Notebook 2, part 3 and compute again the topic, this time using `TfidfVectorizer` instead of `CountVectorizer`. Does the topics are better defined? (spoiler: **yes**)."
   ]
  },
  {
   "cell_type": "markdown",
   "metadata": {},
   "source": [
    "## Part 2: Word2Vec\n",
    "\n",
    "Word2vec is a two-layer neural networks to vectorize words. Its input is a text corpus and its output is a set of vectors, feature vectors that represent words in that corpus.\n",
    "\n",
    "\n",
    "**Learning objective**: intuitively understand Word2Vec and be able to implement it\n",
    "\n",
    "**Useful resources**:\n",
    " - [Word2vec paper: Distributed Representations of Words and Phrases and their Compositionality](https://papers.nips.cc/paper/5021-distributed-representations-of-words-and-phrases-and-their-compositionality.pdf)\n",
    " - [The Illustrated Word2vec](http://jalammar.github.io/illustrated-word2vec/)"
   ]
  },
  {
   "cell_type": "markdown",
   "metadata": {},
   "source": [
    "Q1: By looking at the following image, can you explain the difference between the continuous-bag-of-words (CBOW) and skip-gram model architectures?"
   ]
  },
  {
   "cell_type": "markdown",
   "metadata": {},
   "source": [
    "![images/cbow vs skip-gram](./images/cbow-vs-skip-gram.pbm)"
   ]
  },
  {
   "cell_type": "markdown",
   "metadata": {},
   "source": [
    "**Answer**\n",
    "\n",
    "**CBOW**: given a context, predict the word\n",
    "\n",
    "**Skip-gram**: given as input a single word, predict the context"
   ]
  },
  {
   "cell_type": "markdown",
   "metadata": {},
   "source": [
    "Q2: We will now train a Word2Vec model using [Gensim](https://radimrehurek.com/gensim/). Gensim's Word2Vec expect as input a list of sentences where each sentence is a list of tokens as in the example below. Load `review_clean.csv` into a Pandas Dataframe `df`, transform it as a list of list of tokens and store it into a variable called `corpus`.\n",
    "\n",
    "> ☝️ For tokenization, you can simply use `string.split()`"
   ]
  },
  {
   "cell_type": "code",
   "execution_count": 8,
   "metadata": {},
   "outputs": [
    {
     "name": "stdout",
     "output_type": "stream",
     "text": [
      "[['Resturant', 'was', 'ok', '.'], ['Restaurant', 'was', 'average']]\n"
     ]
    }
   ],
   "source": [
    "sentence_one = [\"Resturant\", \"was\", \"ok\", \".\"]\n",
    "sentence_two = [\"Restaurant\", \"was\", \"average\"]\n",
    "\n",
    "valid_gensim_input = [sentence_one, sentence_two]\n",
    "\n",
    "print(valid_gensim_input)"
   ]
  },
  {
   "cell_type": "code",
   "execution_count": 9,
   "metadata": {},
   "outputs": [
    {
     "data": {
      "text/html": [
       "<div>\n",
       "<style scoped>\n",
       "    .dataframe tbody tr th:only-of-type {\n",
       "        vertical-align: middle;\n",
       "    }\n",
       "\n",
       "    .dataframe tbody tr th {\n",
       "        vertical-align: top;\n",
       "    }\n",
       "\n",
       "    .dataframe thead th {\n",
       "        text-align: right;\n",
       "    }\n",
       "</style>\n",
       "<table border=\"1\" class=\"dataframe\">\n",
       "  <thead>\n",
       "    <tr style=\"text-align: right;\">\n",
       "      <th></th>\n",
       "      <th>text_clean</th>\n",
       "      <th>text</th>\n",
       "      <th>stars</th>\n",
       "      <th>categories</th>\n",
       "      <th>name</th>\n",
       "      <th>address</th>\n",
       "    </tr>\n",
       "  </thead>\n",
       "  <tbody>\n",
       "    <tr>\n",
       "      <th>0</th>\n",
       "      <td>Omar great !  diagnose correct cell phone issu...</td>\n",
       "      <td>Omar is great!  He can diagnose and correct an...</td>\n",
       "      <td>5.0</td>\n",
       "      <td>Mobile Phones, Shopping, Telecommunications, M...</td>\n",
       "      <td>T-Mobile</td>\n",
       "      <td>16635 N Tatum Blvd, Ste 110</td>\n",
       "    </tr>\n",
       "    <tr>\n",
       "      <th>1</th>\n",
       "      <td>TERRIBLE ! ! ! went salon close proximity waxi...</td>\n",
       "      <td>TERRIBLE!!! I went to this salon due to its cl...</td>\n",
       "      <td>1.0</td>\n",
       "      <td>Day Spas, Beauty &amp; Spas, Nail Salons</td>\n",
       "      <td>Pretty Nails</td>\n",
       "      <td>1660 E Camelback Rd</td>\n",
       "    </tr>\n",
       "  </tbody>\n",
       "</table>\n",
       "</div>"
      ],
      "text/plain": [
       "                                          text_clean  \\\n",
       "0  Omar great !  diagnose correct cell phone issu...   \n",
       "1  TERRIBLE ! ! ! went salon close proximity waxi...   \n",
       "\n",
       "                                                text  stars  \\\n",
       "0  Omar is great!  He can diagnose and correct an...    5.0   \n",
       "1  TERRIBLE!!! I went to this salon due to its cl...    1.0   \n",
       "\n",
       "                                          categories          name  \\\n",
       "0  Mobile Phones, Shopping, Telecommunications, M...      T-Mobile   \n",
       "1               Day Spas, Beauty & Spas, Nail Salons  Pretty Nails   \n",
       "\n",
       "                       address  \n",
       "0  16635 N Tatum Blvd, Ste 110  \n",
       "1          1660 E Camelback Rd  "
      ]
     },
     "execution_count": 9,
     "metadata": {},
     "output_type": "execute_result"
    }
   ],
   "source": [
    "df = pd.read_csv(\"./data/review_clean.csv\")\n",
    "df.head(2)"
   ]
  },
  {
   "cell_type": "code",
   "execution_count": 10,
   "metadata": {},
   "outputs": [
    {
     "data": {
      "text/plain": [
       "[['Omar',\n",
       "  'great',\n",
       "  '!',\n",
       "  'diagnose',\n",
       "  'correct',\n",
       "  'cell',\n",
       "  'phone',\n",
       "  'issue',\n",
       "  '-',\n",
       "  'professional',\n",
       "  'patient',\n",
       "  '-',\n",
       "  'ideal',\n",
       "  'buyers',\n",
       "  '/',\n",
       "  'customers',\n",
       "  'limited',\n",
       "  'technology',\n",
       "  'knowledge'],\n",
       " ['Thank', 'Omar', 'help']]"
      ]
     },
     "execution_count": 10,
     "metadata": {},
     "output_type": "execute_result"
    }
   ],
   "source": [
    "# Split into sentences\n",
    "sentences_s = df['text_clean'].str.split(\".\").explode()\n",
    "\n",
    "# Split each sentence into tokens\n",
    "tokens_s = sentences_s.str.split()\n",
    "\n",
    "# Concatenate all list togethers\n",
    "corpus = list(tokens_s)\n",
    "corpus[:2]"
   ]
  },
  {
   "cell_type": "markdown",
   "metadata": {},
   "source": [
    "Q3: Define and train the `word2vec` model. Set the embedding `size` to 300, train using the skip-gram model and set `min_count` to 5.\n",
    "\n",
    "> ☝️ Have a look at the [Gensim Word2Vec tutorial](https://radimrehurek.com/gensim/models/word2vec.html) for help"
   ]
  },
  {
   "cell_type": "code",
   "execution_count": 11,
   "metadata": {},
   "outputs": [
    {
     "data": {
      "text/plain": [
       "(9089505, 11248120)"
      ]
     },
     "execution_count": 11,
     "metadata": {},
     "output_type": "execute_result"
    }
   ],
   "source": [
    "from gensim.models import Word2Vec\n",
    "\n",
    "w2v_model = Word2Vec(size=300, sg=1, min_count=5)\n",
    "\n",
    "\n",
    "w2v_model.build_vocab(corpus, progress_per=10000)\n",
    "\n",
    "\n",
    "w2v_model.train(corpus, total_examples=w2v_model.corpus_count, epochs=20, report_delay=1)"
   ]
  },
  {
   "cell_type": "markdown",
   "metadata": {},
   "source": [
    "Q4: Once the model is trained we can extract the word embeddings and compare it. Execute the cell below to create a DataFrame that map selected words to their Word2Vec vector."
   ]
  },
  {
   "cell_type": "code",
   "execution_count": 12,
   "metadata": {},
   "outputs": [
    {
     "data": {
      "text/html": [
       "<div>\n",
       "<style scoped>\n",
       "    .dataframe tbody tr th:only-of-type {\n",
       "        vertical-align: middle;\n",
       "    }\n",
       "\n",
       "    .dataframe tbody tr th {\n",
       "        vertical-align: top;\n",
       "    }\n",
       "\n",
       "    .dataframe thead th {\n",
       "        text-align: right;\n",
       "    }\n",
       "</style>\n",
       "<table border=\"1\" class=\"dataframe\">\n",
       "  <thead>\n",
       "    <tr style=\"text-align: right;\">\n",
       "      <th></th>\n",
       "      <th>vocab</th>\n",
       "      <th>vector</th>\n",
       "    </tr>\n",
       "  </thead>\n",
       "  <tbody>\n",
       "    <tr>\n",
       "      <th>0</th>\n",
       "      <td>pasta</td>\n",
       "      <td>[0.16100411, -0.44462204, 0.09203769, 0.131131...</td>\n",
       "    </tr>\n",
       "    <tr>\n",
       "      <th>1</th>\n",
       "      <td>pizza</td>\n",
       "      <td>[0.5975063, -0.54391915, 0.5388808, 0.19324102...</td>\n",
       "    </tr>\n",
       "    <tr>\n",
       "      <th>2</th>\n",
       "      <td>spaghetti</td>\n",
       "      <td>[0.34720272, -0.29686236, 0.26158643, 0.001025...</td>\n",
       "    </tr>\n",
       "    <tr>\n",
       "      <th>3</th>\n",
       "      <td>car</td>\n",
       "      <td>[0.3174404, -0.41663548, 0.5467024, 0.7372491,...</td>\n",
       "    </tr>\n",
       "    <tr>\n",
       "      <th>4</th>\n",
       "      <td>insurance</td>\n",
       "      <td>[-0.38761958, -0.23813048, -0.011089393, 0.336...</td>\n",
       "    </tr>\n",
       "    <tr>\n",
       "      <th>5</th>\n",
       "      <td>phone</td>\n",
       "      <td>[0.088869356, -0.2655629, 0.335964, 0.91946524...</td>\n",
       "    </tr>\n",
       "    <tr>\n",
       "      <th>6</th>\n",
       "      <td>technology</td>\n",
       "      <td>[-0.09345005, -0.18767874, 0.06817056, 0.36209...</td>\n",
       "    </tr>\n",
       "  </tbody>\n",
       "</table>\n",
       "</div>"
      ],
      "text/plain": [
       "        vocab                                             vector\n",
       "0       pasta  [0.16100411, -0.44462204, 0.09203769, 0.131131...\n",
       "1       pizza  [0.5975063, -0.54391915, 0.5388808, 0.19324102...\n",
       "2   spaghetti  [0.34720272, -0.29686236, 0.26158643, 0.001025...\n",
       "3         car  [0.3174404, -0.41663548, 0.5467024, 0.7372491,...\n",
       "4   insurance  [-0.38761958, -0.23813048, -0.011089393, 0.336...\n",
       "5       phone  [0.088869356, -0.2655629, 0.335964, 0.91946524...\n",
       "6  technology  [-0.09345005, -0.18767874, 0.06817056, 0.36209..."
      ]
     },
     "execution_count": 12,
     "metadata": {},
     "output_type": "execute_result"
    }
   ],
   "source": [
    "list_of_words = [\"pasta\", \"pizza\", \"spaghetti\", \"car\", \"insurance\", \"phone\", \"technology\"]\n",
    "\n",
    "dict_ = {}\n",
    "\n",
    "for word in list_of_words:\n",
    "    dict_[word] = [w2v_model.wv[word]]\n",
    "\n",
    "df_vocab = pd.DataFrame(dict_).T.reset_index().rename(columns={0: 'vector', 'index': 'vocab'})\n",
    "df_vocab"
   ]
  },
  {
   "cell_type": "markdown",
   "metadata": {},
   "source": [
    "Q5: using Texthero `pca` and `scatterplot` functions, apply principal component analysis and visualize the vector space. Can you spot anything interesting?"
   ]
  },
  {
   "cell_type": "code",
   "execution_count": 13,
   "metadata": {},
   "outputs": [
    {
     "data": {
      "image/png": "[encoded data removed]",
      "text/plain": [
       "<Figure size 720x576 with 1 Axes>"
      ]
     },
     "metadata": {},
     "output_type": "display_data"
    }
   ],
   "source": [
    "import texthero as hero\n",
    "\n",
    "df_vocab['pca'] = hero.pca(df_vocab['vector'])\n",
    "#hero.scatterplot(df_vocab, 'pca', color='vocab')\n",
    "\n",
    "from matplotlib.pyplot import rcParams\n",
    "rcParams['figure.figsize'] = 10, 8\n",
    "\n",
    "import seaborn as sns; sns.set()\n",
    "import seaborn\n",
    "seaborn.scatterplot(x=df_vocab['pca'].str[0], y=df_vocab['pca'].str[1], hue=df_vocab['vocab']);\n",
    "\n",
    "#hero.scatterplot(df, 'pca', color='stars');"
   ]
  },
  {
   "cell_type": "markdown",
   "metadata": {},
   "source": [
    "## Part 3: Subwords and contextualized word embeddings"
   ]
  },
  {
   "cell_type": "markdown",
   "metadata": {},
   "source": [
    "Word2Vec has been around for about a decade now. Word2Vec has some limitations, for instance it cannot handle words not present in the vocabulary used during training.\n",
    "\n",
    "\n",
    "**Papers**: \n",
    "\n",
    "- [Elmo: deep contextualized word representations](https://arxiv.org/pdf/1802.05365.pdf)\n",
    "- [GloVe: Global Vectors for Word Representation](https://nlp.stanford.edu/pubs/glove.pdf)\n",
    "\n",
    "**Resources and extra lectures**: \n",
    "\n",
    "- [How is GloVe different from word2vec?](https://www.quora.com/How-is-GloVe-different-from-word2vec)\n",
    "[ELMo vs. BERT vs. Word2vec vs. GloVe](https://www.quora.com/What-are-the-main-differences-between-the-word-embeddings-of-ELMo-BERT-Word2vec-and-GloVe)"
   ]
  },
  {
   "cell_type": "markdown",
   "metadata": {},
   "source": [
    "Q1: What are the main differences between Word2Vec and FastText ?\n",
    "\n",
    "**Answer**\n",
    "\n",
    "- Word2vec treat words as the smallest unit to train on\n",
    "- FastText treats each word as **composed of character ngrams**\n",
    "- FastText generates better word embeddings for rare words\n",
    "- FastText work with out–of–vocabulary (oov) words"
   ]
  },
  {
   "cell_type": "markdown",
   "metadata": {},
   "source": [
    "Q2: What's the main difference between Word2vec/Glove and Elmo?\n",
    "\n",
    "**Answer**\n",
    "\n",
    "- Word2Vec (and Glove) word embeddings are context independent\n",
    "- With Elmo, the same word in two different context will have different vectors\n",
    "- Word2vec and Glove do not take into account word order in their training\n",
    "- Once trained, we can discard model with Word2Vec and Glove but we need to keep it with Elmo."
   ]
  },
  {
   "cell_type": "markdown",
   "metadata": {},
   "source": [
    "We will now represent all review using Glove. To do so, we will make use of [Flair](https://github.com/flairNLP/flair/blob/master/resources/docs/TUTORIAL_3_WORD_EMBEDDING.md), a recently published python package that allow to easily represent any text using different embeddings.\n",
    "\n",
    "Q3: Using `WordEmbeddings('glove')` represent the word `analytics`, `business` and `pizza`. Then compute the cosine distance between vectors. Which ones are closer?"
   ]
  },
  {
   "cell_type": "code",
   "execution_count": 14,
   "metadata": {},
   "outputs": [
    {
     "name": "stdout",
     "output_type": "stream",
     "text": [
      "distance analytics-business:  0.6769274473190308\n",
      "distance analytics-pizza:  0.9892289051786065\n"
     ]
    }
   ],
   "source": [
    "from scipy.spatial import distance\n",
    "\n",
    "from flair.embeddings import WordEmbeddings\n",
    "from flair.data import Sentence\n",
    "glove_embedding = WordEmbeddings('glove')\n",
    "\n",
    "analytics = Sentence('analytics')\n",
    "glove_embedding.embed(analytics)\n",
    "analytics_np = analytics[0].embedding.numpy()\n",
    "\n",
    "business = Sentence('business')\n",
    "glove_embedding.embed(business)\n",
    "business_np = business[0].embedding.numpy()\n",
    "\n",
    "pizza = Sentence('pizza')\n",
    "glove_embedding.embed(pizza)\n",
    "pizza_np = pizza[0].embedding.numpy()\n",
    "\n",
    "print(\"distance analytics-business: \", distance.cosine(analytics_np, business_np))\n",
    "print(\"distance analytics-pizza: \", distance.cosine(analytics_np, pizza_np))"
   ]
  },
  {
   "cell_type": "markdown",
   "metadata": {},
   "source": [
    "Until now we represented only single words, but what if we want to represent documents? Here you are asked to represent 10'000 different reviews, and sort them with respect to their cosine distance to the first review.\n",
    "\n",
    "Q4: First, define a function `embed_review` that given a review it returns the respective embed. For this part, you can use [Document Pool Embeddings](https://github.com/flairNLP/flair/blob/master/resources/docs/TUTORIAL_5_DOCUMENT_EMBEDDINGS.md) from Flair: `DocumentPoolEmbeddings([glove_embedding])`.\n",
    "Test your function with the following review: \"Restaurant was fabolous\"."
   ]
  },
  {
   "cell_type": "code",
   "execution_count": 15,
   "metadata": {},
   "outputs": [
    {
     "data": {
      "text/plain": [
       "array([ 8.66933241e-02, -5.56396663e-01,  1.20346665e-01, -1.11973338e-01,\n",
       "        1.04716666e-01,  3.58339958e-02,  4.94163364e-01,  4.51049991e-02,\n",
       "        3.79222989e-01,  4.73299980e-01,  8.33370015e-02,  4.71833386e-02,\n",
       "        3.73263329e-01, -2.21253335e-01,  2.71760017e-01,  3.98333259e-02,\n",
       "        2.60616988e-01, -3.92656654e-01, -6.09496653e-01,  2.15656683e-01,\n",
       "        3.42953324e-01,  1.41179338e-01,  9.83295068e-02, -5.61051071e-01,\n",
       "        1.99090004e-01,  1.69324994e-01, -3.80899996e-01, -2.18599990e-01,\n",
       "       -1.28083333e-01, -2.39233430e-02, -1.43140003e-01,  6.18003309e-01,\n",
       "        2.43299320e-01,  5.81566632e-01,  6.24503382e-02,  2.65113324e-01,\n",
       "       -5.40033318e-02,  1.77274346e-01,  2.21469685e-01, -4.31127310e-01,\n",
       "        4.97676700e-01,  2.52333283e-02,  2.41698742e-01,  1.04423344e-01,\n",
       "        5.22879660e-01,  2.40914330e-01, -2.45366693e-01, -1.21610999e-01,\n",
       "        4.70633358e-01, -4.67902035e-01, -4.40006644e-01, -2.33179986e-01,\n",
       "        1.93666723e-02,  5.97223341e-01, -7.86930025e-01, -1.58939993e+00,\n",
       "       -4.39949661e-01, -1.84886649e-01,  4.01833326e-01,  3.98486704e-01,\n",
       "       -1.67640015e-01,  5.07163346e-01,  8.07933286e-02,  7.87566602e-02,\n",
       "        4.65440005e-01, -4.43812013e-01,  3.90460014e-01,  1.04683340e-01,\n",
       "        9.49833319e-02,  1.43583313e-01, -5.01310349e-01,  2.47083351e-01,\n",
       "       -2.21939925e-02,  2.21629992e-01,  8.97966623e-02,  3.05683643e-01,\n",
       "        2.95543343e-01,  1.73456669e-01, -4.36293334e-01, -2.63754994e-01,\n",
       "        1.26366302e-01,  6.09899946e-02, -2.18100667e-01,  3.79136652e-02,\n",
       "       -4.67563361e-01, -4.22161013e-01, -3.01696688e-01, -3.03850025e-01,\n",
       "       -5.28700054e-02,  5.39978326e-04,  3.06976676e-01, -3.80608678e-01,\n",
       "        1.14586331e-01,  8.03600028e-02, -3.26580644e-01,  7.86633417e-02,\n",
       "        1.99976657e-02, -3.71927023e-01,  4.55203295e-01,  3.51299942e-02],\n",
       "      dtype=float32)"
      ]
     },
     "execution_count": 15,
     "metadata": {},
     "output_type": "execute_result"
    }
   ],
   "source": [
    "from flair.embeddings import DocumentPoolEmbeddings\n",
    "\n",
    "docpoolembed = DocumentPoolEmbeddings([glove_embedding])\n",
    "\n",
    "def embed_review(review):\n",
    "    s = Sentence(review)\n",
    "    docpoolembed.embed(s)\n",
    "    return s.embedding.numpy()\n",
    "\n",
    "embed_review(\"Restaurant was fabolous\")"
   ]
  },
  {
   "cell_type": "markdown",
   "metadata": {},
   "source": [
    "Q5: Apply to the `text` column your previously created method and store the result in a new column `embed`. \n",
    "\n",
    "> ☝️This operation might take a while, we use `tqdm` to show a progress bar."
   ]
  },
  {
   "cell_type": "code",
   "execution_count": 16,
   "metadata": {},
   "outputs": [
    {
     "name": "stderr",
     "output_type": "stream",
     "text": [
      "/Library/Frameworks/Python.framework/Versions/3.7/lib/python3.7/site-packages/tqdm/std.py:668: FutureWarning: The Panel class is removed from pandas. Accessing it from the top-level namespace will also be removed in the next version\n",
      "  from pandas import Panel\n",
      "100%|██████████| 10000/10000 [00:24<00:00, 405.18it/s]\n"
     ]
    },
    {
     "data": {
      "text/plain": [
       "0       [-0.14973384, 0.105061956, 0.35441896, -0.0065...\n",
       "1       [0.0014385143, 0.14520112, 0.2159496, -0.34776...\n",
       "2       [-0.19049452, 0.20583253, 0.2609278, -0.240894...\n",
       "3       [-0.18839265, 0.33528236, 0.24974221, -0.26905...\n",
       "4       [-0.12573816, 0.31910342, 0.14125381, -0.14221...\n",
       "                              ...                        \n",
       "9995    [-0.22443968, 0.33964384, 0.3370281, -0.230378...\n",
       "9996    [-0.21270736, 0.21685344, 0.30420268, -0.26460...\n",
       "9997    [-0.108463414, 0.16915984, 0.37964147, -0.3303...\n",
       "9998    [-0.12619269, 0.06759783, 0.20094448, -0.12893...\n",
       "9999    [-0.03584042, 0.09587897, 0.33155766, -0.27944...\n",
       "Name: embed, Length: 10000, dtype: object"
      ]
     },
     "execution_count": 16,
     "metadata": {},
     "output_type": "execute_result"
    }
   ],
   "source": [
    "from tqdm import tqdm\n",
    "tqdm.pandas()\n",
    "\n",
    "df.reset_index(inplace=True)\n",
    "\n",
    "df['embed'] = df['text_clean'].progress_apply(embed_review)\n",
    "df['embed']"
   ]
  },
  {
   "cell_type": "markdown",
   "metadata": {},
   "source": [
    "Q6: Sort the review by cosine distance w.r.t the first review and visualize on screen the first three reviews. Do they look similar?\n",
    "\n",
    "> ☝️ The function below compute the cosine similarity between a vector and every row of the given numpy matrix. You will need to use `np.array(list(df['embed']))` to transform the Pandas Series into a NumPy matrix."
   ]
  },
  {
   "cell_type": "code",
   "execution_count": 17,
   "metadata": {},
   "outputs": [],
   "source": [
    "import scipy\n",
    "\n",
    "def cosine_similarity(vector, matrix):\n",
    "    \"\"\"\n",
    "    Compute the cosine distances between the vector and each row of the matrix.\n",
    "    \"\"\"\n",
    "    \n",
    "    print(matrix.shape)\n",
    "    \n",
    "    v = vector.reshape(1, -1)\n",
    "    return scipy.spatial.distance.cdist(matrix, v, 'cosine').reshape(-1)"
   ]
  },
  {
   "cell_type": "code",
   "execution_count": 18,
   "metadata": {},
   "outputs": [
    {
     "name": "stdout",
     "output_type": "stream",
     "text": [
      "(10000, 100)\n",
      "Omar is great!  He can diagnose and correct any cell phone issue - professional and patient - ideal for buyers/customers with limited technology knowledge.  Thank you Omar for all your help.  Jana and Lorraine\n",
      "\n",
      "\n",
      "Just wanna quick thanks to the person repair my laptop, its working great and faster than ever before. Also, the information provided to me is the greatest thing and i know  how to keep up the machine up-to-date. Thanks again\n",
      "\n",
      "\n",
      "They person/company they sent out to provide a quote didn't even show up at the scheduled time.  No call or e-mail in advance.  Will never use this company if they can't even get that part right.  Embarrassed for them!\n",
      "\n",
      "\n"
     ]
    }
   ],
   "source": [
    "first_review_vec = df.iloc[0]['embed']\n",
    "df['cosine_similarity'] = cosine_similarity(first_review_vec, np.array(list(df['embed'])))\n",
    "\n",
    "most_similar = df.sort_values('cosine_similarity')[:3]\n",
    "for i, review in most_similar.iterrows():\n",
    "    print(review['text'])\n",
    "    print(\"\\n\")"
   ]
  },
  {
   "cell_type": "markdown",
   "metadata": {},
   "source": [
    "Q7: Look now at the farthest review. What's that about?"
   ]
  },
  {
   "cell_type": "code",
   "execution_count": 19,
   "metadata": {},
   "outputs": [
    {
     "data": {
      "text/plain": [
       "'挺不错的 味道都挺好 食物卖相也不错 唯一遗憾蒸蛋没啦 跑来中国城吃饭 周围也蛮好停车的 点了一个面一个红油抄手 一个小菜 又送了一个木耳 酸酸辣辣的 很多地方的红油抄手都会偏甜 就感觉很不正宗 但是他们家的完全不会 所以觉得很好哦 然后面里的炒黄豆很好吃'"
      ]
     },
     "execution_count": 19,
     "metadata": {},
     "output_type": "execute_result"
    }
   ],
   "source": [
    "df.sort_values('cosine_similarity')['text'].iloc[-1]"
   ]
  }
 ],
 "metadata": {
  "kernelspec": {
   "display_name": "Python 3 (ipykernel)",
   "language": "python",
   "name": "python3"
  },
  "language_info": {
   "codemirror_mode": {
    "name": "ipython",
    "version": 3
   },
   "file_extension": ".py",
   "mimetype": "text/x-python",
   "name": "python",
   "nbconvert_exporter": "python",
   "pygments_lexer": "ipython3",
   "version": "3.8.5"
  }
 },
 "nbformat": 4,
 "nbformat_minor": 4
}
