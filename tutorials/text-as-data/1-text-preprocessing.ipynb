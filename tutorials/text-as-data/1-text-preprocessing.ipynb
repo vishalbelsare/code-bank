{
 "cells": [
  {
   "cell_type": "markdown",
   "metadata": {},
   "source": [
    "# **Tutorial on Text as Data**: Preprocessing and EDA"
   ]
  },
  {
   "cell_type": "markdown",
   "metadata": {},
   "source": [
    "Source:  [https://github.com/d-insight/code-bank.git](https://github.com/d-insight/code-bank.git)  \n",
    "License: [MIT License](https://opensource.org/licenses/MIT). See open source [license](LICENSE) in the Code Bank repository. "
   ]
  },
  {
   "cell_type": "markdown",
   "metadata": {},
   "source": [
    "---"
   ]
  },
  {
   "cell_type": "markdown",
   "metadata": {},
   "source": [
    "## Introduction"
   ]
  },
  {
   "cell_type": "markdown",
   "metadata": {},
   "source": [
    "Text data are ubiquitous and most of us have to deal with it on a daily job. In this workshop, we will learn how to work with text data under different aspects.\n",
    "\n",
    "Natural Language Processing, the interactions between computers and human languages, is widely used in many different fields including speech recognition, natural language understanding, and natural language generation.\n",
    "\n",
    "Imagine you want to consolidate the brand identity of your firm and you want to understand what your clients are saying about your brand and your products. You are given a long list of reviews of both your company as well as other firms, what do you do? In this workshop we will see how we can extract insights from such data as well as understand which reviews are positive and which are negative.\n",
    "\n",
    "This tutorial is composed of four different Jupyter Notebooks. All four make use of the same dataset, [Yelp Dataset](https://www.kaggle.com/yelp-dataset/yelp-dataset). This dataset is a subset of Yelp's businesses, reviews, and user data. It was originally put together for the Yelp Dataset Challenge which is a chance for students to conduct research or analysis on Yelp's data and share their discoveries. In the dataset, you'll find information about businesses across 11 metropolitan areas in four countries."
   ]
  },
  {
   "cell_type": "markdown",
   "metadata": {},
   "source": [
    "## Overview\n",
    "\n",
    "In this notebook you will learn how to:\n",
    "    1. Extract text data from PDF\n",
    "    2. Understand how to analyze both structured and unstructured data such as text data\n",
    "    3. Preprocess and clean text data"
   ]
  },
  {
   "cell_type": "markdown",
   "metadata": {},
   "source": [
    "## Part 1: PDF Data Extraction\n",
    "\n",
    "Document with text data might have different extensions, PDF is one of the most common. Here, we will extract text data from PDF files and store them into a Pandas DataFrame. If you work with other file types such as power point presentation the procedure is about the same.\n",
    "\n",
    "**Learning objective**: being able to extract text data from pdf and store it into Pandas.\n",
    "\n",
    "**Useful resources**:\n",
    " - [glob](https://docs.python.org/3.7/library/glob.html) a python module from the standard library to find all the pathnames that match a specified pattern\n",
    " - [pdfminer.six](https://github.com/pdfminer/pdfminer.six) a third party python library to work with pdf files"
   ]
  },
  {
   "cell_type": "markdown",
   "metadata": {},
   "source": [
    "Q1: Under `data/pdf_review` you can find a list of reviews in pdf format. Employing the `glob` module, save the name of such files into a list called `pdf_review`. Display on-screen the number of pdf files as well as the first three filenames.\n",
    "\n",
    "> ☝️ The glob module is part of the python standard library. It often helps to find and extract filenames and file paths of multiple sources.\n",
    "\n",
    "> ☝️ Try to open a pdf review with your favorite PDF viewer to get a glance of the raw data itself  "
   ]
  },
  {
   "cell_type": "code",
   "execution_count": 1,
   "metadata": {},
   "outputs": [
    {
     "name": "stdout",
     "output_type": "stream",
     "text": [
      "There are 100 pdf files.\n"
     ]
    },
    {
     "data": {
      "text/plain": [
       "['./data/pdf_reviews/review_94.pdf',\n",
       " './data/pdf_reviews/review_80.pdf',\n",
       " './data/pdf_reviews/review_57.pdf']"
      ]
     },
     "execution_count": 1,
     "metadata": {},
     "output_type": "execute_result"
    }
   ],
   "source": [
    "import glob\n",
    "pdf_reviews = glob.glob(\"./data/pdf_reviews/*.pdf\")\n",
    "\n",
    "print(f\"There are {len(pdf_reviews)} pdf files.\")\n",
    "pdf_reviews[:3]"
   ]
  },
  {
   "cell_type": "markdown",
   "metadata": {},
   "source": [
    "Q2: With the aid of [pdfminer.six](https://github.com/pdfminer/pdfminer.six), iterate over all pdf reviews found under `data/pdf_reviews/`, extract the text and store it into a `text_review` list. Look at the first two reviews. What do you notice?"
   ]
  },
  {
   "cell_type": "code",
   "execution_count": 2,
   "metadata": {},
   "outputs": [
    {
     "data": {
      "text/plain": [
       "['Award Nails & Spa\\n\\n350 W Baseline Rd, Ste 103, AZ\\n\\n(33.3798464, -111.838931)\\n\\n• date: 2019-07-01 21:38:40\\n• stars:: 5.0\\n• categories: Beauty & Spas, Nail Salons\\n\\nReview:\\n\\nOkay I took my daughter who is 12 here after calling ﬁrst. She had got her nails done elsewhere\\nand were not done well she was rushed because she was young.\\n\\nFixed my daughters nails! Wow Award Nails did such a great job. My daughter even shortened\\nthem so she can play the guitar. They tapered and ﬁxed the crooked one from the last salon and\\ntook there time and thinned them. We only waited 10min before she sat down. I did have to get\\nsomeone’s attention and told them we called. They were great! Took her right back and she wasn’t\\ntreated diﬀerently because she was young! She picked army green and gold glitter on her ring ﬁnger\\nand they turned out great and the shape was on point!!. I will post the nails they ﬁxed they were a\\nblue bulky thick square and not what I wanted for her.\\n\\n1\\n\\n\\x0c']"
      ]
     },
     "execution_count": 2,
     "metadata": {},
     "output_type": "execute_result"
    }
   ],
   "source": [
    "from pdfminer.high_level import extract_text\n",
    "\n",
    "text_review = [extract_text(r) for r in pdf_reviews]\n",
    "text_review[:1]"
   ]
  },
  {
   "cell_type": "markdown",
   "metadata": {},
   "source": [
    "**Answer** The extracted text data contains some special symbols that will need to be removed and preprocessed. "
   ]
  },
  {
   "cell_type": "markdown",
   "metadata": {},
   "source": [
    "Q3: Save the obtained `text_review` into a `pdf_review_df` Pandas DataFrame and look at the first 5 rows.\n",
    "\n",
    "> ☝️When working with Pandas Dataframe is a good practice to prepend the variable name with `_df`"
   ]
  },
  {
   "cell_type": "code",
   "execution_count": 3,
   "metadata": {},
   "outputs": [
    {
     "data": {
      "text/html": [
       "<div>\n",
       "<style scoped>\n",
       "    .dataframe tbody tr th:only-of-type {\n",
       "        vertical-align: middle;\n",
       "    }\n",
       "\n",
       "    .dataframe tbody tr th {\n",
       "        vertical-align: top;\n",
       "    }\n",
       "\n",
       "    .dataframe thead th {\n",
       "        text-align: right;\n",
       "    }\n",
       "</style>\n",
       "<table border=\"1\" class=\"dataframe\">\n",
       "  <thead>\n",
       "    <tr style=\"text-align: right;\">\n",
       "      <th></th>\n",
       "      <th>text</th>\n",
       "    </tr>\n",
       "  </thead>\n",
       "  <tbody>\n",
       "    <tr>\n",
       "      <th>0</th>\n",
       "      <td>Award Nails &amp; Spa\\n\\n350 W Baseline Rd, Ste 10...</td>\n",
       "    </tr>\n",
       "    <tr>\n",
       "      <th>1</th>\n",
       "      <td>Kahu Hawaiian BBQ\\n\\n7509 W Encanto Blvd, AZ\\n...</td>\n",
       "    </tr>\n",
       "    <tr>\n",
       "      <th>2</th>\n",
       "      <td>Cornish Pasty\\n\\n10 E Charleston Blvd, NV\\n\\n(...</td>\n",
       "    </tr>\n",
       "    <tr>\n",
       "      <th>3</th>\n",
       "      <td>Pai Northern Thai Kitchen\\n\\n18 Duncan Street,...</td>\n",
       "    </tr>\n",
       "    <tr>\n",
       "      <th>4</th>\n",
       "      <td>Mi Taco Taqueria\\n\\n247 Queen Street W, ON\\n\\n...</td>\n",
       "    </tr>\n",
       "  </tbody>\n",
       "</table>\n",
       "</div>"
      ],
      "text/plain": [
       "                                                text\n",
       "0  Award Nails & Spa\\n\\n350 W Baseline Rd, Ste 10...\n",
       "1  Kahu Hawaiian BBQ\\n\\n7509 W Encanto Blvd, AZ\\n...\n",
       "2  Cornish Pasty\\n\\n10 E Charleston Blvd, NV\\n\\n(...\n",
       "3  Pai Northern Thai Kitchen\\n\\n18 Duncan Street,...\n",
       "4  Mi Taco Taqueria\\n\\n247 Queen Street W, ON\\n\\n..."
      ]
     },
     "execution_count": 3,
     "metadata": {},
     "output_type": "execute_result"
    }
   ],
   "source": [
    "import pandas as pd\n",
    "pdf_review_df = pd.DataFrame(text_review, columns=['text'])\n",
    "pdf_review_df.head()"
   ]
  },
  {
   "cell_type": "markdown",
   "metadata": {},
   "source": [
    "## Part 2: Exploratory Data Analysis\n",
    "\n",
    "Before executing any fancy machine learning model, it's useful to have a good understanding of the data we are about to deal with.\n",
    "\n",
    "The previous created DataFrame is composed of only 100 reviews.\n",
    "For this part we will start with a larger dataset composed of 150'000 reviews.\n",
    "\n",
    "**Learning objective**: be able to visualize and analyze both structured (categorical, numerical, etc.) and text data.\n",
    "\n",
    "### Structured data\n",
    "\n",
    "Q1: Load all reviews into a Pandas DataFrame named `df` and display the first five rows.\n",
    "\n",
    "> ☝️ Executing operations on 150k of data might take a while. As a suggestion, you might want to sample about 10k of data, write the code and look at the results and only at the end execute again the code on the whole dataset (Kernel > Restart and Run All). Once the data are loaded, you can use the following snippet of code to sample 10 thousands reviews: `df = df.sample(10000).reset_index(drop=True)`"
   ]
  },
  {
   "cell_type": "code",
   "execution_count": 4,
   "metadata": {},
   "outputs": [],
   "source": [
    "# Settings for high-quality graphs\n",
    "import matplotlib.pyplot as plt\n",
    "\n",
    "import numpy as np\n",
    "# Fix random seed for reproducibility\n",
    "np.random.seed(42)\n",
    "\n",
    "%matplotlib inline\n",
    "%config InlineBackend.figure_format = \"retina\""
   ]
  },
  {
   "cell_type": "code",
   "execution_count": 5,
   "metadata": {},
   "outputs": [
    {
     "data": {
      "text/html": [
       "<div>\n",
       "<style scoped>\n",
       "    .dataframe tbody tr th:only-of-type {\n",
       "        vertical-align: middle;\n",
       "    }\n",
       "\n",
       "    .dataframe tbody tr th {\n",
       "        vertical-align: top;\n",
       "    }\n",
       "\n",
       "    .dataframe thead th {\n",
       "        text-align: right;\n",
       "    }\n",
       "</style>\n",
       "<table border=\"1\" class=\"dataframe\">\n",
       "  <thead>\n",
       "    <tr style=\"text-align: right;\">\n",
       "      <th></th>\n",
       "      <th>stars</th>\n",
       "      <th>text</th>\n",
       "      <th>business_id</th>\n",
       "    </tr>\n",
       "  </thead>\n",
       "  <tbody>\n",
       "    <tr>\n",
       "      <th>0</th>\n",
       "      <td>5.0</td>\n",
       "      <td>Omar is great!  He can diagnose and correct an...</td>\n",
       "      <td>bF2Otgh1KTT6E2VUgXvs7Q</td>\n",
       "    </tr>\n",
       "    <tr>\n",
       "      <th>1</th>\n",
       "      <td>1.0</td>\n",
       "      <td>TERRIBLE!!! I went to this salon due to its cl...</td>\n",
       "      <td>msPD9PRi9jdoO7xYVs8JhA</td>\n",
       "    </tr>\n",
       "    <tr>\n",
       "      <th>2</th>\n",
       "      <td>1.0</td>\n",
       "      <td>Horrible service! Place was not busy at all 1p...</td>\n",
       "      <td>YlwJYpBWa-oL0byTVPNKRQ</td>\n",
       "    </tr>\n",
       "    <tr>\n",
       "      <th>3</th>\n",
       "      <td>3.0</td>\n",
       "      <td>Not too impress...but it was my first time goi...</td>\n",
       "      <td>mX2L5zlPzXbXtmOggTMpuQ</td>\n",
       "    </tr>\n",
       "    <tr>\n",
       "      <th>4</th>\n",
       "      <td>3.0</td>\n",
       "      <td>I have always had acrylics my entire life and ...</td>\n",
       "      <td>QV_o4jS2tyH7JfUXFVWkSA</td>\n",
       "    </tr>\n",
       "  </tbody>\n",
       "</table>\n",
       "</div>"
      ],
      "text/plain": [
       "   stars                                               text  \\\n",
       "0    5.0  Omar is great!  He can diagnose and correct an...   \n",
       "1    1.0  TERRIBLE!!! I went to this salon due to its cl...   \n",
       "2    1.0  Horrible service! Place was not busy at all 1p...   \n",
       "3    3.0  Not too impress...but it was my first time goi...   \n",
       "4    3.0  I have always had acrylics my entire life and ...   \n",
       "\n",
       "              business_id  \n",
       "0  bF2Otgh1KTT6E2VUgXvs7Q  \n",
       "1  msPD9PRi9jdoO7xYVs8JhA  \n",
       "2  YlwJYpBWa-oL0byTVPNKRQ  \n",
       "3  mX2L5zlPzXbXtmOggTMpuQ  \n",
       "4  QV_o4jS2tyH7JfUXFVWkSA  "
      ]
     },
     "execution_count": 5,
     "metadata": {},
     "output_type": "execute_result"
    }
   ],
   "source": [
    "df = pd.read_csv(\"./data/yelp_review.csv\")\n",
    "df = df.sample(10000).reset_index(drop=True)\n",
    "df.head()"
   ]
  },
  {
   "cell_type": "markdown",
   "metadata": {},
   "source": [
    "Q2: Even if we are principally dealing with text data, we are still interested in any structured data as this might help with our task. Information such as the kind of business and the city of the business might be useful for instance. You are given a second dataset (`yelp_business.csv`) containing some extra information regarding the business.\n",
    "\n",
    "Load into a Pandas DataFrame named `df_business` the `yelp_business.csv` dataset and look at the first rows. Then, merge it with the initial `df` DataFrame. Which column you need to use to _merge_ the two datasets?"
   ]
  },
  {
   "cell_type": "code",
   "execution_count": 6,
   "metadata": {},
   "outputs": [
    {
     "data": {
      "text/html": [
       "<div>\n",
       "<style scoped>\n",
       "    .dataframe tbody tr th:only-of-type {\n",
       "        vertical-align: middle;\n",
       "    }\n",
       "\n",
       "    .dataframe tbody tr th {\n",
       "        vertical-align: top;\n",
       "    }\n",
       "\n",
       "    .dataframe thead th {\n",
       "        text-align: right;\n",
       "    }\n",
       "</style>\n",
       "<table border=\"1\" class=\"dataframe\">\n",
       "  <thead>\n",
       "    <tr style=\"text-align: right;\">\n",
       "      <th></th>\n",
       "      <th>business_id</th>\n",
       "      <th>categories</th>\n",
       "      <th>name</th>\n",
       "      <th>address</th>\n",
       "      <th>city</th>\n",
       "      <th>state</th>\n",
       "      <th>latitude</th>\n",
       "      <th>longitude</th>\n",
       "      <th>stars</th>\n",
       "    </tr>\n",
       "  </thead>\n",
       "  <tbody>\n",
       "    <tr>\n",
       "      <th>0</th>\n",
       "      <td>f9NumwFMBDn751xgFiRbNA</td>\n",
       "      <td>Active Life, Gun/Rifle Ranges, Guns &amp; Ammo, Sh...</td>\n",
       "      <td>The Range At Lake Norman</td>\n",
       "      <td>10913 Bailey Rd</td>\n",
       "      <td>Cornelius</td>\n",
       "      <td>NC</td>\n",
       "      <td>35.462724</td>\n",
       "      <td>-80.852612</td>\n",
       "      <td>3.5</td>\n",
       "    </tr>\n",
       "    <tr>\n",
       "      <th>1</th>\n",
       "      <td>Yzvjg0SayhoZgCljUJRF9Q</td>\n",
       "      <td>Health &amp; Medical, Fitness &amp; Instruction, Yoga,...</td>\n",
       "      <td>Carlos Santo, NMD</td>\n",
       "      <td>8880 E Via Linda, Ste 107</td>\n",
       "      <td>Scottsdale</td>\n",
       "      <td>AZ</td>\n",
       "      <td>33.569404</td>\n",
       "      <td>-111.890264</td>\n",
       "      <td>5.0</td>\n",
       "    </tr>\n",
       "    <tr>\n",
       "      <th>2</th>\n",
       "      <td>XNoUzKckATkOD1hP6vghZg</td>\n",
       "      <td>Pets, Pet Services, Pet Groomers</td>\n",
       "      <td>Felinus</td>\n",
       "      <td>3554 Rue Notre-Dame O</td>\n",
       "      <td>Montreal</td>\n",
       "      <td>QC</td>\n",
       "      <td>45.479984</td>\n",
       "      <td>-73.580070</td>\n",
       "      <td>5.0</td>\n",
       "    </tr>\n",
       "    <tr>\n",
       "      <th>3</th>\n",
       "      <td>6OAZjbxqM5ol29BuHsil3w</td>\n",
       "      <td>Hardware Stores, Home Services, Building Suppl...</td>\n",
       "      <td>Nevada House of Hose</td>\n",
       "      <td>1015 Sharp Cir</td>\n",
       "      <td>North Las Vegas</td>\n",
       "      <td>NV</td>\n",
       "      <td>36.219728</td>\n",
       "      <td>-115.127725</td>\n",
       "      <td>2.5</td>\n",
       "    </tr>\n",
       "    <tr>\n",
       "      <th>4</th>\n",
       "      <td>51M2Kk903DFYI6gnB5I6SQ</td>\n",
       "      <td>Home Services, Plumbing, Electricians, Handyma...</td>\n",
       "      <td>USE MY GUY SERVICES LLC</td>\n",
       "      <td>4827 E Downing Cir</td>\n",
       "      <td>Mesa</td>\n",
       "      <td>AZ</td>\n",
       "      <td>33.428065</td>\n",
       "      <td>-111.726649</td>\n",
       "      <td>4.5</td>\n",
       "    </tr>\n",
       "  </tbody>\n",
       "</table>\n",
       "</div>"
      ],
      "text/plain": [
       "              business_id                                         categories  \\\n",
       "0  f9NumwFMBDn751xgFiRbNA  Active Life, Gun/Rifle Ranges, Guns & Ammo, Sh...   \n",
       "1  Yzvjg0SayhoZgCljUJRF9Q  Health & Medical, Fitness & Instruction, Yoga,...   \n",
       "2  XNoUzKckATkOD1hP6vghZg                   Pets, Pet Services, Pet Groomers   \n",
       "3  6OAZjbxqM5ol29BuHsil3w  Hardware Stores, Home Services, Building Suppl...   \n",
       "4  51M2Kk903DFYI6gnB5I6SQ  Home Services, Plumbing, Electricians, Handyma...   \n",
       "\n",
       "                       name                    address             city state  \\\n",
       "0  The Range At Lake Norman            10913 Bailey Rd        Cornelius    NC   \n",
       "1         Carlos Santo, NMD  8880 E Via Linda, Ste 107       Scottsdale    AZ   \n",
       "2                   Felinus      3554 Rue Notre-Dame O         Montreal    QC   \n",
       "3      Nevada House of Hose             1015 Sharp Cir  North Las Vegas    NV   \n",
       "4   USE MY GUY SERVICES LLC         4827 E Downing Cir             Mesa    AZ   \n",
       "\n",
       "    latitude   longitude  stars  \n",
       "0  35.462724  -80.852612    3.5  \n",
       "1  33.569404 -111.890264    5.0  \n",
       "2  45.479984  -73.580070    5.0  \n",
       "3  36.219728 -115.127725    2.5  \n",
       "4  33.428065 -111.726649    4.5  "
      ]
     },
     "execution_count": 6,
     "metadata": {},
     "output_type": "execute_result"
    }
   ],
   "source": [
    "df_business = pd.read_csv(\"./data/yelp_business.csv\")\n",
    "df_business.head()"
   ]
  },
  {
   "cell_type": "code",
   "execution_count": 7,
   "metadata": {},
   "outputs": [
    {
     "data": {
      "text/html": [
       "<div>\n",
       "<style scoped>\n",
       "    .dataframe tbody tr th:only-of-type {\n",
       "        vertical-align: middle;\n",
       "    }\n",
       "\n",
       "    .dataframe tbody tr th {\n",
       "        vertical-align: top;\n",
       "    }\n",
       "\n",
       "    .dataframe thead th {\n",
       "        text-align: right;\n",
       "    }\n",
       "</style>\n",
       "<table border=\"1\" class=\"dataframe\">\n",
       "  <thead>\n",
       "    <tr style=\"text-align: right;\">\n",
       "      <th></th>\n",
       "      <th>stars</th>\n",
       "      <th>text</th>\n",
       "      <th>business_id</th>\n",
       "      <th>categories</th>\n",
       "      <th>name</th>\n",
       "      <th>address</th>\n",
       "      <th>city</th>\n",
       "      <th>state</th>\n",
       "      <th>latitude</th>\n",
       "      <th>longitude</th>\n",
       "      <th>stars_business</th>\n",
       "    </tr>\n",
       "  </thead>\n",
       "  <tbody>\n",
       "    <tr>\n",
       "      <th>0</th>\n",
       "      <td>5.0</td>\n",
       "      <td>Omar is great!  He can diagnose and correct an...</td>\n",
       "      <td>bF2Otgh1KTT6E2VUgXvs7Q</td>\n",
       "      <td>Mobile Phones, Shopping, Telecommunications, M...</td>\n",
       "      <td>T-Mobile</td>\n",
       "      <td>16635 N Tatum Blvd, Ste 110</td>\n",
       "      <td>Phoenix</td>\n",
       "      <td>AZ</td>\n",
       "      <td>33.638197</td>\n",
       "      <td>-111.977294</td>\n",
       "      <td>3.0</td>\n",
       "    </tr>\n",
       "    <tr>\n",
       "      <th>1</th>\n",
       "      <td>1.0</td>\n",
       "      <td>TERRIBLE!!! I went to this salon due to its cl...</td>\n",
       "      <td>msPD9PRi9jdoO7xYVs8JhA</td>\n",
       "      <td>Day Spas, Beauty &amp; Spas, Nail Salons</td>\n",
       "      <td>Pretty Nails</td>\n",
       "      <td>1660 E Camelback Rd</td>\n",
       "      <td>Phoenix</td>\n",
       "      <td>AZ</td>\n",
       "      <td>33.510343</td>\n",
       "      <td>-112.046240</td>\n",
       "      <td>3.0</td>\n",
       "    </tr>\n",
       "  </tbody>\n",
       "</table>\n",
       "</div>"
      ],
      "text/plain": [
       "   stars                                               text  \\\n",
       "0    5.0  Omar is great!  He can diagnose and correct an...   \n",
       "1    1.0  TERRIBLE!!! I went to this salon due to its cl...   \n",
       "\n",
       "              business_id                                         categories  \\\n",
       "0  bF2Otgh1KTT6E2VUgXvs7Q  Mobile Phones, Shopping, Telecommunications, M...   \n",
       "1  msPD9PRi9jdoO7xYVs8JhA               Day Spas, Beauty & Spas, Nail Salons   \n",
       "\n",
       "           name                      address     city state   latitude  \\\n",
       "0      T-Mobile  16635 N Tatum Blvd, Ste 110  Phoenix    AZ  33.638197   \n",
       "1  Pretty Nails          1660 E Camelback Rd  Phoenix    AZ  33.510343   \n",
       "\n",
       "    longitude  stars_business  \n",
       "0 -111.977294             3.0  \n",
       "1 -112.046240             3.0  "
      ]
     },
     "execution_count": 7,
     "metadata": {},
     "output_type": "execute_result"
    }
   ],
   "source": [
    "df = df.merge(df_business, on='business_id', suffixes=('', '_business'))\n",
    "df.head(2)"
   ]
  },
  {
   "cell_type": "markdown",
   "metadata": {},
   "source": [
    "Q3: The `categories` column of the new Dataframe represents the type of business of the review. Identify and count the occurrences for each category and plot it using a bar chart. How many categories are there and what are the most common categories?"
   ]
  },
  {
   "cell_type": "code",
   "execution_count": 8,
   "metadata": {},
   "outputs": [
    {
     "data": {
      "text/plain": [
       "restaurants                  6297\n",
       "food                         2316\n",
       "nightlife                    1878\n",
       "bars                         1705\n",
       "american (new)               1143\n",
       "american (traditional)       1119\n",
       "breakfast & brunch           1042\n",
       "event planning & services     860\n",
       "shopping                      752\n",
       "sandwiches                    724\n",
       "arts & entertainment          639\n",
       "beauty & spas                 631\n",
       "burgers                       626\n",
       "mexican                       622\n",
       "seafood                       582\n",
       "pizza                         573\n",
       "italian                       561\n",
       "coffee & tea                  550\n",
       "hotels & travel               520\n",
       "home services                 463\n",
       "Name: categories, dtype: int64"
      ]
     },
     "execution_count": 8,
     "metadata": {},
     "output_type": "execute_result"
    }
   ],
   "source": [
    "category_counts = (\n",
    "    df['categories']\n",
    "    .str.lower()    # Lowercase all\n",
    "    .str.split(\",\") # \"Restaurants, Brunch\" => [\"Restaurant\", \"Brunch\"]    \n",
    "    .explode()      # Exploded lists to rows of the subset columns\n",
    "    .str.strip()    # Remove trailing spaces\n",
    "    .value_counts()\n",
    ")\n",
    "\n",
    "category_counts[:20]"
   ]
  },
  {
   "cell_type": "code",
   "execution_count": 9,
   "metadata": {},
   "outputs": [
    {
     "name": "stdout",
     "output_type": "stream",
     "text": [
      "There are 912 unique categories.\n"
     ]
    }
   ],
   "source": [
    "print(f\"There are {len(category_counts)} unique categories.\")"
   ]
  },
  {
   "cell_type": "code",
   "execution_count": 10,
   "metadata": {},
   "outputs": [
    {
     "data": {
      "image/png": "[encoded data removed]",
      "text/plain": [
       "<Figure size 576x576 with 1 Axes>"
      ]
     },
     "metadata": {
      "image/png": {
       "height": 481,
       "width": 598
      },
      "needs_background": "light"
     },
     "output_type": "display_data"
    }
   ],
   "source": [
    "title = \"Most common categories\"\n",
    "category_counts[:40].sort_values().plot.barh(figsize=(8,8), title=title);"
   ]
  },
  {
   "cell_type": "markdown",
   "metadata": {},
   "source": [
    "Q4: With a bar plot, display the the review's stars. What are average and median values?\n",
    "\n",
    "> ☝️Keep in mind these results, they'll be useful later."
   ]
  },
  {
   "cell_type": "code",
   "execution_count": 11,
   "metadata": {},
   "outputs": [
    {
     "name": "stdout",
     "output_type": "stream",
     "text": [
      "Average rating: 3.6882\n",
      "Median rating: 4.0\n"
     ]
    },
    {
     "data": {
      "image/png": "[encoded data removed]",
      "text/plain": [
       "<Figure size 432x288 with 1 Axes>"
      ]
     },
     "metadata": {
      "image/png": {
       "height": 270,
       "width": 381
      },
      "needs_background": "light"
     },
     "output_type": "display_data"
    }
   ],
   "source": [
    "title = \"Review's ratings\"\n",
    "\n",
    "df['stars'].value_counts().sort_index().plot.bar(title=title);\n",
    "print(f\"Average rating: {df['stars'].mean()}\")\n",
    "print(f\"Median rating: {df['stars'].median()}\")"
   ]
  },
  {
   "cell_type": "markdown",
   "metadata": {},
   "source": [
    "### Text data\n",
    "\n",
    "Q5: Add a new column `words_len` corresponding to the number of words of the `text` column. You can use the `str.split()` function to split a string. Then, display the histogram of the new column. What is the average number of words per review?"
   ]
  },
  {
   "cell_type": "code",
   "execution_count": 12,
   "metadata": {},
   "outputs": [
    {
     "data": {
      "image/png": "[encoded data removed]",
      "text/plain": [
       "<Figure size 432x288 with 1 Axes>"
      ]
     },
     "metadata": {
      "image/png": {
       "height": 263,
       "width": 388
      },
      "needs_background": "light"
     },
     "output_type": "display_data"
    }
   ],
   "source": [
    "df['words_len'] = df['text'].str.split().str.len()\n",
    "\n",
    "title = \"Number of words for each review\"\n",
    "df['words_len'].plot.hist(title=title, bins=100);"
   ]
  },
  {
   "cell_type": "code",
   "execution_count": 13,
   "metadata": {},
   "outputs": [
    {
     "name": "stdout",
     "output_type": "stream",
     "text": [
      "Average number of tokens is 110.8038\n"
     ]
    }
   ],
   "source": [
    "print(f\"Average number of tokens is {df['words_len'].mean()}\")"
   ]
  },
  {
   "cell_type": "markdown",
   "metadata": {},
   "source": [
    "Q5: Print the most common 20 words. What do you notice?"
   ]
  },
  {
   "cell_type": "code",
   "execution_count": 14,
   "metadata": {},
   "outputs": [
    {
     "data": {
      "text/plain": [
       "the     54299\n",
       "and     38300\n",
       "i       29162\n",
       "a       27322\n",
       "to      27091\n",
       "was     19479\n",
       "of      15385\n",
       "for     12948\n",
       "is      12612\n",
       "in      11921\n",
       "it      11670\n",
       "my      11064\n",
       "they     9019\n",
       "we       8980\n",
       "that     8890\n",
       "with     8825\n",
       "this     8713\n",
       "but      7961\n",
       "you      7552\n",
       "on       7485\n",
       "Name: text, dtype: int64"
      ]
     },
     "execution_count": 14,
     "metadata": {},
     "output_type": "execute_result"
    }
   ],
   "source": [
    "top_words = df['text'].str.lower().str.split().explode().value_counts()\n",
    "\n",
    "NUM_TOP_WORDS = 20\n",
    "top_words[:NUM_TOP_WORDS]"
   ]
  },
  {
   "cell_type": "markdown",
   "metadata": {},
   "source": [
    "**Answer:** most of the common words are stopwords, i.e words without a special meaning."
   ]
  },
  {
   "cell_type": "markdown",
   "metadata": {},
   "source": [
    "## Part 3: Data Cleaning\n",
    "\n",
    "When dealing with text data, data cleaning is an essential step. In general, data cleaning is both domain and task-dependent. In this section, we will see a universal pipeline valid in most scenarios. Data cleaning is also an iterative process.\n",
    "\n",
    "**Learning objective**: learn the main steps for text preprocessing, as well as experiment with regular expressions"
   ]
  },
  {
   "cell_type": "markdown",
   "metadata": {},
   "source": [
    "### Regular expressions\n",
    "\n",
    "**Useful resources**:\n",
    " - https://www.regular-expressions.info - The Premier website about Regular Expressions\n",
    "\n",
    "Q1: Store the the first review of the the `pdf_review_df` DataFrame in a variable `r`, display it and by using regular expressions extract the `date`, the `categories` as well as the rating `stars`.\n",
    "\n",
    "> ☝️You can use this snippet of code to visualize the first review: `pdf_review_df.iloc[0]['text']`"
   ]
  },
  {
   "cell_type": "code",
   "execution_count": 15,
   "metadata": {},
   "outputs": [
    {
     "data": {
      "text/plain": [
       "'Award Nails & Spa\\n\\n350 W Baseline Rd, Ste 103, AZ\\n\\n(33.3798464, -111.838931)\\n\\n• date: 2019-07-01 21:38:40\\n• stars:: 5.0\\n• categories: Beauty & Spas, Nail Salons\\n\\nReview:\\n\\nOkay I took my daughter who is 12 here after calling ﬁrst. She had got her nails done elsewhere\\nand were not done well she was rushed because she was young.\\n\\nFixed my daughters nails! Wow Award Nails did such a great job. My daughter even shortened\\nthem so she can play the guitar. They tapered and ﬁxed the crooked one from the last salon and\\ntook there time and thinned them. We only waited 10min before she sat down. I did have to get\\nsomeone’s attention and told them we called. They were great! Took her right back and she wasn’t\\ntreated diﬀerently because she was young! She picked army green and gold glitter on her ring ﬁnger\\nand they turned out great and the shape was on point!!. I will post the nails they ﬁxed they were a\\nblue bulky thick square and not what I wanted for her.\\n\\n1\\n\\n\\x0c'"
      ]
     },
     "execution_count": 15,
     "metadata": {},
     "output_type": "execute_result"
    }
   ],
   "source": [
    "r = pdf_review_df.iloc[0]['text']\n",
    "r"
   ]
  },
  {
   "cell_type": "code",
   "execution_count": 16,
   "metadata": {},
   "outputs": [
    {
     "name": "stdout",
     "output_type": "stream",
     "text": [
      "date:  ['2019-07-01 21:38:40']\n",
      "categories:  ['Beauty & Spas, Nail Salons']\n",
      "stars:  ['5']\n"
     ]
    }
   ],
   "source": [
    "import re\n",
    "\n",
    "date = re.findall(\"date: ([\\d+\\- :]+)\", r)\n",
    "print(\"date: \", date)\n",
    "\n",
    "categories = re.findall(\"categories: ([\\w &,\\.]+)\", r)\n",
    "print(\"categories: \", categories)\n",
    "\n",
    "stars = re.findall(\"stars:: (\\d+)\", r)\n",
    "print(\"stars: \", stars)"
   ]
  },
  {
   "cell_type": "markdown",
   "metadata": {},
   "source": [
    "> ☝️ Regular expressions are a powerful tool. In most cases, there are many ways of solving the same problem."
   ]
  },
  {
   "cell_type": "markdown",
   "metadata": {},
   "source": [
    "### Tokenization\n",
    "\n",
    "Tokenization refers to the act of splitting a sentence into a list of tokens (words). This is an essential step as it will allows us to later map every word to a number that the computer and the machine learning algorithms (regression, classification, deep learning, whatever, ...) can understand. "
   ]
  },
  {
   "cell_type": "markdown",
   "metadata": {},
   "source": [
    "Q1: Before tokenizing the whole dataset, let's compare different algorithms on the `review_example`. Start by splitting the first review `r` by the empty space (` `) and look at the result. What do you notice? What's the main issue with this approach?"
   ]
  },
  {
   "cell_type": "code",
   "execution_count": 17,
   "metadata": {},
   "outputs": [
    {
     "name": "stdout",
     "output_type": "stream",
     "text": [
      "['Award', 'Nails', '&', 'Spa', '350', 'W', 'Baseline', 'Rd,', 'Ste', '103,', 'AZ', '(33.3798464,', '-111.838931)', '•', 'date:', '2019-07-01', '21:38:40', '•', 'stars::', '5.0', '•', 'categories:', 'Beauty', '&', 'Spas,', 'Nail', 'Salons', 'Review:', 'Okay', 'I', 'took', 'my', 'daughter', 'who', 'is', '12', 'here', 'after', 'calling', 'ﬁrst.', 'She', 'had', 'got', 'her', 'nails', 'done', 'elsewhere', 'and', 'were', 'not', 'done', 'well', 'she', 'was', 'rushed', 'because', 'she', 'was', 'young.', 'Fixed', 'my', 'daughters', 'nails!', 'Wow', 'Award', 'Nails', 'did', 'such', 'a', 'great', 'job.', 'My', 'daughter', 'even', 'shortened', 'them', 'so', 'she', 'can', 'play', 'the', 'guitar.', 'They', 'tapered', 'and', 'ﬁxed', 'the', 'crooked', 'one', 'from', 'the', 'last', 'salon', 'and', 'took', 'there', 'time', 'and', 'thinned', 'them.', 'We', 'only', 'waited', '10min', 'before', 'she', 'sat', 'down.', 'I', 'did', 'have', 'to', 'get', 'someone’s', 'attention', 'and', 'told', 'them', 'we', 'called.', 'They', 'were', 'great!', 'Took', 'her', 'right', 'back', 'and', 'she', 'wasn’t', 'treated', 'diﬀerently', 'because', 'she', 'was', 'young!', 'She', 'picked', 'army', 'green', 'and', 'gold', 'glitter', 'on', 'her', 'ring', 'ﬁnger', 'and', 'they', 'turned', 'out', 'great', 'and', 'the', 'shape', 'was', 'on', 'point!!.', 'I', 'will', 'post', 'the', 'nails', 'they', 'ﬁxed', 'they', 'were', 'a', 'blue', 'bulky', 'thick', 'square', 'and', 'not', 'what', 'I', 'wanted', 'for', 'her.', '1']\n"
     ]
    }
   ],
   "source": [
    "print(r.split())"
   ]
  },
  {
   "cell_type": "markdown",
   "metadata": {},
   "source": [
    "**Answers** Some of the tokens such as `first.` should be splitted further."
   ]
  },
  {
   "cell_type": "markdown",
   "metadata": {},
   "source": [
    "Q2: Execute again the tokenization, this time using [spaCy](https://spacy.io/) (\"Industrial-Strength Natural Language Processing\"), a common python package for NLP tasks. How does it look like compared to the previous solution? What are the advantages and disadvantages of the two approaches?"
   ]
  },
  {
   "cell_type": "code",
   "execution_count": 18,
   "metadata": {},
   "outputs": [
    {
     "name": "stdout",
     "output_type": "stream",
     "text": [
      "['Award', 'Nails', '&', 'Spa', '', '350', 'W', 'Baseline', 'Rd', ',', 'Ste', '103', ',', 'AZ', '', '(', '33.3798464', ',', '-111.838931', ')', '', '•', 'date', ':', '2019', '-', '07', '-', '01', '21:38:40', '', '•', 'stars', ':', ':', '5.0', '', '•', 'categories', ':', 'Beauty', '&', 'Spas', ',', 'Nail', 'Salons', '', 'Review', ':', '', 'Okay', 'I', 'took', 'my', 'daughter', 'who', 'is', '12', 'here', 'after', 'calling', 'ﬁrst', '.', 'She', 'had', 'got', 'her', 'nails', 'done', 'elsewhere', '', 'and', 'were', 'not', 'done', 'well', 'she', 'was', 'rushed', 'because', 'she', 'was', 'young', '.', '', 'Fixed', 'my', 'daughters', 'nails', '!', 'Wow', 'Award', 'Nails', 'did', 'such', 'a', 'great', 'job', '.', 'My', 'daughter', 'even', 'shortened', '', 'them', 'so', 'she', 'can', 'play', 'the', 'guitar', '.', 'They', 'tapered', 'and', 'ﬁxed', 'the', 'crooked', 'one', 'from', 'the', 'last', 'salon', 'and', '', 'took', 'there', 'time', 'and', 'thinned', 'them', '.', 'We', 'only', 'waited', '10min', 'before', 'she', 'sat', 'down', '.', 'I', 'did', 'have', 'to', 'get', '', 'someone', '’s', 'attention', 'and', 'told', 'them', 'we', 'called', '.', 'They', 'were', 'great', '!', 'Took', 'her', 'right', 'back', 'and', 'she', 'was', 'n’t', '', 'treated', 'diﬀerently', 'because', 'she', 'was', 'young', '!', 'She', 'picked', 'army', 'green', 'and', 'gold', 'glitter', 'on', 'her', 'ring', 'ﬁnger', '', 'and', 'they', 'turned', 'out', 'great', 'and', 'the', 'shape', 'was', 'on', 'point', '!', '!', '.', 'I', 'will', 'post', 'the', 'nails', 'they', 'ﬁxed', 'they', 'were', 'a', '', 'blue', 'bulky', 'thick', 'square', 'and', 'not', 'what', 'I', 'wanted', 'for', 'her', '.', '', '1', '']\n"
     ]
    }
   ],
   "source": [
    "import spacy\n",
    "nlp = spacy.load(\"en_core_web_sm\")\n",
    "review_example_spacy = nlp(r)\n",
    "\n",
    "tokens_spacy = []\n",
    "for token in review_example_spacy:\n",
    "    token = token.text.strip() # remove starting and ending space\n",
    "    tokens_spacy.append(token)\n",
    "\n",
    "print(tokens_spacy)"
   ]
  },
  {
   "cell_type": "markdown",
   "metadata": {},
   "source": [
    "**Answers** tokenization with spaCy is slower but it does a better job (in most cases) in separating some tokens (for instance `first.`). Note also that with the second approach the date `2019-07-01` has been splitter further, this might or might not be the best solution, depending on the task one is trying to achieve."
   ]
  },
  {
   "cell_type": "markdown",
   "metadata": {},
   "source": [
    "Q3: Tokenize the whole DataFrame `df` using spaCy by adding a new colum `tokenized` to the dataset. Display the first five rows. This operation might take a while (3-5 minutes), you can monitor the progress using [tqdm](https://pypi.org/project/tqdm/)."
   ]
  },
  {
   "cell_type": "code",
   "execution_count": 19,
   "metadata": {},
   "outputs": [
    {
     "name": "stderr",
     "output_type": "stream",
     "text": [
      "/Library/Frameworks/Python.framework/Versions/3.7/lib/python3.7/site-packages/tqdm/std.py:668: FutureWarning: The Panel class is removed from pandas. Accessing it from the top-level namespace will also be removed in the next version\n",
      "  from pandas import Panel\n",
      "100%|██████████| 10000/10000 [04:10<00:00, 39.95it/s]"
     ]
    },
    {
     "name": "stdout",
     "output_type": "stream",
     "text": [
      "CPU times: user 3min 37s, sys: 15.8 s, total: 3min 53s\n",
      "Wall time: 4min 11s\n"
     ]
    },
    {
     "name": "stderr",
     "output_type": "stream",
     "text": [
      "\n"
     ]
    },
    {
     "data": {
      "text/html": [
       "<div>\n",
       "<style scoped>\n",
       "    .dataframe tbody tr th:only-of-type {\n",
       "        vertical-align: middle;\n",
       "    }\n",
       "\n",
       "    .dataframe tbody tr th {\n",
       "        vertical-align: top;\n",
       "    }\n",
       "\n",
       "    .dataframe thead th {\n",
       "        text-align: right;\n",
       "    }\n",
       "</style>\n",
       "<table border=\"1\" class=\"dataframe\">\n",
       "  <thead>\n",
       "    <tr style=\"text-align: right;\">\n",
       "      <th></th>\n",
       "      <th>stars</th>\n",
       "      <th>text</th>\n",
       "      <th>business_id</th>\n",
       "      <th>categories</th>\n",
       "      <th>name</th>\n",
       "      <th>address</th>\n",
       "      <th>city</th>\n",
       "      <th>state</th>\n",
       "      <th>latitude</th>\n",
       "      <th>longitude</th>\n",
       "      <th>stars_business</th>\n",
       "      <th>words_len</th>\n",
       "      <th>tokenized</th>\n",
       "    </tr>\n",
       "  </thead>\n",
       "  <tbody>\n",
       "    <tr>\n",
       "      <th>0</th>\n",
       "      <td>5.0</td>\n",
       "      <td>Omar is great!  He can diagnose and correct an...</td>\n",
       "      <td>bF2Otgh1KTT6E2VUgXvs7Q</td>\n",
       "      <td>Mobile Phones, Shopping, Telecommunications, M...</td>\n",
       "      <td>T-Mobile</td>\n",
       "      <td>16635 N Tatum Blvd, Ste 110</td>\n",
       "      <td>Phoenix</td>\n",
       "      <td>AZ</td>\n",
       "      <td>33.638197</td>\n",
       "      <td>-111.977294</td>\n",
       "      <td>3.0</td>\n",
       "      <td>34</td>\n",
       "      <td>[Omar, is, great, !, , He, can, diagnose, and,...</td>\n",
       "    </tr>\n",
       "    <tr>\n",
       "      <th>1</th>\n",
       "      <td>1.0</td>\n",
       "      <td>TERRIBLE!!! I went to this salon due to its cl...</td>\n",
       "      <td>msPD9PRi9jdoO7xYVs8JhA</td>\n",
       "      <td>Day Spas, Beauty &amp; Spas, Nail Salons</td>\n",
       "      <td>Pretty Nails</td>\n",
       "      <td>1660 E Camelback Rd</td>\n",
       "      <td>Phoenix</td>\n",
       "      <td>AZ</td>\n",
       "      <td>33.510343</td>\n",
       "      <td>-112.046240</td>\n",
       "      <td>3.0</td>\n",
       "      <td>155</td>\n",
       "      <td>[TERRIBLE, !, !, !, I, went, to, this, salon, ...</td>\n",
       "    </tr>\n",
       "  </tbody>\n",
       "</table>\n",
       "</div>"
      ],
      "text/plain": [
       "   stars                                               text  \\\n",
       "0    5.0  Omar is great!  He can diagnose and correct an...   \n",
       "1    1.0  TERRIBLE!!! I went to this salon due to its cl...   \n",
       "\n",
       "              business_id                                         categories  \\\n",
       "0  bF2Otgh1KTT6E2VUgXvs7Q  Mobile Phones, Shopping, Telecommunications, M...   \n",
       "1  msPD9PRi9jdoO7xYVs8JhA               Day Spas, Beauty & Spas, Nail Salons   \n",
       "\n",
       "           name                      address     city state   latitude  \\\n",
       "0      T-Mobile  16635 N Tatum Blvd, Ste 110  Phoenix    AZ  33.638197   \n",
       "1  Pretty Nails          1660 E Camelback Rd  Phoenix    AZ  33.510343   \n",
       "\n",
       "    longitude  stars_business  words_len  \\\n",
       "0 -111.977294             3.0         34   \n",
       "1 -112.046240             3.0        155   \n",
       "\n",
       "                                           tokenized  \n",
       "0  [Omar, is, great, !, , He, can, diagnose, and,...  \n",
       "1  [TERRIBLE, !, !, !, I, went, to, this, salon, ...  "
      ]
     },
     "execution_count": 19,
     "metadata": {},
     "output_type": "execute_result"
    }
   ],
   "source": [
    "%%time\n",
    "from tqdm import tqdm\n",
    "tqdm.pandas()\n",
    "\n",
    "import spacy\n",
    "nlp = spacy.load(\"en_core_web_sm\")\n",
    "\n",
    "def tokenize(text):\n",
    "    \n",
    "    # for a faster operation, we can limit the number of character to 500\n",
    "    # doing that we might split a word that is sub-optimal.\n",
    "    #text = text[:500]\n",
    "    \n",
    "    nlp_text = nlp(text)\n",
    "    tokens_spacy = []\n",
    "    for token in nlp_text:\n",
    "        token = token.text.strip() # remove starting and ending space\n",
    "        tokens_spacy.append(token)\n",
    "    return tokens_spacy\n",
    "    \n",
    "df['tokenized'] = df['text'].progress_apply(tokenize)\n",
    "df.head(2)"
   ]
  },
  {
   "cell_type": "markdown",
   "metadata": {},
   "source": [
    "### Removal of stopwords\n",
    "\n",
    "As seen previously, some of the most common words in the dataset does not brings any valuable meaning to the reviews. This words are known as _stopwords_.\n",
    "\n",
    "There are two main approaches to remove stopwords:\n",
    " 1. Remove all top words. In this case it's important to carefully choose the threshold.\n",
    " 2. Remove all words that appears in a pre-defined stopwords list.\n",
    " \n",
    "#### Remove all _top_words_\n",
    "\n",
    "Q1: First, create a list of stopwords you want to get rid of. Look at the `top_words` and create a python `set` of _top_words_. Be careful in selecting the right threshold."
   ]
  },
  {
   "cell_type": "code",
   "execution_count": 20,
   "metadata": {},
   "outputs": [
    {
     "data": {
      "text/plain": [
       "the     54299\n",
       "and     38300\n",
       "i       29162\n",
       "a       27322\n",
       "to      27091\n",
       "was     19479\n",
       "of      15385\n",
       "for     12948\n",
       "is      12612\n",
       "in      11921\n",
       "it      11670\n",
       "my      11064\n",
       "they     9019\n",
       "we       8980\n",
       "that     8890\n",
       "with     8825\n",
       "this     8713\n",
       "but      7961\n",
       "you      7552\n",
       "on       7485\n",
       "have     6925\n",
       "not      6479\n",
       "had      6164\n",
       "so       5816\n",
       "were     5619\n",
       "at       5478\n",
       "are      5295\n",
       "be       4696\n",
       "as       4657\n",
       "very     4201\n",
       "Name: text, dtype: int64"
      ]
     },
     "execution_count": 20,
     "metadata": {},
     "output_type": "execute_result"
    }
   ],
   "source": [
    "top_words[:30]"
   ]
  },
  {
   "cell_type": "code",
   "execution_count": 21,
   "metadata": {},
   "outputs": [],
   "source": [
    "STOPWORDS_THRESHOLD = 28\n",
    "stopwords = top_words[:STOPWORDS_THRESHOLD]"
   ]
  },
  {
   "cell_type": "markdown",
   "metadata": {},
   "source": [
    "Q2: Define a function `remove_stopwords(tokenized_text, list_stopwords)` that given a tokenized text, removes all `list_stopwords`. Apply this function to the `tokenized` Series and store the results into another column, `without_stopwords`, of the DataFrame.\n",
    "\n",
    "> ☝️In some cases, the tokens in the stopwords list are lowercased. Make sure to take this fact into consideration when developing your own solution."
   ]
  },
  {
   "cell_type": "code",
   "execution_count": 22,
   "metadata": {},
   "outputs": [
    {
     "data": {
      "text/plain": [
       "['Beautiful', '!']"
      ]
     },
     "execution_count": 22,
     "metadata": {},
     "output_type": "execute_result"
    }
   ],
   "source": [
    "def remove_stopwords(tokenized_text, list_stopwords):\n",
    "    return [t for t in tokenized_text if t.lower() not in list_stopwords]\n",
    "\n",
    "remove_stopwords(tokenized_text=[\"is\", \"Beautiful\", \"!\"], list_stopwords=[\"is\"])"
   ]
  },
  {
   "cell_type": "markdown",
   "metadata": {},
   "source": [
    "#### Use a pre-defined stopwords list\n",
    "\n",
    "A more common approach is to remove all stopwords already pre-defined in a stopwords list. In most cases, this is a more stable solution as this permits to remove all stopwords without the risk of removing important but common words.\n",
    "\n",
    "> ☝️ Historically, one of the most common stopwords list is the one provided by [NLTK](). A more modern and valid alternative is to use the list of stopwords provided by spaCy"
   ]
  },
  {
   "cell_type": "markdown",
   "metadata": {},
   "source": [
    "Q3: Load the spaCy stopwords list and `apply` again the function on the new set as you did before."
   ]
  },
  {
   "cell_type": "code",
   "execution_count": 23,
   "metadata": {},
   "outputs": [],
   "source": [
    "from spacy.lang.en import stop_words as spacy_en_stopword\n",
    "spacy_stopwords = spacy_en_stopword.STOP_WORDS"
   ]
  },
  {
   "cell_type": "code",
   "execution_count": 24,
   "metadata": {},
   "outputs": [
    {
     "data": {
      "text/plain": [
       "0       [Omar, great, !, , diagnose, correct, cell, ph...\n",
       "1       [TERRIBLE, !, !, !, went, salon, close, proxim...\n",
       "2       [Horrible, service, !, Place, busy, 1, pm, ., ...\n",
       "3       [impress, ..., time, going, got, deal, day, .....\n",
       "4       [acrylics, entire, life, time, place, cracked,...\n",
       "                              ...                        \n",
       "9995    [thing, notice, arrived, place, looks, bit, ol...\n",
       "9996    [intimate, place, ,, clean, ., Sun, Prairie, e...\n",
       "9997    [takes, lot, leave, good, bad, review, ., Main...\n",
       "9998    [avid, Panera, lover, ., location, opened, ecs...\n",
       "9999    [drive, 2015, Audi, A3, ,, shop, recommended, ...\n",
       "Name: without_stopwords, Length: 10000, dtype: object"
      ]
     },
     "execution_count": 24,
     "metadata": {},
     "output_type": "execute_result"
    }
   ],
   "source": [
    "df['without_stopwords'] = df['tokenized'].apply(lambda row: remove_stopwords(row, spacy_stopwords))\n",
    "df['without_stopwords']"
   ]
  },
  {
   "cell_type": "markdown",
   "metadata": {},
   "source": [
    "Q4: Join back the splitted tokens to generate a single string for each cell of the Pandas Series. Look at the head of the DataFrame and finnaly store it as a csv file: `review_clean.csv`."
   ]
  },
  {
   "cell_type": "code",
   "execution_count": 25,
   "metadata": {},
   "outputs": [
    {
     "data": {
      "text/html": [
       "<div>\n",
       "<style scoped>\n",
       "    .dataframe tbody tr th:only-of-type {\n",
       "        vertical-align: middle;\n",
       "    }\n",
       "\n",
       "    .dataframe tbody tr th {\n",
       "        vertical-align: top;\n",
       "    }\n",
       "\n",
       "    .dataframe thead th {\n",
       "        text-align: right;\n",
       "    }\n",
       "</style>\n",
       "<table border=\"1\" class=\"dataframe\">\n",
       "  <thead>\n",
       "    <tr style=\"text-align: right;\">\n",
       "      <th></th>\n",
       "      <th>stars</th>\n",
       "      <th>text</th>\n",
       "      <th>business_id</th>\n",
       "      <th>categories</th>\n",
       "      <th>name</th>\n",
       "      <th>address</th>\n",
       "      <th>city</th>\n",
       "      <th>state</th>\n",
       "      <th>latitude</th>\n",
       "      <th>longitude</th>\n",
       "      <th>stars_business</th>\n",
       "      <th>words_len</th>\n",
       "      <th>tokenized</th>\n",
       "      <th>without_stopwords</th>\n",
       "      <th>text_clean</th>\n",
       "    </tr>\n",
       "  </thead>\n",
       "  <tbody>\n",
       "    <tr>\n",
       "      <th>0</th>\n",
       "      <td>5.0</td>\n",
       "      <td>Omar is great!  He can diagnose and correct an...</td>\n",
       "      <td>bF2Otgh1KTT6E2VUgXvs7Q</td>\n",
       "      <td>Mobile Phones, Shopping, Telecommunications, M...</td>\n",
       "      <td>T-Mobile</td>\n",
       "      <td>16635 N Tatum Blvd, Ste 110</td>\n",
       "      <td>Phoenix</td>\n",
       "      <td>AZ</td>\n",
       "      <td>33.638197</td>\n",
       "      <td>-111.977294</td>\n",
       "      <td>3.0</td>\n",
       "      <td>34</td>\n",
       "      <td>[Omar, is, great, !, , He, can, diagnose, and,...</td>\n",
       "      <td>[Omar, great, !, , diagnose, correct, cell, ph...</td>\n",
       "      <td>Omar great !  diagnose correct cell phone issu...</td>\n",
       "    </tr>\n",
       "    <tr>\n",
       "      <th>1</th>\n",
       "      <td>1.0</td>\n",
       "      <td>TERRIBLE!!! I went to this salon due to its cl...</td>\n",
       "      <td>msPD9PRi9jdoO7xYVs8JhA</td>\n",
       "      <td>Day Spas, Beauty &amp; Spas, Nail Salons</td>\n",
       "      <td>Pretty Nails</td>\n",
       "      <td>1660 E Camelback Rd</td>\n",
       "      <td>Phoenix</td>\n",
       "      <td>AZ</td>\n",
       "      <td>33.510343</td>\n",
       "      <td>-112.046240</td>\n",
       "      <td>3.0</td>\n",
       "      <td>155</td>\n",
       "      <td>[TERRIBLE, !, !, !, I, went, to, this, salon, ...</td>\n",
       "      <td>[TERRIBLE, !, !, !, went, salon, close, proxim...</td>\n",
       "      <td>TERRIBLE ! ! ! went salon close proximity waxi...</td>\n",
       "    </tr>\n",
       "    <tr>\n",
       "      <th>2</th>\n",
       "      <td>1.0</td>\n",
       "      <td>Horrible service! Place was not busy at all 1p...</td>\n",
       "      <td>YlwJYpBWa-oL0byTVPNKRQ</td>\n",
       "      <td>Food Court, Beer Gardens, Music Venues, Bars, ...</td>\n",
       "      <td>The Park</td>\n",
       "      <td>3 S 2nd St, Ste 114</td>\n",
       "      <td>Phoenix</td>\n",
       "      <td>AZ</td>\n",
       "      <td>33.447238</td>\n",
       "      <td>-112.071084</td>\n",
       "      <td>2.5</td>\n",
       "      <td>50</td>\n",
       "      <td>[Horrible, service, !, Place, was, not, busy, ...</td>\n",
       "      <td>[Horrible, service, !, Place, busy, 1, pm, ., ...</td>\n",
       "      <td>Horrible service ! Place busy 1 pm . Bartender...</td>\n",
       "    </tr>\n",
       "  </tbody>\n",
       "</table>\n",
       "</div>"
      ],
      "text/plain": [
       "   stars                                               text  \\\n",
       "0    5.0  Omar is great!  He can diagnose and correct an...   \n",
       "1    1.0  TERRIBLE!!! I went to this salon due to its cl...   \n",
       "2    1.0  Horrible service! Place was not busy at all 1p...   \n",
       "\n",
       "              business_id                                         categories  \\\n",
       "0  bF2Otgh1KTT6E2VUgXvs7Q  Mobile Phones, Shopping, Telecommunications, M...   \n",
       "1  msPD9PRi9jdoO7xYVs8JhA               Day Spas, Beauty & Spas, Nail Salons   \n",
       "2  YlwJYpBWa-oL0byTVPNKRQ  Food Court, Beer Gardens, Music Venues, Bars, ...   \n",
       "\n",
       "           name                      address     city state   latitude  \\\n",
       "0      T-Mobile  16635 N Tatum Blvd, Ste 110  Phoenix    AZ  33.638197   \n",
       "1  Pretty Nails          1660 E Camelback Rd  Phoenix    AZ  33.510343   \n",
       "2      The Park          3 S 2nd St, Ste 114  Phoenix    AZ  33.447238   \n",
       "\n",
       "    longitude  stars_business  words_len  \\\n",
       "0 -111.977294             3.0         34   \n",
       "1 -112.046240             3.0        155   \n",
       "2 -112.071084             2.5         50   \n",
       "\n",
       "                                           tokenized  \\\n",
       "0  [Omar, is, great, !, , He, can, diagnose, and,...   \n",
       "1  [TERRIBLE, !, !, !, I, went, to, this, salon, ...   \n",
       "2  [Horrible, service, !, Place, was, not, busy, ...   \n",
       "\n",
       "                                   without_stopwords  \\\n",
       "0  [Omar, great, !, , diagnose, correct, cell, ph...   \n",
       "1  [TERRIBLE, !, !, !, went, salon, close, proxim...   \n",
       "2  [Horrible, service, !, Place, busy, 1, pm, ., ...   \n",
       "\n",
       "                                          text_clean  \n",
       "0  Omar great !  diagnose correct cell phone issu...  \n",
       "1  TERRIBLE ! ! ! went salon close proximity waxi...  \n",
       "2  Horrible service ! Place busy 1 pm . Bartender...  "
      ]
     },
     "execution_count": 25,
     "metadata": {},
     "output_type": "execute_result"
    }
   ],
   "source": [
    "df['text_clean'] = df['without_stopwords'].str.join(sep=\" \")\n",
    "df[[\"text_clean\", \"text\", \"stars\", \"categories\", \"name\", \"address\"]].to_csv(\"./data/review_clean.csv\", index=False)\n",
    "df.head(3)"
   ]
  },
  {
   "cell_type": "markdown",
   "metadata": {},
   "source": [
    "🎉 Congratulation: you just finished the first part!\n",
    "\n",
    "You learned how to extract text data from PDF, how to load and visualize text data with Pandas as well as how a text-preprocessing pipeline generally look like. In the next sections, we will use the `review_clean.csv` dataset and try to extract some insights out of it!"
   ]
  }
 ],
 "metadata": {
  "kernelspec": {
   "display_name": "Python 3 (ipykernel)",
   "language": "python",
   "name": "python3"
  },
  "language_info": {
   "codemirror_mode": {
    "name": "ipython",
    "version": 3
   },
   "file_extension": ".py",
   "mimetype": "text/x-python",
   "name": "python",
   "nbconvert_exporter": "python",
   "pygments_lexer": "ipython3",
   "version": "3.8.5"
  }
 },
 "nbformat": 4,
 "nbformat_minor": 4
}
