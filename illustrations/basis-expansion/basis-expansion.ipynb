{
 "cells": [
  {
   "cell_type": "markdown",
   "metadata": {},
   "source": [
    "# **Basis Expansion**"
   ]
  },
  {
   "cell_type": "markdown",
   "metadata": {},
   "source": [
    "Source:  [https://github.com/d-insight/code-bank.git](https://github.com/d-insight/code-bank.git)  \n",
    "License: [MIT License](https://opensource.org/licenses/MIT). See open source [license](LICENSE) in the Code Bank repository. "
   ]
  },
  {
   "cell_type": "markdown",
   "metadata": {},
   "source": [
    "-------------"
   ]
  },
  {
   "cell_type": "markdown",
   "metadata": {},
   "source": [
    "## Overview"
   ]
  },
  {
   "cell_type": "markdown",
   "metadata": {},
   "source": [
    "Basis expansions can transform (warp) a feature space so that a linear combination of factors may then predict an outcome with less error. Polynomial regression, for example, adds higher powers of terms in order to expand the space. Other, non-linear transofrmation may also be applied. In this illustration, we show the utility of using basis expansions for simplifying (or linearizing) a prediction problem. "
   ]
  },
  {
   "cell_type": "markdown",
   "metadata": {},
   "source": [
    "-------------"
   ]
  },
  {
   "cell_type": "markdown",
   "metadata": {},
   "source": [
    "## **Part 0**: Setup"
   ]
  },
  {
   "cell_type": "code",
   "execution_count": null,
   "metadata": {},
   "outputs": [],
   "source": [
    "# Import all packages \n",
    "\n",
    "import numpy as np\n",
    "import matplotlib.pyplot as plt\n",
    "from matplotlib import cm\n",
    "import matplotlib\n",
    "from mpl_toolkits.mplot3d import axes3d\n",
    "\n",
    "# Special code to ignore un-important warnings \n",
    "import warnings\n",
    "warnings.filterwarnings('ignore')\n"
   ]
  },
  {
   "cell_type": "code",
   "execution_count": null,
   "metadata": {},
   "outputs": [],
   "source": [
    "# define all constant\n",
    "STD            = 0.30\n",
    "N              = 100\n",
    "FIGSIZE        = (10, 10)\n",
    "FONTSIZE       = 16\n",
    "PLOT_X1_LABEL  = '\\nNo A                              Yes A'\n",
    "PLOT_X2_LABEL  = '\\nNo B                              Yes B'\n",
    "LOCATION       = 1\n",
    "PLOT_MIN       = -2.0\n",
    "PLOT_MAX       = 2.0\n",
    "PLOT_ALPHA     = 0.3\n",
    "PLOT_CMAP      = cm.winter\n",
    "PLOT_LINES     = 0\n",
    "PLOT_HIDE_GRID = False\n"
   ]
  },
  {
   "cell_type": "markdown",
   "metadata": {},
   "source": [
    "## **Part 1**: Basis function expansion and SVM to solve XOR problem\n",
    "\n",
    "This demo shows how a Support Vector Machine (SVM) can use a non-linear basis function expansion to warp the feature space in order to get it into a better shape for cutting it with a hyper-plane.\n",
    "\n",
    "This demo does NOT show how a SVM actually uses it's optimiazation procedure to find the maximal cutting hyperplane (because the data is already evenly and symmetrically separated around the orgin, we can simply put the plane at the origin.\n",
    "\n",
    "Note: 3D-rendering only works in Python scripts."
   ]
  },
  {
   "cell_type": "code",
   "execution_count": null,
   "metadata": {},
   "outputs": [],
   "source": [
    "# Generate data -------------------------------------------------------------------------------\n",
    "x1_Yes_A = np.random.normal(loc=      LOCATION, scale=STD, size=N)\n",
    "x2_Yes_A = np.random.normal(loc= -1 * LOCATION, scale=STD, size=N)\n",
    "x1_Yes_B = np.random.normal(loc= -1 * LOCATION, scale=STD, size=N)\n",
    "x2_Yes_B = np.random.normal(loc=      LOCATION, scale=STD, size=N)\n",
    "x1_No_A  = np.random.normal(loc= -1 * LOCATION, scale=STD, size=N)\n",
    "x2_No_A  = np.random.normal(loc= -1 * LOCATION, scale=STD, size=N)\n",
    "x1_No_B  = np.random.normal(loc= -1 * LOCATION, scale=STD, size=N)\n",
    "x2_No_B  = np.random.normal(loc= -1 * LOCATION, scale=STD, size=N)\n",
    "\n",
    "\n",
    "# Plot the data in 2-D  ------------------------------------------------------------------------\n",
    "fig = plt.figure(1, figsize=FIGSIZE)\n",
    "ax = fig.add_subplot(111)\n",
    "\n",
    "ax.set_title('Fuzzy XOR Data in 2 Dimensions\\n', fontsize = FONTSIZE)\n",
    "ax.tick_params(axis='both', which='major', labelsize=FONTSIZE)\n",
    "ax.set_xlabel(PLOT_X1_LABEL, fontsize = FONTSIZE)\n",
    "ax.set_ylabel(PLOT_X2_LABEL, fontsize = FONTSIZE)\n",
    "plt.hlines(0, xmin = min(x1_No_A), xmax = max(x1_Yes_A), colors='black', linewidth=1)\n",
    "plt.vlines(0, ymin = min(x2_No_B), ymax = max(x2_Yes_B), colors='black', linewidth=1)\n",
    "plt.plot(x1_No_A,  x2_No_A,  c='red',   marker='x', linestyle='None', markersize=10)\n",
    "plt.plot(x1_Yes_A, x2_Yes_B, c='red',   marker='x', linestyle='None', markersize=10)\n",
    "plt.plot(x1_Yes_A, x2_Yes_A, c='green', marker='o', linestyle='None', markersize=10)\n",
    "plt.plot(x1_Yes_B, x2_Yes_B, c='green', marker='o', linestyle='None', markersize=10)\n",
    "plt.show()\n"
   ]
  },
  {
   "cell_type": "code",
   "execution_count": null,
   "metadata": {},
   "outputs": [],
   "source": [
    "# Plot a hyperbolic surface to show a workable transformation  ---------------------------------\n",
    "\n",
    "x                   = np.arange(PLOT_MIN, PLOT_MAX, 0.05)\n",
    "y                   = np.arange(PLOT_MIN, PLOT_MAX, 0.05)\n",
    "x, y                = np.meshgrid(x, y)\n",
    "surface_hyperbolic  = -(x * y)\n",
    "fig = plt.figure(2, figsize=FIGSIZE)\n",
    "ax = fig.add_subplot(111, projection='3d')\n",
    "ax.tick_params(axis='both', which='major', labelsize=FONTSIZE)\n",
    "ax.set_title('Hyperbolic Transformation\\n', fontsize=FONTSIZE)\n",
    "ax.plot_surface(x, y, surface_hyperbolic, cmap=PLOT_CMAP, alpha=PLOT_ALPHA, linewidth=PLOT_LINES, antialiased=PLOT_HIDE_GRID)\n",
    "ax.contour(x, y, surface_hyperbolic, cmap=PLOT_CMAP, )\n",
    "plt.show()\n"
   ]
  },
  {
   "cell_type": "code",
   "execution_count": null,
   "metadata": {},
   "outputs": [],
   "source": [
    "# Plot other surfaces (that do NOT work but are interesting) ------------------------------------\n",
    "\n",
    "# /////// Quadratic surface\n",
    "surface_quadratic = x ** 2 * y ** 2\n",
    "fig = plt.figure(3, figsize=FIGSIZE)\n",
    "ax = fig.add_subplot(111, projection='3d')\n",
    "ax.tick_params(axis='both', which='major', labelsize=FONTSIZE)\n",
    "ax.set_title('Quadratic Transformation\\n', fontsize=FONTSIZE)\n",
    "ax.plot_surface(x, y, surface_quadratic, cmap=PLOT_CMAP, alpha=PLOT_ALPHA, linewidth=PLOT_LINES, antialiased=PLOT_HIDE_GRID)\n",
    "ax.contour(x, y, surface_quadratic, cmap=PLOT_CMAP)\n",
    "ax.axis([PLOT_MIN, PLOT_MAX, PLOT_MIN, PLOT_MAX])\n",
    "ax.set_zlim([0.0, 4.0 * LOCATION])\n",
    "plt.show()\n"
   ]
  },
  {
   "cell_type": "code",
   "execution_count": null,
   "metadata": {},
   "outputs": [],
   "source": [
    "# /////// Mexican-hat surface\n",
    "surface_mexican = np.cos((x ** 2 + y ** 2) ** .5) ** 2\n",
    "fig = plt.figure(4, figsize=FIGSIZE)\n",
    "ax = fig.add_subplot(111, projection='3d')\n",
    "ax.tick_params(axis='both', which='major', labelsize=FONTSIZE)\n",
    "ax.set_title('Mexican-Hat Transformation\\n', fontsize=FONTSIZE)\n",
    "ax.plot_surface(x, y, surface_mexican, cmap=PLOT_CMAP, alpha=PLOT_ALPHA, linewidth=PLOT_LINES, antialiased=PLOT_HIDE_GRID)\n",
    "ax.contour(x, y, surface_mexican, cmap=PLOT_CMAP)\n",
    "ax.axis([PLOT_MIN, PLOT_MAX, PLOT_MIN, PLOT_MAX])\n",
    "ax.set_zlim([0.0, 1.0 * LOCATION])\n",
    "plt.show()\n"
   ]
  },
  {
   "cell_type": "code",
   "execution_count": null,
   "metadata": {},
   "outputs": [],
   "source": [
    "# /////// Egg-carton surface\n",
    "surface_eggs = np.cos(2 * x) * np.sin(3 * y)\n",
    "fig = plt.figure(5, figsize=FIGSIZE)\n",
    "ax = fig.add_subplot(111, projection='3d')\n",
    "ax.tick_params(axis='both', which='major', labelsize=FONTSIZE)\n",
    "ax.set_title('Peak Transformation\\n', fontsize=FONTSIZE)\n",
    "ax.plot_surface(x, y, surface_eggs, cmap=PLOT_CMAP, alpha=PLOT_ALPHA, linewidth=PLOT_LINES, antialiased=PLOT_HIDE_GRID)\n",
    "ax.contour(x, y, surface_eggs, cmap=PLOT_CMAP)\n",
    "ax.axis([PLOT_MIN, PLOT_MAX, PLOT_MIN, PLOT_MAX])\n",
    "ax.set_zlim([-LOCATION, LOCATION])\n",
    "plt.show()\n"
   ]
  },
  {
   "cell_type": "code",
   "execution_count": null,
   "metadata": {},
   "outputs": [],
   "source": [
    "# Project data onto hyperbolic surface  -------------------------------------------------------\n",
    "y_success_by_a        =  -(x1_Yes_A * x2_No_B)\n",
    "y_success_by_b        =  -(x1_No_A * x2_Yes_B)\n",
    "y_failure_by_inaction =  -(x1_No_A * x2_No_A)\n",
    "y_failure_by_conflict =  -(x1_Yes_A * x2_Yes_B)\n",
    "\n",
    "\n",
    "# Plot projected data in 3-D  -----------------------------------------------------------------\n",
    "fig = plt.figure(6, figsize=FIGSIZE)\n",
    "ax = fig.add_subplot(111, projection='3d')\n",
    "ax.tick_params(axis='both', which='major', labelsize=FONTSIZE)\n",
    "ax.set_xlabel(PLOT_X1_LABEL, fontsize = FONTSIZE)\n",
    "ax.set_ylabel(PLOT_X2_LABEL, fontsize = FONTSIZE)\n",
    "ax.axis([PLOT_MIN, PLOT_MAX, PLOT_MIN, PLOT_MAX])\n",
    "ax.set_zlim([PLOT_MIN, PLOT_MAX])\n",
    "ax.plot_surface(x, y, surface_hyperbolic, cmap=PLOT_CMAP, alpha=PLOT_ALPHA, linewidth=PLOT_LINES, antialiased=PLOT_HIDE_GRID)\n",
    "ax.contour(x, y, surface_hyperbolic, cmap=PLOT_CMAP, )\n",
    "ax.scatter(x1_No_A, x2_No_B, y_failure_by_inaction, c='red', marker='x', linestyle='None')\n",
    "ax.scatter(x1_Yes_A, x2_Yes_B, y_failure_by_conflict, c='red', marker='x', linestyle='None')\n",
    "ax.scatter(x1_Yes_A, x2_No_B, y_success_by_a, c='green', marker='o', linestyle='None')\n",
    "ax.scatter(x1_No_A, x2_Yes_B, y_success_by_b, c='green', marker='o', linestyle='None')\n",
    "plt.show()\n"
   ]
  },
  {
   "cell_type": "code",
   "execution_count": null,
   "metadata": {},
   "outputs": [],
   "source": [
    "# Plot 3-D solution (data + a splitting plane) ------------------------------------------------\n",
    "cutting_plane = 0.0 * x\n",
    "fig = plt.figure(7, figsize=FIGSIZE)\n",
    "ax = fig.add_subplot(111, projection='3d')\n",
    "ax.tick_params(axis='both', which='major', labelsize=FONTSIZE)\n",
    "ax.set_xlabel(PLOT_X1_LABEL, fontsize = FONTSIZE)\n",
    "ax.set_ylabel(PLOT_X2_LABEL, fontsize = FONTSIZE)\n",
    "ax.axis([PLOT_MIN, PLOT_MAX, PLOT_MIN, PLOT_MAX])\n",
    "ax.set_zlim([PLOT_MIN, PLOT_MAX])\n",
    "ax.plot_surface(x, y, surface_hyperbolic, cmap=PLOT_CMAP, alpha=PLOT_ALPHA, linewidth=PLOT_LINES, antialiased=PLOT_HIDE_GRID)\n",
    "ax.contour(x, y, surface_hyperbolic, cmap=PLOT_CMAP, )\n",
    "ax.scatter(x1_No_A, x2_No_A, -(x1_No_A * x2_No_A), c='red', marker='x', linestyle='None')\n",
    "ax.scatter(x1_Yes_A, x2_Yes_B, -(x1_Yes_A * x2_Yes_B), c='red', marker='x', linestyle='None')\n",
    "ax.scatter(x1_Yes_A, x2_No_B, -(x1_Yes_A * x2_No_B), c='green', marker='o', linestyle='None')\n",
    "ax.scatter(x1_No_A, x2_Yes_B, -(x1_No_A * x2_Yes_B), c='green', marker='o', linestyle='None')\n",
    "ax.plot_surface(x, y, cutting_plane, alpha=PLOT_ALPHA, linewidth=PLOT_LINES, antialiased=PLOT_HIDE_GRID)\n",
    "plt.show()\n"
   ]
  },
  {
   "cell_type": "code",
   "execution_count": null,
   "metadata": {},
   "outputs": [],
   "source": []
  }
 ],
 "metadata": {
  "kernelspec": {
   "display_name": "Python 3 (ipykernel)",
   "language": "python",
   "name": "python3"
  },
  "language_info": {
   "codemirror_mode": {
    "name": "ipython",
    "version": 3
   },
   "file_extension": ".py",
   "mimetype": "text/x-python",
   "name": "python",
   "nbconvert_exporter": "python",
   "pygments_lexer": "ipython3",
   "version": "3.8.5"
  }
 },
 "nbformat": 4,
 "nbformat_minor": 4
}
