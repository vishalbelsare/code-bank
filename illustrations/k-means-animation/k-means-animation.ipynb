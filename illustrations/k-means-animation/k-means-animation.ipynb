{
 "cells": [
  {
   "cell_type": "markdown",
   "metadata": {
    "tags": []
   },
   "source": [
    "# **Animation of K-Means Clustering**"
   ]
  },
  {
   "cell_type": "markdown",
   "metadata": {},
   "source": [
    "Source:  [https://github.com/d-insight/code-bank.git](https://github.com/d-insight/code-bank.git)  \n",
    "License: [MIT License](https://opensource.org/licenses/MIT). See open source [license](LICENSE) in the Code Bank repository. "
   ]
  },
  {
   "cell_type": "markdown",
   "metadata": {},
   "source": [
    "-------------"
   ]
  },
  {
   "cell_type": "markdown",
   "metadata": {},
   "source": [
    "## Overview"
   ]
  },
  {
   "cell_type": "markdown",
   "metadata": {},
   "source": [
    "This illustration shows the internal, itterative working of the K-Means algorithm, for different distributions of data. Code is adapted from: https://nrsyed.com/2017/11/20/animating-k-means-clustering-in-2d-with-matplotlib/"
   ]
  },
  {
   "cell_type": "markdown",
   "metadata": {},
   "source": [
    "-------------"
   ]
  },
  {
   "cell_type": "markdown",
   "metadata": {},
   "source": [
    "## **Part 0**: Setup"
   ]
  },
  {
   "cell_type": "code",
   "execution_count": null,
   "metadata": {},
   "outputs": [],
   "source": [
    "# Import all packages \n",
    "\n",
    "import numpy as np\n",
    "import matplotlib.pyplot as plt\n",
    "import matplotlib.animation as animation\n",
    "import colorsys\n",
    "from helper.i3_kmeans_helper import KMeansND\n",
    "\n",
    "from sklearn.metrics import silhouette_score\n",
    "from sklearn.cluster import KMeans\n",
    "\n",
    "from IPython.display import HTML\n",
    "\n",
    "%matplotlib inline\n"
   ]
  },
  {
   "cell_type": "code",
   "execution_count": null,
   "metadata": {},
   "outputs": [],
   "source": [
    "# define constants\n",
    "\n",
    "PTSPERCLUSTER = 100\n",
    "VARIANCECOEFF = 0.05    # This controls the spread of clustered points\n",
    "FIGSIZE       = (24, 16)\n",
    "\n",
    "XMIN = -4\n",
    "XMAX = 4\n",
    "YMIN = -4\n",
    "YMAX = 4"
   ]
  },
  {
   "cell_type": "markdown",
   "metadata": {},
   "source": [
    "## **Part 1**: Define all functions\n"
   ]
  },
  {
   "cell_type": "code",
   "execution_count": null,
   "metadata": {},
   "outputs": [],
   "source": [
    "# define covariance matrix \n",
    "\n",
    "xCenterBounds = (XMIN, XMAX)\n",
    "yCenterBounds = (YMIN, YMAX)\n",
    "\n",
    "covariance = np.array([[VARIANCECOEFF * (xCenterBounds[1] - xCenterBounds[0]), 0], [0, VARIANCECOEFF * (yCenterBounds[1] - yCenterBounds[0])]])\n",
    "\n",
    "# randomly generate clusters \n",
    "\n",
    "def generateClusters(NUMCLUSTERS):\n",
    "    \n",
    "    centers = np.random.random_sample((NUMCLUSTERS, 2))\n",
    "    \n",
    "    centers[:,0] = (centers[:,0] * (xCenterBounds[1] - xCenterBounds[0]) + xCenterBounds[0])\n",
    "    centers[:,1] = (centers[:,1] * (yCenterBounds[1] - yCenterBounds[0]) + yCenterBounds[0])\n",
    "\n",
    "    points = np.zeros((NUMCLUSTERS * PTSPERCLUSTER, 2))\n",
    "    \n",
    "    for i in range(NUMCLUSTERS):\n",
    "        \n",
    "        points[i*PTSPERCLUSTER : (i+1)*PTSPERCLUSTER,:] = (np.random.multivariate_normal(centers[i,:], covariance, PTSPERCLUSTER))\n",
    "                \n",
    "    return points\n",
    "\n",
    "# randomly initialize cluster centroids\n",
    "\n",
    "def initializeCentroids(K, points):\n",
    "    \n",
    "    initialCentroids = sampl = np.random.uniform(low=XMIN, high=XMAX, size=(K,2))\n",
    "    \n",
    "    return initialCentroids\n",
    "\n",
    "# update cluster information\n",
    "\n",
    "def animate(clusterInfo):\n",
    "\n",
    "    (currentCentroids, classifications, iteration) = clusterInfo\n",
    "    \n",
    "    for k in range(K):\n",
    "\n",
    "        updatedClusterData = points[classifications == k,:]\n",
    "        clusterObjList[k].set_data(updatedClusterData[:,0], updatedClusterData[:,1])\n",
    "        centroidObjList[k].set_data(currentCentroids[k,0], currentCentroids[k,1])\n",
    "\n",
    "    iterText.set_text('i = {:d}'.format(iteration))\n",
    "\n",
    "\n",
    "def setColors(K):\n",
    "    \n",
    "    # Create figure and axes. Initialize cluster and centroid line objects.\n",
    "\n",
    "    plt.rc('xtick',labelsize=16)\n",
    "    plt.rc('ytick',labelsize=16)\n",
    "\n",
    "    # Set cluster colors \n",
    "    \n",
    "    fig, ax = plt.subplots(figsize = FIGSIZE)\n",
    "    clusterObjList = []\n",
    "    centroidObjList = []\n",
    "\n",
    "    for k in range(K):\n",
    "\n",
    "        clusterColor = tuple(colorsys.hsv_to_rgb(k / K, 0.8, 0.8))\n",
    "\n",
    "        clusterLineObj, = ax.plot([], [], ls='None', marker='x', markersize = 12, color=clusterColor)\n",
    "        clusterObjList.append(clusterLineObj)\n",
    "\n",
    "        centroidLineObj, = ax.plot([], [], ls='None', marker='o', markersize = 16, markeredgecolor='k', color=clusterColor)\n",
    "        centroidObjList.append(centroidLineObj)\n",
    "\n",
    "    iterText = ax.annotate('', xy=(0.01, 0.01), xycoords='axes fraction')\n",
    "    \n",
    "    return fig, ax, iterText, clusterObjList, centroidObjList\n",
    "\n",
    "def setAxisLimits(ax, points):\n",
    "    \n",
    "    xSpan = np.amax(points[:,0]) - np.amin(points[:,0])\n",
    "    ySpan = np.amax(points[:,1]) - np.amin(points[:,1])\n",
    "    \n",
    "    pad = 0.05\n",
    "    \n",
    "    ax.set_xlim(np.amin(points[:,0]) - pad * xSpan, np.amax(points[:,0]) + pad * xSpan)\n",
    "    ax.set_ylim(np.amin(points[:,1]) - pad * ySpan, np.amax(points[:,1]) + pad * ySpan)\n",
    "    \n",
    "def computeSilhouette(points, K):\n",
    "    \n",
    "    kmeans = KMeans(K).fit(points)\n",
    "    score = silhouette_score(points, kmeans.labels_)\n",
    "    \n",
    "    print('Silhouette score for K={}: \\t{}'.format(K, round(score, 4)))\n",
    "    "
   ]
  },
  {
   "cell_type": "markdown",
   "metadata": {},
   "source": [
    "## **Part 2**: Animate K-Means\n"
   ]
  },
  {
   "cell_type": "code",
   "execution_count": null,
   "metadata": {},
   "outputs": [],
   "source": [
    "# Set K, the number of clusters that generate the data and whether to generate new data \n",
    "\n",
    "K             = 6      # Number of clusters to find\n",
    "NUMCLUSTERS   = 10     # Number of clusters to generate\n",
    "generateData  = True  # True = randomly generate data, False = keep data currently in state\n",
    "\n",
    "# -----------------------------------------------------------------------\n",
    "\n",
    "# Generate random data \n",
    "if generateData:\n",
    "    points       = generateClusters(NUMCLUSTERS)\n",
    "elif 'points' not in globals():\n",
    "    raise NameError('No data available. Randomly generate data by setting generateData = True.')\n",
    "    \n",
    "initialCentroids = initializeCentroids(K, points)\n",
    "genFunc          = KMeansND(initialCentroids, points).getGeneratorFunc()\n",
    "fig, ax, iterText, clusterObjList, centroidObjList = setColors(K)\n",
    "setAxisLimits(ax, points)\n",
    "animObj          = animation.FuncAnimation(fig, animate, frames=genFunc, repeat=True, interval=500)\n",
    "# Show silhouette score\n",
    "computeSilhouette(points, K)\n",
    "\n",
    "plt.close(fig)\n",
    "\n",
    "# Plot HTML animation \n",
    "HTML(animObj.to_jshtml())"
   ]
  },
  {
   "cell_type": "code",
   "execution_count": null,
   "metadata": {},
   "outputs": [],
   "source": [
    "# Silhouette scores from K=2 to K=20\n",
    "for k in range(2, 21):\n",
    "    computeSilhouette(points, k)"
   ]
  }
 ],
 "metadata": {
  "kernelspec": {
   "display_name": "Python 3 (ipykernel)",
   "language": "python",
   "name": "python3"
  },
  "language_info": {
   "codemirror_mode": {
    "name": "ipython",
    "version": 3
   },
   "file_extension": ".py",
   "mimetype": "text/x-python",
   "name": "python",
   "nbconvert_exporter": "python",
   "pygments_lexer": "ipython3",
   "version": "3.8.5"
  }
 },
 "nbformat": 4,
 "nbformat_minor": 4
}
