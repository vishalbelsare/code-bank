{
 "cells": [
  {
   "cell_type": "markdown",
   "metadata": {},
   "source": [
    "# **Time Series**: Forecasting with Seasonal ARIMA"
   ]
  },
  {
   "cell_type": "markdown",
   "metadata": {},
   "source": [
    "Source:  [https://github.com/d-insight/code-bank.git](https://github.com/d-insight/code-bank.git)  \n",
    "License: [MIT License](https://opensource.org/licenses/MIT). See open source [license](LICENSE) in the Code Bank repository. "
   ]
  },
  {
   "cell_type": "markdown",
   "metadata": {},
   "source": [
    "-------------"
   ]
  },
  {
   "cell_type": "markdown",
   "metadata": {},
   "source": [
    "## Overview"
   ]
  },
  {
   "cell_type": "markdown",
   "metadata": {},
   "source": [
    "This illustration shows the use of Autoregressive Integrated Moving Average model (ARIMA) and a \"Seasonal ARIMA\" (\"SARIMA\") to predict univariate time series data with a seasonal component. The illustration uses monthly airline passenger data from 1949 to 1960."
   ]
  },
  {
   "cell_type": "markdown",
   "metadata": {},
   "source": [
    "Source: https://github.com/advaitsave/Introduction-to-Time-Series-forecasting-Python/blob/master/Time%20Series%20in%20Python.ipynb"
   ]
  },
  {
   "cell_type": "markdown",
   "metadata": {},
   "source": [
    "-------------"
   ]
  },
  {
   "cell_type": "markdown",
   "metadata": {},
   "source": [
    "## **Part 0**: Setup"
   ]
  },
  {
   "cell_type": "markdown",
   "metadata": {},
   "source": [
    "### Import packages"
   ]
  },
  {
   "cell_type": "code",
   "execution_count": null,
   "metadata": {},
   "outputs": [],
   "source": [
    "# Import all packages \n",
    "import warnings\n",
    "warnings.filterwarnings(\"ignore\")\n",
    "\n",
    "import pandas            as pd\n",
    "import numpy             as np\n",
    "import matplotlib.pyplot as plt\n",
    "plt.rcParams['figure.figsize'] = [16, 8]\n",
    "plt.rcParams['lines.linewidth'] = 4\n",
    "plt.rcParams['axes.labelsize'] = 14\n",
    "plt.rcParams['xtick.labelsize'] = 12\n",
    "plt.rcParams['ytick.labelsize'] = 12\n",
    "\n",
    "# Time series packages/classes\n",
    "from statsmodels.tsa.statespace.sarimax import SARIMAX\n",
    "from pmdarima.arima                     import auto_arima\n",
    "from math                               import sqrt\n",
    "import itertools\n",
    "\n",
    "# Other imports\n",
    "from sklearn.metrics import mean_squared_error, mean_absolute_error,\\\n",
    "                            median_absolute_error, mean_squared_log_error,\\\n",
    "                            mean_absolute_error, r2_score\n"
   ]
  },
  {
   "cell_type": "markdown",
   "metadata": {},
   "source": [
    "### Helper functions"
   ]
  },
  {
   "cell_type": "code",
   "execution_count": null,
   "metadata": {},
   "outputs": [],
   "source": [
    "def evaluate_forecast(y_true, y_pred):\n",
    "    \"\"\" \n",
    "    Function to evaluate time series forecast with R2, MAE, MSE, MSLE, and RMSE\n",
    "    \n",
    "    Args:\n",
    "        y:list         ground truth data\n",
    "        pred:list      predictions\n",
    "        \n",
    "    Return:\n",
    "        DataFrame with all evaluation metrics\n",
    "    \"\"\"\n",
    "    \n",
    "    results = pd.DataFrame({'r2_score':r2_score(y_true, y_pred),\n",
    "                           }, index=[0])\n",
    "    results['mean_absolute_error'] = mean_absolute_error(y_true, y_pred)\n",
    "    results['median_absolute_error'] = median_absolute_error(y_true, y_pred)\n",
    "    results['mse'] = mean_squared_error(y_true, y_pred)\n",
    "    results['msle'] = mean_squared_log_error(y_true, y_pred)\n",
    "    results['rmse'] = np.sqrt(results['mse'])\n",
    "    \n",
    "    return results"
   ]
  },
  {
   "cell_type": "markdown",
   "metadata": {},
   "source": [
    "## **Part 1**: Load data"
   ]
  },
  {
   "cell_type": "code",
   "execution_count": null,
   "metadata": {},
   "outputs": [],
   "source": [
    "df = pd.read_csv('data/international-airline-passengers.csv',header=None)\n",
    "df.columns = ['year','passengers']\n",
    "\n",
    "# set year-month as the index\n",
    "df['year'] = pd.to_datetime(df['year'], format='%Y-%m')\n",
    "df.index = pd.DatetimeIndex(df.year.values, freq = 'MS')\n",
    "df.drop(['year'], axis=1, inplace=True)\n",
    "\n",
    "print(df.shape)"
   ]
  },
  {
   "cell_type": "code",
   "execution_count": null,
   "metadata": {},
   "outputs": [],
   "source": [
    "df.plot()\n",
    "plt.grid()\n",
    "plt.show()"
   ]
  },
  {
   "cell_type": "code",
   "execution_count": null,
   "metadata": {},
   "outputs": [],
   "source": [
    "#divide into train and validation set\n",
    "train = df[:int(0.75*(len(df)))]\n",
    "valid = df[int(0.75*(len(df))):]\n",
    "\n",
    "print('Train length: {}'.format(len(train)))\n",
    "print('Valid length: {}'.format(len(valid)))"
   ]
  },
  {
   "cell_type": "markdown",
   "metadata": {},
   "source": [
    "## **Part 2**: Fit SARIMA model\n",
    "\n",
    "SARIMA adds three new hyperparameters to specify the autoregression (AR), differencing (I) and moving average (MA) for the seasonal component of the series, as well as an additional parameter for the period of the seasonality.\n",
    "\n",
    "Trend Elements:\n",
    "\n",
    "There are three trend elements that require configuration. They are the same as the ARIMA model, specifically:\n",
    "\n",
    "- p: Trend autoregression order.\n",
    "- d: Trend difference order.\n",
    "- q: Trend moving average order.\n",
    "\n",
    "Seasonal Elements:\n",
    "\n",
    "There are four seasonal elements that are not part of ARIMA that must be configured; they are:\n",
    "\n",
    "- P: Seasonal autoregressive order.\n",
    "- D: Seasonal difference order.\n",
    "- Q: Seasonal moving average order.\n",
    "- m: The number of time steps for a single seasonal period. For example, an S of 12 for monthly data suggests a yearly seasonal cycle."
   ]
  },
  {
   "cell_type": "code",
   "execution_count": null,
   "metadata": {},
   "outputs": [],
   "source": [
    "# SARIMA example\n",
    "\n",
    "# suppreses convergence warnings \n",
    "warnings.filterwarnings(\"ignore\")\n",
    "\n",
    "# fit model\n",
    "model = SARIMAX(train, order=(3, 1, 3), seasonal_order=(1, 1, 1, 6))\n",
    "model_fit = model.fit(disp=False)\n",
    "\n",
    "# set prediction range\n",
    "start_index = valid.index.min()\n",
    "end_index = valid.index.max()\n",
    "\n",
    "# predictions\n",
    "predictions_SARIMAX = model_fit.predict(start=start_index, end=end_index)"
   ]
  },
  {
   "cell_type": "code",
   "execution_count": null,
   "metadata": {},
   "outputs": [],
   "source": [
    "# report performance\n",
    "mse = mean_squared_error(df[start_index:end_index], predictions_SARIMAX)\n",
    "rmse = sqrt(mse)\n",
    "print('RMSE: {}, MSE: {}'.format(rmse,mse))"
   ]
  },
  {
   "cell_type": "code",
   "execution_count": null,
   "metadata": {},
   "outputs": [],
   "source": [
    "plt.plot(df)\n",
    "plt.plot(predictions_SARIMAX)\n",
    "plt.grid()\n",
    "plt.title('RMSE: %.4f'% rmse)\n",
    "plt.show()"
   ]
  },
  {
   "cell_type": "code",
   "execution_count": null,
   "metadata": {},
   "outputs": [],
   "source": [
    "# evaluate predictions\n",
    "evaluate_forecast(df[start_index:end_index], predictions_SARIMAX)"
   ]
  },
  {
   "cell_type": "markdown",
   "metadata": {},
   "source": [
    "## **Part 3**: Fit auto ARIMA model\n",
    "\n",
    "Auto ARIMA evaluates different ARIMA-type models of a univariate time series to find the best-fitting model. For details see: https://alkaline-ml.com/pmdarima/tips_and_tricks.html"
   ]
  },
  {
   "cell_type": "code",
   "execution_count": null,
   "metadata": {},
   "outputs": [],
   "source": [
    "# fit ARIMA models\n",
    "model = auto_arima(train, trace=True, error_action='ignore', suppress_warnings=True, seasonal=True, m=6, stepwise=True)\n",
    "model.fit(train)"
   ]
  },
  {
   "cell_type": "code",
   "execution_count": null,
   "metadata": {},
   "outputs": [],
   "source": [
    "# predict validation set \n",
    "predictions_AUTO = model.predict(n_periods = len(valid))\n",
    "predictions_AUTO = pd.DataFrame(predictions_AUTO, index = valid.index, columns=['Prediction'])"
   ]
  },
  {
   "cell_type": "code",
   "execution_count": null,
   "metadata": {},
   "outputs": [],
   "source": [
    "# report performance\n",
    "mse = mean_squared_error(df[start_index:end_index], predictions_AUTO)\n",
    "rmse = sqrt(mse)\n",
    "print('RMSE: {}, MSE: {}'.format(rmse, mse))"
   ]
  },
  {
   "cell_type": "code",
   "execution_count": null,
   "metadata": {},
   "outputs": [],
   "source": [
    "# plot the predictions for validation set\n",
    "plt.plot(df.passengers, label='Train')\n",
    "plt.plot(predictions_AUTO, label='Prediction')\n",
    "plt.grid()\n",
    "plt.title('RMSE: %.4f'% rmse)\n",
    "plt.show()"
   ]
  },
  {
   "cell_type": "code",
   "execution_count": null,
   "metadata": {},
   "outputs": [],
   "source": [
    "# evaluate predictions\n",
    "evaluate_forecast(df[start_index:end_index], predictions_AUTO)"
   ]
  },
  {
   "cell_type": "markdown",
   "metadata": {},
   "source": [
    "## **Part 4**: Tune SARIMA model\n",
    "\n",
    "Finally, we can tune the p, d, and q hyperparameters and compare performances."
   ]
  },
  {
   "cell_type": "code",
   "execution_count": null,
   "metadata": {},
   "outputs": [],
   "source": [
    "p = d = q = range(1, 3)\n",
    "pdq = list(itertools.product(p, d, q))\n",
    "seasonal_pdq = [(x[0], x[1], x[2], 12) for x in list(itertools.product(p, d, q))]\n",
    "\n",
    "print('Examples of parameter combinations for Seasonal ARIMA...')\n",
    "print('SARIMAX: {} x {}'.format(pdq[1], seasonal_pdq[1]))\n",
    "print('SARIMAX: {} x {}'.format(pdq[1], seasonal_pdq[2]))\n",
    "print('SARIMAX: {} x {}'.format(pdq[2], seasonal_pdq[3]))\n",
    "print('SARIMAX: {} x {}'.format(pdq[2], seasonal_pdq[4]))"
   ]
  },
  {
   "cell_type": "code",
   "execution_count": null,
   "metadata": {},
   "outputs": [],
   "source": [
    "# suppreses convergence warnings \n",
    "warnings.filterwarnings(\"ignore\")\n",
    "\n",
    "# test different hyperparameter combinations\n",
    "min_aic = 999999999\n",
    "for param in pdq:\n",
    "    for param_seasonal in seasonal_pdq:\n",
    "        try:\n",
    "            mod = SARIMAX(train,\n",
    "                          order=param,\n",
    "                          seasonal_order=param_seasonal,\n",
    "                          enforce_stationarity=False,\n",
    "                          enforce_invertibility=False)\n",
    "            \n",
    "            results = mod.fit()\n",
    "            print('ARIMA{} x {} 12 - AIC: {}'.format(param, param_seasonal, results.aic))\n",
    "            \n",
    "            #Check for best model with lowest AIC\n",
    "            if results.aic < min_aic:\n",
    "                min_aic = results.aic\n",
    "                min_aic_model = results\n",
    "        except:\n",
    "            continue"
   ]
  },
  {
   "cell_type": "code",
   "execution_count": null,
   "metadata": {},
   "outputs": [],
   "source": [
    "# inspect model details of the best-fitting model \n",
    "min_aic_model.summary()\n"
   ]
  },
  {
   "cell_type": "code",
   "execution_count": null,
   "metadata": {},
   "outputs": [],
   "source": [
    "# Predictions (with confidence interval)\n",
    "predictions_TUNED = min_aic_model.get_prediction(start=start_index, end=end_index, dynamic=False)"
   ]
  },
  {
   "cell_type": "code",
   "execution_count": null,
   "metadata": {},
   "outputs": [],
   "source": [
    "# report performance\n",
    "mse = mean_squared_error(df[start_index:end_index], predictions_TUNED.predicted_mean)\n",
    "rmse = sqrt(mse)\n",
    "print('RMSE: {}, MSE: {}'.format(rmse, mse))"
   ]
  },
  {
   "cell_type": "code",
   "execution_count": null,
   "metadata": {},
   "outputs": [],
   "source": [
    "# plot predictions \n",
    "pred_ci = predictions_TUNED.conf_int()\n",
    "ax = df['1949':].plot(label='observed')\n",
    "predictions_TUNED.predicted_mean.plot(ax=ax, label='Forecast', alpha=.7, figsize=(14, 7))\n",
    "ax.fill_between(pred_ci.index,\n",
    "                pred_ci.iloc[:, 0],\n",
    "                pred_ci.iloc[:, 1], color='k', alpha=.2)\n",
    "ax.set_xlabel('Date')\n",
    "ax.set_ylabel('Passengers')\n",
    "plt.legend()\n",
    "plt.grid()\n",
    "plt.title('RMSE: %.4f'% rmse)\n",
    "plt.show()"
   ]
  },
  {
   "cell_type": "code",
   "execution_count": null,
   "metadata": {},
   "outputs": [],
   "source": [
    "# evaluate predictions\n",
    "evaluate_forecast(df[start_index:end_index], predictions_TUNED.predicted_mean)"
   ]
  },
  {
   "cell_type": "markdown",
   "metadata": {},
   "source": [
    "## **Part 5**: Compare model performances"
   ]
  },
  {
   "cell_type": "code",
   "execution_count": null,
   "metadata": {},
   "outputs": [],
   "source": [
    "df_performances = evaluate_forecast(df[start_index:end_index], predictions_SARIMAX)\n",
    "df_performances = pd.concat([df_performances, evaluate_forecast(df[start_index:end_index], predictions_AUTO)], axis=0)\n",
    "df_performances = pd.concat([df_performances, evaluate_forecast(df[start_index:end_index], predictions_TUNED.predicted_mean)], axis=0)\n",
    "df_performances.index = ['SARIMAX', 'AUTO-ARIMA', 'TUNED-ARIMA']\n",
    "\n",
    "df_performances"
   ]
  },
  {
   "cell_type": "code",
   "execution_count": null,
   "metadata": {},
   "outputs": [],
   "source": []
  }
 ],
 "metadata": {
  "kernelspec": {
   "display_name": "Python 3 (ipykernel)",
   "language": "python",
   "name": "python3"
  },
  "language_info": {
   "codemirror_mode": {
    "name": "ipython",
    "version": 3
   },
   "file_extension": ".py",
   "mimetype": "text/x-python",
   "name": "python",
   "nbconvert_exporter": "python",
   "pygments_lexer": "ipython3",
   "version": "3.8.5"
  }
 },
 "nbformat": 4,
 "nbformat_minor": 4
}
