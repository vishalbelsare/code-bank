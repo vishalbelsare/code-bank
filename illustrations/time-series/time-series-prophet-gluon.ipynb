{
 "cells": [
  {
   "cell_type": "markdown",
   "metadata": {},
   "source": [
    "# **Time Series**: Forecasting with Prophet and GluonTS"
   ]
  },
  {
   "cell_type": "markdown",
   "metadata": {},
   "source": [
    "Source:  [https://github.com/d-insight/code-bank.git](https://github.com/d-insight/code-bank.git)  \n",
    "License: [MIT License](https://opensource.org/licenses/MIT). See open source [license](LICENSE) in the Code Bank repository. "
   ]
  },
  {
   "cell_type": "markdown",
   "metadata": {},
   "source": [
    "-------------"
   ]
  },
  {
   "cell_type": "markdown",
   "metadata": {},
   "source": [
    "## Overview"
   ]
  },
  {
   "cell_type": "markdown",
   "metadata": {},
   "source": [
    "In this illustration, we compare two leading time series algorithms: __Prophet__ and __GluonTS__. \n",
    "\n",
    "  * __Prophet__ is a library developed by Facebook to forecast time series data based on an additive model, where non-linear trends are fit with yearly, weekly, and daily seasonality, plus holiday effects. It works best with time series that have strong seasonal effects and several seasons of historical data. Prophet is robust to missing data and shifts in the trend, and typically handles outliers well. Paper available here: https://peerj.com/preprints/3190/\n",
    "\n",
    "  * __GluonTS__ is a library developed by Amazone for deep-learning-based time series modeling. Paper available here: https://arxiv.org/pdf/1906.05264.pdf"
   ]
  },
  {
   "cell_type": "markdown",
   "metadata": {},
   "source": [
    "For these illustrations, we use the dataset provided by Facebook Research: https://github.com/facebook/prophet"
   ]
  },
  {
   "cell_type": "markdown",
   "metadata": {},
   "source": [
    "-------------"
   ]
  },
  {
   "cell_type": "markdown",
   "metadata": {},
   "source": [
    "## **Part 0**: Setup"
   ]
  },
  {
   "cell_type": "markdown",
   "metadata": {},
   "source": [
    "### Import packages"
   ]
  },
  {
   "cell_type": "code",
   "execution_count": null,
   "metadata": {},
   "outputs": [],
   "source": [
    "# Import all packages\n",
    "import pandas as pd \n",
    "import json\n",
    "import datetime\n",
    "\n",
    "# Time series packages\n",
    "from fbprophet                        import Prophet\n",
    "from fbprophet.diagnostics            import cross_validation, performance_metrics\n",
    "from gluonts.model.simple_feedforward import SimpleFeedForwardEstimator\n",
    "from gluonts.trainer                  import Trainer\n",
    "from gluonts.evaluation.backtest      import make_evaluation_predictions\n",
    "from gluonts.evaluation               import Evaluator\n",
    "from gluonts.dataset.common           import ListDataset\n",
    "from gluonts.dataset.field_names      import FieldName\n",
    "\n",
    "# Plotting\n",
    "import matplotlib.pyplot as plt\n",
    "plt.rcParams['figure.figsize'] = [16, 10]\n",
    "plt.rcParams['lines.linewidth'] = 2\n",
    "plt.rcParams['axes.labelsize'] = 14\n",
    "plt.rcParams['xtick.labelsize'] = 12\n",
    "plt.rcParams['ytick.labelsize'] = 12\n",
    "\n",
    "import warnings\n",
    "warnings.filterwarnings('ignore')"
   ]
  },
  {
   "cell_type": "markdown",
   "metadata": {},
   "source": [
    "## **Part 1**: Load and pre-process data"
   ]
  },
  {
   "cell_type": "code",
   "execution_count": null,
   "metadata": {},
   "outputs": [],
   "source": [
    "# Load data\n",
    "df = pd.read_csv('data/retail_sales.csv')\n",
    "df['ds'] = pd.to_datetime(df['ds'])\n",
    "\n",
    "print(df.shape)\n",
    "df.head()"
   ]
  },
  {
   "cell_type": "code",
   "execution_count": null,
   "metadata": {},
   "outputs": [],
   "source": [
    "# Plot the first 3 years\n",
    "plt.plot(df['ds'].iloc[:37], df['y'].iloc[:37])\n",
    "plt.xticks(df['ds'].iloc[:37])\n",
    "plt.xlabel('Time')\n",
    "plt.ylabel('Sales')\n",
    "plt.xticks(rotation=90)\n",
    "plt.grid()\n",
    "plt.show()"
   ]
  },
  {
   "cell_type": "markdown",
   "metadata": {},
   "source": [
    "## **Part 2**: Fit and evaluate Prophet model"
   ]
  },
  {
   "cell_type": "code",
   "execution_count": null,
   "metadata": {},
   "outputs": [],
   "source": [
    "df"
   ]
  },
  {
   "cell_type": "code",
   "execution_count": null,
   "metadata": {},
   "outputs": [],
   "source": [
    "%%time\n",
    "\n",
    "# Fit model, make a 5 year forecast, and plot forecasts \n",
    "m = Prophet(seasonality_mode='additive', mcmc_samples=200, daily_seasonality=False, weekly_seasonality=False)\n",
    "m.fit(df)\n",
    "future = m.make_future_dataframe(periods=1825)\n",
    "fcst = m.predict(future)\n",
    "fig = m.plot(fcst)"
   ]
  },
  {
   "cell_type": "code",
   "execution_count": null,
   "metadata": {},
   "outputs": [],
   "source": [
    "# Plot a subset of the above graph \n",
    "fig = m.plot(fcst)\n",
    "ax = fig.gca()\n",
    "ax.set_xlim([datetime.date(2015, 6, 1), datetime.date(2017, 6, 1)])\n",
    "plt.show()"
   ]
  },
  {
   "cell_type": "code",
   "execution_count": null,
   "metadata": {},
   "outputs": [],
   "source": [
    "fcst.tail()"
   ]
  },
  {
   "cell_type": "code",
   "execution_count": null,
   "metadata": {},
   "outputs": [],
   "source": [
    "# Trend and yearly seasonality \n",
    "fcst = m.predict(future)\n",
    "fig = m.plot_components(fcst)"
   ]
  },
  {
   "cell_type": "markdown",
   "metadata": {},
   "source": [
    "Schema of how Prophet cross-validates data (this is a different dataset!).\n",
    "\n",
    "<img src=\"https://facebook.github.io/prophet/static/diagnostics_files/diagnostics_3_0.png\" width=\"700\" height=\"700\" align=\"center\"/>\n",
    "\n",
    "Image source: https://facebook.github.io/prophet/static/diagnostics_files/diagnostics_3_0.png"
   ]
  },
  {
   "cell_type": "code",
   "execution_count": null,
   "metadata": {},
   "outputs": [],
   "source": [
    "# initial: 22.5 years = 8100 days\n",
    "# horizon: last 2 years = 730 days\n",
    "df_cv = cross_validation(m, initial='8100 days', horizon = '730 days')\n",
    "df_cv.head()"
   ]
  },
  {
   "cell_type": "code",
   "execution_count": null,
   "metadata": {},
   "outputs": [],
   "source": [
    "# Compute cross-validated performance metrics \n",
    "df_p = performance_metrics(df_cv)\n",
    "df_p.tail(10)"
   ]
  },
  {
   "cell_type": "markdown",
   "metadata": {},
   "source": [
    "## **Part 3**: Fit and evaluate GluonTS model"
   ]
  },
  {
   "cell_type": "code",
   "execution_count": null,
   "metadata": {},
   "outputs": [],
   "source": [
    "# Split train and test data in the same way as above\n",
    "df_train = df[df['ds'] < '2014-06-01'].copy()\n",
    "df_test = df[df['ds'] >= '2014-06-01'].copy()\n",
    "\n",
    "print('Train shape: {}'.format(df_train.shape))\n",
    "print('Test shape: {}'.format(df_test.shape))"
   ]
  },
  {
   "cell_type": "code",
   "execution_count": null,
   "metadata": {},
   "outputs": [],
   "source": [
    "df_ds = ListDataset([{FieldName.TARGET: df['y'], \n",
    "                    FieldName.START: df['ds'][0]}], \n",
    "                    freq='1D')\n",
    "\n",
    "train_ds = ListDataset([{FieldName.TARGET: df_train['y'], \n",
    "                         FieldName.START: df_train['ds'][0]}], \n",
    "                        freq='1D')\n",
    "\n",
    "test_ds = ListDataset([{FieldName.TARGET: df_test['y'], \n",
    "                         FieldName.START: df_test['ds'].values[0]}], \n",
    "                       freq='1D')\n",
    "\n",
    "print('Original samples:'.ljust(20) + str(df_ds.calc_stats().num_time_observations))\n",
    "print('Train samples:'.ljust(20) + str(train_ds.calc_stats().num_time_observations))\n",
    "print('Test samples:'.ljust(20) + str(test_ds.calc_stats().num_time_observations))"
   ]
  },
  {
   "cell_type": "code",
   "execution_count": null,
   "metadata": {},
   "outputs": [],
   "source": [
    "# Set up estimator \n",
    "estimator = SimpleFeedForwardEstimator(\n",
    "    num_hidden_dimensions=[10],\n",
    "    prediction_length=24,       # number of samples to predict -> \"test set\"\n",
    "    context_length=100,\n",
    "    freq='1D',\n",
    "    trainer=Trainer(ctx=\"cpu\",\n",
    "                    epochs=100,\n",
    "                    learning_rate=1e-3,\n",
    "                    batch_size=32,\n",
    "                    num_batches_per_epoch=50\n",
    "                   )\n",
    ")"
   ]
  },
  {
   "cell_type": "code",
   "execution_count": null,
   "metadata": {},
   "outputs": [],
   "source": [
    "%%time \n",
    "\n",
    "# Train model\n",
    "predictor = estimator.train(train_ds)\n"
   ]
  },
  {
   "cell_type": "code",
   "execution_count": null,
   "metadata": {},
   "outputs": [],
   "source": [
    "# Evaluate the last \"prediction_length\" samples in the full dataset, trained on the training dataset \n",
    "forecast_it, ts_it = make_evaluation_predictions(\n",
    "    dataset=df_ds,  # test dataset\n",
    "    predictor=predictor,  # predictor\n",
    "    num_samples=100,  # number of sample paths we want for evaluation (24 months)\n",
    ")"
   ]
  },
  {
   "cell_type": "code",
   "execution_count": null,
   "metadata": {},
   "outputs": [],
   "source": [
    "forecasts = list(forecast_it)\n",
    "tss = list(ts_it)\n",
    "\n",
    "print('Forecast sample paths length:'.ljust(30) + str(len(forecasts[0].samples)))\n",
    "print('Full time series length:'.ljust(30) + str(len(tss[0])))"
   ]
  },
  {
   "cell_type": "code",
   "execution_count": null,
   "metadata": {},
   "outputs": [],
   "source": [
    "evaluator = Evaluator(quantiles=[0.1, 0.5, 0.9])\n",
    "agg_metrics, item_metrics = evaluator(iter(tss), iter(forecasts), num_series=len(test_ds))"
   ]
  },
  {
   "cell_type": "code",
   "execution_count": null,
   "metadata": {},
   "outputs": [],
   "source": [
    "print(json.dumps(agg_metrics, indent=4))\n"
   ]
  },
  {
   "cell_type": "markdown",
   "metadata": {},
   "source": [
    "## **Part 4**: Compare performance\n",
    "\n",
    "We can interpret the RMSE and MAE in terms of dollar sales amounts and the MAPE as a percentage relative to the true sales figure. \n",
    "\n",
    "We find that the predictions are pretty accurate: the MAPE, for example, is around 3.9% (Prophet) and 2.3% (GluonTS). "
   ]
  },
  {
   "cell_type": "markdown",
   "metadata": {},
   "source": [
    "### FB Prophet"
   ]
  },
  {
   "cell_type": "code",
   "execution_count": null,
   "metadata": {},
   "outputs": [],
   "source": [
    "df_p.tail()"
   ]
  },
  {
   "cell_type": "markdown",
   "metadata": {},
   "source": [
    "### Amazon GluonTS"
   ]
  },
  {
   "cell_type": "code",
   "execution_count": null,
   "metadata": {},
   "outputs": [],
   "source": [
    "print(json.dumps(agg_metrics, indent=4))\n"
   ]
  },
  {
   "cell_type": "markdown",
   "metadata": {},
   "source": [
    "Amazon's GluonTS wins in terms of MSE, RMSE, and MAPE."
   ]
  }
 ],
 "metadata": {
  "kernelspec": {
   "display_name": "Python 3 (ipykernel)",
   "language": "python",
   "name": "python3"
  },
  "language_info": {
   "codemirror_mode": {
    "name": "ipython",
    "version": 3
   },
   "file_extension": ".py",
   "mimetype": "text/x-python",
   "name": "python",
   "nbconvert_exporter": "python",
   "pygments_lexer": "ipython3",
   "version": "3.8.5"
  }
 },
 "nbformat": 4,
 "nbformat_minor": 4
}
