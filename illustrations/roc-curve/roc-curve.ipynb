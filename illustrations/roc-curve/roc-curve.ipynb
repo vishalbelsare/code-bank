{
 "cells": [
  {
   "cell_type": "markdown",
   "metadata": {},
   "source": [
    "# **ROC Curve**"
   ]
  },
  {
   "cell_type": "markdown",
   "metadata": {},
   "source": [
    "Source:  [https://github.com/d-insight/code-bank.git](https://github.com/d-insight/code-bank.git)  \n",
    "License: [MIT License](https://opensource.org/licenses/MIT). See open source [license](LICENSE) in the Code Bank repository. "
   ]
  },
  {
   "cell_type": "markdown",
   "metadata": {},
   "source": [
    "-------------"
   ]
  },
  {
   "cell_type": "markdown",
   "metadata": {},
   "source": [
    "## Overview"
   ]
  },
  {
   "cell_type": "markdown",
   "metadata": {},
   "source": [
    "This illustration shows the step-by-step plotting of an ROC curve for a toy dataset. It also illustrates how the expected value from the prediction changes when the cost of a false positive (FP) and/or the cost of a false negative (FN) changes in relative terms (i.e., the isocost gradients rotate relative to the ROC curve). The optimal probability threshold for the Linear Probability Model will depend on the cost structure of FP and FN. Users can change these costs in the code below by manually changing the `C_FP` and `C_FN` variables in the last code block, and then re-running the code. The illustration then show the point along the ROC curve where the cost is minimized. A generalization would also include the relative benefits of True Positives (TP) and True Negatives (TN), although this is not shown in this illustration.  "
   ]
  },
  {
   "cell_type": "markdown",
   "metadata": {},
   "source": [
    "-------------"
   ]
  },
  {
   "cell_type": "markdown",
   "metadata": {},
   "source": [
    "## **Part 0**: Setup"
   ]
  },
  {
   "cell_type": "code",
   "execution_count": null,
   "metadata": {},
   "outputs": [],
   "source": [
    "# import all packages \n",
    "\n",
    "import matplotlib \n",
    "import matplotlib.pyplot as plt\n",
    "\n",
    "import numpy as np\n",
    "import pandas as pd\n",
    "from IPython.display import clear_output\n",
    "from sklearn.metrics import roc_curve, roc_auc_score, confusion_matrix"
   ]
  },
  {
   "cell_type": "code",
   "execution_count": null,
   "metadata": {},
   "outputs": [],
   "source": [
    "# define all constants\n",
    "\n",
    "SLEEP      = 0.75  # sleep time in seconds\n",
    "FONTSIZE   = 20\n",
    "FIGSIZE    = (12, 12)\n",
    "OFFSET     = 0.05  # plot offset on x and y axes\n"
   ]
  },
  {
   "cell_type": "code",
   "execution_count": null,
   "metadata": {},
   "outputs": [],
   "source": [
    "# helper function for plotting \n",
    "\n",
    "def myPlot(X, y, title, l = None, iso = None):\n",
    "    \n",
    "    if iso:\n",
    "        \n",
    "        PPC, C_FP, C_FN = iso\n",
    "        Xs = len(X)\n",
    "        ys = len(y)\n",
    "    \n",
    "    font = {'size'   : FONTSIZE}\n",
    "    matplotlib.rc('font', **font)\n",
    "    \n",
    "    plt.figure(figsize=FIGSIZE)\n",
    "    plt.plot(X, y, linestyle = '-', marker = 'o', markersize=8, linewidth=3, label=l)\n",
    "    plt.ylim(0 - OFFSET, 1 + OFFSET)\n",
    "    plt.xlim(0 - OFFSET, 1 + OFFSET)\n",
    "    \n",
    "    plt.hlines(0, xmin = 0, xmax = 1, colors='black', linewidth=3)\n",
    "    plt.hlines(1, xmin = 0, xmax = 1, colors='black', linewidth=3)\n",
    "    plt.vlines(0, ymin = 0, ymax = 1, colors='black', linewidth=3)\n",
    "    plt.vlines(1, ymin = 0, ymax = 1, colors='black', linewidth=3)\n",
    "\n",
    "    # 45 degree line\n",
    "    x = np.linspace(0, 1)\n",
    "    plt.plot(x, x, color='black')\n",
    "    \n",
    "    # plot isocost lines \n",
    "    if iso:\n",
    "        for c in range(-50, 50): \n",
    "            \n",
    "            # isocost line\n",
    "            slope = ((1-PPC)/PPC)*(C_FP/C_FN)\n",
    "            intercept = 1 - (c/(PPC*C_FN))\n",
    "            y_iso = [slope*i + intercept for i in X]\n",
    "            \n",
    "            if intercept < 1 and intercept > 0:\n",
    "                plt.plot(X, y_iso, linestyle = '--', markersize=12, linewidth=2, color = 'red', label='isocost line c = {}'.format(c))\n",
    "                \n",
    "            else:\n",
    "                plt.plot(X, y_iso, linestyle = '--', markersize=12, linewidth=2, color = 'gray', label='isocost line c = {}'.format(c))\n",
    "        \n",
    "    plt.ylabel('TPR')\n",
    "    plt.xlabel('FPR')\n",
    "    plt.title(str(title))\n",
    "    \n",
    "    return plt\n"
   ]
  },
  {
   "cell_type": "markdown",
   "metadata": {},
   "source": [
    "## **Part 1**: Create toy data set\n",
    "\n",
    "The data set is ranked by the predicted probability in descending order. From: http://mlwiki.org/index.php/ROC_Analysis"
   ]
  },
  {
   "cell_type": "code",
   "execution_count": null,
   "metadata": {},
   "outputs": [],
   "source": [
    "data = [[1, 0.9 ], \n",
    "        [1, 0.7 ], \n",
    "        [0, 0.7 ],\n",
    "        [1, 0.6 ],\n",
    "        [1, 0.55],\n",
    "        [1, 0.54],\n",
    "        [0, 0.53],\n",
    "        [0, 0.52],\n",
    "        [1, 0.51],\n",
    "        [0, 0.51],\n",
    "        [1, 0.4 ],\n",
    "        [0, 0.39],\n",
    "        [1, 0.38],\n",
    "        [0, 0.37],\n",
    "        [0, 0.36],\n",
    "        [0, 0.35],\n",
    "        [1, 0.34],\n",
    "        [0, 0.33],\n",
    "        [1, 0.3 ],\n",
    "        [0, 0.1]\n",
    "       ] \n",
    "\n",
    "data = pd.DataFrame(data, columns=['Actual Label', 'Predicted Probability'])\n",
    "data"
   ]
  },
  {
   "cell_type": "markdown",
   "metadata": {},
   "source": [
    "## **Part 2**: Plot the optimal point on the ROC curve, assuming _the same_ costs for FP and FN\n",
    "\n",
    "Algorithm\n",
    "\n",
    "1. rank test examples on decreasing score F(x,+)\n",
    "2. start in (0,0)\n",
    "3. for each example x (in the decreasing order)\n",
    "    - if x is positive, move 1/pos up\n",
    "    - if x is negative, move 1/neg right"
   ]
  },
  {
   "cell_type": "code",
   "execution_count": null,
   "metadata": {},
   "outputs": [],
   "source": [
    "# loop through all observations \n",
    "\n",
    "pos = 0\n",
    "neg = 0\n",
    "\n",
    "positives = []\n",
    "negatives = []\n",
    "\n",
    "observations = data.shape[0]\n",
    "\n",
    "for i, row in data.iterrows():\n",
    "    \n",
    "    label = row['Actual Label']\n",
    "    prob  = row['Predicted Probability']\n",
    "    \n",
    "    if label == 1:\n",
    "        pos += 1\n",
    "        \n",
    "    else:\n",
    "        neg += 1\n",
    "    \n",
    "    positives.append(pos / 10)\n",
    "    negatives.append(neg / 10)\n",
    "    \n",
    "    # plot draw \n",
    "    p = myPlot(negatives, positives, 'Threshold: {}'.format(prob), 'ROC curve')\n",
    "    p.suptitle('TPR: {}, FPR: {}'.format(pos / 10, neg / 10))\n",
    "    p.show()\n",
    "    \n",
    "    plt.pause(SLEEP)\n",
    "    clear_output(wait = True)\n",
    "    \n",
    "# plot accuracy line\n",
    "\n",
    "plt = myPlot(negatives, positives, (label, prob), 'ROC curve')\n",
    "\n",
    "X = [i/10 for i in range(10)]\n",
    "y = [i+0.4 for i in X]\n",
    "plt.plot(X, y, '-', color='red', linewidth=3, label='Accuracy line')\n",
    "plt.title('ROC curve and accuracy line with slope {}'.format(len(positives)/len(negatives)))\n",
    "plt.legend()\n"
   ]
  },
  {
   "cell_type": "markdown",
   "metadata": {},
   "source": [
    "## **Part 3**: Plot the optimal point on the ROC curve, assuming _different_ costs for FP and FN\n",
    "\n",
    "Here we show how changing the benefits matrix changes the optimization point on an ROC curve."
   ]
  },
  {
   "cell_type": "code",
   "execution_count": null,
   "metadata": {},
   "outputs": [],
   "source": [
    "# load toy data: The ground truth is 10% positive, 90% negative \n",
    "ebola = pd.read_csv('data/ebola.csv')\n",
    "\n",
    "# compute TPR and FPR   (note: now using the ROC Curve function from sklearn)\n",
    "fpr, tpr, thresholds = roc_curve(ebola['Actual Label'], ebola['Predicted Probability'])\n",
    "\n",
    "# plot ROC curve\n",
    "myPlot(fpr, tpr, 'ROC curve')\n"
   ]
  },
  {
   "cell_type": "code",
   "execution_count": null,
   "metadata": {},
   "outputs": [],
   "source": [
    "# set costs\n",
    "\n",
    "C_FP = 10\n",
    "C_FN = 75\n",
    "\n",
    "# C_FP = 10\n",
    "# C_FN = 400\n",
    "\n",
    "# plot isocost lines\n",
    "\n",
    "PPC = sum(ebola['Actual Label'] == 1) / ebola.shape[0]\n",
    "slope = ((1-PPC)/PPC) * (C_FP/C_FN)\n",
    "slope = round(slope, 2)\n",
    "\n",
    "myPlot(fpr, tpr, 'isocost slope: {}'.format(slope) , 'ROC curve', (PPC, C_FP, C_FN))\n",
    "plt.show()"
   ]
  },
  {
   "cell_type": "markdown",
   "metadata": {},
   "source": [
    "## **Part 4**: Visualizing expected costs\n",
    "\n",
    "Plot expected costs per threshold. Remember that the order of the ROC and the expected costs plot are inversed. High costs of FNs -> high sensitivity -> low threshold (and vice versa)."
   ]
  },
  {
   "cell_type": "code",
   "execution_count": null,
   "metadata": {},
   "outputs": [],
   "source": [
    "expected_costs = []\n",
    "optimal_threshold = -1\n",
    "\n",
    "fpr, tpr, thresholds = roc_curve(ebola['Actual Label'], ebola['Predicted Probability'])\n",
    "\n",
    "for i, threshold in enumerate(thresholds):\n",
    "    \n",
    "    # binarize predictions depending on threshold\n",
    "    ebola_threshold = ebola.copy()\n",
    "    ebola_threshold['Predicted Label'] = pd.Series(ebola_threshold['Predicted Probability'] >= threshold).astype(int)\n",
    "    \n",
    "    # compute confusion matrix\n",
    "    cm = confusion_matrix(ebola_threshold['Actual Label'], ebola_threshold['Predicted Label'])\n",
    "    tn, fp, fn, tp = cm.ravel()\n",
    "    \n",
    "    # compute expected costs\n",
    "    expected_cost = - (C_FP * fp + C_FN * fn)\n",
    "    expected_costs.append(expected_cost)\n",
    "    \n",
    "    # update optimal threshold\n",
    "    if expected_cost >= max(expected_costs):\n",
    "        optimal_threshold = threshold\n",
    "    "
   ]
  },
  {
   "cell_type": "code",
   "execution_count": null,
   "metadata": {},
   "outputs": [],
   "source": [
    "# plot expected costs\n",
    "\n",
    "plt.figure(figsize=(16, 12))\n",
    "plt.plot(thresholds, expected_costs, linestyle = '-', marker = 'o', markersize=8, linewidth=3)\n",
    "plt.vlines(optimal_threshold, ymin = max(expected_costs), ymax = min(expected_costs), colors='red',linestyle = '--', linewidth=2)\n",
    "plt.xlim(0 - OFFSET, 1 + OFFSET)\n",
    "plt.ylabel('Expected costs')\n",
    "plt.xlabel('Threshold')\n",
    "plt.title('Expected costs for the classifier across ALL data as threshold changes\\n Optimal threshold: {}'.format(round(optimal_threshold, 4)))\n",
    "plt.grid()\n",
    "plt.show()\n"
   ]
  },
  {
   "cell_type": "markdown",
   "metadata": {},
   "source": [
    "## **Part 5**: Expected costs as a function of the percent of test observations targeted\n",
    "\n",
    "This part plots the expected costs depending on how many data points of the test/target sample are included. The dummy classifier predicts positive cases with a probability of 10% and negative cases with a probability of 90%. This method is called 'stratified' in sklearn, i.e. the dummy classifier generates predictions by respecting the training set’s class distribution."
   ]
  },
  {
   "cell_type": "code",
   "execution_count": null,
   "metadata": {},
   "outputs": [],
   "source": [
    "# compute all costs \n",
    "expected_costs_all = []\n",
    "\n",
    "percent_of_test = list(range(5, ebola.shape[0], int(ebola.shape[0]/100) ))\n",
    "thresholds = list(np.arange(optimal_threshold - 0.3, optimal_threshold + 0.3, 0.1)) + ['dummy']\n",
    "\n",
    "for threshold in thresholds:\n",
    "    \n",
    "    expected_costs = []\n",
    "\n",
    "    for i, part in enumerate(percent_of_test):\n",
    "        \n",
    "        if threshold == 'dummy':\n",
    "            # compute confusion matrix\n",
    "            ebola_threshold = ebola.sort_values(by='Predicted Probability', ascending = False).iloc[:part, :].copy()\n",
    "            cm = confusion_matrix(ebola_threshold['Actual Label'], ebola_threshold['Predicted Label Dummy'])\n",
    "            cm = cm.ravel()\n",
    "            if len(cm) < 4:\n",
    "                tn, fp, fn, tp = 1, 0, 0, 1\n",
    "            else:\n",
    "                tn, fp, fn, tp = cm\n",
    "\n",
    "            # compute expected costs\n",
    "            expected_cost = - (C_FP * fp + C_FN * fn)\n",
    "            expected_costs.append(expected_cost)\n",
    "            \n",
    "        else:\n",
    "            \n",
    "            # binarize predictions depending on threshold\n",
    "            ebola_threshold = ebola.sort_values(by='Predicted Probability', ascending = False).iloc[:part, :].copy()\n",
    "            ebola_threshold['Predicted Label'] = pd.Series(ebola_threshold['Predicted Probability'] >= threshold).astype(int)\n",
    "\n",
    "            # compute confusion matrix\n",
    "            cm = confusion_matrix(ebola_threshold['Actual Label'], ebola_threshold['Predicted Label'])\n",
    "            cm = cm.ravel()\n",
    "            if len(cm) < 4:\n",
    "                tn, fp, fn, tp = 1, 0, 0, 1\n",
    "            else:\n",
    "                tn, fp, fn, tp = cm\n",
    "\n",
    "            # compute expected costs\n",
    "            expected_cost = - (C_FP * fp + C_FN * fn)\n",
    "            expected_costs.append(expected_cost)\n",
    "        \n",
    "    expected_costs_all.append(expected_costs)\n",
    "        \n",
    "percent_of_test = [i/ebola.shape[0] for i in percent_of_test]"
   ]
  },
  {
   "cell_type": "code",
   "execution_count": null,
   "metadata": {},
   "outputs": [],
   "source": [
    "# plot expected costs\n",
    "\n",
    "plt.figure(figsize=(16, 12))\n",
    "\n",
    "for i, expected_costs in enumerate(expected_costs_all):\n",
    "    \n",
    "    l = thresholds[i]\n",
    "    if type(l) == np.float64:\n",
    "        l = round(l, 4)\n",
    "    \n",
    "    plt.plot(percent_of_test, expected_costs, linestyle = '-', marker = 'o', markersize=8, linewidth=3, label='threshold: {}'.format(l))\n",
    "\n",
    "plt.ylabel('Expected costs')\n",
    "plt.xlabel('Percentage of test observations')\n",
    "plt.title('Expected costs for classifiers with different thresholds for different % of TESTING data')\n",
    "plt.grid()\n",
    "plt.legend()\n",
    "plt.show()\n"
   ]
  },
  {
   "cell_type": "code",
   "execution_count": null,
   "metadata": {},
   "outputs": [],
   "source": []
  },
  {
   "cell_type": "markdown",
   "metadata": {},
   "source": [
    "# ARCHIVE\n",
    "\n",
    "The archive code below generate a new toy dataset. "
   ]
  },
  {
   "cell_type": "code",
   "execution_count": null,
   "metadata": {},
   "outputs": [],
   "source": [
    "# # create toy data\n",
    "\n",
    "# SAMPLES = 500\n",
    "\n",
    "# # draw samples from binomial and uniform distributions\n",
    "# actual    = np.random.binomial(1, 0.1, size=SAMPLES)\n",
    "# predicted = np.random.uniform(high = 0.7, size=SAMPLES)\n",
    "\n",
    "# # create data frame\n",
    "# ebola = pd.DataFrame({'Actual Label': actual, 'Predicted Probability': predicted})\n",
    "\n",
    "# # increase likelihood that positive cases are indeed predicted with higher probability\n",
    "# ebola['Predicted Probability'] = ebola['Predicted Probability'] + ebola['Actual Label'] * 0.3\n",
    "# ebola['Predicted Probability'] = ebola['Predicted Probability'].clip(upper=1)\n",
    "\n",
    "# ebola.head()"
   ]
  },
  {
   "cell_type": "code",
   "execution_count": null,
   "metadata": {},
   "outputs": [],
   "source": []
  }
 ],
 "metadata": {
  "kernelspec": {
   "display_name": "Python 3 (ipykernel)",
   "language": "python",
   "name": "python3"
  },
  "language_info": {
   "codemirror_mode": {
    "name": "ipython",
    "version": 3
   },
   "file_extension": ".py",
   "mimetype": "text/x-python",
   "name": "python",
   "nbconvert_exporter": "python",
   "pygments_lexer": "ipython3",
   "version": "3.8.5"
  }
 },
 "nbformat": 4,
 "nbformat_minor": 4
}
