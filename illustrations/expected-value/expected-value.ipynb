{
 "cells": [
  {
   "cell_type": "markdown",
   "metadata": {},
   "source": [
    "# **Expected Value**"
   ]
  },
  {
   "cell_type": "markdown",
   "metadata": {},
   "source": [
    "Source:  [https://github.com/d-insight/code-bank.git](https://github.com/d-insight/code-bank.git)  \n",
    "License: [MIT License](https://opensource.org/licenses/MIT). See open source [license](LICENSE) in the Code Bank repository. "
   ]
  },
  {
   "cell_type": "markdown",
   "metadata": {},
   "source": [
    "-------------"
   ]
  },
  {
   "cell_type": "markdown",
   "metadata": {},
   "source": [
    "## Overview"
   ]
  },
  {
   "cell_type": "markdown",
   "metadata": {},
   "source": [
    "This illustration demonstrates how the expected value of weighted errors changes as one shifts the probability threshold for a positive prediction on a linear probability model. As the cost of a false positive (FP) and/or the cost of a false negative (FN) changes in relative terms, the optimal probability threshold for a positive prediction will also shift. \n",
    "\n",
    "  * Users can visualize this effect manually by changing the cost of a false positive error and/or the cost of a false negative error, by changing the costs of the `C_FP` variable and the `C_FN` variable in the code below, and then re-running the code.\n",
    "\n",
    "  * Users can also visualize the effects of changing costs in a live, interactive manner by "
   ]
  },
  {
   "cell_type": "markdown",
   "metadata": {},
   "source": [
    "It uses data from a Taiwanese bank with 30,000 observations (Source: *Yeh, I. C., & Lien, C. H. (2009)*). The target variable to predict is `customer_default` -- i.e., whether the customer will default in the following month (1 = Yes or 0 = No). The dataset also includes 23 other explanatory features. \n",
    "\n",
    "| Feature name     | Variable Type | Description \n",
    "|------------------|---------------|--------------------------------------------------------\n",
    "| customer_default | Binary        | 1 = default in following month; 0 = no default \n",
    "| LIMIT_BAL        | Continuous    | Credit limit   \n",
    "| SEX              | Categorical   | 1 = male; 2 = female\n",
    "| EDUCATION        | Categorical   | 1 = graduate school; 2 = university; 3 = high school; 4 = others\n",
    "| MARRIAGE         | Categorical   | 0 = unknown; 1 = married; 2 = single; 3 = others\n",
    "| AGE              | Continuous    | Age in years  \n",
    "| PAY1             | Categorical   | Repayment status in September, 2005 \n",
    "| PAY2             | Categorical   | Repayment status in August, 2005 \n",
    "| PAY3             | Categorical   | Repayment status in July, 2005 \n",
    "| PAY4             | Categorical   | Repayment status in June, 2005 \n",
    "| PAY5             | Categorical   | Repayment status in May, 2005 \n",
    "| PAY6             | Categorical   | Repayment status in April, 2005 \n",
    "| BILL_AMT1        | Continuous    | Balance in September, 2005  \n",
    "| BILL_AMT2        | Continuous    | Balance in August, 2005  \n",
    "| BILL_AMT3        | Continuous    | Balance in July, 2005  \n",
    "| BILL_AMT4        | Continuous    | Balance in June, 2005 \n",
    "| BILL_AMT5        | Continuous    | Balance in May, 2005  \n",
    "| BILL_AMT6        | Continuous    | Balance in April, 2005  \n",
    "| PAY_AMT1         | Continuous    | Amount paid in September, 2005\n",
    "| PAY_AMT2         | Continuous    | Amount paid in August, 2005\n",
    "| PAY_AMT3         | Continuous    | Amount paid in July, 2005\n",
    "| PAY_AMT4         | Continuous    | Amount paid in June, 2005\n",
    "| PAY_AMT5         | Continuous    | Amount paid in May, 2005\n",
    "| PAY_AMT6         | Continuous    | Amount paid in April, 2005"
   ]
  },
  {
   "cell_type": "markdown",
   "metadata": {},
   "source": [
    "-------------"
   ]
  },
  {
   "cell_type": "markdown",
   "metadata": {},
   "source": [
    "## **Part 0**: Setup"
   ]
  },
  {
   "cell_type": "code",
   "execution_count": null,
   "metadata": {},
   "outputs": [],
   "source": [
    "# import all packages \n",
    "import pandas as pd\n",
    "import numpy as np\n",
    "\n",
    "# scikit-learn\n",
    "from sklearn.model_selection import train_test_split\n",
    "from sklearn.linear_model    import LinearRegression\n",
    "\n",
    "# plotting \n",
    "import matplotlib \n",
    "import matplotlib.pyplot as plt\n",
    "%matplotlib inline\n"
   ]
  },
  {
   "cell_type": "code",
   "execution_count": null,
   "metadata": {},
   "outputs": [],
   "source": [
    "# define all constants\n",
    "FONTSIZE  = 20\n",
    "FIGSIZE   = (12, 12)\n",
    "LINEWIDTH = 3"
   ]
  },
  {
   "cell_type": "markdown",
   "metadata": {},
   "source": [
    "## **Part 1**: Load data"
   ]
  },
  {
   "cell_type": "code",
   "execution_count": null,
   "metadata": {},
   "outputs": [],
   "source": [
    "# load data\n",
    "data = pd.read_csv('data/credit_data.csv')\n",
    "\n",
    "# Select target\n",
    "y = np.array(data['customer_default'])\n",
    "\n",
    "# Select features \n",
    "features = list(set(list(data.columns)) - set(['customer_default']))\n",
    "X = data.loc[:, features]\n",
    "\n",
    "# Divide data into a training set and a testing set using the train_test_split() function\n",
    "X_train, X_test, y_train, y_test = train_test_split(X, y, test_size = 0.20, random_state=1, stratify=y)\n",
    "\n",
    "print('X_train: \\t{}'.format(X_train.shape))\n",
    "print('y_train: \\t{}\\n'.format(y_train.shape))\n",
    "print('X_test: \\t{}'.format(X_test.shape))\n",
    "print('y_test: \\t{}'.format(y_test.shape))"
   ]
  },
  {
   "cell_type": "markdown",
   "metadata": {},
   "source": [
    "## **Part 2**: Fit a linear probability model (LPM)"
   ]
  },
  {
   "cell_type": "code",
   "execution_count": null,
   "metadata": {},
   "outputs": [],
   "source": [
    "# Fit an OLS linear regression\n",
    "ols_model = LinearRegression()\n",
    "ols_model.fit(X_train, y_train)\n",
    "y_hat_ols_prob = ols_model.predict(X_test)  # Precict the probability"
   ]
  },
  {
   "cell_type": "markdown",
   "metadata": {},
   "source": [
    "## **Part 3**: Optimize the LPM based on accuracy\n",
    "\n",
    "Here we show how different thresholds result in different accuracies. "
   ]
  },
  {
   "cell_type": "code",
   "execution_count": null,
   "metadata": {},
   "outputs": [],
   "source": [
    "# Find the optimal threshold with constant costs \n",
    "results = []\n",
    "for i in range(1, 100):\n",
    "    threshold = 0.01 * i\n",
    "    y_hats    = [int(v >= threshold) for v in y_hat_ols_prob]\n",
    "    correct   = [int(r[0]==r[1]) for r in zip(y_test, y_hats)]\n",
    "    accuracy  = sum(correct)/len(correct)\n",
    "    results.append( (accuracy, threshold) )\n",
    "optimal_p   = sorted(results, reverse=True)[0][1]\n",
    "optimal_acc = sorted(results, reverse=True)[0][0]\n",
    "print('Optimal probability threshold = {} with accuracy = {}\\n'.format(round(optimal_p, 4), round(optimal_acc, 4)))\n",
    "\n",
    "y,x = zip(*results)\n",
    "font = {'size'   : FONTSIZE}\n",
    "matplotlib.rc('font', **font)\n",
    "plt.figure(figsize=FIGSIZE)\n",
    "plt.plot(x, y, linewidth=LINEWIDTH)\n",
    "plt.vlines(optimal_p, ymin=0, ymax=1, colors=['red'], linewidth=3)\n",
    "plt.ylabel('Accuracy')\n",
    "plt.xlabel('Probability Threshold')\n",
    "plt.grid()\n"
   ]
  },
  {
   "cell_type": "markdown",
   "metadata": {},
   "source": [
    "## **Part 4**: Optimize the LPM based on costs of incorrect predictions\n",
    "\n",
    "Here we show how different costs for False Positives and False Negatives can result in optimal thresholds different to optimizing for accuracy."
   ]
  },
  {
   "cell_type": "code",
   "execution_count": null,
   "metadata": {},
   "outputs": [],
   "source": [
    "# Set costs\n",
    "C_FP = 1\n",
    "C_FN = 4\n",
    "\n",
    "# Find the optimal threshold with specific costs \n",
    "results = []\n",
    "for i in range(1, 100):\n",
    "    threshold = 0.01 * i\n",
    "    y_hats = [int(v >= threshold) for v in y_hat_ols_prob]\n",
    "    errors = []\n",
    "    for r in zip(y_test, y_hats):\n",
    "        actual_value = r[0]\n",
    "        predicted_value = r[1]\n",
    "        # Incorrect prediction\n",
    "        if predicted_value != actual_value:\n",
    "            \n",
    "            # False positve\n",
    "            if predicted_value:\n",
    "                errors.append(C_FP)\n",
    "                \n",
    "            # False negative\n",
    "            else:\n",
    "                errors.append(C_FN)\n",
    "        # Correct prediction\n",
    "        else:\n",
    "            errors.append(0)\n",
    "    total_error = sum(errors)\n",
    "    results.append( (total_error, threshold) )\n",
    "optimal_p   = sorted(results)[0][1]\n",
    "optimal_acc = sorted(results)[0][0]\n",
    "print('Optimal probability threshold = {} with costs = {}\\n'.format(round(optimal_p, 4), round(optimal_acc, 4)))\n",
    "\n",
    "y,x = zip(*results)\n",
    "plt.figure(figsize=FIGSIZE)\n",
    "plt.plot(x, y, linewidth=LINEWIDTH)\n",
    "plt.vlines(optimal_p, ymin=0, ymax=max(results), colors=['red'], linewidth=LINEWIDTH)\n",
    "plt.ylabel('Weighted Count of Error')\n",
    "plt.xlabel('Probability Threshold')\n",
    "plt.grid()\n"
   ]
  },
  {
   "cell_type": "markdown",
   "metadata": {},
   "source": [
    "Switch to `scripts/i2b-lpm.py` to see how the LPM errors change with different costs for false predictions."
   ]
  },
  {
   "cell_type": "markdown",
   "metadata": {},
   "source": [
    "## **Part 5**: Visualize the effects of changing the cost structure LIVE\n",
    "\n",
    "Use a python console to run `expected-value.py` - you can then adjust the cost structure and see how the expected value (weighted count of errors) changes, and thus the optimal probability threshold for the model."
   ]
  }
 ],
 "metadata": {
  "kernelspec": {
   "display_name": "Python 3 (ipykernel)",
   "language": "python",
   "name": "python3"
  },
  "language_info": {
   "codemirror_mode": {
    "name": "ipython",
    "version": 3
   },
   "file_extension": ".py",
   "mimetype": "text/x-python",
   "name": "python",
   "nbconvert_exporter": "python",
   "pygments_lexer": "ipython3",
   "version": "3.8.5"
  }
 },
 "nbformat": 4,
 "nbformat_minor": 4
}
