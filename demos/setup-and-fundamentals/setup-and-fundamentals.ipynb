{
 "cells": [
  {
   "cell_type": "markdown",
   "metadata": {},
   "source": [
    "# **DSFM Demo**: Setup and Fundamentals"
   ]
  },
  {
   "cell_type": "markdown",
   "metadata": {},
   "source": [
    "Creator: [Data Science for Managers - EPFL Program](https://www.dsfm.ch)  \n",
    "Source:  [https://github.com/dsfm-org/code-bank.git](https://github.com/dsfm-org/code-bank.git)  \n",
    "License: [MIT License](https://opensource.org/licenses/MIT). See open source [license](LICENSE) in the Code Bank repository. "
   ]
  },
  {
   "cell_type": "markdown",
   "metadata": {},
   "source": [
    "-------------"
   ]
  },
  {
   "cell_type": "markdown",
   "metadata": {},
   "source": [
    "## Overview"
   ]
  },
  {
   "cell_type": "markdown",
   "metadata": {},
   "source": [
    "In this notebook we will go through the basics of using GitHub and Python on your private virtual machine (VM), hosted on the Google Cloud. Keep note of the URL to your VM as we will need it throughout DSFM."
   ]
  },
  {
   "cell_type": "markdown",
   "metadata": {},
   "source": [
    "-------------"
   ]
  },
  {
   "cell_type": "markdown",
   "metadata": {},
   "source": [
    "<img src=\"http://pngimg.com/uploads/github/github_PNG15.png\" width=\"200\" height=\"200\" align=\"center\"/>"
   ]
  },
  {
   "cell_type": "markdown",
   "metadata": {},
   "source": [
    "The first section introduces GitHub, a common platform used for collaborating on software projects. GitHub is based on a distributed version control system called Git. Working with Git and GitHub makes it easy to track changes in the source code and effectively combine the work of a team of software engineers. \n",
    "\n",
    "We are using GitHub to share the lecture slides and all practical materials with you. Each day, we will \"push\" (that's the Git term for upload) new materials to our class repository. So you might wonder ... "
   ]
  },
  {
   "cell_type": "markdown",
   "metadata": {},
   "source": [
    "### How can I download class materials from GitHub at the beginning of the class?\n",
    "\n",
    "1. Generate a personal access token (see instructions [here](https://docs.github.com/en/github/authenticating-to-github/keeping-your-account-and-data-secure/creating-a-personal-access-token)) and copy it.\n",
    "\n",
    "2. Clone all materials from our GitHub class repository \n",
    "\n",
    "    `git clone <repository_link>`\n",
    "    \n",
    "3. Enter your GitHub username and personal access token as the password. Note that nothing will show up as you paste in your token for security reasons. Once you have pasted in your token, click `Enter`. The repository will now be cloned (i.e. downloaded) to your machine. \n",
    "\n",
    "4. You now have the repository on your private machine."
   ]
  },
  {
   "cell_type": "markdown",
   "metadata": {},
   "source": [
    "### Option 1: Clone the class repository daily\n",
    "\n",
    "Here, we retain a copy of the class repo at the end of each day. So, we will be left with 5 folders at the end of the Boot Camp."
   ]
  },
  {
   "cell_type": "markdown",
   "metadata": {},
   "source": [
    "1. Right-click the existing repository and append a tag like `-day1` to the end of the repository name. You are free to append whatever tag makes most sense to you.\n",
    "\n",
    "2. Open a Terminal window on your private VM.\n",
    "\n",
    "3. Type in `git clone <repository_url>`\n",
    "\n",
    "4. Enter your GitHub username and personal access token as the password, then click `Enter`\n",
    "\n",
    "5. You now have the latest version of the repository on your private machine."
   ]
  },
  {
   "cell_type": "markdown",
   "metadata": {},
   "source": [
    "### Option 2: Overwrite the class repository daily\n",
    "\n",
    "Here, we overwrite any changes we made to the class repo. So, we will be left with 1 folder at the end of the Boot Camp."
   ]
  },
  {
   "cell_type": "markdown",
   "metadata": {},
   "source": [
    "1. Open a Terminal window on your private VM.\n",
    "\n",
    "2. Navigate to the existing GitHub repository by typing in `cd <repository_name>`\n",
    "\n",
    "3. Pull the latest version of class materials by typing in `git pull`\n",
    "\n",
    "4. Enter your GitHub username and personal access token as the password, then click `Enter`\n",
    "\n",
    "5. You should now have the latest version of the repository on your private machine.\n",
    "\n",
    "If you run into any merge conflicts, navigate to the GitHub repository, then download all materials (`git fetch --all`) and reset the master branch (`git reset --hard origin/master`). More details on forcing GitHub to overwrite local changes are on [StackOverflow](https://stackoverflow.com/questions/1125968/how-do-i-force-git-pull-to-overwrite-local-files)."
   ]
  },
  {
   "cell_type": "markdown",
   "metadata": {},
   "source": [
    "For more details on how GitHub works see the [official Quickstart documentation](https://help.github.com/en/github/getting-started-with-github/quickstart)."
   ]
  },
  {
   "cell_type": "markdown",
   "metadata": {},
   "source": [
    "-------------"
   ]
  },
  {
   "cell_type": "markdown",
   "metadata": {},
   "source": [
    "# Python"
   ]
  },
  {
   "cell_type": "markdown",
   "metadata": {},
   "source": [
    "<img src=\"https://www.python.org/static/opengraph-icon-200x200.png\" width=\"150\" height=\"150\" align=\"center\"/>"
   ]
  },
  {
   "cell_type": "markdown",
   "metadata": {},
   "source": [
    "The following section introduces you to the basic programming concepts that you will use with the demos and problems in the DSFM course. It is recommended that you review this introduction before the start of class. If some of the concepts are foreign to you, it's probably OK. Python is very easy to learn and we primarily will use Python to \"glue together\" the passing off of data through pre-programmed libraries for analysis.  \n",
    "\n",
    "We have split further Python training materials into blue, red, and black:\n",
    "\n",
    "**The Blue Piste  (7 hours)**\n",
    "- A basic Kaggle course on Python:  https://www.kaggle.com/learn/python  \n",
    "- Great for a fast overview.   \n",
    "        \n",
    "**The Red Piste  (34 hours)**\n",
    "- A JetBrains Academy track on Python:  https://hi.hyperskill.org\n",
    "- Great way to go from absolute beginner to fully prepared. Interactive, bite-sized exercises. \n",
    "- Cool tools to track the concepts you have studied:  https://hyperskill.org/knowledge-map\n",
    "    \n",
    "**The Black Piste  (many more hours)**\n",
    "- A comprehensive Kaggle course on Pandas:  https://www.kaggle.com/learn/pandas\n",
    "- Advanced Python with more focus on data. The most complete preparation for DSFM. \n",
    "  \n",
    "The official Python documentation can be found on Python.org:   \n",
    "\n",
    "  https://docs.python.org/3/  "
   ]
  },
  {
   "cell_type": "markdown",
   "metadata": {},
   "source": [
    "### Why Python?\n",
    "\n",
    "Python is the most popular language for data science due to its readable syntax, ease of learning, and large number of libraries for data science."
   ]
  },
  {
   "cell_type": "markdown",
   "metadata": {},
   "source": [
    "### Which Python?"
   ]
  },
  {
   "cell_type": "markdown",
   "metadata": {},
   "source": [
    "We will use the latest version of __Python 3.X__. We also will provide you with a virtual machine from Google Cloud to use during the class. Everything will be pre-installed on the VM and ready to go, so all you _ __really__ _ need for the class is a lightweight laptop and a web browser. Using a VM is also advantageous when you need to run code on more powerful machines, and/or when they take a long time to train (hours to days). \n",
    "\n",
    "You may also want to set up your own computer so that you can continue to work on examples on a local machine after you leave the course. To do so, we strongly encourage you to use the [Anaconda Distribution](https://www.anaconda.com/distribution/) of Python to insure that you have a full-stack of scientific computing libraries and a properly configured environment. \n",
    "\n",
    "* __Anaconda__ is a free and open source distribution of the Python programming languages for data science and machine learning related applications (large-scale data processing, predictive analytics, scientific computing), that aims to simplify package management and deployment.  \n",
    "\n",
    "* Anaconda comes with a set of installed data science libraries with the possibility of installing other useful libraries later. __Conda__ is their open source package management system and environment management system that runs inside Anaconda distribution.  "
   ]
  },
  {
   "cell_type": "markdown",
   "metadata": {},
   "source": [
    "-------------"
   ]
  },
  {
   "cell_type": "markdown",
   "metadata": {},
   "source": [
    "# Jupyter Lab"
   ]
  },
  {
   "cell_type": "markdown",
   "metadata": {},
   "source": [
    "<img src=\"https://jupyter.org/assets/main-logo.svg\" width=\"150\" height=\"150\" align=\"center\"/>"
   ]
  },
  {
   "cell_type": "markdown",
   "metadata": {},
   "source": [
    "Before we begin with Python, let's first introduce the programming user interface and execution environment that we will use in the DSFM course: [Jupyter Lab](https://jupyterlab.readthedocs.io/en/latest/getting_started/installation.html)  "
   ]
  },
  {
   "cell_type": "markdown",
   "metadata": {},
   "source": [
    "Jupyter Lab is an [open-source tool](https://github.com/jupyterlab/jupyterlab) that runs in a web browser. Fostering reuse and reproducibility, it supports interactive data science and scientific computing across multiple programming languages (i.e., \"kernels\") via the idea of notebooks. A Notebook provides an IDE-like experience to users, but also allows them to test and document what is going on in a very detailed (and visually attractive manner). The introduction that you are reading right now is a Jupyter Notebook (or at least it started as a Jupyter Notebook if you are reading it as a PDF). "
   ]
  },
  {
   "cell_type": "markdown",
   "metadata": {},
   "source": [
    "Below you will begin to see how Jupyter runs code in an interactive manner.  Content in Jupyter Notebooks are organized into separate \"cells.\" Each cell is either a section of CODE (which will execute when you run it) or a section of MARKDOWN (which is a quick-and-easy way to format text), or it is the result of code that has been run right above it. You can change the type of cell between **CODE** and **MARKDOWN** by selecting the cell and hitting `M`. You can collapse output from cells by clicking along the blue bar on the left."
   ]
  },
  {
   "cell_type": "markdown",
   "metadata": {},
   "source": [
    "  * For documentation on the functionality of Jupyter Lab, see:  \n",
    "    \n",
    "    https://jupyterlab.readthedocs.io/en/stable/#  \n",
    "  \n",
    "  * For documentation on commands for Jupyter Notebooks, see:  \n",
    "  \n",
    "    https://jupyter-notebook.readthedocs.io/en/latest/#  \n",
    "  \n",
    "  * For documentation on formatting with MarkDown, see:  \n",
    "    \n",
    "    https://help.github.com/articles/basic-writing-and-formatting-syntax  \n",
    "  \n",
    "  * For other tips and tricks in Jupyter, see:  \n",
    "  \n",
    "    https://www.dataquest.io/blog/jupyter-notebook-tips-tricks-shortcuts/\n"
   ]
  },
  {
   "cell_type": "markdown",
   "metadata": {},
   "source": [
    "If you have the time and the expertise, you may want to install Anaconda and run Jupyter Lab on your own computer now. You can then play around with the following three techniques: Shortcuts, Shell Commands, and Magic Commands.\n",
    "\n",
    "Please let the teaching team know if you need any help or advice on installing Anaconda on your local machine."
   ]
  },
  {
   "cell_type": "markdown",
   "metadata": {},
   "source": [
    "### Keyboard Shortcuts  \n",
    "\n",
    "You can use the following shortcuts from the keyboard when working with notebooks (and/or see the __Commands__ tab along the left menu bar of Jupyter Lab.\n",
    "\n",
    "    Shift + Enter        Execute a cell\n",
    "    Shift + Tab          Show documentation (\"intellisense\")\n",
    "    Cmd + ']'            Increase indentation\n",
    "    Cmd + '['            Decrease indentation  \n",
    "    Ctrl + Shift + -     Split current cell into two at cursor\n",
    "    A                    Add a new cell above\n",
    "    B                    Add a new cell below\n",
    "    X                    Cut the current cell\n",
    "    M                    Change type of current cell to markdown\n",
    "    etc..."
   ]
  },
  {
   "cell_type": "markdown",
   "metadata": {},
   "source": [
    "### A Code cell"
   ]
  },
  {
   "cell_type": "code",
   "execution_count": null,
   "metadata": {},
   "outputs": [],
   "source": [
    "print('hello world')"
   ]
  },
  {
   "cell_type": "markdown",
   "metadata": {},
   "source": [
    "### A Markdown cell"
   ]
  },
  {
   "cell_type": "markdown",
   "metadata": {},
   "source": [
    "here is a text"
   ]
  },
  {
   "cell_type": "markdown",
   "metadata": {},
   "source": [
    "### Shell commands \n",
    "\n",
    "You can execute an OS shell command from inside your notebook using the exclamation '!' character. The following are examples of common UNIX shell commands that you might use:  \n",
    "\n",
    "    !ls                        list contents of current folder\n",
    "    !conda install <library>   install a new Py5hon library\n",
    "    !ps                        list the process status for current user\n",
    "    etc..."
   ]
  },
  {
   "cell_type": "code",
   "execution_count": null,
   "metadata": {},
   "outputs": [],
   "source": [
    "!ls"
   ]
  },
  {
   "cell_type": "markdown",
   "metadata": {},
   "source": [
    "### Magic commands\n",
    "\n",
    "You can execute a special (magical) set of Jupyter commands that add extra functionality to the environment. You prefix magic commands with a % or %%  \n",
    "\n",
    "    %timeit               runs a statement 100,000 times (default) and provide mean of the fastest three times.\n",
    "    %%time                give you information about a single run of the code in your cell.\n",
    "    %lsmagic              view list of all magic commands\n",
    "    ..."
   ]
  },
  {
   "cell_type": "code",
   "execution_count": null,
   "metadata": {},
   "outputs": [],
   "source": [
    "%%time \n",
    "a = [2**(1/float(b)) for b in range(1, 10000000)]"
   ]
  },
  {
   "cell_type": "markdown",
   "metadata": {},
   "source": [
    "-------------"
   ]
  },
  {
   "cell_type": "markdown",
   "metadata": {},
   "source": [
    "# Basic Python Programming"
   ]
  },
  {
   "cell_type": "markdown",
   "metadata": {},
   "source": [
    "## Comments, Print and Execution\n",
    "\n",
    "* single line comments start with '#' and multi line comments are located between ''' pairs\n",
    "* Print function, show a message in the default output\n",
    "* You can execute a cell by pressing Shift+Enter."
   ]
  },
  {
   "cell_type": "code",
   "execution_count": null,
   "metadata": {},
   "outputs": [],
   "source": [
    "# this comment is on a single line  \n",
    "\n",
    "'''\n",
    "this comment \n",
    "crosses two lines\n",
    "'''\n",
    "\n",
    "\"\"\"\n",
    "this comment\n",
    "also crosses two lines\n",
    "\"\"\"\n",
    "\n",
    "print('Hello World')\n",
    "pass"
   ]
  },
  {
   "cell_type": "markdown",
   "metadata": {},
   "source": [
    "## Variables\n",
    "\n",
    "* A variable has a name and a value\n",
    "* A variable is created when you assign a value to it using `=`\n",
    "* Values can be numeric, string or any other data type\n",
    "* Values are types but variables are NOT typed. The same variable can be reassigned to any type.\n",
    "* Strings are enclosed by quotes, such as:  `'HERE IS SOME TEXT'`  OR   `\"HERE IS SOME TEXT\"`"
   ]
  },
  {
   "cell_type": "code",
   "execution_count": null,
   "metadata": {},
   "outputs": [],
   "source": [
    "# Increment variable\n",
    "myvar = 3\n",
    "myvar += 2\n",
    "print(myvar)\n",
    "print()\n",
    "\n",
    "# Decrement variable\n",
    "myvar -= 1\n",
    "print(myvar)\n",
    "print()\n",
    "\n",
    "# Append to a string \n",
    "mystring = \"Hello\"\n",
    "mystring += \" world.\"\n",
    "print(mystring)\n",
    "print('Myvar: {}; Mystring: {}'.format(myvar, mystring))\n",
    "print()\n",
    "\n",
    "# Swap variables in place\n",
    "myvar, mystring = mystring, myvar\n",
    "print(myvar, mystring)\n",
    "print()\n",
    "\n",
    "print('Check variable type:')\n",
    "type(myvar)"
   ]
  },
  {
   "cell_type": "markdown",
   "metadata": {},
   "source": [
    "## Data Structures\n",
    "\n",
    "Python has four main data structures: \n",
    "\n",
    "#### Set\n",
    "\n",
    "  - an *unordered* set of items\n",
    "  \n",
    "#### List\n",
    "\n",
    "  - an *ordered* set of items\n",
    "  - items can be changed\n",
    "  \n",
    "#### Tuple  \n",
    "\n",
    "  - an *ordered* set of items\n",
    "  - items cannot be changed (they are \"immutable\")\n",
    "  \n",
    "#### Dictionary\n",
    "\n",
    "  - a `key:value` store of items  \n",
    "  - dictionaries are unordered (although there are ordered dicts too)  \n",
    "  \n",
    "Supporting libraries give you many more data types. The `numpy` library, for example, also gives you arrays and matrices.  \n",
    "\n",
    "We use extra white spaces to align variable assignments. Strictly speaking, Python enthusiasts consider this bad practice (see the [PEP 8 Style Guide](https://www.python.org/dev/peps/pep-0008/) for more). We are convinced it increases code readability though. "
   ]
  },
  {
   "cell_type": "code",
   "execution_count": null,
   "metadata": {},
   "outputs": [],
   "source": [
    "# LIST\n",
    "sample     = [1, [\"another\", \"list\"], (\"a\", \"tuple\")]\n",
    "mylist     = [\"List item 1\", 2, 3.14, 4]\n",
    "mylist[0]  = \"List item 1 again\"   # We're changing the item\n",
    "mylist[-1] = 2                     # Here, we refer to the last item\n",
    "print('Mylist variable')\n",
    "print(mylist)\n",
    "print()\n",
    "\n",
    "# SET \n",
    "print('Myset variable')\n",
    "myset = set(mylist)\n",
    "print(myset)\n",
    "print()\n",
    "\n",
    "# DICTIONARY \n",
    "mydict       = dict({\"Key 1\": \"Value 1\", 2: 3, \"pi\": 3.14})\n",
    "mydict[\"pi\"] = 3.15 # This is how you change dictionary values.\n",
    "print('Mydict variable')\n",
    "print(mydict)\n",
    "print()\n",
    "\n",
    "# TUPLE \n",
    "print('Mytuple variable')\n",
    "mytuple = (1, 2, 3)\n",
    "print(mytuple)\n",
    "print()\n",
    "\n",
    "# LENGTH OF ALL VARIABLES ACROSS DATA TYPES\n",
    "print('Length of data')\n",
    "print(len(mylist))\n",
    "print(len(myset))\n",
    "print(len(mydict))\n",
    "print(len(mytuple))\n"
   ]
  },
  {
   "cell_type": "markdown",
   "metadata": {},
   "source": [
    "Lists use a particular form of indexing and slicing (explained in tutorials and explained more in class)."
   ]
  },
  {
   "cell_type": "code",
   "execution_count": null,
   "metadata": {},
   "outputs": [],
   "source": [
    "# Indexing of lists example \n",
    "mylist = [\"List item 1\", 2, 3.14]\n",
    "print(mylist[:])\n",
    "print(mylist[0:2])\n",
    "print(mylist[-3:-1])\n",
    "print(mylist[1:])\n",
    "print()\n",
    "\n",
    "# Adding a third parameter, \"step\" will have Python step in\n",
    "# N item increments, rather than 1.\n",
    "# e.g., this will return the first item, then go to the third and\n",
    "# return that (so, items 0 and 2 in 0-indexing).\n",
    "print(mylist[::2])"
   ]
  },
  {
   "cell_type": "markdown",
   "metadata": {},
   "source": [
    "## Flow Control\n",
    "\n",
    "A program consists of a set variables and control flow statements: \n",
    "* `if`: to define conditions\n",
    "* `for`: to create a loop\n",
    "* `while`: to create a loop\n",
    "    \n",
    "Blocks after control structures are defined by indentation after `:`.\n",
    "\n",
    "List comprehensions provide a powerful way to create and manipulate lists. \n",
    "* They consist of an expression followed by a for clause followed by zero or more if or for clauses."
   ]
  },
  {
   "cell_type": "code",
   "execution_count": null,
   "metadata": {},
   "outputs": [],
   "source": [
    "# Create a list from 0 to 10 (not including 10)\n",
    "rangelist = range(10)\n",
    "print(rangelist)\n",
    "print()\n",
    "\n",
    "# Example: for loop (a very common type of loop!)\n",
    "for number in rangelist:\n",
    "    \n",
    "    # Check if number is one of the numbers in the tuple.\n",
    "    if number in (3, 4, 7, 9):\n",
    "        print('We are in the if block: {}'.format(number))\n",
    "        \n",
    "    elif number in (5,6):\n",
    "        print('We are in the elif block: {}'.format(number))\n",
    "    else:\n",
    "        print('We are in the else block: {}'.format(number))"
   ]
  },
  {
   "cell_type": "code",
   "execution_count": null,
   "metadata": {},
   "outputs": [],
   "source": [
    "# Example: while loop \n",
    "number_of_iterations = 10\n",
    "\n",
    "while number_of_iterations >= 0:\n",
    "    \n",
    "    print('Current value of number_of_iterations is: {}'.format(number_of_iterations))\n",
    "    \n",
    "    number_of_iterations -= 1"
   ]
  },
  {
   "cell_type": "markdown",
   "metadata": {},
   "source": [
    "## Functions\n",
    "\n",
    "Functions introduce reusability and modularity into the code.\n",
    "Functions receive a set of input arguments and produce an output.\n",
    "Functions are defined using *def* keyword.\n",
    "\n",
    "Input arguments:\n",
    "* Optional arguments are set in the function declaration after the mandatory arguments by being assigned a default value.\n",
    "* For named arguments, the name of the argument is assigned a value.\n",
    "* Parameters are passed by *assignment*, but immutable types (tuples, integers, strings, etc) cannot be changed in the caller by the callee. \n",
    "\n",
    "Function Output:\n",
    "* Functions can return an output or return nothing.\n",
    "* Functions can return a tuple (and using tuple unpacking you can effectively return multiple values).\n",
    "\n",
    "Global variables are declared outside of functions and can be read without any special declarations, but if you want to write to them you must declare them at the beginning of the function with the *global* keyword, otherwise Python will bind that object to a new local variable "
   ]
  },
  {
   "cell_type": "code",
   "execution_count": null,
   "metadata": {},
   "outputs": [],
   "source": [
    "# an_int and a_string are optional, they have default values\n",
    "# if one is not passed (2 and \"A default string\", respectively).\n",
    "def passing_example(a_list, an_int = 2, a_string = \"A default string\"):\n",
    "    \n",
    "    a_list.append(\"A new item\")\n",
    "    an_int = 4\n",
    "    \n",
    "    return a_list, an_int, a_string\n",
    "\n",
    "my_list = [1, 2, 3]\n",
    "my_int = 10\n",
    "\n",
    "print(passing_example(my_list, my_int))\n",
    "print(my_list)\n",
    "print(my_int)\n"
   ]
  },
  {
   "cell_type": "markdown",
   "metadata": {},
   "source": [
    "## Classes\n",
    "\n",
    "* Classes provide a means of bundling data and functionality together.\n",
    "* Creating a new class creates a new type of object, allowing new instances of that type to be made.\n",
    "* Each class instance can have attributes attached to it for maintaining its state.\n",
    "* Class instances can also have methods (defined by its class) for modifying its state.\n",
    "* Constructor method gives newly instantiated object an initial state."
   ]
  },
  {
   "cell_type": "code",
   "execution_count": null,
   "metadata": {},
   "outputs": [],
   "source": [
    "# Example class \n",
    "class Dog(object):\n",
    "\n",
    "    def __init__(self, name): # class constructor\n",
    "        self.name = name\n",
    "        self.tricks = [] # creates a new empty list for each dog\n",
    "\n",
    "    def add_trick(self, trick):\n",
    "        self.tricks.append(trick)\n",
    "\n",
    "# Initialize an instance of the Dog class\n",
    "d = Dog('Fido')\n",
    "e = Dog('Buddy')\n",
    "\n",
    "# Apply class method\n",
    "d.add_trick('roll over')\n",
    "e.add_trick('play dead')\n",
    "\n",
    "print(d.tricks)\n",
    "print(e.tricks)"
   ]
  },
  {
   "cell_type": "markdown",
   "metadata": {},
   "source": [
    "## File I/O\n",
    "\n",
    "* Python has a wide array of libraries built in for input and output to the files.\n",
    "* Standard mechanism for serializing objects into files is through *pickling*."
   ]
  },
  {
   "cell_type": "code",
   "execution_count": null,
   "metadata": {},
   "outputs": [],
   "source": [
    "# Create a .txt.file\n",
    "f = open(\"test.txt\",\"w+\")\n",
    "for i in range(10):\n",
    "     f.write(\"This is line %d\\r\\n\" % (i+1))\n",
    "        \n",
    "f.close() \n",
    "\n",
    "# append to a file\n",
    "f = open(\"test.txt\", \"a+\")\n",
    "for i in range(2):\n",
    "     f.write(\"Appended line %d\\r\\n\" % (i+1))\n",
    "        \n",
    "f.close()\n",
    "\n",
    "# read a file\n",
    "f = open(\"test.txt\", \"r\")\n",
    "if f.mode == 'r':\n",
    "    contents = f.read()\n",
    "    \n",
    "print('Conent of the .txt file: \\n')\n",
    "print(contents)"
   ]
  },
  {
   "cell_type": "code",
   "execution_count": null,
   "metadata": {},
   "outputs": [],
   "source": [
    "# Serialize and deserialize a list\n",
    "import pickle\n",
    "\n",
    "list = [1,2,3]\n",
    "with open('list.pkl', 'wb') as f:\n",
    "    pickle.dump(list, f)\n",
    "    \n",
    "with open('list.pkl', 'rb') as f:\n",
    "    newlist = pickle.load(f)\n",
    "    \n",
    "print('Content of the .pkl file: \\n')\n",
    "print(newlist)\n"
   ]
  },
  {
   "cell_type": "markdown",
   "metadata": {},
   "source": [
    "## Libraries\n",
    "\n",
    "* A library is a set of functions and classes that can be reused in your code.\n",
    "* To use a library, you must first __import__ it using the `import` command.\n",
    "* Either the whole library or specific classes and functions from within it can be imported.\n",
    "* There are several data science libraries in Python that are very popular: *Numpy, Pandas, Matplotlib*\n"
   ]
  },
  {
   "cell_type": "markdown",
   "metadata": {},
   "source": [
    "### Numpy"
   ]
  },
  {
   "cell_type": "markdown",
   "metadata": {},
   "source": [
    "NumPy is the fundamental library for scientific computing with Python and one of the core libraries used in various data science applications. It contains among other things the followings:\n",
    "\n",
    "* a powerful N-dimensional array as its main data structure\n",
    "* numerous linear algebra capabilities over N-dimensioanal arrays\n",
    "* SciPy library, a collection of mathematical algorithms and convenience functions, built on top of Numpy. \n",
    "\n",
    "more information: [NumPy tutorial](https://numpy.org/doc/stable/user/quickstart.html)"
   ]
  },
  {
   "cell_type": "code",
   "execution_count": null,
   "metadata": {},
   "outputs": [],
   "source": [
    "import numpy as np\n",
    "\n",
    "np.arcsin(1)\n",
    "a = np.arange(15).reshape(3, 5)\n",
    "a"
   ]
  },
  {
   "cell_type": "markdown",
   "metadata": {},
   "source": [
    "### Pandas"
   ]
  },
  {
   "cell_type": "markdown",
   "metadata": {},
   "source": [
    "Pandas is a popular, open source library providing high-performance, easy-to-use data structures and data analysis tools for the Python programming language.\n",
    "\n",
    "Its functionality is based on two data structures: \n",
    "\n",
    "* Series: a list, or array-like, sequence of items\n",
    "* DataFrame: a 2-dimensional, table-like, collection of rows and columns\n",
    "\n",
    "more information: [10 mins with Pandas](http://pandas.pydata.org/pandas-docs/stable/10min.html)"
   ]
  },
  {
   "cell_type": "code",
   "execution_count": null,
   "metadata": {},
   "outputs": [],
   "source": [
    "import pandas as pd\n",
    "\n",
    "dates = pd.date_range('20130101', periods=6)\n",
    "df    = pd.DataFrame(np.random.randn(6,4), index=dates, columns=['A','B','C','D'])\n",
    "df.head()"
   ]
  },
  {
   "cell_type": "markdown",
   "metadata": {},
   "source": [
    "### Matplotlib"
   ]
  },
  {
   "cell_type": "markdown",
   "metadata": {},
   "source": [
    "Matplotlib is a plotting library which can produce high quality figures in a variety of formats, and across a variety of platforms.\n",
    "\n",
    "* __matplotlib__ itself is an object-oriented library. It can be very confusing.\n",
    "* __Pyplot__ provides a more convenient interface to matplotlib that is modelled closely on MATLAB.\n",
    "* __Seaborn__ is, another popular visualization library for Python to produce more pretty figures, is based on matplotlib at its core.\n",
    "* __Bokeh__ and Plotly are python visualization libraries which, unlike Matplotlib and Seaborn, produce interactive visualizations.\n",
    "\n",
    "more information: [matplotlib tutorial](https://matplotlib.org/tutorials/index.html)"
   ]
  },
  {
   "cell_type": "code",
   "execution_count": null,
   "metadata": {},
   "outputs": [],
   "source": [
    "import matplotlib.pyplot as plt\n",
    "%matplotlib inline\n",
    "\n",
    "plt.plot([1, 2, 3, 3])\n",
    "plt.ylabel('some numbers on y axis')\n",
    "plt.show()"
   ]
  },
  {
   "cell_type": "markdown",
   "metadata": {},
   "source": [
    "### Scikit-Learn"
   ]
  },
  {
   "cell_type": "markdown",
   "metadata": {},
   "source": [
    "Scikit-Learn is the leading machine learning package in Python and the main library we deal with in this course. \n",
    "\n",
    "It includes different models for the full cycle of a data science project including:\n",
    "\n",
    "* data preprocessing\n",
    "* predictive modeling (supervised and unsupervised , classification and regression)\n",
    "* model evaluation and selection\n",
    "* a lot more ..."
   ]
  },
  {
   "cell_type": "markdown",
   "metadata": {},
   "source": [
    "![](https://scikit-learn.org/stable/_static/ml_map.png)\n"
   ]
  },
  {
   "cell_type": "markdown",
   "metadata": {},
   "source": [
    "more information: [Scikit-Learn tutorial](https://scikit-learn.org/stable/tutorial/index.html)"
   ]
  },
  {
   "cell_type": "code",
   "execution_count": null,
   "metadata": {},
   "outputs": [],
   "source": [
    "# Code source: Gaël Varoquaux\n",
    "# Modified for documentation by Jaques Grobler\n",
    "# License: BSD 3 clause\n",
    "\n",
    "import numpy as np\n",
    "import matplotlib.pyplot as plt\n",
    "from sklearn.linear_model import LogisticRegression\n",
    "from sklearn import datasets\n",
    "\n",
    "# import some data to play with\n",
    "iris = datasets.load_iris()\n",
    "X = iris.data[:, :2]  # we only take the first two features.\n",
    "Y = iris.target\n",
    "\n",
    "logreg = LogisticRegression(C=1e5)\n",
    "\n",
    "# Create an instance of Logistic Regression Classifier and fit the data.\n",
    "logreg.fit(X, Y)\n",
    "\n",
    "# Plot the decision boundary. For that, we will assign a color to each\n",
    "# point in the mesh [x_min, x_max]x[y_min, y_max].\n",
    "x_min, x_max = X[:, 0].min() - .5, X[:, 0].max() + .5\n",
    "y_min, y_max = X[:, 1].min() - .5, X[:, 1].max() + .5\n",
    "h = .02  # step size in the mesh\n",
    "xx, yy = np.meshgrid(np.arange(x_min, x_max, h), np.arange(y_min, y_max, h))\n",
    "Z = logreg.predict(np.c_[xx.ravel(), yy.ravel()])\n",
    "\n",
    "# Put the result into a color plot\n",
    "Z = Z.reshape(xx.shape)\n",
    "plt.figure(1, figsize=(12, 10))\n",
    "plt.pcolormesh(xx, yy, Z, cmap=plt.cm.Paired)\n",
    "\n",
    "# Plot also the training points\n",
    "plt.scatter(X[:, 0], X[:, 1], c=Y, edgecolors='k', cmap=plt.cm.Paired)\n",
    "plt.xlabel('Sepal length')\n",
    "plt.ylabel('Sepal width')\n",
    "\n",
    "plt.xlim(xx.min(), xx.max())\n",
    "plt.ylim(yy.min(), yy.max())\n",
    "plt.xticks(())\n",
    "plt.yticks(())\n",
    "\n",
    "plt.show()"
   ]
  }
 ],
 "metadata": {
  "kernelspec": {
   "display_name": "Python 3",
   "language": "python",
   "name": "python3"
  },
  "language_info": {
   "codemirror_mode": {
    "name": "ipython",
    "version": 3
   },
   "file_extension": ".py",
   "mimetype": "text/x-python",
   "name": "python",
   "nbconvert_exporter": "python",
   "pygments_lexer": "ipython3",
   "version": "3.8.10"
  }
 },
 "nbformat": 4,
 "nbformat_minor": 4
}
