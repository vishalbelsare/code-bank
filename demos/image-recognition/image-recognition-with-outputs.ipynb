{
 "cells": [
  {
   "cell_type": "markdown",
   "metadata": {},
   "source": [
    "# **Image Recognition**: Neural Nets"
   ]
  },
  {
   "cell_type": "markdown",
   "metadata": {},
   "source": [
    "Source:  [https://github.com/d-insight/code-bank.git](https://github.com/d-insight/code-bank.git)  \n",
    "License: [MIT License](https://opensource.org/licenses/MIT). See open source [license](LICENSE) in the Code Bank repository. "
   ]
  },
  {
   "cell_type": "markdown",
   "metadata": {},
   "source": [
    "-------------"
   ]
  },
  {
   "cell_type": "markdown",
   "metadata": {},
   "source": [
    "## Overview"
   ]
  },
  {
   "cell_type": "markdown",
   "metadata": {},
   "source": [
    "In this demo we will perform a common image classification task, using the MNIST dataset. We consider a dataset of hand-written images and we are going to predict the number associated with each image. Every image has a dimension of 28 * 28 pixels and is gray-scale. The input data includes the intensity associated with each pixel row by row, starting from top-left corner (784 pixels in total). The label field shows the number associated with each image. \n",
    "\n",
    "The state-of-the-art model achieves an error rate of only 0.23% (Ciresan et al. CVPR 2012). We will achieve an approximate error rate of 1.2% in this demo. "
   ]
  },
  {
   "cell_type": "markdown",
   "metadata": {},
   "source": [
    "<img src=\"https://3qeqpr26caki16dnhd19sv6by6v-wpengine.netdna-ssl.com/wp-content/uploads/2019/02/Plot-of-a-Subset-of-Images-from-the-MNIST-Dataset.png\" width=\"700\" height=\"500\" align=\"center\"/>\n",
    "\n",
    "\n",
    "Image source: https://3qeqpr26caki16dnhd19sv6by6v-wpengine.netdna-ssl.com/wp-content/uploads/2019/02/Plot-of-a-Subset-of-Images-from-the-MNIST-Dataset.png"
   ]
  },
  {
   "cell_type": "markdown",
   "metadata": {},
   "source": [
    "For an interactive hand-written image classification demo, visit: https://mnist-demo.herokuapp.com/ \n",
    "\n",
    "Dataset source: http://yann.lecun.com/exdb/mnist/"
   ]
  },
  {
   "cell_type": "markdown",
   "metadata": {},
   "source": [
    "## **Part 0**: Setup"
   ]
  },
  {
   "cell_type": "code",
   "execution_count": 1,
   "metadata": {},
   "outputs": [
    {
     "name": "stderr",
     "output_type": "stream",
     "text": [
      "Using TensorFlow backend.\n"
     ]
    }
   ],
   "source": [
    "# Put all import statements at the top of your notebook\n",
    "\n",
    "import warnings\n",
    "warnings.simplefilter('ignore')\n",
    "\n",
    "# Standard imports\n",
    "import pandas as pd\n",
    "import numpy as np\n",
    "import itertools\n",
    "\n",
    "# Data science packages\n",
    "from sklearn.model_selection import learning_curve, validation_curve, StratifiedShuffleSplit, train_test_split, StratifiedKFold\n",
    "from sklearn.metrics         import confusion_matrix\n",
    "from sklearn.svm             import SVC\n",
    "from sklearn.ensemble        import RandomForestClassifier\n",
    "from sklearn.neighbors       import KNeighborsClassifier\n",
    "from sklearn.dummy           import DummyClassifier\n",
    "from sklearn.linear_model    import LogisticRegression\n",
    "\n",
    "# Neural networks\n",
    "from keras.models          import Sequential\n",
    "from keras.layers          import Dense, Dropout, Flatten, Conv2D, MaxPool2D\n",
    "from keras.utils.vis_utils import model_to_dot\n",
    "from keras.models          import Sequential\n",
    "from keras.layers          import Dense\n",
    "from keras.utils.np_utils  import to_categorical\n",
    "from xgboost               import XGBClassifier\n",
    "\n",
    "# Visualization packages\n",
    "import seaborn as sns\n",
    "import matplotlib.pyplot as plt\n",
    "from IPython.display import SVG\n",
    "\n",
    "%matplotlib inline\n"
   ]
  },
  {
   "cell_type": "code",
   "execution_count": null,
   "metadata": {},
   "outputs": [],
   "source": [
    "# Set constants \n",
    "SCORE    = 'accuracy'\n",
    "N_CORES  = -1\n",
    "SEED     =  0\n",
    "N_SPLITS =  3"
   ]
  },
  {
   "cell_type": "code",
   "execution_count": null,
   "metadata": {},
   "outputs": [],
   "source": [
    "# Define a helper function to facilitate drawing validation and learning curves\n",
    "def plot_validation_curve(train_scores, cv_scores, x_data, scale='lin', title='', y_label='', x_label=''):\n",
    "    \n",
    "    train_scores_mean = np.mean(train_scores, axis=1)\n",
    "    train_scores_std = np.std(train_scores, axis=1)\n",
    "    cv_scores_mean = np.mean(cv_scores, axis=1)\n",
    "    cv_scores_std = np.std(cv_scores, axis=1)\n",
    "    \n",
    "    plt.title(title)\n",
    "    plt.xlabel(x_label)\n",
    "    plt.ylabel(y_label)\n",
    "    plt.ylim(0.0, 1.1)\n",
    "    lw = 2\n",
    "    \n",
    "    plt.fill_between(x_data, train_scores_mean - train_scores_std,train_scores_mean + train_scores_std, alpha=0.2, color=\"r\", lw=lw)\n",
    "    plt.fill_between(x_data, cv_scores_mean - cv_scores_std, cv_scores_mean + cv_scores_std, alpha=0.2, color=\"g\", lw=lw)\n",
    "    \n",
    "    if (scale == 'lin'):\n",
    "        plt.plot(x_data, train_scores_mean, 'o-', color=\"r\", label=\"Training score\")\n",
    "        plt.plot(x_data, cv_scores_mean, 'o-', color=\"g\",label=\"Cross-validation score\")\n",
    "    elif (scale == 'log'):\n",
    "        plt.semilogx(x_data, train_scores_mean, 'o-', color=\"r\", label=\"Training score\")\n",
    "        plt.semilogx(x_data, cv_scores_mean, 'o-', color=\"g\",label=\"Cross-validation score\")\n",
    "    plt.grid()\n",
    "    plt.legend(loc=\"best\")\n",
    "    plt.show()\n",
    "    \n",
    "# Helper function for plotting confusion matrix \n",
    "def plot_confusion_matrix(cm, classes, normalize=False, title='Confusion Matrix', \n",
    "                          cmap=plt.cm.Reds):\n",
    "    \"\"\"\n",
    "    This function prints and plots the confusion matrix.\n",
    "    Normalization can be applied by setting `normalize=True`.\n",
    "    \"\"\"\n",
    "    plt.imshow(cm, interpolation='nearest', cmap=cmap)\n",
    "    plt.title(title)\n",
    "    plt.colorbar()\n",
    "    tick_marks = np.arange(len(classes))\n",
    "    plt.xticks(tick_marks, classes, rotation=45)\n",
    "    plt.yticks(tick_marks, classes)\n",
    "    if normalize:\n",
    "        cm = cm.astype('float') / cm.sum(axis=1)[:, np.newaxis]\n",
    "    thresh = cm.max() / 2.\n",
    "    for i, j in itertools.product(range(cm.shape[0]), range(cm.shape[1])):\n",
    "        plt.text(j, i, round (cm[i, j],2), horizontalalignment=\"center\",\n",
    "                 color=\"white\" if cm[i, j] > thresh else \"black\")\n",
    "    plt.tight_layout()\n",
    "    plt.ylabel('Actual label')\n",
    "    plt.xlabel('Predicted label')\n",
    "    \n",
    "# Define a function to facilitate drawing learning curves\n",
    "def plot_learning_curve(train_scores,cv_scores,x_data,scale='lin',title='',y_label='',x_label=''):\n",
    "    \n",
    "    train_scores_mean = np.mean(train_scores, axis=1)\n",
    "    train_scores_std = np.std(train_scores, axis=1)\n",
    "    cv_scores_mean = np.mean(cv_scores, axis=1)\n",
    "    cv_scores_std = np.std(cv_scores, axis=1)\n",
    "    \n",
    "    plt.title(title)\n",
    "    plt.xlabel(x_label)\n",
    "    plt.ylabel(y_label)\n",
    "    plt.ylim(0.0, 1.1)\n",
    "    lw = 2\n",
    "    \n",
    "    plt.fill_between(x_data, train_scores_mean - train_scores_std,train_scores_mean + train_scores_std, alpha=0.2, color=\"r\", lw=lw)\n",
    "    plt.fill_between(x_data, cv_scores_mean - cv_scores_std, cv_scores_mean + cv_scores_std, alpha=0.2, color=\"g\", lw=lw)\n",
    "    \n",
    "    if (scale == 'lin'):\n",
    "        plt.plot(x_data, train_scores_mean, 'o-', color=\"r\", label=\"Training score\")\n",
    "        plt.plot(x_data, cv_scores_mean, 'o-', color=\"g\",label=\"Cross-validation score\")\n",
    "    elif (scale == 'log'):\n",
    "        plt.semilogx(x_data, train_scores_mean, 'o-', color=\"r\", label=\"Training score\")\n",
    "        plt.semilogx(x_data, cv_scores_mean, 'o-', color=\"g\",label=\"Cross-validation score\")\n",
    "    plt.grid()\n",
    "    plt.legend(loc=\"best\")\n",
    "    plt.show()"
   ]
  },
  {
   "cell_type": "markdown",
   "metadata": {},
   "source": [
    "## **Part 1**: Data Preprocessing and EDA"
   ]
  },
  {
   "cell_type": "code",
   "execution_count": 2,
   "metadata": {},
   "outputs": [
    {
     "data": {
      "text/html": [
       "<div>\n",
       "<style scoped>\n",
       "    .dataframe tbody tr th:only-of-type {\n",
       "        vertical-align: middle;\n",
       "    }\n",
       "\n",
       "    .dataframe tbody tr th {\n",
       "        vertical-align: top;\n",
       "    }\n",
       "\n",
       "    .dataframe thead th {\n",
       "        text-align: right;\n",
       "    }\n",
       "</style>\n",
       "<table border=\"1\" class=\"dataframe\">\n",
       "  <thead>\n",
       "    <tr style=\"text-align: right;\">\n",
       "      <th></th>\n",
       "      <th>label</th>\n",
       "      <th>pixel0</th>\n",
       "      <th>pixel1</th>\n",
       "      <th>pixel2</th>\n",
       "      <th>pixel3</th>\n",
       "      <th>pixel4</th>\n",
       "      <th>pixel5</th>\n",
       "      <th>pixel6</th>\n",
       "      <th>pixel7</th>\n",
       "      <th>pixel8</th>\n",
       "      <th>...</th>\n",
       "      <th>pixel774</th>\n",
       "      <th>pixel775</th>\n",
       "      <th>pixel776</th>\n",
       "      <th>pixel777</th>\n",
       "      <th>pixel778</th>\n",
       "      <th>pixel779</th>\n",
       "      <th>pixel780</th>\n",
       "      <th>pixel781</th>\n",
       "      <th>pixel782</th>\n",
       "      <th>pixel783</th>\n",
       "    </tr>\n",
       "  </thead>\n",
       "  <tbody>\n",
       "    <tr>\n",
       "      <th>0</th>\n",
       "      <td>1</td>\n",
       "      <td>0</td>\n",
       "      <td>0</td>\n",
       "      <td>0</td>\n",
       "      <td>0</td>\n",
       "      <td>0</td>\n",
       "      <td>0</td>\n",
       "      <td>0</td>\n",
       "      <td>0</td>\n",
       "      <td>0</td>\n",
       "      <td>...</td>\n",
       "      <td>0</td>\n",
       "      <td>0</td>\n",
       "      <td>0</td>\n",
       "      <td>0</td>\n",
       "      <td>0</td>\n",
       "      <td>0</td>\n",
       "      <td>0</td>\n",
       "      <td>0</td>\n",
       "      <td>0</td>\n",
       "      <td>0</td>\n",
       "    </tr>\n",
       "    <tr>\n",
       "      <th>1</th>\n",
       "      <td>0</td>\n",
       "      <td>0</td>\n",
       "      <td>0</td>\n",
       "      <td>0</td>\n",
       "      <td>0</td>\n",
       "      <td>0</td>\n",
       "      <td>0</td>\n",
       "      <td>0</td>\n",
       "      <td>0</td>\n",
       "      <td>0</td>\n",
       "      <td>...</td>\n",
       "      <td>0</td>\n",
       "      <td>0</td>\n",
       "      <td>0</td>\n",
       "      <td>0</td>\n",
       "      <td>0</td>\n",
       "      <td>0</td>\n",
       "      <td>0</td>\n",
       "      <td>0</td>\n",
       "      <td>0</td>\n",
       "      <td>0</td>\n",
       "    </tr>\n",
       "    <tr>\n",
       "      <th>2</th>\n",
       "      <td>1</td>\n",
       "      <td>0</td>\n",
       "      <td>0</td>\n",
       "      <td>0</td>\n",
       "      <td>0</td>\n",
       "      <td>0</td>\n",
       "      <td>0</td>\n",
       "      <td>0</td>\n",
       "      <td>0</td>\n",
       "      <td>0</td>\n",
       "      <td>...</td>\n",
       "      <td>0</td>\n",
       "      <td>0</td>\n",
       "      <td>0</td>\n",
       "      <td>0</td>\n",
       "      <td>0</td>\n",
       "      <td>0</td>\n",
       "      <td>0</td>\n",
       "      <td>0</td>\n",
       "      <td>0</td>\n",
       "      <td>0</td>\n",
       "    </tr>\n",
       "    <tr>\n",
       "      <th>3</th>\n",
       "      <td>4</td>\n",
       "      <td>0</td>\n",
       "      <td>0</td>\n",
       "      <td>0</td>\n",
       "      <td>0</td>\n",
       "      <td>0</td>\n",
       "      <td>0</td>\n",
       "      <td>0</td>\n",
       "      <td>0</td>\n",
       "      <td>0</td>\n",
       "      <td>...</td>\n",
       "      <td>0</td>\n",
       "      <td>0</td>\n",
       "      <td>0</td>\n",
       "      <td>0</td>\n",
       "      <td>0</td>\n",
       "      <td>0</td>\n",
       "      <td>0</td>\n",
       "      <td>0</td>\n",
       "      <td>0</td>\n",
       "      <td>0</td>\n",
       "    </tr>\n",
       "    <tr>\n",
       "      <th>4</th>\n",
       "      <td>0</td>\n",
       "      <td>0</td>\n",
       "      <td>0</td>\n",
       "      <td>0</td>\n",
       "      <td>0</td>\n",
       "      <td>0</td>\n",
       "      <td>0</td>\n",
       "      <td>0</td>\n",
       "      <td>0</td>\n",
       "      <td>0</td>\n",
       "      <td>...</td>\n",
       "      <td>0</td>\n",
       "      <td>0</td>\n",
       "      <td>0</td>\n",
       "      <td>0</td>\n",
       "      <td>0</td>\n",
       "      <td>0</td>\n",
       "      <td>0</td>\n",
       "      <td>0</td>\n",
       "      <td>0</td>\n",
       "      <td>0</td>\n",
       "    </tr>\n",
       "  </tbody>\n",
       "</table>\n",
       "<p>5 rows × 785 columns</p>\n",
       "</div>"
      ],
      "text/plain": [
       "   label  pixel0  pixel1  pixel2  pixel3  pixel4  pixel5  pixel6  pixel7  \\\n",
       "0      1       0       0       0       0       0       0       0       0   \n",
       "1      0       0       0       0       0       0       0       0       0   \n",
       "2      1       0       0       0       0       0       0       0       0   \n",
       "3      4       0       0       0       0       0       0       0       0   \n",
       "4      0       0       0       0       0       0       0       0       0   \n",
       "\n",
       "   pixel8  ...  pixel774  pixel775  pixel776  pixel777  pixel778  pixel779  \\\n",
       "0       0  ...         0         0         0         0         0         0   \n",
       "1       0  ...         0         0         0         0         0         0   \n",
       "2       0  ...         0         0         0         0         0         0   \n",
       "3       0  ...         0         0         0         0         0         0   \n",
       "4       0  ...         0         0         0         0         0         0   \n",
       "\n",
       "   pixel780  pixel781  pixel782  pixel783  \n",
       "0         0         0         0         0  \n",
       "1         0         0         0         0  \n",
       "2         0         0         0         0  \n",
       "3         0         0         0         0  \n",
       "4         0         0         0         0  \n",
       "\n",
       "[5 rows x 785 columns]"
      ]
     },
     "execution_count": 2,
     "metadata": {},
     "output_type": "execute_result"
    }
   ],
   "source": [
    "# Load data into a dataframe\n",
    "\n",
    "data = pd.read_csv('image_data.csv')\n",
    "data.head()"
   ]
  },
  {
   "cell_type": "code",
   "execution_count": 3,
   "metadata": {},
   "outputs": [
    {
     "data": {
      "text/plain": [
       "(42000, 785)"
      ]
     },
     "execution_count": 3,
     "metadata": {},
     "output_type": "execute_result"
    }
   ],
   "source": [
    "# Dimensions of data\n",
    "\n",
    "data.shape"
   ]
  },
  {
   "cell_type": "code",
   "execution_count": 4,
   "metadata": {},
   "outputs": [
    {
     "data": {
      "text/html": [
       "<div>\n",
       "<style scoped>\n",
       "    .dataframe tbody tr th:only-of-type {\n",
       "        vertical-align: middle;\n",
       "    }\n",
       "\n",
       "    .dataframe tbody tr th {\n",
       "        vertical-align: top;\n",
       "    }\n",
       "\n",
       "    .dataframe thead th {\n",
       "        text-align: right;\n",
       "    }\n",
       "</style>\n",
       "<table border=\"1\" class=\"dataframe\">\n",
       "  <thead>\n",
       "    <tr style=\"text-align: right;\">\n",
       "      <th></th>\n",
       "      <th>label</th>\n",
       "      <th>pixel0</th>\n",
       "      <th>pixel1</th>\n",
       "      <th>pixel2</th>\n",
       "      <th>pixel3</th>\n",
       "      <th>pixel4</th>\n",
       "      <th>pixel5</th>\n",
       "      <th>pixel6</th>\n",
       "      <th>pixel7</th>\n",
       "      <th>pixel8</th>\n",
       "      <th>...</th>\n",
       "      <th>pixel774</th>\n",
       "      <th>pixel775</th>\n",
       "      <th>pixel776</th>\n",
       "      <th>pixel777</th>\n",
       "      <th>pixel778</th>\n",
       "      <th>pixel779</th>\n",
       "      <th>pixel780</th>\n",
       "      <th>pixel781</th>\n",
       "      <th>pixel782</th>\n",
       "      <th>pixel783</th>\n",
       "    </tr>\n",
       "  </thead>\n",
       "  <tbody>\n",
       "    <tr>\n",
       "      <th>count</th>\n",
       "      <td>42000.000000</td>\n",
       "      <td>42000.0</td>\n",
       "      <td>42000.0</td>\n",
       "      <td>42000.0</td>\n",
       "      <td>42000.0</td>\n",
       "      <td>42000.0</td>\n",
       "      <td>42000.0</td>\n",
       "      <td>42000.0</td>\n",
       "      <td>42000.0</td>\n",
       "      <td>42000.0</td>\n",
       "      <td>...</td>\n",
       "      <td>42000.000000</td>\n",
       "      <td>42000.000000</td>\n",
       "      <td>42000.000000</td>\n",
       "      <td>42000.00000</td>\n",
       "      <td>42000.000000</td>\n",
       "      <td>42000.000000</td>\n",
       "      <td>42000.0</td>\n",
       "      <td>42000.0</td>\n",
       "      <td>42000.0</td>\n",
       "      <td>42000.0</td>\n",
       "    </tr>\n",
       "    <tr>\n",
       "      <th>mean</th>\n",
       "      <td>4.456643</td>\n",
       "      <td>0.0</td>\n",
       "      <td>0.0</td>\n",
       "      <td>0.0</td>\n",
       "      <td>0.0</td>\n",
       "      <td>0.0</td>\n",
       "      <td>0.0</td>\n",
       "      <td>0.0</td>\n",
       "      <td>0.0</td>\n",
       "      <td>0.0</td>\n",
       "      <td>...</td>\n",
       "      <td>0.219286</td>\n",
       "      <td>0.117095</td>\n",
       "      <td>0.059024</td>\n",
       "      <td>0.02019</td>\n",
       "      <td>0.017238</td>\n",
       "      <td>0.002857</td>\n",
       "      <td>0.0</td>\n",
       "      <td>0.0</td>\n",
       "      <td>0.0</td>\n",
       "      <td>0.0</td>\n",
       "    </tr>\n",
       "    <tr>\n",
       "      <th>std</th>\n",
       "      <td>2.887730</td>\n",
       "      <td>0.0</td>\n",
       "      <td>0.0</td>\n",
       "      <td>0.0</td>\n",
       "      <td>0.0</td>\n",
       "      <td>0.0</td>\n",
       "      <td>0.0</td>\n",
       "      <td>0.0</td>\n",
       "      <td>0.0</td>\n",
       "      <td>0.0</td>\n",
       "      <td>...</td>\n",
       "      <td>6.312890</td>\n",
       "      <td>4.633819</td>\n",
       "      <td>3.274488</td>\n",
       "      <td>1.75987</td>\n",
       "      <td>1.894498</td>\n",
       "      <td>0.414264</td>\n",
       "      <td>0.0</td>\n",
       "      <td>0.0</td>\n",
       "      <td>0.0</td>\n",
       "      <td>0.0</td>\n",
       "    </tr>\n",
       "    <tr>\n",
       "      <th>min</th>\n",
       "      <td>0.000000</td>\n",
       "      <td>0.0</td>\n",
       "      <td>0.0</td>\n",
       "      <td>0.0</td>\n",
       "      <td>0.0</td>\n",
       "      <td>0.0</td>\n",
       "      <td>0.0</td>\n",
       "      <td>0.0</td>\n",
       "      <td>0.0</td>\n",
       "      <td>0.0</td>\n",
       "      <td>...</td>\n",
       "      <td>0.000000</td>\n",
       "      <td>0.000000</td>\n",
       "      <td>0.000000</td>\n",
       "      <td>0.00000</td>\n",
       "      <td>0.000000</td>\n",
       "      <td>0.000000</td>\n",
       "      <td>0.0</td>\n",
       "      <td>0.0</td>\n",
       "      <td>0.0</td>\n",
       "      <td>0.0</td>\n",
       "    </tr>\n",
       "    <tr>\n",
       "      <th>25%</th>\n",
       "      <td>2.000000</td>\n",
       "      <td>0.0</td>\n",
       "      <td>0.0</td>\n",
       "      <td>0.0</td>\n",
       "      <td>0.0</td>\n",
       "      <td>0.0</td>\n",
       "      <td>0.0</td>\n",
       "      <td>0.0</td>\n",
       "      <td>0.0</td>\n",
       "      <td>0.0</td>\n",
       "      <td>...</td>\n",
       "      <td>0.000000</td>\n",
       "      <td>0.000000</td>\n",
       "      <td>0.000000</td>\n",
       "      <td>0.00000</td>\n",
       "      <td>0.000000</td>\n",
       "      <td>0.000000</td>\n",
       "      <td>0.0</td>\n",
       "      <td>0.0</td>\n",
       "      <td>0.0</td>\n",
       "      <td>0.0</td>\n",
       "    </tr>\n",
       "    <tr>\n",
       "      <th>50%</th>\n",
       "      <td>4.000000</td>\n",
       "      <td>0.0</td>\n",
       "      <td>0.0</td>\n",
       "      <td>0.0</td>\n",
       "      <td>0.0</td>\n",
       "      <td>0.0</td>\n",
       "      <td>0.0</td>\n",
       "      <td>0.0</td>\n",
       "      <td>0.0</td>\n",
       "      <td>0.0</td>\n",
       "      <td>...</td>\n",
       "      <td>0.000000</td>\n",
       "      <td>0.000000</td>\n",
       "      <td>0.000000</td>\n",
       "      <td>0.00000</td>\n",
       "      <td>0.000000</td>\n",
       "      <td>0.000000</td>\n",
       "      <td>0.0</td>\n",
       "      <td>0.0</td>\n",
       "      <td>0.0</td>\n",
       "      <td>0.0</td>\n",
       "    </tr>\n",
       "    <tr>\n",
       "      <th>75%</th>\n",
       "      <td>7.000000</td>\n",
       "      <td>0.0</td>\n",
       "      <td>0.0</td>\n",
       "      <td>0.0</td>\n",
       "      <td>0.0</td>\n",
       "      <td>0.0</td>\n",
       "      <td>0.0</td>\n",
       "      <td>0.0</td>\n",
       "      <td>0.0</td>\n",
       "      <td>0.0</td>\n",
       "      <td>...</td>\n",
       "      <td>0.000000</td>\n",
       "      <td>0.000000</td>\n",
       "      <td>0.000000</td>\n",
       "      <td>0.00000</td>\n",
       "      <td>0.000000</td>\n",
       "      <td>0.000000</td>\n",
       "      <td>0.0</td>\n",
       "      <td>0.0</td>\n",
       "      <td>0.0</td>\n",
       "      <td>0.0</td>\n",
       "    </tr>\n",
       "    <tr>\n",
       "      <th>max</th>\n",
       "      <td>9.000000</td>\n",
       "      <td>0.0</td>\n",
       "      <td>0.0</td>\n",
       "      <td>0.0</td>\n",
       "      <td>0.0</td>\n",
       "      <td>0.0</td>\n",
       "      <td>0.0</td>\n",
       "      <td>0.0</td>\n",
       "      <td>0.0</td>\n",
       "      <td>0.0</td>\n",
       "      <td>...</td>\n",
       "      <td>254.000000</td>\n",
       "      <td>254.000000</td>\n",
       "      <td>253.000000</td>\n",
       "      <td>253.00000</td>\n",
       "      <td>254.000000</td>\n",
       "      <td>62.000000</td>\n",
       "      <td>0.0</td>\n",
       "      <td>0.0</td>\n",
       "      <td>0.0</td>\n",
       "      <td>0.0</td>\n",
       "    </tr>\n",
       "  </tbody>\n",
       "</table>\n",
       "<p>8 rows × 785 columns</p>\n",
       "</div>"
      ],
      "text/plain": [
       "              label   pixel0   pixel1   pixel2   pixel3   pixel4   pixel5  \\\n",
       "count  42000.000000  42000.0  42000.0  42000.0  42000.0  42000.0  42000.0   \n",
       "mean       4.456643      0.0      0.0      0.0      0.0      0.0      0.0   \n",
       "std        2.887730      0.0      0.0      0.0      0.0      0.0      0.0   \n",
       "min        0.000000      0.0      0.0      0.0      0.0      0.0      0.0   \n",
       "25%        2.000000      0.0      0.0      0.0      0.0      0.0      0.0   \n",
       "50%        4.000000      0.0      0.0      0.0      0.0      0.0      0.0   \n",
       "75%        7.000000      0.0      0.0      0.0      0.0      0.0      0.0   \n",
       "max        9.000000      0.0      0.0      0.0      0.0      0.0      0.0   \n",
       "\n",
       "        pixel6   pixel7   pixel8  ...      pixel774      pixel775  \\\n",
       "count  42000.0  42000.0  42000.0  ...  42000.000000  42000.000000   \n",
       "mean       0.0      0.0      0.0  ...      0.219286      0.117095   \n",
       "std        0.0      0.0      0.0  ...      6.312890      4.633819   \n",
       "min        0.0      0.0      0.0  ...      0.000000      0.000000   \n",
       "25%        0.0      0.0      0.0  ...      0.000000      0.000000   \n",
       "50%        0.0      0.0      0.0  ...      0.000000      0.000000   \n",
       "75%        0.0      0.0      0.0  ...      0.000000      0.000000   \n",
       "max        0.0      0.0      0.0  ...    254.000000    254.000000   \n",
       "\n",
       "           pixel776     pixel777      pixel778      pixel779  pixel780  \\\n",
       "count  42000.000000  42000.00000  42000.000000  42000.000000   42000.0   \n",
       "mean       0.059024      0.02019      0.017238      0.002857       0.0   \n",
       "std        3.274488      1.75987      1.894498      0.414264       0.0   \n",
       "min        0.000000      0.00000      0.000000      0.000000       0.0   \n",
       "25%        0.000000      0.00000      0.000000      0.000000       0.0   \n",
       "50%        0.000000      0.00000      0.000000      0.000000       0.0   \n",
       "75%        0.000000      0.00000      0.000000      0.000000       0.0   \n",
       "max      253.000000    253.00000    254.000000     62.000000       0.0   \n",
       "\n",
       "       pixel781  pixel782  pixel783  \n",
       "count   42000.0   42000.0   42000.0  \n",
       "mean        0.0       0.0       0.0  \n",
       "std         0.0       0.0       0.0  \n",
       "min         0.0       0.0       0.0  \n",
       "25%         0.0       0.0       0.0  \n",
       "50%         0.0       0.0       0.0  \n",
       "75%         0.0       0.0       0.0  \n",
       "max         0.0       0.0       0.0  \n",
       "\n",
       "[8 rows x 785 columns]"
      ]
     },
     "execution_count": 4,
     "metadata": {},
     "output_type": "execute_result"
    }
   ],
   "source": [
    "# investigate basic statistics of data\n",
    "\n",
    "data.describe()"
   ]
  },
  {
   "cell_type": "code",
   "execution_count": 5,
   "metadata": {},
   "outputs": [
    {
     "data": {
      "text/plain": [
       "(42000, 785)"
      ]
     },
     "execution_count": 5,
     "metadata": {},
     "output_type": "execute_result"
    }
   ],
   "source": [
    "# Drop missing value, if any\n",
    "\n",
    "data.dropna(inplace=True)\n",
    "data.shape"
   ]
  },
  {
   "cell_type": "code",
   "execution_count": 6,
   "metadata": {},
   "outputs": [],
   "source": [
    "# Separate features and target\n",
    "\n",
    "target = data['label'].values.ravel()\n",
    "features = data.iloc[:, 1:].values"
   ]
  },
  {
   "cell_type": "code",
   "execution_count": 7,
   "metadata": {},
   "outputs": [],
   "source": [
    "# Normalize features to be between 0 and 1\n",
    "\n",
    "features = features / 255.0"
   ]
  },
  {
   "cell_type": "code",
   "execution_count": 8,
   "metadata": {},
   "outputs": [
    {
     "data": {
      "text/plain": [
       "<matplotlib.axes._subplots.AxesSubplot at 0x1a40c914e0>"
      ]
     },
     "execution_count": 8,
     "metadata": {},
     "output_type": "execute_result"
    },
    {
     "data": {
      "image/png": "[encoded data removed]",
      "text/plain": [
       "<Figure size 432x288 with 1 Axes>"
      ]
     },
     "metadata": {
      "needs_background": "light"
     },
     "output_type": "display_data"
    }
   ],
   "source": [
    "# Check distribution of labels\n",
    "\n",
    "sns.countplot(target)"
   ]
  },
  {
   "cell_type": "code",
   "execution_count": 9,
   "metadata": {},
   "outputs": [
    {
     "data": {
      "image/png": "[encoded data removed]",
      "text/plain": [
       "<Figure size 864x432 with 2 Axes>"
      ]
     },
     "metadata": {
      "needs_background": "light"
     },
     "output_type": "display_data"
    }
   ],
   "source": [
    "# Visualize values of feature and its visual representation for an arbitrary data point\n",
    "\n",
    "# Define a subplot with two rows and one column\n",
    "fig, ax = plt.subplots(2, 1, figsize=(12,6))\n",
    "dp_id = 100\n",
    "\n",
    "# Plot features representation in 1D\n",
    "ax[0].plot(features[dp_id])\n",
    "ax[0].set_title('784x1 data')\n",
    "\n",
    "# Plot features representation in 2D\n",
    "ax[1].imshow(features[dp_id].reshape(28,28), cmap='gray')\n",
    "ax[1].set_title('28x28 data')\n",
    "\n",
    "# Show the plot\n",
    "plt.show()"
   ]
  },
  {
   "cell_type": "markdown",
   "metadata": {},
   "source": [
    "## **Part 2**: Define Cross-Validation Schema and Dummy Classifier Baseline"
   ]
  },
  {
   "cell_type": "code",
   "execution_count": 10,
   "metadata": {},
   "outputs": [],
   "source": [
    "# Divide data into training and testing sets\n",
    "\n",
    "X_train, X_test, y_train, y_test = train_test_split(features, target, test_size=0.2, random_state=SEED, stratify=target)"
   ]
  },
  {
   "cell_type": "code",
   "execution_count": 11,
   "metadata": {},
   "outputs": [
    {
     "name": "stdout",
     "output_type": "stream",
     "text": [
      "0.10261904761904762\n"
     ]
    }
   ],
   "source": [
    "# Define a baseline using dummy classifier\n",
    "# It enables you to define a basic classifier which apply simple strategies such as stratified\n",
    "# Stratified strategy predicts probability of belonging to positive class as percentage of positive cases\n",
    "\n",
    "dummy_clf = DummyClassifier(strategy='stratified', random_state = SEED)\n",
    "dummy_clf.fit(X_train, y_train)\n",
    "baseline_score = dummy_clf.score(X_test, y_test)\n",
    "print('Baseline accuracy: {}'.format(round(baseline_score, 4)))"
   ]
  },
  {
   "cell_type": "markdown",
   "metadata": {},
   "source": [
    "## **Part 3**: Prediction using Logistic Regression with Ridge regularization\n",
    "\n",
    "Note: For parameter `C` in `LogisticRegression`, smaller values specify stronger regularization.\n",
    "\n",
    "We follow the following steps to come up with a prediction model:\n",
    "\n",
    "1. We tune our model parameter(s) using cross-validation on training set.\n",
    "2. We fit the model with tuned parameter on training set.\n",
    "3. We evaluate performance of our model using the test set."
   ]
  },
  {
   "cell_type": "code",
   "execution_count": 12,
   "metadata": {},
   "outputs": [],
   "source": [
    "# Define model\n",
    "model = LogisticRegression(penalty='l2', n_jobs = N_CORES, multi_class='multinomial', solver='saga', random_state=SEED)\n",
    "\n",
    "# Define cross-validation schema for tuning\n",
    "cv_schema = StratifiedKFold(n_splits = N_SPLITS, shuffle=True, random_state = SEED)"
   ]
  },
  {
   "cell_type": "code",
   "execution_count": 13,
   "metadata": {},
   "outputs": [],
   "source": [
    "# Tune model against a single hyper parameter C using validation_curve function\n",
    "\n",
    "tuning_param = 'C'\n",
    "tuning_param_range = np.logspace(-5, 5, 5)\n",
    "\n",
    "train_scores_val, cv_scores_val = validation_curve(\n",
    "    model, X_train, y_train, param_name = tuning_param, param_range = tuning_param_range,\n",
    "    cv = cv_schema, scoring = SCORE, n_jobs = N_CORES)\n"
   ]
  },
  {
   "cell_type": "code",
   "execution_count": 14,
   "metadata": {},
   "outputs": [
    {
     "data": {
      "image/png": "[encoded data removed]",
      "text/plain": [
       "<Figure size 432x288 with 1 Axes>"
      ]
     },
     "metadata": {
      "needs_background": "light"
     },
     "output_type": "display_data"
    }
   ],
   "source": [
    "# Plot validation curve\n",
    "plot_validation_curve(train_scores_val, cv_scores_val, tuning_param_range, scale='log',\n",
    "                      title='validation curve', y_label='accuracy', x_label='C')"
   ]
  },
  {
   "cell_type": "code",
   "execution_count": 15,
   "metadata": {},
   "outputs": [],
   "source": [
    "# Obtain the best value of the hyper parameter\n",
    "\n",
    "best_param_val = tuning_param_range[np.argmax(np.mean(cv_scores_val, axis=1))]"
   ]
  },
  {
   "cell_type": "code",
   "execution_count": 16,
   "metadata": {},
   "outputs": [
    {
     "name": "stdout",
     "output_type": "stream",
     "text": [
      "0.9154761904761904\n",
      "CPU times: user 2min 27s, sys: 1.9 s, total: 2min 29s\n",
      "Wall time: 3min 33s\n"
     ]
    }
   ],
   "source": [
    "%%time\n",
    "# Train model with best hyper parameter and assess its performance on the test data\n",
    "lr_clf = LogisticRegression(C = best_param_val, n_jobs = N_CORES, multi_class='multinomial', solver='saga', random_state=SEED)\n",
    "lr_clf.fit(X_train,y_train)\n",
    "lr_score = lr_clf.score(X_test, y_test)\n",
    "print('LR with Ridge accuracy: {}\\n'.format(round(lr_score, 4)))"
   ]
  },
  {
   "cell_type": "markdown",
   "metadata": {},
   "source": [
    "## **Part 4**: Prediction using KNN Classifier"
   ]
  },
  {
   "cell_type": "code",
   "execution_count": 17,
   "metadata": {},
   "outputs": [],
   "source": [
    "# Set parameters, model and cv schema\n",
    "model = KNeighborsClassifier(n_jobs = N_CORES)\n",
    "cv_schema = StratifiedKFold(n_splits = N_SPLITS, shuffle=True, random_state = SEED)"
   ]
  },
  {
   "cell_type": "code",
   "execution_count": 18,
   "metadata": {},
   "outputs": [
    {
     "name": "stdout",
     "output_type": "stream",
     "text": [
      "CPU times: user 1min 6s, sys: 8.64 s, total: 1min 15s\n",
      "Wall time: 1h 37min 37s\n"
     ]
    }
   ],
   "source": [
    "%%time\n",
    "# Tune model against a single hyper parameter\n",
    "\n",
    "tuning_param = 'n_neighbors'\n",
    "tuning_param_range = np.array([int(i) for i in np.linspace(5.0, 45.0, 5)])\n",
    "\n",
    "train_scores_val, cv_scores_val = validation_curve(\n",
    "    model, X_train, y_train, param_name = tuning_param, param_range = tuning_param_range,\n",
    "    cv = cv_schema, scoring = SCORE, n_jobs = N_CORES)"
   ]
  },
  {
   "cell_type": "code",
   "execution_count": 19,
   "metadata": {},
   "outputs": [
    {
     "data": {
      "image/png": "[encoded data removed]",
      "text/plain": [
       "<Figure size 432x288 with 1 Axes>"
      ]
     },
     "metadata": {
      "needs_background": "light"
     },
     "output_type": "display_data"
    }
   ],
   "source": [
    "# Plot validation curve\n",
    "plot_validation_curve(train_scores_val, cv_scores_val, tuning_param_range, scale='lin', \n",
    "              title='validation curve', y_label='accuracy', x_label='n_nieghbors')"
   ]
  },
  {
   "cell_type": "code",
   "execution_count": 20,
   "metadata": {},
   "outputs": [],
   "source": [
    "# Obtain the best value of the hyper parameter\n",
    "\n",
    "best_param_val = tuning_param_range[np.argmax(np.mean(cv_scores_val, axis=1))]"
   ]
  },
  {
   "cell_type": "code",
   "execution_count": 21,
   "metadata": {},
   "outputs": [
    {
     "name": "stdout",
     "output_type": "stream",
     "text": [
      "0.9663095238095238\n"
     ]
    }
   ],
   "source": [
    "# Train model with best hyper parameter and assess its performance on test data\n",
    "\n",
    "knn_clf = KNeighborsClassifier(n_neighbors = best_param_val, n_jobs = N_CORES)\n",
    "knn_clf.fit(X_train,y_train)\n",
    "knn_score = knn_clf.score(X_test, y_test)\n",
    "print('KNN accuracy: {}'.format(round(knn_score, 4)))"
   ]
  },
  {
   "cell_type": "markdown",
   "metadata": {},
   "source": [
    "## **Part 5**: Prediction using Random Forest"
   ]
  },
  {
   "cell_type": "code",
   "execution_count": 22,
   "metadata": {},
   "outputs": [],
   "source": [
    "# Set parameters, model and cv schema\n",
    "model = RandomForestClassifier(n_jobs = N_CORES)\n",
    "cv_schema = StratifiedKFold(n_splits = N_SPLITS, shuffle=True, random_state = SEED)"
   ]
  },
  {
   "cell_type": "code",
   "execution_count": 23,
   "metadata": {},
   "outputs": [
    {
     "name": "stdout",
     "output_type": "stream",
     "text": [
      "CPU times: user 18.7 s, sys: 4.31 s, total: 23 s\n",
      "Wall time: 36.6 s\n"
     ]
    }
   ],
   "source": [
    "%%time\n",
    "# Tune model against a single hyper parameter\n",
    "\n",
    "tuning_param = 'n_estimators'\n",
    "tuning_param_range = np.array([int(i) for i in np.linspace(10.0, 80.0, 5)])\n",
    "\n",
    "train_scores_val, cv_scores_val = validation_curve(\n",
    "    model, X_train, y_train, param_name = tuning_param, param_range = tuning_param_range,\n",
    "    cv = cv_schema, scoring = SCORE, n_jobs = N_CORES)"
   ]
  },
  {
   "cell_type": "code",
   "execution_count": 24,
   "metadata": {},
   "outputs": [
    {
     "data": {
      "image/png": "[encoded data removed]",
      "text/plain": [
       "<Figure size 432x288 with 1 Axes>"
      ]
     },
     "metadata": {
      "needs_background": "light"
     },
     "output_type": "display_data"
    }
   ],
   "source": [
    "# Plot validation curve\n",
    "\n",
    "plot_validation_curve(train_scores_val, cv_scores_val, tuning_param_range, scale='lin', \n",
    "              title='validation curve', y_label='accuracy', x_label='n_estimators')"
   ]
  },
  {
   "cell_type": "code",
   "execution_count": 25,
   "metadata": {},
   "outputs": [
    {
     "name": "stdout",
     "output_type": "stream",
     "text": [
      "80\n"
     ]
    }
   ],
   "source": [
    "# Obtain the best value of the hyper parameter\n",
    "\n",
    "best_param_val = tuning_param_range[np.argmax(np.mean(cv_scores_val, axis=1))]\n",
    "print(best_param_val)"
   ]
  },
  {
   "cell_type": "code",
   "execution_count": 26,
   "metadata": {},
   "outputs": [
    {
     "name": "stdout",
     "output_type": "stream",
     "text": [
      "0.96\n"
     ]
    }
   ],
   "source": [
    "# Train model with best hyper parameter and assess its performance on test data\n",
    "\n",
    "rf_clf = RandomForestClassifier(n_estimators = best_param_val, n_jobs = n_cores)\n",
    "rf_clf.fit(X_train,y_train)\n",
    "rf_score = rf_clf.score(X_test,y_test)\n",
    "print('RF accuracy: {}'.format(round(rf_score, 4)))"
   ]
  },
  {
   "cell_type": "markdown",
   "metadata": {},
   "source": [
    "## **Part 6**: Prediction using Gradient Boosted Trees"
   ]
  },
  {
   "cell_type": "code",
   "execution_count": 27,
   "metadata": {},
   "outputs": [],
   "source": [
    "# XGboost library has a more performant implementation of gradient boosted trees\n",
    "model = XGBClassifier(n_jobs = N_CORES, random_state = SEED)\n",
    "cv_schema = StratifiedKFold(n_splits = N_SPLITS, random_state = SEED)"
   ]
  },
  {
   "cell_type": "code",
   "execution_count": 28,
   "metadata": {},
   "outputs": [
    {
     "name": "stdout",
     "output_type": "stream",
     "text": [
      "CPU times: user 58min 59s, sys: 9.14 s, total: 59min 8s\n",
      "Wall time: 59min 13s\n"
     ]
    }
   ],
   "source": [
    "%%time\n",
    "# Tune model against a single hyper parameter\n",
    "tuning_param = 'n_estimators'\n",
    "tuning_param_range = np.array([int(i) for i in np.linspace(10.0, 50.0, 5)])\n",
    "\n",
    "train_scores_val, cv_scores_val = validation_curve(\n",
    "    model, X_train, y_train, param_name = tuning_param, param_range = tuning_param_range,\n",
    "    cv = cv_schema, scoring = SCORE, n_jobs = N_CORES)"
   ]
  },
  {
   "cell_type": "code",
   "execution_count": 29,
   "metadata": {},
   "outputs": [
    {
     "data": {
      "image/png": "[encoded data removed]",
      "text/plain": [
       "<Figure size 432x288 with 1 Axes>"
      ]
     },
     "metadata": {
      "needs_background": "light"
     },
     "output_type": "display_data"
    }
   ],
   "source": [
    "# Plot validation curve\n",
    "plot_validation_curve(train_scores_val, cv_scores_val, tuning_param_range, scale='lin', \n",
    "              title='validation curve', y_label='accuracy', x_label='n_estimators')"
   ]
  },
  {
   "cell_type": "code",
   "execution_count": 30,
   "metadata": {},
   "outputs": [],
   "source": [
    "# Obtain the best value of the hyper parameter\n",
    "best_param_val = tuning_param_range[np.argmax(np.mean(cv_scores_val, axis=1))]"
   ]
  },
  {
   "cell_type": "code",
   "execution_count": 31,
   "metadata": {},
   "outputs": [
    {
     "name": "stdout",
     "output_type": "stream",
     "text": [
      "0.8991666666666667\n"
     ]
    }
   ],
   "source": [
    "# Train model with best hyper parameter and assess its perfrmance on test data\n",
    "\n",
    "gb_clf = XGBClassifier(n_estimators = best_param_val, n_jobs = N_CORES, random_state=SEED)\n",
    "gb_clf.fit(X_train, y_train)\n",
    "gb_score = gb_clf.score(X_test,y_test)\n",
    "print('Gradient boosted accuracy: {}'.format(round(gb_score, 4)))"
   ]
  },
  {
   "cell_type": "markdown",
   "metadata": {},
   "source": [
    "## **Part 7**: Prediction using SVC"
   ]
  },
  {
   "cell_type": "code",
   "execution_count": 32,
   "metadata": {},
   "outputs": [],
   "source": [
    "# Set parameters, model and cv schema\n",
    "model = SVC(random_state = SEED)\n",
    "cv_schema = StratifiedKFold(n_splits = N_SPLITS, shuffle=True, random_state = SEED)"
   ]
  },
  {
   "cell_type": "code",
   "execution_count": 33,
   "metadata": {},
   "outputs": [
    {
     "name": "stdout",
     "output_type": "stream",
     "text": [
      "CPU times: user 222 ms, sys: 243 ms, total: 465 ms\n",
      "Wall time: 1h 32s\n"
     ]
    }
   ],
   "source": [
    "%%time\n",
    "# Tune model against a single hyper parameter\n",
    "\n",
    "tuning_param = 'C'\n",
    "tuning_param_range = np.logspace(-5, 5, 5)\n",
    "\n",
    "train_scores_val, cv_scores_val = validation_curve(\n",
    "    model, X_train, y_train, param_name = tuning_param, param_range = tuning_param_range,\n",
    "    cv = cv_schema, scoring = SCORE, n_jobs = N_CORES)"
   ]
  },
  {
   "cell_type": "code",
   "execution_count": 34,
   "metadata": {},
   "outputs": [
    {
     "data": {
      "image/png": "[encoded data removed]",
      "text/plain": [
       "<Figure size 432x288 with 1 Axes>"
      ]
     },
     "metadata": {
      "needs_background": "light"
     },
     "output_type": "display_data"
    }
   ],
   "source": [
    "# Plot validation curve\n",
    "\n",
    "plot_validation_curve(train_scores_val, cv_scores_val, tuning_param_range, scale='log', \n",
    "              title='validation curve', y_label='accuracy', x_label='C')"
   ]
  },
  {
   "cell_type": "code",
   "execution_count": 35,
   "metadata": {},
   "outputs": [],
   "source": [
    "# Obtain the best value of the hyper parameter\n",
    "\n",
    "best_param_val = tuning_param_range[np.argmax(np.mean(cv_scores_val, axis=1))]"
   ]
  },
  {
   "cell_type": "code",
   "execution_count": 36,
   "metadata": {},
   "outputs": [
    {
     "name": "stdout",
     "output_type": "stream",
     "text": [
      "0.9630952380952381\n"
     ]
    }
   ],
   "source": [
    "# Train model with increasing amount of training data\n",
    "\n",
    "svc_clf = SVC(C = best_param_val)\n",
    "svc_clf.fit(X_train, y_train)\n",
    "svc_score = svc_clf.score(X_test,y_test)\n",
    "print('SVC accuracy: {}'.format(round(svc_score, 4)))"
   ]
  },
  {
   "cell_type": "markdown",
   "metadata": {},
   "source": [
    "## **Part 8**: Prediction using Feed Forward Neural Network"
   ]
  },
  {
   "cell_type": "code",
   "execution_count": 37,
   "metadata": {},
   "outputs": [
    {
     "data": {
      "text/plain": [
       "array([0., 0., 1., 0., 0., 0., 0., 0., 0., 0.], dtype=float32)"
      ]
     },
     "execution_count": 37,
     "metadata": {},
     "output_type": "execute_result"
    }
   ],
   "source": [
    "# Encode target labels to one hot vectors (ex : 3 -> [0,0,0,1,0,0,0,0,0,0])\n",
    "\n",
    "y_train_ohe = to_categorical(y_train, num_classes = 10)\n",
    "y_test_ohe = to_categorical(y_test, num_classes = 10)\n",
    "y_train_ohe[0]"
   ]
  },
  {
   "cell_type": "code",
   "execution_count": 38,
   "metadata": {},
   "outputs": [],
   "source": [
    "# Set parameters, model and cv schema\n",
    "\n",
    "epochs      = 10  # Number of iterations over full training set\n",
    "batch_size  = 200 # Number of observations to fit in every batch \n",
    "num_pixels  = 28 * 28\n",
    "num_classes = 10"
   ]
  },
  {
   "cell_type": "code",
   "execution_count": 39,
   "metadata": {},
   "outputs": [
    {
     "name": "stdout",
     "output_type": "stream",
     "text": [
      "WARNING:tensorflow:From /usr/local/anaconda3/envs/EPFL/lib/python3.6/site-packages/tensorflow/python/framework/op_def_library.py:263: colocate_with (from tensorflow.python.framework.ops) is deprecated and will be removed in a future version.\n",
      "Instructions for updating:\n",
      "Colocations handled automatically by placer.\n"
     ]
    }
   ],
   "source": [
    "# Create and compile a simple feed forward neural network\n",
    "\n",
    "def ffnn_model():\n",
    "    \n",
    "    # Create a neural network with two dense layers\n",
    "    model = Sequential()\n",
    "    model.add(Dense(num_pixels, input_dim=num_pixels, kernel_initializer='normal', activation='relu'))\n",
    "    model.add(Dense(num_classes, kernel_initializer='normal', activation='softmax'))\n",
    "    \n",
    "    # Compile model\n",
    "    model.compile(loss='categorical_crossentropy', optimizer='adam', metrics=['accuracy'])\n",
    "    \n",
    "    return model\n",
    "\n",
    "model = ffnn_model()"
   ]
  },
  {
   "cell_type": "code",
   "execution_count": 40,
   "metadata": {},
   "outputs": [
    {
     "data": {
      "image/svg+xml": [
       "<svg height=\"211pt\" viewBox=\"0.00 0.00 253.00 211.00\" width=\"253pt\" xmlns=\"http://www.w3.org/2000/svg\" xmlns:xlink=\"http://www.w3.org/1999/xlink\">\n",
       "<g class=\"graph\" id=\"graph0\" transform=\"scale(1 1) rotate(0) translate(4 207)\">\n",
       "<title>G</title>\n",
       "<polygon fill=\"#ffffff\" points=\"-4,4 -4,-207 249,-207 249,4 -4,4\" stroke=\"transparent\"/>\n",
       "<!-- 112458096312 -->\n",
       "<g class=\"node\" id=\"node1\">\n",
       "<title>112458096312</title>\n",
       "<polygon fill=\"none\" points=\"0,-83.5 0,-129.5 245,-129.5 245,-83.5 0,-83.5\" stroke=\"#000000\"/>\n",
       "<text fill=\"#000000\" font-family=\"Times,serif\" font-size=\"14.00\" text-anchor=\"middle\" x=\"52.5\" y=\"-102.8\">dense_1: Dense</text>\n",
       "<polyline fill=\"none\" points=\"105,-83.5 105,-129.5 \" stroke=\"#000000\"/>\n",
       "<text fill=\"#000000\" font-family=\"Times,serif\" font-size=\"14.00\" text-anchor=\"middle\" x=\"133\" y=\"-114.3\">input:</text>\n",
       "<polyline fill=\"none\" points=\"105,-106.5 161,-106.5 \" stroke=\"#000000\"/>\n",
       "<text fill=\"#000000\" font-family=\"Times,serif\" font-size=\"14.00\" text-anchor=\"middle\" x=\"133\" y=\"-91.3\">output:</text>\n",
       "<polyline fill=\"none\" points=\"161,-83.5 161,-129.5 \" stroke=\"#000000\"/>\n",
       "<text fill=\"#000000\" font-family=\"Times,serif\" font-size=\"14.00\" text-anchor=\"middle\" x=\"203\" y=\"-114.3\">(None, 784)</text>\n",
       "<polyline fill=\"none\" points=\"161,-106.5 245,-106.5 \" stroke=\"#000000\"/>\n",
       "<text fill=\"#000000\" font-family=\"Times,serif\" font-size=\"14.00\" text-anchor=\"middle\" x=\"203\" y=\"-91.3\">(None, 784)</text>\n",
       "</g>\n",
       "<!-- 112458094464 -->\n",
       "<g class=\"node\" id=\"node2\">\n",
       "<title>112458094464</title>\n",
       "<polygon fill=\"none\" points=\"0,-.5 0,-46.5 245,-46.5 245,-.5 0,-.5\" stroke=\"#000000\"/>\n",
       "<text fill=\"#000000\" font-family=\"Times,serif\" font-size=\"14.00\" text-anchor=\"middle\" x=\"52.5\" y=\"-19.8\">dense_2: Dense</text>\n",
       "<polyline fill=\"none\" points=\"105,-.5 105,-46.5 \" stroke=\"#000000\"/>\n",
       "<text fill=\"#000000\" font-family=\"Times,serif\" font-size=\"14.00\" text-anchor=\"middle\" x=\"133\" y=\"-31.3\">input:</text>\n",
       "<polyline fill=\"none\" points=\"105,-23.5 161,-23.5 \" stroke=\"#000000\"/>\n",
       "<text fill=\"#000000\" font-family=\"Times,serif\" font-size=\"14.00\" text-anchor=\"middle\" x=\"133\" y=\"-8.3\">output:</text>\n",
       "<polyline fill=\"none\" points=\"161,-.5 161,-46.5 \" stroke=\"#000000\"/>\n",
       "<text fill=\"#000000\" font-family=\"Times,serif\" font-size=\"14.00\" text-anchor=\"middle\" x=\"203\" y=\"-31.3\">(None, 784)</text>\n",
       "<polyline fill=\"none\" points=\"161,-23.5 245,-23.5 \" stroke=\"#000000\"/>\n",
       "<text fill=\"#000000\" font-family=\"Times,serif\" font-size=\"14.00\" text-anchor=\"middle\" x=\"203\" y=\"-8.3\">(None, 10)</text>\n",
       "</g>\n",
       "<!-- 112458096312&#45;&gt;112458094464 -->\n",
       "<g class=\"edge\" id=\"edge2\">\n",
       "<title>112458096312-&gt;112458094464</title>\n",
       "<path d=\"M122.5,-83.3799C122.5,-75.1745 122.5,-65.7679 122.5,-56.8786\" fill=\"none\" stroke=\"#000000\"/>\n",
       "<polygon fill=\"#000000\" points=\"126.0001,-56.784 122.5,-46.784 119.0001,-56.784 126.0001,-56.784\" stroke=\"#000000\"/>\n",
       "</g>\n",
       "<!-- 112458095080 -->\n",
       "<g class=\"node\" id=\"node3\">\n",
       "<title>112458095080</title>\n",
       "<polygon fill=\"none\" points=\"72,-166.5 72,-202.5 173,-202.5 173,-166.5 72,-166.5\" stroke=\"#000000\"/>\n",
       "<text fill=\"#000000\" font-family=\"Times,serif\" font-size=\"14.00\" text-anchor=\"middle\" x=\"122.5\" y=\"-180.8\">112458095080</text>\n",
       "</g>\n",
       "<!-- 112458095080&#45;&gt;112458096312 -->\n",
       "<g class=\"edge\" id=\"edge1\">\n",
       "<title>112458095080-&gt;112458096312</title>\n",
       "<path d=\"M122.5,-166.4092C122.5,-158.4308 122.5,-148.795 122.5,-139.606\" fill=\"none\" stroke=\"#000000\"/>\n",
       "<polygon fill=\"#000000\" points=\"126.0001,-139.5333 122.5,-129.5333 119.0001,-139.5334 126.0001,-139.5333\" stroke=\"#000000\"/>\n",
       "</g>\n",
       "</g>\n",
       "</svg>"
      ],
      "text/plain": [
       "<IPython.core.display.SVG object>"
      ]
     },
     "execution_count": 40,
     "metadata": {},
     "output_type": "execute_result"
    }
   ],
   "source": [
    "# Visualize keras model\n",
    "SVG(model_to_dot(model,show_shapes=True).create(prog='dot', format='svg'))"
   ]
  },
  {
   "cell_type": "code",
   "execution_count": 41,
   "metadata": {},
   "outputs": [
    {
     "name": "stdout",
     "output_type": "stream",
     "text": [
      "WARNING:tensorflow:From /usr/local/anaconda3/envs/EPFL/lib/python3.6/site-packages/tensorflow/python/ops/math_ops.py:3066: to_int32 (from tensorflow.python.ops.math_ops) is deprecated and will be removed in a future version.\n",
      "Instructions for updating:\n",
      "Use tf.cast instead.\n",
      "Train on 33600 samples, validate on 8400 samples\n",
      "Epoch 1/10\n",
      "33600/33600 [==============================] - 2s 61us/step - loss: 0.3538 - acc: 0.9008 - val_loss: 0.2076 - val_acc: 0.9406\n",
      "Epoch 2/10\n",
      "33600/33600 [==============================] - 2s 55us/step - loss: 0.1499 - acc: 0.9577 - val_loss: 0.1469 - val_acc: 0.9567\n",
      "Epoch 3/10\n",
      "33600/33600 [==============================] - 2s 54us/step - loss: 0.1001 - acc: 0.9718 - val_loss: 0.1140 - val_acc: 0.9667\n",
      "Epoch 4/10\n",
      "33600/33600 [==============================] - 2s 54us/step - loss: 0.0690 - acc: 0.9805 - val_loss: 0.1024 - val_acc: 0.9705\n",
      "Epoch 5/10\n",
      "33600/33600 [==============================] - 2s 54us/step - loss: 0.0498 - acc: 0.9863 - val_loss: 0.0920 - val_acc: 0.9717\n",
      "Epoch 6/10\n",
      "33600/33600 [==============================] - 2s 54us/step - loss: 0.0361 - acc: 0.9903 - val_loss: 0.0863 - val_acc: 0.9742\n",
      "Epoch 7/10\n",
      "33600/33600 [==============================] - 2s 54us/step - loss: 0.0263 - acc: 0.9937 - val_loss: 0.0886 - val_acc: 0.9732\n",
      "Epoch 8/10\n",
      "33600/33600 [==============================] - 2s 55us/step - loss: 0.0184 - acc: 0.9963 - val_loss: 0.0897 - val_acc: 0.9712\n",
      "Epoch 9/10\n",
      "33600/33600 [==============================] - 2s 54us/step - loss: 0.0146 - acc: 0.9976 - val_loss: 0.0814 - val_acc: 0.9740\n",
      "Epoch 10/10\n",
      "33600/33600 [==============================] - 2s 55us/step - loss: 0.0112 - acc: 0.9983 - val_loss: 0.0843 - val_acc: 0.9754\n"
     ]
    },
    {
     "data": {
      "text/plain": [
       "<keras.callbacks.History at 0x1a2fa4b9b0>"
      ]
     },
     "execution_count": 41,
     "metadata": {},
     "output_type": "execute_result"
    }
   ],
   "source": [
    "# Fit the model to data\n",
    "\n",
    "model.fit(X_train, y_train_ohe, validation_data = (X_test, y_test_ohe), \n",
    "          epochs = epochs, batch_size = batch_size)"
   ]
  },
  {
   "cell_type": "code",
   "execution_count": 42,
   "metadata": {},
   "outputs": [
    {
     "name": "stdout",
     "output_type": "stream",
     "text": [
      "_________________________________________________________________\n",
      "Layer (type)                 Output Shape              Param #   \n",
      "=================================================================\n",
      "dense_1 (Dense)              (None, 784)               615440    \n",
      "_________________________________________________________________\n",
      "dense_2 (Dense)              (None, 10)                7850      \n",
      "=================================================================\n",
      "Total params: 623,290\n",
      "Trainable params: 623,290\n",
      "Non-trainable params: 0\n",
      "_________________________________________________________________\n"
     ]
    }
   ],
   "source": [
    "# Get model summary\n",
    "\n",
    "model.summary()"
   ]
  },
  {
   "cell_type": "code",
   "execution_count": 43,
   "metadata": {},
   "outputs": [
    {
     "name": "stdout",
     "output_type": "stream",
     "text": [
      "8400/8400 [==============================] - 0s 52us/step\n",
      "[0.08427780465466812, 0.9753571428571428]\n",
      "Loss: 0.08427780465466812\n",
      "Accuracy: 0.9753571428571428\n"
     ]
    }
   ],
   "source": [
    "# Evaluate trained model on test set\n",
    "\n",
    "ff_loss, ff_score = model.evaluate(X_test, y_test_ohe)\n",
    "print('Loss: {}'.format(round(ff_loss, 4)))\n",
    "print('Accuracy: {}'.format(round(ff_score, 4)))"
   ]
  },
  {
   "cell_type": "code",
   "execution_count": 45,
   "metadata": {},
   "outputs": [
    {
     "name": "stdout",
     "output_type": "stream",
     "text": [
      "Correctly predicted: 8193\n",
      "Incorrectly predicted: 207\n"
     ]
    }
   ],
   "source": [
    "# Get predicted values\n",
    "predicted_classes = model.predict_classes(X_test)\n",
    "\n",
    "# Get index of correctly and incorrectly classified observations\n",
    "target_val_orig = np.argmax(y_test_ohe, 1)\n",
    "\n",
    "# Get index list of all correctly predicted values\n",
    "correct_indices = np.nonzero(np.equal(predicted_classes, target_val_orig))[0]\n",
    "\n",
    "# Get index list of all incorrectly predicted values\n",
    "incorrect_indices = np.nonzero(np.not_equal(predicted_classes, target_val_orig))[0]\n",
    "\n",
    "# Print number of correctly and incorrectly clasified observations\n",
    "print ('Correctly predicted: %i' % np.size(correct_indices))\n",
    "print ('Incorrectly predicted: %i' % np.size(incorrect_indices))"
   ]
  },
  {
   "cell_type": "code",
   "execution_count": 46,
   "metadata": {},
   "outputs": [
    {
     "data": {
      "image/png": "[encoded data removed]",
      "text/plain": [
       "<Figure size 1440x576 with 6 Axes>"
      ]
     },
     "metadata": {
      "needs_background": "light"
     },
     "output_type": "display_data"
    }
   ],
   "source": [
    "# See a sample of incorrectly classified samples\n",
    "    \n",
    "plt.figure(figsize=[20,8])\n",
    "for i, incorrect in enumerate(incorrect_indices[:6]):\n",
    "    plt.subplot(1,6,i+1)\n",
    "    plt.imshow(X_test[incorrect].reshape(28,28), cmap='gray', interpolation='none')\n",
    "    plt.title(\"Predicted {}, Class {}\".format(predicted_classes[incorrect], target_val_orig[incorrect]))"
   ]
  },
  {
   "cell_type": "markdown",
   "metadata": {},
   "source": [
    "## **Part 9**: Prediction using Convolutional Neural Network"
   ]
  },
  {
   "cell_type": "code",
   "execution_count": 47,
   "metadata": {},
   "outputs": [],
   "source": [
    "# Reshape image in 3 dimensions (height = 28px, width = 28px , canal = 1)\n",
    "\n",
    "X_train_reshaped = X_train.reshape(-1,28,28,1)\n",
    "X_test_reshaped = X_test.reshape(-1,28,28,1)"
   ]
  },
  {
   "cell_type": "code",
   "execution_count": 48,
   "metadata": {},
   "outputs": [
    {
     "data": {
      "text/plain": [
       "0.0"
      ]
     },
     "execution_count": 48,
     "metadata": {},
     "output_type": "execute_result"
    }
   ],
   "source": [
    "# Access a single pixel value in reshaped arrays\n",
    "\n",
    "X_train_reshaped[2800][27][27][0]"
   ]
  },
  {
   "cell_type": "code",
   "execution_count": 49,
   "metadata": {},
   "outputs": [],
   "source": [
    "# Encode target labels to one hot vectors\n",
    "\n",
    "y_train_ohe = to_categorical(y_train, num_classes = 10)\n",
    "y_test_ohe = to_categorical(y_test, num_classes = 10)"
   ]
  },
  {
   "cell_type": "code",
   "execution_count": 50,
   "metadata": {},
   "outputs": [],
   "source": [
    "# Set parameters, model and cv schema\n",
    "\n",
    "epochs     = 10 # number of iterations over full training set\n",
    "batch_size = 200 # number of observations to fit in every batch "
   ]
  },
  {
   "cell_type": "code",
   "execution_count": 51,
   "metadata": {},
   "outputs": [
    {
     "name": "stdout",
     "output_type": "stream",
     "text": [
      "WARNING:tensorflow:From /usr/local/anaconda3/envs/EPFL/lib/python3.6/site-packages/keras/backend/tensorflow_backend.py:3445: calling dropout (from tensorflow.python.ops.nn_ops) with keep_prob is deprecated and will be removed in a future version.\n",
      "Instructions for updating:\n",
      "Please use `rate` instead of `keep_prob`. Rate should be set to `rate = 1 - keep_prob`.\n"
     ]
    }
   ],
   "source": [
    "# Set the CNN architechture (architecture taken from:\n",
    "# https://machinelearningmastery.com/handwritten-digit-recognition-using-convolutional-neural-networks-python-keras/\n",
    "\n",
    "def cnn_model():\n",
    "    \n",
    "    model = Sequential()\n",
    "    \n",
    "    model.add(Conv2D(filters = 32, kernel_size = (5,5), padding = 'Same', \n",
    "                     activation ='relu', input_shape = (28,28,1)))\n",
    "    model.add(Conv2D(filters = 32, kernel_size = (5,5), padding = 'Same', \n",
    "                     activation ='relu'))\n",
    "    model.add(MaxPool2D(pool_size=(2,2)))\n",
    "    model.add(Dropout(0.25))\n",
    "\n",
    "    model.add(Conv2D(filters = 64, kernel_size = (3,3), padding = 'Same', \n",
    "                     activation ='relu'))\n",
    "    model.add(Conv2D(filters = 64, kernel_size = (3,3), padding = 'Same', \n",
    "                     activation ='relu'))\n",
    "    model.add(MaxPool2D(pool_size=(2,2), strides=(2,2)))\n",
    "    model.add(Dropout(0.25))\n",
    "\n",
    "\n",
    "    model.add(Flatten())\n",
    "    model.add(Dense(256, activation = \"relu\"))\n",
    "    model.add(Dropout(0.5))\n",
    "    model.add(Dense(10, activation = \"softmax\"))\n",
    "    \n",
    "    # compile the model\n",
    "    model.compile(optimizer = 'adam' , loss = \"categorical_crossentropy\", metrics=[\"accuracy\"])\n",
    "    \n",
    "    return (model)\n",
    "\n",
    "model = cnn_model()"
   ]
  },
  {
   "cell_type": "code",
   "execution_count": 52,
   "metadata": {},
   "outputs": [
    {
     "data": {
      "image/svg+xml": [
       "<svg height=\"1041pt\" viewBox=\"0.00 0.00 395.00 1041.00\" width=\"395pt\" xmlns=\"http://www.w3.org/2000/svg\" xmlns:xlink=\"http://www.w3.org/1999/xlink\">\n",
       "<g class=\"graph\" id=\"graph0\" transform=\"scale(1 1) rotate(0) translate(4 1037)\">\n",
       "<title>G</title>\n",
       "<polygon fill=\"#ffffff\" points=\"-4,4 -4,-1037 391,-1037 391,4 -4,4\" stroke=\"transparent\"/>\n",
       "<!-- 112465574768 -->\n",
       "<g class=\"node\" id=\"node1\">\n",
       "<title>112465574768</title>\n",
       "<polygon fill=\"none\" points=\"42.5,-913.5 42.5,-959.5 344.5,-959.5 344.5,-913.5 42.5,-913.5\" stroke=\"#000000\"/>\n",
       "<text fill=\"#000000\" font-family=\"Times,serif\" font-size=\"14.00\" text-anchor=\"middle\" x=\"106\" y=\"-932.8\">conv2d_1: Conv2D</text>\n",
       "<polyline fill=\"none\" points=\"169.5,-913.5 169.5,-959.5 \" stroke=\"#000000\"/>\n",
       "<text fill=\"#000000\" font-family=\"Times,serif\" font-size=\"14.00\" text-anchor=\"middle\" x=\"197.5\" y=\"-944.3\">input:</text>\n",
       "<polyline fill=\"none\" points=\"169.5,-936.5 225.5,-936.5 \" stroke=\"#000000\"/>\n",
       "<text fill=\"#000000\" font-family=\"Times,serif\" font-size=\"14.00\" text-anchor=\"middle\" x=\"197.5\" y=\"-921.3\">output:</text>\n",
       "<polyline fill=\"none\" points=\"225.5,-913.5 225.5,-959.5 \" stroke=\"#000000\"/>\n",
       "<text fill=\"#000000\" font-family=\"Times,serif\" font-size=\"14.00\" text-anchor=\"middle\" x=\"285\" y=\"-944.3\">(None, 28, 28, 1)</text>\n",
       "<polyline fill=\"none\" points=\"225.5,-936.5 344.5,-936.5 \" stroke=\"#000000\"/>\n",
       "<text fill=\"#000000\" font-family=\"Times,serif\" font-size=\"14.00\" text-anchor=\"middle\" x=\"285\" y=\"-921.3\">(None, 28, 28, 32)</text>\n",
       "</g>\n",
       "<!-- 112455162344 -->\n",
       "<g class=\"node\" id=\"node2\">\n",
       "<title>112455162344</title>\n",
       "<polygon fill=\"none\" points=\"42.5,-830.5 42.5,-876.5 344.5,-876.5 344.5,-830.5 42.5,-830.5\" stroke=\"#000000\"/>\n",
       "<text fill=\"#000000\" font-family=\"Times,serif\" font-size=\"14.00\" text-anchor=\"middle\" x=\"106\" y=\"-849.8\">conv2d_2: Conv2D</text>\n",
       "<polyline fill=\"none\" points=\"169.5,-830.5 169.5,-876.5 \" stroke=\"#000000\"/>\n",
       "<text fill=\"#000000\" font-family=\"Times,serif\" font-size=\"14.00\" text-anchor=\"middle\" x=\"197.5\" y=\"-861.3\">input:</text>\n",
       "<polyline fill=\"none\" points=\"169.5,-853.5 225.5,-853.5 \" stroke=\"#000000\"/>\n",
       "<text fill=\"#000000\" font-family=\"Times,serif\" font-size=\"14.00\" text-anchor=\"middle\" x=\"197.5\" y=\"-838.3\">output:</text>\n",
       "<polyline fill=\"none\" points=\"225.5,-830.5 225.5,-876.5 \" stroke=\"#000000\"/>\n",
       "<text fill=\"#000000\" font-family=\"Times,serif\" font-size=\"14.00\" text-anchor=\"middle\" x=\"285\" y=\"-861.3\">(None, 28, 28, 32)</text>\n",
       "<polyline fill=\"none\" points=\"225.5,-853.5 344.5,-853.5 \" stroke=\"#000000\"/>\n",
       "<text fill=\"#000000\" font-family=\"Times,serif\" font-size=\"14.00\" text-anchor=\"middle\" x=\"285\" y=\"-838.3\">(None, 28, 28, 32)</text>\n",
       "</g>\n",
       "<!-- 112465574768&#45;&gt;112455162344 -->\n",
       "<g class=\"edge\" id=\"edge2\">\n",
       "<title>112465574768-&gt;112455162344</title>\n",
       "<path d=\"M193.5,-913.3799C193.5,-905.1745 193.5,-895.7679 193.5,-886.8786\" fill=\"none\" stroke=\"#000000\"/>\n",
       "<polygon fill=\"#000000\" points=\"197.0001,-886.784 193.5,-876.784 190.0001,-886.784 197.0001,-886.784\" stroke=\"#000000\"/>\n",
       "</g>\n",
       "<!-- 112455268000 -->\n",
       "<g class=\"node\" id=\"node3\">\n",
       "<title>112455268000</title>\n",
       "<polygon fill=\"none\" points=\"0,-747.5 0,-793.5 387,-793.5 387,-747.5 0,-747.5\" stroke=\"#000000\"/>\n",
       "<text fill=\"#000000\" font-family=\"Times,serif\" font-size=\"14.00\" text-anchor=\"middle\" x=\"106\" y=\"-766.8\">max_pooling2d_1: MaxPooling2D</text>\n",
       "<polyline fill=\"none\" points=\"212,-747.5 212,-793.5 \" stroke=\"#000000\"/>\n",
       "<text fill=\"#000000\" font-family=\"Times,serif\" font-size=\"14.00\" text-anchor=\"middle\" x=\"240\" y=\"-778.3\">input:</text>\n",
       "<polyline fill=\"none\" points=\"212,-770.5 268,-770.5 \" stroke=\"#000000\"/>\n",
       "<text fill=\"#000000\" font-family=\"Times,serif\" font-size=\"14.00\" text-anchor=\"middle\" x=\"240\" y=\"-755.3\">output:</text>\n",
       "<polyline fill=\"none\" points=\"268,-747.5 268,-793.5 \" stroke=\"#000000\"/>\n",
       "<text fill=\"#000000\" font-family=\"Times,serif\" font-size=\"14.00\" text-anchor=\"middle\" x=\"327.5\" y=\"-778.3\">(None, 28, 28, 32)</text>\n",
       "<polyline fill=\"none\" points=\"268,-770.5 387,-770.5 \" stroke=\"#000000\"/>\n",
       "<text fill=\"#000000\" font-family=\"Times,serif\" font-size=\"14.00\" text-anchor=\"middle\" x=\"327.5\" y=\"-755.3\">(None, 14, 14, 32)</text>\n",
       "</g>\n",
       "<!-- 112455162344&#45;&gt;112455268000 -->\n",
       "<g class=\"edge\" id=\"edge3\">\n",
       "<title>112455162344-&gt;112455268000</title>\n",
       "<path d=\"M193.5,-830.3799C193.5,-822.1745 193.5,-812.7679 193.5,-803.8786\" fill=\"none\" stroke=\"#000000\"/>\n",
       "<polygon fill=\"#000000\" points=\"197.0001,-803.784 193.5,-793.784 190.0001,-803.784 197.0001,-803.784\" stroke=\"#000000\"/>\n",
       "</g>\n",
       "<!-- 112455364336 -->\n",
       "<g class=\"node\" id=\"node4\">\n",
       "<title>112455364336</title>\n",
       "<polygon fill=\"none\" points=\"42,-664.5 42,-710.5 345,-710.5 345,-664.5 42,-664.5\" stroke=\"#000000\"/>\n",
       "<text fill=\"#000000\" font-family=\"Times,serif\" font-size=\"14.00\" text-anchor=\"middle\" x=\"106\" y=\"-683.8\">dropout_1: Dropout</text>\n",
       "<polyline fill=\"none\" points=\"170,-664.5 170,-710.5 \" stroke=\"#000000\"/>\n",
       "<text fill=\"#000000\" font-family=\"Times,serif\" font-size=\"14.00\" text-anchor=\"middle\" x=\"198\" y=\"-695.3\">input:</text>\n",
       "<polyline fill=\"none\" points=\"170,-687.5 226,-687.5 \" stroke=\"#000000\"/>\n",
       "<text fill=\"#000000\" font-family=\"Times,serif\" font-size=\"14.00\" text-anchor=\"middle\" x=\"198\" y=\"-672.3\">output:</text>\n",
       "<polyline fill=\"none\" points=\"226,-664.5 226,-710.5 \" stroke=\"#000000\"/>\n",
       "<text fill=\"#000000\" font-family=\"Times,serif\" font-size=\"14.00\" text-anchor=\"middle\" x=\"285.5\" y=\"-695.3\">(None, 14, 14, 32)</text>\n",
       "<polyline fill=\"none\" points=\"226,-687.5 345,-687.5 \" stroke=\"#000000\"/>\n",
       "<text fill=\"#000000\" font-family=\"Times,serif\" font-size=\"14.00\" text-anchor=\"middle\" x=\"285.5\" y=\"-672.3\">(None, 14, 14, 32)</text>\n",
       "</g>\n",
       "<!-- 112455268000&#45;&gt;112455364336 -->\n",
       "<g class=\"edge\" id=\"edge4\">\n",
       "<title>112455268000-&gt;112455364336</title>\n",
       "<path d=\"M193.5,-747.3799C193.5,-739.1745 193.5,-729.7679 193.5,-720.8786\" fill=\"none\" stroke=\"#000000\"/>\n",
       "<polygon fill=\"#000000\" points=\"197.0001,-720.784 193.5,-710.784 190.0001,-720.784 197.0001,-720.784\" stroke=\"#000000\"/>\n",
       "</g>\n",
       "<!-- 112455364504 -->\n",
       "<g class=\"node\" id=\"node5\">\n",
       "<title>112455364504</title>\n",
       "<polygon fill=\"none\" points=\"42.5,-581.5 42.5,-627.5 344.5,-627.5 344.5,-581.5 42.5,-581.5\" stroke=\"#000000\"/>\n",
       "<text fill=\"#000000\" font-family=\"Times,serif\" font-size=\"14.00\" text-anchor=\"middle\" x=\"106\" y=\"-600.8\">conv2d_3: Conv2D</text>\n",
       "<polyline fill=\"none\" points=\"169.5,-581.5 169.5,-627.5 \" stroke=\"#000000\"/>\n",
       "<text fill=\"#000000\" font-family=\"Times,serif\" font-size=\"14.00\" text-anchor=\"middle\" x=\"197.5\" y=\"-612.3\">input:</text>\n",
       "<polyline fill=\"none\" points=\"169.5,-604.5 225.5,-604.5 \" stroke=\"#000000\"/>\n",
       "<text fill=\"#000000\" font-family=\"Times,serif\" font-size=\"14.00\" text-anchor=\"middle\" x=\"197.5\" y=\"-589.3\">output:</text>\n",
       "<polyline fill=\"none\" points=\"225.5,-581.5 225.5,-627.5 \" stroke=\"#000000\"/>\n",
       "<text fill=\"#000000\" font-family=\"Times,serif\" font-size=\"14.00\" text-anchor=\"middle\" x=\"285\" y=\"-612.3\">(None, 14, 14, 32)</text>\n",
       "<polyline fill=\"none\" points=\"225.5,-604.5 344.5,-604.5 \" stroke=\"#000000\"/>\n",
       "<text fill=\"#000000\" font-family=\"Times,serif\" font-size=\"14.00\" text-anchor=\"middle\" x=\"285\" y=\"-589.3\">(None, 14, 14, 64)</text>\n",
       "</g>\n",
       "<!-- 112455364336&#45;&gt;112455364504 -->\n",
       "<g class=\"edge\" id=\"edge5\">\n",
       "<title>112455364336-&gt;112455364504</title>\n",
       "<path d=\"M193.5,-664.3799C193.5,-656.1745 193.5,-646.7679 193.5,-637.8786\" fill=\"none\" stroke=\"#000000\"/>\n",
       "<polygon fill=\"#000000\" points=\"197.0001,-637.784 193.5,-627.784 190.0001,-637.784 197.0001,-637.784\" stroke=\"#000000\"/>\n",
       "</g>\n",
       "<!-- 112752949848 -->\n",
       "<g class=\"node\" id=\"node6\">\n",
       "<title>112752949848</title>\n",
       "<polygon fill=\"none\" points=\"42.5,-498.5 42.5,-544.5 344.5,-544.5 344.5,-498.5 42.5,-498.5\" stroke=\"#000000\"/>\n",
       "<text fill=\"#000000\" font-family=\"Times,serif\" font-size=\"14.00\" text-anchor=\"middle\" x=\"106\" y=\"-517.8\">conv2d_4: Conv2D</text>\n",
       "<polyline fill=\"none\" points=\"169.5,-498.5 169.5,-544.5 \" stroke=\"#000000\"/>\n",
       "<text fill=\"#000000\" font-family=\"Times,serif\" font-size=\"14.00\" text-anchor=\"middle\" x=\"197.5\" y=\"-529.3\">input:</text>\n",
       "<polyline fill=\"none\" points=\"169.5,-521.5 225.5,-521.5 \" stroke=\"#000000\"/>\n",
       "<text fill=\"#000000\" font-family=\"Times,serif\" font-size=\"14.00\" text-anchor=\"middle\" x=\"197.5\" y=\"-506.3\">output:</text>\n",
       "<polyline fill=\"none\" points=\"225.5,-498.5 225.5,-544.5 \" stroke=\"#000000\"/>\n",
       "<text fill=\"#000000\" font-family=\"Times,serif\" font-size=\"14.00\" text-anchor=\"middle\" x=\"285\" y=\"-529.3\">(None, 14, 14, 64)</text>\n",
       "<polyline fill=\"none\" points=\"225.5,-521.5 344.5,-521.5 \" stroke=\"#000000\"/>\n",
       "<text fill=\"#000000\" font-family=\"Times,serif\" font-size=\"14.00\" text-anchor=\"middle\" x=\"285\" y=\"-506.3\">(None, 14, 14, 64)</text>\n",
       "</g>\n",
       "<!-- 112455364504&#45;&gt;112752949848 -->\n",
       "<g class=\"edge\" id=\"edge6\">\n",
       "<title>112455364504-&gt;112752949848</title>\n",
       "<path d=\"M193.5,-581.3799C193.5,-573.1745 193.5,-563.7679 193.5,-554.8786\" fill=\"none\" stroke=\"#000000\"/>\n",
       "<polygon fill=\"#000000\" points=\"197.0001,-554.784 193.5,-544.784 190.0001,-554.784 197.0001,-554.784\" stroke=\"#000000\"/>\n",
       "</g>\n",
       "<!-- 112753029864 -->\n",
       "<g class=\"node\" id=\"node7\">\n",
       "<title>112753029864</title>\n",
       "<polygon fill=\"none\" points=\"0,-415.5 0,-461.5 387,-461.5 387,-415.5 0,-415.5\" stroke=\"#000000\"/>\n",
       "<text fill=\"#000000\" font-family=\"Times,serif\" font-size=\"14.00\" text-anchor=\"middle\" x=\"106\" y=\"-434.8\">max_pooling2d_2: MaxPooling2D</text>\n",
       "<polyline fill=\"none\" points=\"212,-415.5 212,-461.5 \" stroke=\"#000000\"/>\n",
       "<text fill=\"#000000\" font-family=\"Times,serif\" font-size=\"14.00\" text-anchor=\"middle\" x=\"240\" y=\"-446.3\">input:</text>\n",
       "<polyline fill=\"none\" points=\"212,-438.5 268,-438.5 \" stroke=\"#000000\"/>\n",
       "<text fill=\"#000000\" font-family=\"Times,serif\" font-size=\"14.00\" text-anchor=\"middle\" x=\"240\" y=\"-423.3\">output:</text>\n",
       "<polyline fill=\"none\" points=\"268,-415.5 268,-461.5 \" stroke=\"#000000\"/>\n",
       "<text fill=\"#000000\" font-family=\"Times,serif\" font-size=\"14.00\" text-anchor=\"middle\" x=\"327.5\" y=\"-446.3\">(None, 14, 14, 64)</text>\n",
       "<polyline fill=\"none\" points=\"268,-438.5 387,-438.5 \" stroke=\"#000000\"/>\n",
       "<text fill=\"#000000\" font-family=\"Times,serif\" font-size=\"14.00\" text-anchor=\"middle\" x=\"327.5\" y=\"-423.3\">(None, 7, 7, 64)</text>\n",
       "</g>\n",
       "<!-- 112752949848&#45;&gt;112753029864 -->\n",
       "<g class=\"edge\" id=\"edge7\">\n",
       "<title>112752949848-&gt;112753029864</title>\n",
       "<path d=\"M193.5,-498.3799C193.5,-490.1745 193.5,-480.7679 193.5,-471.8786\" fill=\"none\" stroke=\"#000000\"/>\n",
       "<polygon fill=\"#000000\" points=\"197.0001,-471.784 193.5,-461.784 190.0001,-471.784 197.0001,-471.784\" stroke=\"#000000\"/>\n",
       "</g>\n",
       "<!-- 112753030536 -->\n",
       "<g class=\"node\" id=\"node8\">\n",
       "<title>112753030536</title>\n",
       "<polygon fill=\"none\" points=\"49,-332.5 49,-378.5 338,-378.5 338,-332.5 49,-332.5\" stroke=\"#000000\"/>\n",
       "<text fill=\"#000000\" font-family=\"Times,serif\" font-size=\"14.00\" text-anchor=\"middle\" x=\"113\" y=\"-351.8\">dropout_2: Dropout</text>\n",
       "<polyline fill=\"none\" points=\"177,-332.5 177,-378.5 \" stroke=\"#000000\"/>\n",
       "<text fill=\"#000000\" font-family=\"Times,serif\" font-size=\"14.00\" text-anchor=\"middle\" x=\"205\" y=\"-363.3\">input:</text>\n",
       "<polyline fill=\"none\" points=\"177,-355.5 233,-355.5 \" stroke=\"#000000\"/>\n",
       "<text fill=\"#000000\" font-family=\"Times,serif\" font-size=\"14.00\" text-anchor=\"middle\" x=\"205\" y=\"-340.3\">output:</text>\n",
       "<polyline fill=\"none\" points=\"233,-332.5 233,-378.5 \" stroke=\"#000000\"/>\n",
       "<text fill=\"#000000\" font-family=\"Times,serif\" font-size=\"14.00\" text-anchor=\"middle\" x=\"285.5\" y=\"-363.3\">(None, 7, 7, 64)</text>\n",
       "<polyline fill=\"none\" points=\"233,-355.5 338,-355.5 \" stroke=\"#000000\"/>\n",
       "<text fill=\"#000000\" font-family=\"Times,serif\" font-size=\"14.00\" text-anchor=\"middle\" x=\"285.5\" y=\"-340.3\">(None, 7, 7, 64)</text>\n",
       "</g>\n",
       "<!-- 112753029864&#45;&gt;112753030536 -->\n",
       "<g class=\"edge\" id=\"edge8\">\n",
       "<title>112753029864-&gt;112753030536</title>\n",
       "<path d=\"M193.5,-415.3799C193.5,-407.1745 193.5,-397.7679 193.5,-388.8786\" fill=\"none\" stroke=\"#000000\"/>\n",
       "<polygon fill=\"#000000\" points=\"197.0001,-388.784 193.5,-378.784 190.0001,-388.784 197.0001,-388.784\" stroke=\"#000000\"/>\n",
       "</g>\n",
       "<!-- 112753033000 -->\n",
       "<g class=\"node\" id=\"node9\">\n",
       "<title>112753033000</title>\n",
       "<polygon fill=\"none\" points=\"57,-249.5 57,-295.5 330,-295.5 330,-249.5 57,-249.5\" stroke=\"#000000\"/>\n",
       "<text fill=\"#000000\" font-family=\"Times,serif\" font-size=\"14.00\" text-anchor=\"middle\" x=\"113\" y=\"-268.8\">flatten_1: Flatten</text>\n",
       "<polyline fill=\"none\" points=\"169,-249.5 169,-295.5 \" stroke=\"#000000\"/>\n",
       "<text fill=\"#000000\" font-family=\"Times,serif\" font-size=\"14.00\" text-anchor=\"middle\" x=\"197\" y=\"-280.3\">input:</text>\n",
       "<polyline fill=\"none\" points=\"169,-272.5 225,-272.5 \" stroke=\"#000000\"/>\n",
       "<text fill=\"#000000\" font-family=\"Times,serif\" font-size=\"14.00\" text-anchor=\"middle\" x=\"197\" y=\"-257.3\">output:</text>\n",
       "<polyline fill=\"none\" points=\"225,-249.5 225,-295.5 \" stroke=\"#000000\"/>\n",
       "<text fill=\"#000000\" font-family=\"Times,serif\" font-size=\"14.00\" text-anchor=\"middle\" x=\"277.5\" y=\"-280.3\">(None, 7, 7, 64)</text>\n",
       "<polyline fill=\"none\" points=\"225,-272.5 330,-272.5 \" stroke=\"#000000\"/>\n",
       "<text fill=\"#000000\" font-family=\"Times,serif\" font-size=\"14.00\" text-anchor=\"middle\" x=\"277.5\" y=\"-257.3\">(None, 3136)</text>\n",
       "</g>\n",
       "<!-- 112753030536&#45;&gt;112753033000 -->\n",
       "<g class=\"edge\" id=\"edge9\">\n",
       "<title>112753030536-&gt;112753033000</title>\n",
       "<path d=\"M193.5,-332.3799C193.5,-324.1745 193.5,-314.7679 193.5,-305.8786\" fill=\"none\" stroke=\"#000000\"/>\n",
       "<polygon fill=\"#000000\" points=\"197.0001,-305.784 193.5,-295.784 190.0001,-305.784 197.0001,-305.784\" stroke=\"#000000\"/>\n",
       "</g>\n",
       "<!-- 112752880776 -->\n",
       "<g class=\"node\" id=\"node10\">\n",
       "<title>112752880776</title>\n",
       "<polygon fill=\"none\" points=\"67.5,-166.5 67.5,-212.5 319.5,-212.5 319.5,-166.5 67.5,-166.5\" stroke=\"#000000\"/>\n",
       "<text fill=\"#000000\" font-family=\"Times,serif\" font-size=\"14.00\" text-anchor=\"middle\" x=\"120\" y=\"-185.8\">dense_3: Dense</text>\n",
       "<polyline fill=\"none\" points=\"172.5,-166.5 172.5,-212.5 \" stroke=\"#000000\"/>\n",
       "<text fill=\"#000000\" font-family=\"Times,serif\" font-size=\"14.00\" text-anchor=\"middle\" x=\"200.5\" y=\"-197.3\">input:</text>\n",
       "<polyline fill=\"none\" points=\"172.5,-189.5 228.5,-189.5 \" stroke=\"#000000\"/>\n",
       "<text fill=\"#000000\" font-family=\"Times,serif\" font-size=\"14.00\" text-anchor=\"middle\" x=\"200.5\" y=\"-174.3\">output:</text>\n",
       "<polyline fill=\"none\" points=\"228.5,-166.5 228.5,-212.5 \" stroke=\"#000000\"/>\n",
       "<text fill=\"#000000\" font-family=\"Times,serif\" font-size=\"14.00\" text-anchor=\"middle\" x=\"274\" y=\"-197.3\">(None, 3136)</text>\n",
       "<polyline fill=\"none\" points=\"228.5,-189.5 319.5,-189.5 \" stroke=\"#000000\"/>\n",
       "<text fill=\"#000000\" font-family=\"Times,serif\" font-size=\"14.00\" text-anchor=\"middle\" x=\"274\" y=\"-174.3\">(None, 256)</text>\n",
       "</g>\n",
       "<!-- 112753033000&#45;&gt;112752880776 -->\n",
       "<g class=\"edge\" id=\"edge10\">\n",
       "<title>112753033000-&gt;112752880776</title>\n",
       "<path d=\"M193.5,-249.3799C193.5,-241.1745 193.5,-231.7679 193.5,-222.8786\" fill=\"none\" stroke=\"#000000\"/>\n",
       "<polygon fill=\"#000000\" points=\"197.0001,-222.784 193.5,-212.784 190.0001,-222.784 197.0001,-222.784\" stroke=\"#000000\"/>\n",
       "</g>\n",
       "<!-- 112449287672 -->\n",
       "<g class=\"node\" id=\"node11\">\n",
       "<title>112449287672</title>\n",
       "<polygon fill=\"none\" points=\"59.5,-83.5 59.5,-129.5 327.5,-129.5 327.5,-83.5 59.5,-83.5\" stroke=\"#000000\"/>\n",
       "<text fill=\"#000000\" font-family=\"Times,serif\" font-size=\"14.00\" text-anchor=\"middle\" x=\"123.5\" y=\"-102.8\">dropout_3: Dropout</text>\n",
       "<polyline fill=\"none\" points=\"187.5,-83.5 187.5,-129.5 \" stroke=\"#000000\"/>\n",
       "<text fill=\"#000000\" font-family=\"Times,serif\" font-size=\"14.00\" text-anchor=\"middle\" x=\"215.5\" y=\"-114.3\">input:</text>\n",
       "<polyline fill=\"none\" points=\"187.5,-106.5 243.5,-106.5 \" stroke=\"#000000\"/>\n",
       "<text fill=\"#000000\" font-family=\"Times,serif\" font-size=\"14.00\" text-anchor=\"middle\" x=\"215.5\" y=\"-91.3\">output:</text>\n",
       "<polyline fill=\"none\" points=\"243.5,-83.5 243.5,-129.5 \" stroke=\"#000000\"/>\n",
       "<text fill=\"#000000\" font-family=\"Times,serif\" font-size=\"14.00\" text-anchor=\"middle\" x=\"285.5\" y=\"-114.3\">(None, 256)</text>\n",
       "<polyline fill=\"none\" points=\"243.5,-106.5 327.5,-106.5 \" stroke=\"#000000\"/>\n",
       "<text fill=\"#000000\" font-family=\"Times,serif\" font-size=\"14.00\" text-anchor=\"middle\" x=\"285.5\" y=\"-91.3\">(None, 256)</text>\n",
       "</g>\n",
       "<!-- 112752880776&#45;&gt;112449287672 -->\n",
       "<g class=\"edge\" id=\"edge11\">\n",
       "<title>112752880776-&gt;112449287672</title>\n",
       "<path d=\"M193.5,-166.3799C193.5,-158.1745 193.5,-148.7679 193.5,-139.8786\" fill=\"none\" stroke=\"#000000\"/>\n",
       "<polygon fill=\"#000000\" points=\"197.0001,-139.784 193.5,-129.784 190.0001,-139.784 197.0001,-139.784\" stroke=\"#000000\"/>\n",
       "</g>\n",
       "<!-- 112449287728 -->\n",
       "<g class=\"node\" id=\"node12\">\n",
       "<title>112449287728</title>\n",
       "<polygon fill=\"none\" points=\"71,-.5 71,-46.5 316,-46.5 316,-.5 71,-.5\" stroke=\"#000000\"/>\n",
       "<text fill=\"#000000\" font-family=\"Times,serif\" font-size=\"14.00\" text-anchor=\"middle\" x=\"123.5\" y=\"-19.8\">dense_4: Dense</text>\n",
       "<polyline fill=\"none\" points=\"176,-.5 176,-46.5 \" stroke=\"#000000\"/>\n",
       "<text fill=\"#000000\" font-family=\"Times,serif\" font-size=\"14.00\" text-anchor=\"middle\" x=\"204\" y=\"-31.3\">input:</text>\n",
       "<polyline fill=\"none\" points=\"176,-23.5 232,-23.5 \" stroke=\"#000000\"/>\n",
       "<text fill=\"#000000\" font-family=\"Times,serif\" font-size=\"14.00\" text-anchor=\"middle\" x=\"204\" y=\"-8.3\">output:</text>\n",
       "<polyline fill=\"none\" points=\"232,-.5 232,-46.5 \" stroke=\"#000000\"/>\n",
       "<text fill=\"#000000\" font-family=\"Times,serif\" font-size=\"14.00\" text-anchor=\"middle\" x=\"274\" y=\"-31.3\">(None, 256)</text>\n",
       "<polyline fill=\"none\" points=\"232,-23.5 316,-23.5 \" stroke=\"#000000\"/>\n",
       "<text fill=\"#000000\" font-family=\"Times,serif\" font-size=\"14.00\" text-anchor=\"middle\" x=\"274\" y=\"-8.3\">(None, 10)</text>\n",
       "</g>\n",
       "<!-- 112449287672&#45;&gt;112449287728 -->\n",
       "<g class=\"edge\" id=\"edge12\">\n",
       "<title>112449287672-&gt;112449287728</title>\n",
       "<path d=\"M193.5,-83.3799C193.5,-75.1745 193.5,-65.7679 193.5,-56.8786\" fill=\"none\" stroke=\"#000000\"/>\n",
       "<polygon fill=\"#000000\" points=\"197.0001,-56.784 193.5,-46.784 190.0001,-56.784 197.0001,-56.784\" stroke=\"#000000\"/>\n",
       "</g>\n",
       "<!-- 112455163016 -->\n",
       "<g class=\"node\" id=\"node13\">\n",
       "<title>112455163016</title>\n",
       "<polygon fill=\"none\" points=\"143,-996.5 143,-1032.5 244,-1032.5 244,-996.5 143,-996.5\" stroke=\"#000000\"/>\n",
       "<text fill=\"#000000\" font-family=\"Times,serif\" font-size=\"14.00\" text-anchor=\"middle\" x=\"193.5\" y=\"-1010.8\">112455163016</text>\n",
       "</g>\n",
       "<!-- 112455163016&#45;&gt;112465574768 -->\n",
       "<g class=\"edge\" id=\"edge1\">\n",
       "<title>112455163016-&gt;112465574768</title>\n",
       "<path d=\"M193.5,-996.4092C193.5,-988.4308 193.5,-978.795 193.5,-969.606\" fill=\"none\" stroke=\"#000000\"/>\n",
       "<polygon fill=\"#000000\" points=\"197.0001,-969.5333 193.5,-959.5333 190.0001,-969.5334 197.0001,-969.5333\" stroke=\"#000000\"/>\n",
       "</g>\n",
       "</g>\n",
       "</svg>"
      ],
      "text/plain": [
       "<IPython.core.display.SVG object>"
      ]
     },
     "execution_count": 52,
     "metadata": {},
     "output_type": "execute_result"
    }
   ],
   "source": [
    "SVG(model_to_dot(model,show_shapes=True).create(prog='dot', format='svg'))"
   ]
  },
  {
   "cell_type": "code",
   "execution_count": 53,
   "metadata": {},
   "outputs": [
    {
     "name": "stdout",
     "output_type": "stream",
     "text": [
      "Train on 33600 samples, validate on 8400 samples\n",
      "Epoch 1/10\n",
      "33600/33600 [==============================] - 121s 4ms/step - loss: 0.3892 - acc: 0.8720 - val_loss: 0.0850 - val_acc: 0.9755\n",
      "Epoch 2/10\n",
      "33600/33600 [==============================] - 118s 4ms/step - loss: 0.0974 - acc: 0.9699 - val_loss: 0.0533 - val_acc: 0.9826\n",
      "Epoch 3/10\n",
      "33600/33600 [==============================] - 121s 4ms/step - loss: 0.0705 - acc: 0.9782 - val_loss: 0.0500 - val_acc: 0.9837\n",
      "Epoch 4/10\n",
      "33600/33600 [==============================] - 120s 4ms/step - loss: 0.0541 - acc: 0.9833 - val_loss: 0.0396 - val_acc: 0.9882\n",
      "Epoch 5/10\n",
      "33600/33600 [==============================] - 117s 3ms/step - loss: 0.0457 - acc: 0.9859 - val_loss: 0.0407 - val_acc: 0.9890\n",
      "Epoch 6/10\n",
      "33600/33600 [==============================] - 115s 3ms/step - loss: 0.0411 - acc: 0.9879 - val_loss: 0.0353 - val_acc: 0.9904\n",
      "Epoch 7/10\n",
      "33600/33600 [==============================] - 116s 3ms/step - loss: 0.0366 - acc: 0.9889 - val_loss: 0.0415 - val_acc: 0.9890\n",
      "Epoch 8/10\n",
      "33600/33600 [==============================] - 116s 3ms/step - loss: 0.0312 - acc: 0.9901 - val_loss: 0.0307 - val_acc: 0.9921\n",
      "Epoch 9/10\n",
      "33600/33600 [==============================] - 117s 3ms/step - loss: 0.0275 - acc: 0.9915 - val_loss: 0.0348 - val_acc: 0.9899\n",
      "Epoch 10/10\n",
      "33600/33600 [==============================] - 115s 3ms/step - loss: 0.0282 - acc: 0.9908 - val_loss: 0.0319 - val_acc: 0.9915\n"
     ]
    },
    {
     "data": {
      "text/plain": [
       "<keras.callbacks.History at 0x1a2ebef908>"
      ]
     },
     "execution_count": 53,
     "metadata": {},
     "output_type": "execute_result"
    }
   ],
   "source": [
    "# Fit the model to data\n",
    "\n",
    "model.fit(X_train_reshaped, y_train_ohe, validation_data=(X_test_reshaped, y_test_ohe), epochs=epochs, batch_size=batch_size)"
   ]
  },
  {
   "cell_type": "code",
   "execution_count": 54,
   "metadata": {},
   "outputs": [
    {
     "name": "stdout",
     "output_type": "stream",
     "text": [
      "_________________________________________________________________\n",
      "Layer (type)                 Output Shape              Param #   \n",
      "=================================================================\n",
      "conv2d_1 (Conv2D)            (None, 28, 28, 32)        832       \n",
      "_________________________________________________________________\n",
      "conv2d_2 (Conv2D)            (None, 28, 28, 32)        25632     \n",
      "_________________________________________________________________\n",
      "max_pooling2d_1 (MaxPooling2 (None, 14, 14, 32)        0         \n",
      "_________________________________________________________________\n",
      "dropout_1 (Dropout)          (None, 14, 14, 32)        0         \n",
      "_________________________________________________________________\n",
      "conv2d_3 (Conv2D)            (None, 14, 14, 64)        18496     \n",
      "_________________________________________________________________\n",
      "conv2d_4 (Conv2D)            (None, 14, 14, 64)        36928     \n",
      "_________________________________________________________________\n",
      "max_pooling2d_2 (MaxPooling2 (None, 7, 7, 64)          0         \n",
      "_________________________________________________________________\n",
      "dropout_2 (Dropout)          (None, 7, 7, 64)          0         \n",
      "_________________________________________________________________\n",
      "flatten_1 (Flatten)          (None, 3136)              0         \n",
      "_________________________________________________________________\n",
      "dense_3 (Dense)              (None, 256)               803072    \n",
      "_________________________________________________________________\n",
      "dropout_3 (Dropout)          (None, 256)               0         \n",
      "_________________________________________________________________\n",
      "dense_4 (Dense)              (None, 10)                2570      \n",
      "=================================================================\n",
      "Total params: 887,530\n",
      "Trainable params: 887,530\n",
      "Non-trainable params: 0\n",
      "_________________________________________________________________\n"
     ]
    }
   ],
   "source": [
    "# Get model summary\n",
    "\n",
    "model.summary()"
   ]
  },
  {
   "cell_type": "code",
   "execution_count": 55,
   "metadata": {},
   "outputs": [
    {
     "name": "stdout",
     "output_type": "stream",
     "text": [
      "8400/8400 [==============================] - 15s 2ms/step\n",
      "[0.03189456513976482, 0.991547619047619]\n",
      "Loss: 0.03189456513976482\n",
      "Accuracy: 0.991547619047619\n"
     ]
    }
   ],
   "source": [
    "# Evaluate trained model on test set\n",
    "\n",
    "cnn_loss, cnn_score = model.evaluate(X_test_reshaped, y_test_ohe)\n",
    "print('Loss: {}'.format(round(cnn_loss, 4)))\n",
    "print('Accuracy: {}'.format(round(cnn_score, 4)))"
   ]
  },
  {
   "cell_type": "code",
   "execution_count": 57,
   "metadata": {},
   "outputs": [
    {
     "name": "stdout",
     "output_type": "stream",
     "text": [
      "Correctly predicted: 8329\n",
      "Incorrectly predicted: 71\n"
     ]
    }
   ],
   "source": [
    "# Get predicted values\n",
    "predicted_classes = model.predict_classes(X_test_reshaped)\n",
    "\n",
    "# Get index of correctly and incorrectly classified observations\n",
    "target_val_orig = np.argmax(y_test_ohe, 1)\n",
    "\n",
    "# Get index list of all correctly predicted values\n",
    "correct_indices = np.nonzero(np.equal(predicted_classes, target_val_orig))[0]\n",
    "\n",
    "# Get index list of all incorrectly predicted values\n",
    "incorrect_indices = np.nonzero(np.not_equal(predicted_classes, target_val_orig))[0]\n",
    "\n",
    "# Print number of correctly and incorrectly clasified observations\n",
    "print ('Correctly predicted: %i' % np.size(correct_indices))\n",
    "print ('Incorrectly predicted: %i' % np.size(incorrect_indices))"
   ]
  },
  {
   "cell_type": "code",
   "execution_count": 58,
   "metadata": {},
   "outputs": [
    {
     "data": {
      "image/png": "[encoded data removed]",
      "text/plain": [
       "<Figure size 1440x576 with 6 Axes>"
      ]
     },
     "metadata": {
      "needs_background": "light"
     },
     "output_type": "display_data"
    }
   ],
   "source": [
    "# See a sample of incorrectly classified samples\n",
    "    \n",
    "plt.figure(figsize=[20,8])\n",
    "for i, incorrect in enumerate(incorrect_indices[:6]):\n",
    "    plt.subplot(1,6,i+1)\n",
    "    plt.imshow(X_test[incorrect].reshape(28,28), cmap='gray', interpolation='none')\n",
    "    plt.title(\"Predicted {}, Class {}\".format(predicted_classes[incorrect], target_val_orig[incorrect]))"
   ]
  },
  {
   "cell_type": "code",
   "execution_count": 59,
   "metadata": {},
   "outputs": [
    {
     "data": {
      "image/png": "[encoded data removed]",
      "text/plain": [
       "<Figure size 432x288 with 2 Axes>"
      ]
     },
     "metadata": {
      "needs_background": "light"
     },
     "output_type": "display_data"
    }
   ],
   "source": [
    "# Look at confusion matrix\n",
    "y_pred_ohe = model.predict(X_test_reshaped)\n",
    "y_pred_classes = np.argmax(y_pred_ohe, axis = 1) \n",
    "y_true = np.argmax(y_test_ohe, axis = 1) \n",
    "confusion_mtx = confusion_matrix(y_true, y_pred_classes) \n",
    "plot_confusion_matrix(confusion_mtx, classes = range(10)) "
   ]
  },
  {
   "cell_type": "markdown",
   "metadata": {},
   "source": [
    "## **SUMMARY OF ACCURACY SCORES**"
   ]
  },
  {
   "cell_type": "code",
   "execution_count": null,
   "metadata": {},
   "outputs": [],
   "source": [
    "width    = 35\n",
    "models   = ['Baseline',     'LR + Ridge', 'KNN',     'Random Forest', 'Boosted Trees', 'SVC',     'NN',     'CNN']\n",
    "results  = [baseline_score, lr_score,     knn_score, rf_score,        gb_score,        svc_score, ff_score, cnn_score]\n",
    "\n",
    "print('', '=' * width, '\\n', 'Summary of Accuracy Scores'.center(width), '\\n', '=' * width)  \n",
    "for i in range(len(models)):\n",
    "    print(models[i].center(width-8), '{0:.4f}'.format(round(results[i], 4)))"
   ]
  },
  {
   "cell_type": "markdown",
   "metadata": {},
   "source": [
    "## **Part 10**: Investment into More Data"
   ]
  },
  {
   "cell_type": "code",
   "execution_count": 60,
   "metadata": {},
   "outputs": [],
   "source": [
    "# Learning_curve function in sklearn.model_selection is used to assess performance of \n",
    "# a model with diferent training sizes, hence justifying possible investments\n",
    "# into gathering more data\n",
    "\n",
    "# Here we train random forest classifier with increasing amount of training data\n",
    "rf_clf      = RandomForestClassifier(n_estimators = 50, n_jobs = N_CORES)\n",
    "cv_schema   = StratifiedShuffleSplit(n_splits = N_SPLITS, test_size = 0.33, shuffle=True, random_state = SEED)\n",
    "train_sizes = np.linspace(.1, 1.0, 5)\n",
    "\n",
    "train_sizes, train_scores_learn, cv_scores_learn = learning_curve(\n",
    "        rf_clf, features, target, cv = cv_schema, n_jobs = N_CORES, train_sizes = train_sizes, scoring = SCORE)"
   ]
  },
  {
   "cell_type": "code",
   "execution_count": 62,
   "metadata": {},
   "outputs": [
    {
     "data": {
      "image/png": "[encoded data removed]",
      "text/plain": [
       "<Figure size 432x288 with 1 Axes>"
      ]
     },
     "metadata": {
      "needs_background": "light"
     },
     "output_type": "display_data"
    }
   ],
   "source": [
    "# Plot learning curve\n",
    "\n",
    "plot_learning_curve(train_scores_learn, cv_scores_learn, train_sizes, scale='lin', \n",
    "              title='learning curve of random forest classifier', y_label='accuracy', x_label='train set size')"
   ]
  },
  {
   "cell_type": "markdown",
   "metadata": {},
   "source": [
    "## **Part 11**: Discussion"
   ]
  },
  {
   "cell_type": "markdown",
   "metadata": {},
   "source": [
    "* How can one justify the investment on gathering additional data ? \n",
    "* How much an accuracy equal to 99.99 % is more significant than one equal to 99.90 % ? \n",
    "* What about 99.90 % compared to 99.00 % ?"
   ]
  }
 ],
 "metadata": {
  "kernelspec": {
   "display_name": "Python 3 (ipykernel)",
   "language": "python",
   "name": "python3"
  },
  "language_info": {
   "codemirror_mode": {
    "name": "ipython",
    "version": 3
   },
   "file_extension": ".py",
   "mimetype": "text/x-python",
   "name": "python",
   "nbconvert_exporter": "python",
   "pygments_lexer": "ipython3",
   "version": "3.8.5"
  }
 },
 "nbformat": 4,
 "nbformat_minor": 4
}
